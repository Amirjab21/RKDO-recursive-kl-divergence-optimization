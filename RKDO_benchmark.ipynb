{
  "nbformat": 4,
  "nbformat_minor": 0,
  "metadata": {
    "colab": {
      "provenance": [],
      "machine_shape": "hm",
      "gpuType": "L4"
    },
    "kernelspec": {
      "name": "python3",
      "display_name": "Python 3"
    },
    "language_info": {
      "name": "python"
    },
    "accelerator": "GPU"
  },
  "cells": [
    {
      "cell_type": "code",
      "source": [
        "\"\"\"\n",
        "@author Anthony Martin\n",
        "@email am@cadenzai.net\n",
        "\n",
        "Fixed Implementation of RDF vs I-Con Benchmark for Notebooks\n",
        "===========================================================\n",
        "\n",
        "This implementation resolves the tensor transformation issue and provides\n",
        "a cleaner comparison between the frameworks.\n",
        "\"\"\"\n",
        "\n",
        "import os\n",
        "import time\n",
        "import numpy as np\n",
        "import torch\n",
        "import torch.nn as nn\n",
        "import torch.optim as optim\n",
        "import torch.nn.functional as F\n",
        "from torch.utils.data import DataLoader, Dataset\n",
        "from torchvision import datasets, transforms, models\n",
        "from sklearn.metrics import normalized_mutual_info_score, adjusted_rand_score\n",
        "from sklearn.neighbors import NearestNeighbors\n",
        "from sklearn.linear_model import LogisticRegression\n",
        "from sklearn.model_selection import train_test_split\n",
        "import matplotlib.pyplot as plt\n",
        "from tqdm.notebook import tqdm\n",
        "from PIL import Image\n",
        "\n",
        "\n",
        "# Data utilities\n",
        "def get_datasets(dataset_name):\n",
        "    \"\"\"\n",
        "    Load standard datasets for benchmarking.\n",
        "    \"\"\"\n",
        "    # Base transform for test set\n",
        "    base_transform = transforms.Compose([\n",
        "        transforms.Resize(32),\n",
        "        transforms.ToTensor(),\n",
        "        transforms.Normalize((0.5, 0.5, 0.5), (0.5, 0.5, 0.5))\n",
        "    ])\n",
        "\n",
        "    # Create augmentation transform for contrastive learning\n",
        "    augment_transform = transforms.Compose([\n",
        "        transforms.Resize(32),\n",
        "        transforms.RandomResizedCrop(32, scale=(0.2, 1.0)),\n",
        "        transforms.RandomHorizontalFlip(),\n",
        "        transforms.RandomApply([transforms.ColorJitter(0.4, 0.4, 0.4, 0.1)], p=0.8),\n",
        "        transforms.RandomGrayscale(p=0.2),\n",
        "        transforms.ToTensor(),\n",
        "        transforms.Normalize((0.5, 0.5, 0.5), (0.5, 0.5, 0.5))\n",
        "    ])\n",
        "\n",
        "    # For STL-10, we need to use slightly different transforms due to larger images\n",
        "    stl10_base_transform = transforms.Compose([\n",
        "        transforms.Resize(64),  # Resize to 64x64 instead of 32x32\n",
        "        transforms.ToTensor(),\n",
        "        transforms.Normalize((0.5, 0.5, 0.5), (0.5, 0.5, 0.5))\n",
        "    ])\n",
        "\n",
        "    stl10_augment_transform = transforms.Compose([\n",
        "        transforms.Resize(64),\n",
        "        transforms.RandomResizedCrop(64, scale=(0.2, 1.0)),\n",
        "        transforms.RandomHorizontalFlip(),\n",
        "        transforms.RandomApply([transforms.ColorJitter(0.4, 0.4, 0.4, 0.1)], p=0.8),\n",
        "        transforms.RandomGrayscale(p=0.2),\n",
        "        transforms.ToTensor(),\n",
        "        transforms.Normalize((0.5, 0.5, 0.5), (0.5, 0.5, 0.5))\n",
        "    ])\n",
        "\n",
        "    if dataset_name == \"cifar10\":\n",
        "        train_dataset = datasets.CIFAR10(\n",
        "            root=\"./data\", train=True, download=True, transform=None\n",
        "        )\n",
        "        test_dataset = datasets.CIFAR10(\n",
        "            root=\"./data\", train=False, download=True, transform=base_transform\n",
        "        )\n",
        "        return train_dataset, test_dataset, augment_transform\n",
        "\n",
        "    elif dataset_name == \"cifar100\":\n",
        "        train_dataset = datasets.CIFAR100(\n",
        "            root=\"./data\", train=True, download=True, transform=None\n",
        "        )\n",
        "        test_dataset = datasets.CIFAR100(\n",
        "            root=\"./data\", train=False, download=True, transform=base_transform\n",
        "        )\n",
        "        return train_dataset, test_dataset, augment_transform\n",
        "\n",
        "    elif dataset_name == \"stl10\":\n",
        "        train_dataset = datasets.STL10(\n",
        "            root=\"./data\", split=\"train\", download=True, transform=None\n",
        "        )\n",
        "        test_dataset = datasets.STL10(\n",
        "            root=\"./data\", split=\"test\", download=True, transform=stl10_base_transform\n",
        "        )\n",
        "        return train_dataset, test_dataset, stl10_augment_transform\n",
        "\n",
        "    else:\n",
        "        raise ValueError(f\"Dataset {dataset_name} not supported\")\n",
        "\n",
        "\n",
        "# Configuration\n",
        "class Config:\n",
        "    def __init__(self, dataset_name=\"cifar10\"):\n",
        "        # General settings\n",
        "        self.device = torch.device(\"cuda\" if torch.cuda.is_available() else \"cpu\")\n",
        "\n",
        "        # Adjust batch size based on dataset (STL-10 has larger images)\n",
        "        if dataset_name == \"stl10\":\n",
        "            self.batch_size = 32  # Smaller batch for larger images\n",
        "        else:\n",
        "            self.batch_size = 64\n",
        "\n",
        "        self.num_epochs = 10\n",
        "        self.lr = 0.001\n",
        "        self.weight_decay = 1e-5\n",
        "        self.embedding_dim = 64\n",
        "        self.temperature = 0.5\n",
        "\n",
        "        # Framework-specific settings\n",
        "        # RDF settings\n",
        "        self.rdf_recursion_depth = 3\n",
        "        self.rdf_coupling_strength = 0.5\n",
        "\n",
        "        # I-Con settings\n",
        "        self.icon_p_distribution = \"gaussian\"\n",
        "        self.icon_q_distribution = \"gaussian\"\n",
        "        self.icon_debias_alpha = 0.2\n",
        "\n",
        "# Modified contrastive dataset that correctly handles transformations\n",
        "class ContrastiveDataset(Dataset):\n",
        "    def __init__(self, dataset, transform):\n",
        "        self.dataset = dataset\n",
        "        self.transform = transform\n",
        "\n",
        "    def __getitem__(self, idx):\n",
        "        img, label = self.dataset[idx]\n",
        "\n",
        "        # Convert tensor back to PIL Image if needed\n",
        "        if isinstance(img, torch.Tensor):\n",
        "            # Convert to PIL Image for transformation\n",
        "            img = transforms.ToPILImage()(img)\n",
        "\n",
        "        # Apply two different augmentations\n",
        "        view1 = self.transform(img)\n",
        "        view2 = self.transform(img)\n",
        "        return view1, view2, label\n",
        "\n",
        "    def __len__(self):\n",
        "        return len(self.dataset)\n",
        "\n",
        "\n",
        "# Neural network architectures\n",
        "class EncoderNetwork(nn.Module):\n",
        "    def __init__(self, model_name=\"resnet18\", embedding_dim=128):\n",
        "        super(EncoderNetwork, self).__init__()\n",
        "\n",
        "        # Use a smaller model for notebooks\n",
        "        self.backbone = models.resnet18(weights=None)  # No pre-training for fair comparison\n",
        "        self.feature_dim = self.backbone.fc.in_features\n",
        "        self.backbone.fc = nn.Identity()\n",
        "\n",
        "        # Projection head\n",
        "        self.projection = nn.Sequential(\n",
        "            nn.Linear(self.feature_dim, self.feature_dim),\n",
        "            nn.ReLU(),\n",
        "            nn.Linear(self.feature_dim, embedding_dim)\n",
        "        )\n",
        "\n",
        "    def forward(self, x):\n",
        "        features = self.backbone(x)\n",
        "        embeddings = self.projection(features)\n",
        "        # Normalize embeddings to unit sphere\n",
        "        embeddings = F.normalize(embeddings, p=2, dim=1)\n",
        "        return embeddings\n",
        "\n",
        "# Framework implementations\n",
        "class RDF:\n",
        "    \"\"\"\n",
        "    Implementation of the Recursive Divergence Fields framework.\n",
        "    \"\"\"\n",
        "    def __init__(self, config):\n",
        "        self.config = config\n",
        "        self.recursion_depth = config.rdf_recursion_depth\n",
        "        self.coupling_strength = config.rdf_coupling_strength\n",
        "        self.device = config.device\n",
        "        self.temperature = config.temperature\n",
        "\n",
        "    def compute_loss(self, embeddings_1, embeddings_2):\n",
        "        \"\"\"\n",
        "        Compute the RDF loss over recursively defined distributions.\n",
        "        \"\"\"\n",
        "        batch_size = embeddings_1.shape[0]\n",
        "\n",
        "        # Initial distribution (p^(0))\n",
        "        p_0 = torch.zeros(batch_size, batch_size).to(self.device)\n",
        "        # Set diagonal to 1 (positive pairs)\n",
        "        p_0.fill_diagonal_(1.0)\n",
        "\n",
        "        # Initial distribution (q^(0))\n",
        "        # Calculate pairwise similarities\n",
        "        sim_matrix = torch.mm(embeddings_1, embeddings_2.t())\n",
        "        # Apply temperature scaling\n",
        "        sim_matrix = sim_matrix / self.temperature\n",
        "        # Apply softmax to get probability distribution\n",
        "        q_0 = F.softmax(sim_matrix, dim=1)\n",
        "\n",
        "        # Recursively update distributions\n",
        "        p_t = p_0\n",
        "        q_t = q_0\n",
        "\n",
        "        # Store losses at each iteration\n",
        "        losses = []\n",
        "\n",
        "        for t in range(1, self.recursion_depth + 1):\n",
        "            # Update p^(t) based on q^(t-1)\n",
        "            p_t = self._update_p(q_t, p_t)\n",
        "\n",
        "            # Update q^(t) based on current embeddings\n",
        "            q_t = self._update_q(embeddings_1, embeddings_2, t)\n",
        "\n",
        "            # Compute KL divergence at current iteration\n",
        "            loss_t = 0\n",
        "            for i in range(batch_size):\n",
        "                # Add small epsilon to prevent log(0)\n",
        "                epsilon = 1e-8\n",
        "                # Compute KL divergence: DKL(p^(t)(·|i) || q^(t)(·|i))\n",
        "                loss_i = torch.sum(p_t[i] * torch.log((p_t[i] + epsilon) / (q_t[i] + epsilon)))\n",
        "                loss_t += loss_i\n",
        "\n",
        "            # Normalize by batch size\n",
        "            loss_t = loss_t / batch_size\n",
        "            losses.append(loss_t)\n",
        "\n",
        "        # Final loss is the sum of losses at each iteration\n",
        "        final_loss = sum(losses)\n",
        "        return final_loss\n",
        "\n",
        "    def _update_p(self, q_prev, p_prev):\n",
        "        \"\"\"\n",
        "        Update target distribution p^(t) based on previous q^(t-1)\n",
        "        \"\"\"\n",
        "        # Implement FP function: Linear interpolation between initial p and previous q\n",
        "        p_new = (1 - self.coupling_strength) * p_prev + self.coupling_strength * q_prev\n",
        "        return p_new\n",
        "\n",
        "    def _update_q(self, embeddings_1, embeddings_2, t):\n",
        "        \"\"\"\n",
        "        Update learned distribution q^(t) based on current embeddings\n",
        "        \"\"\"\n",
        "        batch_size = embeddings_1.shape[0]\n",
        "\n",
        "        # Calculate pairwise similarities\n",
        "        sim_matrix = torch.mm(embeddings_1, embeddings_2.t())\n",
        "\n",
        "        # Apply time-dependent temperature scaling\n",
        "        temp_t = self.temperature * (1 - 0.1 * (t / self.recursion_depth))\n",
        "        sim_matrix = sim_matrix / temp_t\n",
        "\n",
        "        # Apply softmax to get probability distribution\n",
        "        q_new = F.softmax(sim_matrix, dim=1)\n",
        "\n",
        "        return q_new\n",
        "\n",
        "class ICon:\n",
        "    \"\"\"\n",
        "    Implementation of the I-Con framework.\n",
        "    \"\"\"\n",
        "    def __init__(self, config):\n",
        "        self.config = config\n",
        "        self.device = config.device\n",
        "        self.p_distribution = config.icon_p_distribution\n",
        "        self.q_distribution = config.icon_q_distribution\n",
        "        self.debias_alpha = config.icon_debias_alpha\n",
        "        self.temperature = config.temperature\n",
        "\n",
        "    def compute_loss(self, embeddings_1, embeddings_2):\n",
        "        \"\"\"\n",
        "        Compute the I-Con loss between two distributions.\n",
        "        \"\"\"\n",
        "        batch_size = embeddings_1.shape[0]\n",
        "\n",
        "        # Compute the supervisory distribution p(j|i)\n",
        "        p = self._compute_p_distribution(embeddings_1, embeddings_2)\n",
        "\n",
        "        # Apply debiasing if enabled\n",
        "        if self.debias_alpha > 0:\n",
        "            # Mix with uniform distribution\n",
        "            uniform = torch.ones(batch_size, batch_size).to(self.device) / batch_size\n",
        "            p = (1 - self.debias_alpha) * p + self.debias_alpha * uniform\n",
        "\n",
        "        # Compute the learned distribution q(j|i)\n",
        "        q = self._compute_q_distribution(embeddings_1, embeddings_2)\n",
        "\n",
        "        # Compute KL divergence: DKL(p(·|i) || q(·|i))\n",
        "        loss = 0\n",
        "        for i in range(batch_size):\n",
        "            # Add small epsilon to prevent log(0)\n",
        "            epsilon = 1e-8\n",
        "            loss_i = torch.sum(p[i] * torch.log((p[i] + epsilon) / (q[i] + epsilon)))\n",
        "            loss += loss_i\n",
        "\n",
        "        # Normalize by batch size\n",
        "        loss = loss / batch_size\n",
        "        return loss\n",
        "\n",
        "    def _compute_p_distribution(self, embeddings_1, embeddings_2):\n",
        "        \"\"\"\n",
        "        Compute the supervisory distribution p(j|i).\n",
        "        \"\"\"\n",
        "        batch_size = embeddings_1.shape[0]\n",
        "\n",
        "        # For simplified notebook demo, use identity matrix (positive pairs only)\n",
        "        p = torch.eye(batch_size).to(self.device)\n",
        "\n",
        "        # Normalize\n",
        "        p = p / (torch.sum(p, dim=1, keepdim=True) + 1e-8)\n",
        "        return p\n",
        "\n",
        "    def _compute_q_distribution(self, embeddings_1, embeddings_2):\n",
        "        \"\"\"\n",
        "        Compute the learned distribution q(j|i).\n",
        "        \"\"\"\n",
        "        batch_size = embeddings_1.shape[0]\n",
        "\n",
        "        if self.q_distribution == \"gaussian\":\n",
        "            # Compute pairwise similarities (equivalent to InfoNCE/SimCLR)\n",
        "            sim_matrix = torch.mm(embeddings_1, embeddings_2.t())\n",
        "            # Apply temperature scaling\n",
        "            sim_matrix = sim_matrix / self.temperature\n",
        "            # Apply softmax to get probability distribution\n",
        "            q = F.softmax(sim_matrix, dim=1)\n",
        "\n",
        "        elif self.q_distribution == \"student_t\":\n",
        "            # Compute pairwise distances\n",
        "            dist_matrix = torch.cdist(embeddings_1, embeddings_2, p=2)\n",
        "            # Apply Student's t-distribution kernel\n",
        "            df = 1.0  # Degrees of freedom\n",
        "            sim_matrix = -torch.log(1.0 + dist_matrix**2 / df)\n",
        "            # Apply temperature scaling\n",
        "            sim_matrix = sim_matrix / self.temperature\n",
        "            # Apply softmax to get probability distribution\n",
        "            q = F.softmax(sim_matrix, dim=1)\n",
        "\n",
        "        else:\n",
        "            # Default to Gaussian\n",
        "            sim_matrix = torch.mm(embeddings_1, embeddings_2.t())\n",
        "            sim_matrix = sim_matrix / self.temperature\n",
        "            q = F.softmax(sim_matrix, dim=1)\n",
        "\n",
        "        return q\n",
        "\n",
        "# Training and evaluation\n",
        "class RepresentationLearner:\n",
        "    def __init__(self, framework, config):\n",
        "        self.framework = framework\n",
        "        self.config = config\n",
        "        self.device = config.device\n",
        "\n",
        "        # Create model\n",
        "        self.model = EncoderNetwork(embedding_dim=config.embedding_dim).to(self.device)\n",
        "\n",
        "        # Create optimizer\n",
        "        self.optimizer = optim.Adam(\n",
        "            self.model.parameters(), lr=config.lr, weight_decay=config.weight_decay\n",
        "        )\n",
        "\n",
        "        # Metrics\n",
        "        self.train_losses = []\n",
        "\n",
        "    def train(self, train_loader, test_loader):\n",
        "        \"\"\"\n",
        "        Train the model on the specified dataset.\n",
        "        \"\"\"\n",
        "        print(f\"Training with {self.framework.__class__.__name__} framework...\")\n",
        "\n",
        "        # Train for specified number of epochs\n",
        "        for epoch in range(self.config.num_epochs):\n",
        "            self.model.train()\n",
        "            epoch_loss = 0.0\n",
        "            batch_count = 0\n",
        "\n",
        "            # Iterate over batches\n",
        "            for i, (views1, views2, _) in enumerate(tqdm(train_loader, desc=f\"Epoch {epoch+1}/{self.config.num_epochs}\")):\n",
        "                views1, views2 = views1.to(self.device), views2.to(self.device)\n",
        "\n",
        "                # Zero gradients\n",
        "                self.optimizer.zero_grad()\n",
        "\n",
        "                # Forward pass\n",
        "                embeddings1 = self.model(views1)\n",
        "                embeddings2 = self.model(views2)\n",
        "\n",
        "                # Compute loss\n",
        "                loss = self.framework.compute_loss(embeddings1, embeddings2)\n",
        "\n",
        "                # Backward pass and optimize\n",
        "                loss.backward()\n",
        "                self.optimizer.step()\n",
        "\n",
        "                # Update epoch loss\n",
        "                epoch_loss += loss.item()\n",
        "                batch_count += 1\n",
        "\n",
        "                # Limit training iterations for notebook demo\n",
        "                if i >= 10:  # Process only 10 batches per epoch for demo\n",
        "                    break\n",
        "\n",
        "            # Log epoch loss\n",
        "            avg_epoch_loss = epoch_loss / batch_count\n",
        "            self.train_losses.append(avg_epoch_loss)\n",
        "            print(f\"Epoch {epoch+1}, Loss: {avg_epoch_loss:.4f}\")\n",
        "\n",
        "            # Evaluate model periodically\n",
        "            if (epoch + 1) % 5 == 0 or epoch == self.config.num_epochs - 1:\n",
        "                self.evaluate(test_loader)\n",
        "\n",
        "        print(\"Training complete!\")\n",
        "        return self.model\n",
        "\n",
        "    def evaluate(self, test_loader):\n",
        "        \"\"\"\n",
        "        Evaluate the model on various metrics.\n",
        "        \"\"\"\n",
        "        self.model.eval()\n",
        "\n",
        "        # Extract features and labels\n",
        "        all_features = []\n",
        "        all_labels = []\n",
        "\n",
        "        with torch.no_grad():\n",
        "            for i, (images, labels) in enumerate(tqdm(test_loader, desc=\"Evaluating\")):\n",
        "                images = images.to(self.device)\n",
        "                features = self.model(images)\n",
        "                all_features.append(features.cpu().numpy())\n",
        "                all_labels.append(labels.numpy())\n",
        "\n",
        "                # Limit evaluation for notebook demo\n",
        "                if i >= 10:  # Process only 10 batches for demo\n",
        "                    break\n",
        "\n",
        "        all_features = np.vstack(all_features)\n",
        "        all_labels = np.concatenate(all_labels)\n",
        "\n",
        "        # Compute metrics\n",
        "        metrics = {}\n",
        "\n",
        "        # 1. Linear evaluation\n",
        "        X_train, X_test, y_train, y_test = train_test_split(\n",
        "            all_features, all_labels, test_size=0.2, random_state=42\n",
        "        )\n",
        "\n",
        "        classifier = LogisticRegression(max_iter=1000, random_state=42)\n",
        "        classifier.fit(X_train, y_train)\n",
        "        acc = classifier.score(X_test, y_test)\n",
        "        metrics[\"linear_eval_accuracy\"] = acc\n",
        "\n",
        "        # 2. Clustering quality\n",
        "        # Apply k-means clustering\n",
        "        from sklearn.cluster import KMeans\n",
        "        n_clusters = len(np.unique(all_labels))\n",
        "        kmeans = KMeans(n_clusters=n_clusters, random_state=42)\n",
        "        cluster_labels = kmeans.fit_predict(all_features)\n",
        "\n",
        "        # Calculate clustering metrics\n",
        "        nmi = normalized_mutual_info_score(all_labels, cluster_labels)\n",
        "        ari = adjusted_rand_score(all_labels, cluster_labels)\n",
        "        metrics[\"nmi\"] = nmi\n",
        "        metrics[\"ari\"] = ari\n",
        "\n",
        "        # 3. Neighborhood preservation\n",
        "        # Compute k-NN in the embedding space\n",
        "        k = 5\n",
        "        knn = NearestNeighbors(n_neighbors=k+1)\n",
        "        knn.fit(all_features)\n",
        "        distances, indices = knn.kneighbors(all_features)\n",
        "\n",
        "        # Check if neighbors have the same label\n",
        "        same_label_count = 0\n",
        "        total_neighbors = 0\n",
        "        for i in range(len(all_features)):\n",
        "            for j in range(1, k+1):  # Skip the point itself (j=0)\n",
        "                if all_labels[i] == all_labels[indices[i, j]]:\n",
        "                    same_label_count += 1\n",
        "                total_neighbors += 1\n",
        "\n",
        "        neighborhood_accuracy = same_label_count / total_neighbors\n",
        "        metrics[\"neighborhood_accuracy\"] = neighborhood_accuracy\n",
        "\n",
        "        # Print metrics\n",
        "        print(f\"Evaluation Metrics:\")\n",
        "        print(f\"  Linear Eval Accuracy: {metrics['linear_eval_accuracy']:.4f}\")\n",
        "        print(f\"  NMI: {metrics['nmi']:.4f}\")\n",
        "        print(f\"  ARI: {metrics['ari']:.4f}\")\n",
        "        print(f\"  Neighborhood Accuracy: {metrics['neighborhood_accuracy']:.4f}\")\n",
        "\n",
        "        return metrics\n",
        "\n",
        "def run_benchmark(dataset_name=\"cifar10\", frameworks=[\"rdf\", \"icon\"]):\n",
        "    \"\"\"\n",
        "    Run the benchmark comparing RDF and I-Con on specified dataset.\n",
        "    \"\"\"\n",
        "    results = {}\n",
        "\n",
        "    print(f\"=== Running benchmark on {dataset_name} ===\")\n",
        "    results[dataset_name] = {}\n",
        "\n",
        "    # Load dataset\n",
        "    train_dataset, test_dataset, augment_transform = get_datasets(dataset_name)\n",
        "\n",
        "    # Create contrastive dataset\n",
        "    contrastive_train_dataset = ContrastiveDataset(train_dataset, augment_transform)\n",
        "\n",
        "    # Create data loaders\n",
        "    config = Config()\n",
        "    train_loader = DataLoader(\n",
        "        contrastive_train_dataset, batch_size=config.batch_size,\n",
        "        shuffle=True, num_workers=0  # Set to 0 to avoid multiprocessing issues\n",
        "    )\n",
        "\n",
        "    test_loader = DataLoader(\n",
        "        test_dataset, batch_size=config.batch_size,\n",
        "        shuffle=False, num_workers=0\n",
        "    )\n",
        "\n",
        "    # Run benchmark for each framework\n",
        "    for framework_name in frameworks:\n",
        "        print(f\"--- Evaluating {framework_name} framework ---\")\n",
        "        results[dataset_name][framework_name] = {}\n",
        "\n",
        "        # Create framework\n",
        "        if framework_name == \"rdf\":\n",
        "            framework = RDF(config)\n",
        "        elif framework_name == \"icon\":\n",
        "            framework = ICon(config)\n",
        "        else:\n",
        "            raise ValueError(f\"Unknown framework: {framework_name}\")\n",
        "\n",
        "        # Train and evaluate\n",
        "        start_time = time.time()\n",
        "        learner = RepresentationLearner(framework, config)\n",
        "        learner.train(train_loader, test_loader)\n",
        "        end_time = time.time()\n",
        "\n",
        "        # Record training time\n",
        "        training_time = end_time - start_time\n",
        "        results[dataset_name][framework_name][\"training_time\"] = training_time\n",
        "        print(f\"Training time: {training_time:.2f} seconds\")\n",
        "\n",
        "        # Evaluate final model\n",
        "        metrics = learner.evaluate(test_loader)\n",
        "        results[dataset_name][framework_name][\"metrics\"] = metrics\n",
        "\n",
        "        # Record training loss\n",
        "        results[dataset_name][framework_name][\"train_losses\"] = learner.train_losses\n",
        "\n",
        "    return results\n",
        "\n",
        "def plot_results(results):\n",
        "    \"\"\"\n",
        "    Plot comparison of frameworks across metrics.\n",
        "    \"\"\"\n",
        "    # Setup\n",
        "    dataset_name = list(results.keys())[0]\n",
        "    frameworks = list(results[dataset_name].keys())\n",
        "    metrics = list(results[dataset_name][frameworks[0]][\"metrics\"].keys())\n",
        "\n",
        "    # Create figure for metrics\n",
        "    fig, axes = plt.subplots(1, len(metrics), figsize=(5*len(metrics), 4))\n",
        "\n",
        "    if len(metrics) == 1:\n",
        "        axes = [axes]\n",
        "\n",
        "    # Plot metrics\n",
        "    for i, metric in enumerate(metrics):\n",
        "        ax = axes[i]\n",
        "\n",
        "        # Collect metric values for each framework\n",
        "        values = [results[dataset_name][framework][\"metrics\"][metric] for framework in frameworks]\n",
        "\n",
        "        # Create bar chart\n",
        "        ax.bar(frameworks, values)\n",
        "        ax.set_title(f\"{dataset_name} - {metric}\")\n",
        "        ax.set_ylim(0, 1)\n",
        "        ax.set_ylabel(\"Score\")\n",
        "\n",
        "        # Add value labels\n",
        "        for k, v in enumerate(values):\n",
        "            ax.text(k, v + 0.02, f\"{v:.4f}\", ha=\"center\")\n",
        "\n",
        "    # Adjust layout\n",
        "    plt.tight_layout()\n",
        "    plt.show()\n",
        "\n",
        "    # Plot training loss curves\n",
        "    plt.figure(figsize=(10, 5))\n",
        "\n",
        "    # Plot loss curves for each framework\n",
        "    for framework in frameworks:\n",
        "        losses = results[dataset_name][framework][\"train_losses\"]\n",
        "        plt.plot(range(1, len(losses) + 1), losses, label=framework)\n",
        "\n",
        "    plt.title(f\"{dataset_name} - Training Loss\")\n",
        "    plt.xlabel(\"Epoch\")\n",
        "    plt.ylabel(\"Loss\")\n",
        "    plt.legend()\n",
        "    plt.tight_layout()\n",
        "    plt.show()\n",
        "\n",
        "# Example usage:\n",
        "# results = run_benchmark(\"cifar10\", [\"rdf\", \"icon\"])\n",
        "# plot_results(results)"
      ],
      "metadata": {
        "id": "Owmrt4HUJ3Ac"
      },
      "execution_count": 1,
      "outputs": []
    },
    {
      "cell_type": "code",
      "execution_count": 2,
      "metadata": {
        "id": "W1bMZyRLJ1yu",
        "colab": {
          "base_uri": "https://localhost:8080/"
        },
        "outputId": "2862028c-afc9-4066-f98a-6066643a45a7"
      },
      "outputs": [
        {
          "output_type": "stream",
          "name": "stdout",
          "text": [
            "Running experiments on cifar10\n",
            "  Testing rdf framework\n",
            "    Seed 42\n"
          ]
        },
        {
          "output_type": "stream",
          "name": "stderr",
          "text": [
            "100%|██████████| 170M/170M [00:13<00:00, 13.0MB/s]\n"
          ]
        },
        {
          "output_type": "stream",
          "name": "stdout",
          "text": [
            "Training with RDF framework...\n"
          ]
        },
        {
          "output_type": "stream",
          "name": "stderr",
          "text": [
            "Epoch 1/10:   1%|▏         | 10/782 [00:03<04:14,  3.03it/s]\n"
          ]
        },
        {
          "output_type": "stream",
          "name": "stdout",
          "text": [
            "Epoch 1, Loss: 1.9596\n"
          ]
        },
        {
          "output_type": "stream",
          "name": "stderr",
          "text": [
            "Epoch 2/10:   1%|▏         | 10/782 [00:01<01:38,  7.81it/s]\n"
          ]
        },
        {
          "output_type": "stream",
          "name": "stdout",
          "text": [
            "Epoch 2, Loss: 1.8054\n"
          ]
        },
        {
          "output_type": "stream",
          "name": "stderr",
          "text": [
            "Epoch 3/10:   1%|▏         | 10/782 [00:01<01:45,  7.30it/s]\n"
          ]
        },
        {
          "output_type": "stream",
          "name": "stdout",
          "text": [
            "Epoch 3, Loss: 1.6932\n"
          ]
        },
        {
          "output_type": "stream",
          "name": "stderr",
          "text": [
            "Epoch 4/10:   1%|▏         | 10/782 [00:01<01:42,  7.52it/s]\n"
          ]
        },
        {
          "output_type": "stream",
          "name": "stdout",
          "text": [
            "Epoch 4, Loss: 1.6677\n"
          ]
        },
        {
          "output_type": "stream",
          "name": "stderr",
          "text": [
            "Epoch 5/10:   1%|▏         | 10/782 [00:01<01:40,  7.68it/s]\n"
          ]
        },
        {
          "output_type": "stream",
          "name": "stdout",
          "text": [
            "Epoch 5, Loss: 1.6325\n"
          ]
        },
        {
          "output_type": "stream",
          "name": "stderr",
          "text": [
            "Evaluating:   6%|▋         | 10/157 [00:00<00:02, 50.03it/s]\n"
          ]
        },
        {
          "output_type": "stream",
          "name": "stdout",
          "text": [
            "Evaluation Metrics:\n",
            "  Linear Eval Accuracy: 0.3546\n",
            "  NMI: 0.1706\n",
            "  ARI: 0.0810\n",
            "  Neighborhood Accuracy: 0.1969\n"
          ]
        },
        {
          "output_type": "stream",
          "name": "stderr",
          "text": [
            "Epoch 6/10:   1%|▏         | 10/782 [00:01<01:44,  7.37it/s]\n"
          ]
        },
        {
          "output_type": "stream",
          "name": "stdout",
          "text": [
            "Epoch 6, Loss: 1.6413\n"
          ]
        },
        {
          "output_type": "stream",
          "name": "stderr",
          "text": [
            "Epoch 7/10:   1%|▏         | 10/782 [00:01<01:39,  7.73it/s]\n"
          ]
        },
        {
          "output_type": "stream",
          "name": "stdout",
          "text": [
            "Epoch 7, Loss: 1.5972\n"
          ]
        },
        {
          "output_type": "stream",
          "name": "stderr",
          "text": [
            "Epoch 8/10:   1%|▏         | 10/782 [00:01<01:43,  7.47it/s]\n"
          ]
        },
        {
          "output_type": "stream",
          "name": "stdout",
          "text": [
            "Epoch 8, Loss: 1.5556\n"
          ]
        },
        {
          "output_type": "stream",
          "name": "stderr",
          "text": [
            "Epoch 9/10:   1%|▏         | 10/782 [00:01<01:41,  7.62it/s]\n"
          ]
        },
        {
          "output_type": "stream",
          "name": "stdout",
          "text": [
            "Epoch 9, Loss: 1.5895\n"
          ]
        },
        {
          "output_type": "stream",
          "name": "stderr",
          "text": [
            "Epoch 10/10:   1%|▏         | 10/782 [00:01<01:43,  7.44it/s]\n"
          ]
        },
        {
          "output_type": "stream",
          "name": "stdout",
          "text": [
            "Epoch 10, Loss: 1.6075\n"
          ]
        },
        {
          "output_type": "stream",
          "name": "stderr",
          "text": [
            "Evaluating:   6%|▋         | 10/157 [00:00<00:03, 45.07it/s]\n"
          ]
        },
        {
          "output_type": "stream",
          "name": "stdout",
          "text": [
            "Evaluation Metrics:\n",
            "  Linear Eval Accuracy: 0.3121\n",
            "  NMI: 0.1448\n",
            "  ARI: 0.0605\n",
            "  Neighborhood Accuracy: 0.1974\n",
            "Training complete!\n"
          ]
        },
        {
          "output_type": "stream",
          "name": "stderr",
          "text": [
            "Evaluating:   6%|▋         | 10/157 [00:00<00:03, 47.92it/s]\n"
          ]
        },
        {
          "output_type": "stream",
          "name": "stdout",
          "text": [
            "Evaluation Metrics:\n",
            "  Linear Eval Accuracy: 0.3121\n",
            "  NMI: 0.1448\n",
            "  ARI: 0.0605\n",
            "  Neighborhood Accuracy: 0.1974\n",
            "    Seed 123\n",
            "Training with RDF framework...\n"
          ]
        },
        {
          "output_type": "stream",
          "name": "stderr",
          "text": [
            "Epoch 1/10:   1%|▏         | 10/782 [00:01<01:43,  7.49it/s]\n"
          ]
        },
        {
          "output_type": "stream",
          "name": "stdout",
          "text": [
            "Epoch 1, Loss: 1.9685\n"
          ]
        },
        {
          "output_type": "stream",
          "name": "stderr",
          "text": [
            "Epoch 2/10:   1%|▏         | 10/782 [00:01<01:43,  7.43it/s]\n"
          ]
        },
        {
          "output_type": "stream",
          "name": "stdout",
          "text": [
            "Epoch 2, Loss: 1.8162\n"
          ]
        },
        {
          "output_type": "stream",
          "name": "stderr",
          "text": [
            "Epoch 3/10:   1%|▏         | 10/782 [00:01<01:40,  7.66it/s]\n"
          ]
        },
        {
          "output_type": "stream",
          "name": "stdout",
          "text": [
            "Epoch 3, Loss: 1.7303\n"
          ]
        },
        {
          "output_type": "stream",
          "name": "stderr",
          "text": [
            "Epoch 4/10:   1%|▏         | 10/782 [00:01<01:49,  7.06it/s]\n"
          ]
        },
        {
          "output_type": "stream",
          "name": "stdout",
          "text": [
            "Epoch 4, Loss: 1.7229\n"
          ]
        },
        {
          "output_type": "stream",
          "name": "stderr",
          "text": [
            "Epoch 5/10:   1%|▏         | 10/782 [00:01<01:42,  7.57it/s]\n"
          ]
        },
        {
          "output_type": "stream",
          "name": "stdout",
          "text": [
            "Epoch 5, Loss: 1.7311\n"
          ]
        },
        {
          "output_type": "stream",
          "name": "stderr",
          "text": [
            "Evaluating:   6%|▋         | 10/157 [00:00<00:03, 45.36it/s]\n"
          ]
        },
        {
          "output_type": "stream",
          "name": "stdout",
          "text": [
            "Evaluation Metrics:\n",
            "  Linear Eval Accuracy: 0.2695\n",
            "  NMI: 0.1662\n",
            "  ARI: 0.0805\n",
            "  Neighborhood Accuracy: 0.1835\n"
          ]
        },
        {
          "output_type": "stream",
          "name": "stderr",
          "text": [
            "Epoch 6/10:   1%|▏         | 10/782 [00:01<01:43,  7.44it/s]\n"
          ]
        },
        {
          "output_type": "stream",
          "name": "stdout",
          "text": [
            "Epoch 6, Loss: 1.6702\n"
          ]
        },
        {
          "output_type": "stream",
          "name": "stderr",
          "text": [
            "Epoch 7/10:   1%|▏         | 10/782 [00:01<01:43,  7.45it/s]\n"
          ]
        },
        {
          "output_type": "stream",
          "name": "stdout",
          "text": [
            "Epoch 7, Loss: 1.6672\n"
          ]
        },
        {
          "output_type": "stream",
          "name": "stderr",
          "text": [
            "Epoch 8/10:   1%|▏         | 10/782 [00:01<01:45,  7.32it/s]\n"
          ]
        },
        {
          "output_type": "stream",
          "name": "stdout",
          "text": [
            "Epoch 8, Loss: 1.7002\n"
          ]
        },
        {
          "output_type": "stream",
          "name": "stderr",
          "text": [
            "Epoch 9/10:   1%|▏         | 10/782 [00:01<01:42,  7.50it/s]\n"
          ]
        },
        {
          "output_type": "stream",
          "name": "stdout",
          "text": [
            "Epoch 9, Loss: 1.5823\n"
          ]
        },
        {
          "output_type": "stream",
          "name": "stderr",
          "text": [
            "Epoch 10/10:   1%|▏         | 10/782 [00:01<01:43,  7.47it/s]\n"
          ]
        },
        {
          "output_type": "stream",
          "name": "stdout",
          "text": [
            "Epoch 10, Loss: 1.6111\n"
          ]
        },
        {
          "output_type": "stream",
          "name": "stderr",
          "text": [
            "Evaluating:   6%|▋         | 10/157 [00:00<00:02, 49.11it/s]\n"
          ]
        },
        {
          "output_type": "stream",
          "name": "stdout",
          "text": [
            "Evaluation Metrics:\n",
            "  Linear Eval Accuracy: 0.2482\n",
            "  NMI: 0.1814\n",
            "  ARI: 0.0795\n",
            "  Neighborhood Accuracy: 0.1966\n",
            "Training complete!\n"
          ]
        },
        {
          "output_type": "stream",
          "name": "stderr",
          "text": [
            "Evaluating:   6%|▋         | 10/157 [00:00<00:03, 44.67it/s]\n"
          ]
        },
        {
          "output_type": "stream",
          "name": "stdout",
          "text": [
            "Evaluation Metrics:\n",
            "  Linear Eval Accuracy: 0.2482\n",
            "  NMI: 0.1814\n",
            "  ARI: 0.0795\n",
            "  Neighborhood Accuracy: 0.1966\n",
            "    Seed 456\n",
            "Training with RDF framework...\n"
          ]
        },
        {
          "output_type": "stream",
          "name": "stderr",
          "text": [
            "Epoch 1/10:   1%|▏         | 10/782 [00:01<01:40,  7.65it/s]\n"
          ]
        },
        {
          "output_type": "stream",
          "name": "stdout",
          "text": [
            "Epoch 1, Loss: 1.8715\n"
          ]
        },
        {
          "output_type": "stream",
          "name": "stderr",
          "text": [
            "Epoch 2/10:   1%|▏         | 10/782 [00:01<01:41,  7.61it/s]\n"
          ]
        },
        {
          "output_type": "stream",
          "name": "stdout",
          "text": [
            "Epoch 2, Loss: 1.7740\n"
          ]
        },
        {
          "output_type": "stream",
          "name": "stderr",
          "text": [
            "Epoch 3/10:   1%|▏         | 10/782 [00:01<01:41,  7.60it/s]\n"
          ]
        },
        {
          "output_type": "stream",
          "name": "stdout",
          "text": [
            "Epoch 3, Loss: 1.7334\n"
          ]
        },
        {
          "output_type": "stream",
          "name": "stderr",
          "text": [
            "Epoch 4/10:   1%|▏         | 10/782 [00:01<01:46,  7.25it/s]\n"
          ]
        },
        {
          "output_type": "stream",
          "name": "stdout",
          "text": [
            "Epoch 4, Loss: 1.7503\n"
          ]
        },
        {
          "output_type": "stream",
          "name": "stderr",
          "text": [
            "Epoch 5/10:   1%|▏         | 10/782 [00:01<01:52,  6.89it/s]\n"
          ]
        },
        {
          "output_type": "stream",
          "name": "stdout",
          "text": [
            "Epoch 5, Loss: 1.6567\n"
          ]
        },
        {
          "output_type": "stream",
          "name": "stderr",
          "text": [
            "Evaluating:   6%|▋         | 10/157 [00:00<00:03, 48.56it/s]\n"
          ]
        },
        {
          "output_type": "stream",
          "name": "stdout",
          "text": [
            "Evaluation Metrics:\n",
            "  Linear Eval Accuracy: 0.2695\n",
            "  NMI: 0.1728\n",
            "  ARI: 0.0756\n",
            "  Neighborhood Accuracy: 0.1926\n"
          ]
        },
        {
          "output_type": "stream",
          "name": "stderr",
          "text": [
            "Epoch 6/10:   1%|▏         | 10/782 [00:01<01:42,  7.56it/s]\n"
          ]
        },
        {
          "output_type": "stream",
          "name": "stdout",
          "text": [
            "Epoch 6, Loss: 1.6926\n"
          ]
        },
        {
          "output_type": "stream",
          "name": "stderr",
          "text": [
            "Epoch 7/10:   1%|▏         | 10/782 [00:01<01:43,  7.44it/s]\n"
          ]
        },
        {
          "output_type": "stream",
          "name": "stdout",
          "text": [
            "Epoch 7, Loss: 1.6410\n"
          ]
        },
        {
          "output_type": "stream",
          "name": "stderr",
          "text": [
            "Epoch 8/10:   1%|▏         | 10/782 [00:01<01:42,  7.52it/s]\n"
          ]
        },
        {
          "output_type": "stream",
          "name": "stdout",
          "text": [
            "Epoch 8, Loss: 1.6304\n"
          ]
        },
        {
          "output_type": "stream",
          "name": "stderr",
          "text": [
            "Epoch 9/10:   1%|▏         | 10/782 [00:01<01:42,  7.52it/s]\n"
          ]
        },
        {
          "output_type": "stream",
          "name": "stdout",
          "text": [
            "Epoch 9, Loss: 1.6811\n"
          ]
        },
        {
          "output_type": "stream",
          "name": "stderr",
          "text": [
            "Epoch 10/10:   1%|▏         | 10/782 [00:01<01:41,  7.58it/s]\n"
          ]
        },
        {
          "output_type": "stream",
          "name": "stdout",
          "text": [
            "Epoch 10, Loss: 1.6585\n"
          ]
        },
        {
          "output_type": "stream",
          "name": "stderr",
          "text": [
            "Evaluating:   6%|▋         | 10/157 [00:00<00:02, 49.96it/s]\n"
          ]
        },
        {
          "output_type": "stream",
          "name": "stdout",
          "text": [
            "Evaluation Metrics:\n",
            "  Linear Eval Accuracy: 0.2766\n",
            "  NMI: 0.1510\n",
            "  ARI: 0.0672\n",
            "  Neighborhood Accuracy: 0.2011\n",
            "Training complete!\n"
          ]
        },
        {
          "output_type": "stream",
          "name": "stderr",
          "text": [
            "Evaluating:   6%|▋         | 10/157 [00:00<00:03, 48.48it/s]\n"
          ]
        },
        {
          "output_type": "stream",
          "name": "stdout",
          "text": [
            "Evaluation Metrics:\n",
            "  Linear Eval Accuracy: 0.2766\n",
            "  NMI: 0.1510\n",
            "  ARI: 0.0672\n",
            "  Neighborhood Accuracy: 0.2011\n",
            "    Seed 789\n",
            "Training with RDF framework...\n"
          ]
        },
        {
          "output_type": "stream",
          "name": "stderr",
          "text": [
            "Epoch 1/10:   1%|▏         | 10/782 [00:01<01:46,  7.26it/s]\n"
          ]
        },
        {
          "output_type": "stream",
          "name": "stdout",
          "text": [
            "Epoch 1, Loss: 1.9836\n"
          ]
        },
        {
          "output_type": "stream",
          "name": "stderr",
          "text": [
            "Epoch 2/10:   1%|▏         | 10/782 [00:01<01:46,  7.24it/s]\n"
          ]
        },
        {
          "output_type": "stream",
          "name": "stdout",
          "text": [
            "Epoch 2, Loss: 1.8344\n"
          ]
        },
        {
          "output_type": "stream",
          "name": "stderr",
          "text": [
            "Epoch 3/10:   1%|▏         | 10/782 [00:01<01:42,  7.55it/s]\n"
          ]
        },
        {
          "output_type": "stream",
          "name": "stdout",
          "text": [
            "Epoch 3, Loss: 1.7471\n"
          ]
        },
        {
          "output_type": "stream",
          "name": "stderr",
          "text": [
            "Epoch 4/10:   1%|▏         | 10/782 [00:01<01:46,  7.28it/s]\n"
          ]
        },
        {
          "output_type": "stream",
          "name": "stdout",
          "text": [
            "Epoch 4, Loss: 1.6995\n"
          ]
        },
        {
          "output_type": "stream",
          "name": "stderr",
          "text": [
            "Epoch 5/10:   1%|▏         | 10/782 [00:01<02:01,  6.34it/s]\n"
          ]
        },
        {
          "output_type": "stream",
          "name": "stdout",
          "text": [
            "Epoch 5, Loss: 1.6727\n"
          ]
        },
        {
          "output_type": "stream",
          "name": "stderr",
          "text": [
            "Evaluating:   6%|▋         | 10/157 [00:00<00:03, 47.95it/s]\n"
          ]
        },
        {
          "output_type": "stream",
          "name": "stdout",
          "text": [
            "Evaluation Metrics:\n",
            "  Linear Eval Accuracy: 0.3121\n",
            "  NMI: 0.1557\n",
            "  ARI: 0.0687\n",
            "  Neighborhood Accuracy: 0.1881\n"
          ]
        },
        {
          "output_type": "stream",
          "name": "stderr",
          "text": [
            "Epoch 6/10:   1%|▏         | 10/782 [00:01<01:44,  7.38it/s]\n"
          ]
        },
        {
          "output_type": "stream",
          "name": "stdout",
          "text": [
            "Epoch 6, Loss: 1.6633\n"
          ]
        },
        {
          "output_type": "stream",
          "name": "stderr",
          "text": [
            "Epoch 7/10:   1%|▏         | 10/782 [00:01<01:46,  7.27it/s]\n"
          ]
        },
        {
          "output_type": "stream",
          "name": "stdout",
          "text": [
            "Epoch 7, Loss: 1.6495\n"
          ]
        },
        {
          "output_type": "stream",
          "name": "stderr",
          "text": [
            "Epoch 8/10:   1%|▏         | 10/782 [00:01<01:46,  7.27it/s]\n"
          ]
        },
        {
          "output_type": "stream",
          "name": "stdout",
          "text": [
            "Epoch 8, Loss: 1.6425\n"
          ]
        },
        {
          "output_type": "stream",
          "name": "stderr",
          "text": [
            "Epoch 9/10:   1%|▏         | 10/782 [00:01<01:46,  7.27it/s]\n"
          ]
        },
        {
          "output_type": "stream",
          "name": "stdout",
          "text": [
            "Epoch 9, Loss: 1.5971\n"
          ]
        },
        {
          "output_type": "stream",
          "name": "stderr",
          "text": [
            "Epoch 10/10:   1%|▏         | 10/782 [00:01<01:41,  7.61it/s]\n"
          ]
        },
        {
          "output_type": "stream",
          "name": "stdout",
          "text": [
            "Epoch 10, Loss: 1.5907\n"
          ]
        },
        {
          "output_type": "stream",
          "name": "stderr",
          "text": [
            "Evaluating:   6%|▋         | 10/157 [00:00<00:03, 48.24it/s]\n"
          ]
        },
        {
          "output_type": "stream",
          "name": "stdout",
          "text": [
            "Evaluation Metrics:\n",
            "  Linear Eval Accuracy: 0.3333\n",
            "  NMI: 0.1665\n",
            "  ARI: 0.0842\n",
            "  Neighborhood Accuracy: 0.2256\n",
            "Training complete!\n"
          ]
        },
        {
          "output_type": "stream",
          "name": "stderr",
          "text": [
            "Evaluating:   6%|▋         | 10/157 [00:00<00:03, 47.69it/s]\n"
          ]
        },
        {
          "output_type": "stream",
          "name": "stdout",
          "text": [
            "Evaluation Metrics:\n",
            "  Linear Eval Accuracy: 0.3333\n",
            "  NMI: 0.1665\n",
            "  ARI: 0.0842\n",
            "  Neighborhood Accuracy: 0.2256\n",
            "    Seed 101\n",
            "Training with RDF framework...\n"
          ]
        },
        {
          "output_type": "stream",
          "name": "stderr",
          "text": [
            "Epoch 1/10:   1%|▏         | 10/782 [00:01<01:46,  7.26it/s]\n"
          ]
        },
        {
          "output_type": "stream",
          "name": "stdout",
          "text": [
            "Epoch 1, Loss: 1.9576\n"
          ]
        },
        {
          "output_type": "stream",
          "name": "stderr",
          "text": [
            "Epoch 2/10:   1%|▏         | 10/782 [00:01<01:44,  7.37it/s]\n"
          ]
        },
        {
          "output_type": "stream",
          "name": "stdout",
          "text": [
            "Epoch 2, Loss: 1.8367\n"
          ]
        },
        {
          "output_type": "stream",
          "name": "stderr",
          "text": [
            "Epoch 3/10:   1%|▏         | 10/782 [00:01<01:45,  7.32it/s]\n"
          ]
        },
        {
          "output_type": "stream",
          "name": "stdout",
          "text": [
            "Epoch 3, Loss: 1.7816\n"
          ]
        },
        {
          "output_type": "stream",
          "name": "stderr",
          "text": [
            "Epoch 4/10:   1%|▏         | 10/782 [00:01<01:43,  7.46it/s]\n"
          ]
        },
        {
          "output_type": "stream",
          "name": "stdout",
          "text": [
            "Epoch 4, Loss: 1.7170\n"
          ]
        },
        {
          "output_type": "stream",
          "name": "stderr",
          "text": [
            "Epoch 5/10:   1%|▏         | 10/782 [00:01<01:45,  7.31it/s]\n"
          ]
        },
        {
          "output_type": "stream",
          "name": "stdout",
          "text": [
            "Epoch 5, Loss: 1.6555\n"
          ]
        },
        {
          "output_type": "stream",
          "name": "stderr",
          "text": [
            "Evaluating:   6%|▋         | 10/157 [00:00<00:03, 46.77it/s]\n"
          ]
        },
        {
          "output_type": "stream",
          "name": "stdout",
          "text": [
            "Evaluation Metrics:\n",
            "  Linear Eval Accuracy: 0.3191\n",
            "  NMI: 0.1485\n",
            "  ARI: 0.0666\n",
            "  Neighborhood Accuracy: 0.2020\n"
          ]
        },
        {
          "output_type": "stream",
          "name": "stderr",
          "text": [
            "Epoch 6/10:   1%|▏         | 10/782 [00:01<01:45,  7.31it/s]\n"
          ]
        },
        {
          "output_type": "stream",
          "name": "stdout",
          "text": [
            "Epoch 6, Loss: 1.6523\n"
          ]
        },
        {
          "output_type": "stream",
          "name": "stderr",
          "text": [
            "Epoch 7/10:   1%|▏         | 10/782 [00:01<01:41,  7.59it/s]\n"
          ]
        },
        {
          "output_type": "stream",
          "name": "stdout",
          "text": [
            "Epoch 7, Loss: 1.5851\n"
          ]
        },
        {
          "output_type": "stream",
          "name": "stderr",
          "text": [
            "Epoch 8/10:   1%|▏         | 10/782 [00:01<01:45,  7.29it/s]\n"
          ]
        },
        {
          "output_type": "stream",
          "name": "stdout",
          "text": [
            "Epoch 8, Loss: 1.6531\n"
          ]
        },
        {
          "output_type": "stream",
          "name": "stderr",
          "text": [
            "Epoch 9/10:   1%|▏         | 10/782 [00:01<01:45,  7.31it/s]\n"
          ]
        },
        {
          "output_type": "stream",
          "name": "stdout",
          "text": [
            "Epoch 9, Loss: 1.5921\n"
          ]
        },
        {
          "output_type": "stream",
          "name": "stderr",
          "text": [
            "Epoch 10/10:   1%|▏         | 10/782 [00:01<01:45,  7.32it/s]\n"
          ]
        },
        {
          "output_type": "stream",
          "name": "stdout",
          "text": [
            "Epoch 10, Loss: 1.6321\n"
          ]
        },
        {
          "output_type": "stream",
          "name": "stderr",
          "text": [
            "Evaluating:   6%|▋         | 10/157 [00:00<00:02, 50.24it/s]\n"
          ]
        },
        {
          "output_type": "stream",
          "name": "stdout",
          "text": [
            "Evaluation Metrics:\n",
            "  Linear Eval Accuracy: 0.2766\n",
            "  NMI: 0.1653\n",
            "  ARI: 0.0806\n",
            "  Neighborhood Accuracy: 0.2077\n",
            "Training complete!\n"
          ]
        },
        {
          "output_type": "stream",
          "name": "stderr",
          "text": [
            "Evaluating:   6%|▋         | 10/157 [00:00<00:02, 49.65it/s]\n"
          ]
        },
        {
          "output_type": "stream",
          "name": "stdout",
          "text": [
            "Evaluation Metrics:\n",
            "  Linear Eval Accuracy: 0.2766\n",
            "  NMI: 0.1653\n",
            "  ARI: 0.0806\n",
            "  Neighborhood Accuracy: 0.2077\n",
            "  Testing icon framework\n",
            "    Seed 42\n",
            "Training with ICon framework...\n"
          ]
        },
        {
          "output_type": "stream",
          "name": "stderr",
          "text": [
            "Epoch 1/10:   1%|▏         | 10/782 [00:00<01:03, 12.12it/s]\n"
          ]
        },
        {
          "output_type": "stream",
          "name": "stdout",
          "text": [
            "Epoch 1, Loss: 2.6680\n"
          ]
        },
        {
          "output_type": "stream",
          "name": "stderr",
          "text": [
            "Epoch 2/10:   1%|▏         | 10/782 [00:00<01:11, 10.74it/s]\n"
          ]
        },
        {
          "output_type": "stream",
          "name": "stdout",
          "text": [
            "Epoch 2, Loss: 2.5000\n"
          ]
        },
        {
          "output_type": "stream",
          "name": "stderr",
          "text": [
            "Epoch 3/10:   1%|▏         | 10/782 [00:00<01:08, 11.20it/s]\n"
          ]
        },
        {
          "output_type": "stream",
          "name": "stdout",
          "text": [
            "Epoch 3, Loss: 2.4492\n"
          ]
        },
        {
          "output_type": "stream",
          "name": "stderr",
          "text": [
            "Epoch 4/10:   1%|▏         | 10/782 [00:00<01:10, 11.02it/s]\n"
          ]
        },
        {
          "output_type": "stream",
          "name": "stdout",
          "text": [
            "Epoch 4, Loss: 2.4018\n"
          ]
        },
        {
          "output_type": "stream",
          "name": "stderr",
          "text": [
            "Epoch 5/10:   1%|▏         | 10/782 [00:00<01:07, 11.50it/s]\n"
          ]
        },
        {
          "output_type": "stream",
          "name": "stdout",
          "text": [
            "Epoch 5, Loss: 2.3749\n"
          ]
        },
        {
          "output_type": "stream",
          "name": "stderr",
          "text": [
            "Evaluating:   6%|▋         | 10/157 [00:00<00:03, 45.07it/s]\n"
          ]
        },
        {
          "output_type": "stream",
          "name": "stdout",
          "text": [
            "Evaluation Metrics:\n",
            "  Linear Eval Accuracy: 0.2979\n",
            "  NMI: 0.1678\n",
            "  ARI: 0.0759\n",
            "  Neighborhood Accuracy: 0.1952\n"
          ]
        },
        {
          "output_type": "stream",
          "name": "stderr",
          "text": [
            "Epoch 6/10:   1%|▏         | 10/782 [00:00<01:06, 11.55it/s]\n"
          ]
        },
        {
          "output_type": "stream",
          "name": "stdout",
          "text": [
            "Epoch 6, Loss: 2.3442\n"
          ]
        },
        {
          "output_type": "stream",
          "name": "stderr",
          "text": [
            "Epoch 7/10:   1%|▏         | 10/782 [00:00<01:04, 11.92it/s]\n"
          ]
        },
        {
          "output_type": "stream",
          "name": "stdout",
          "text": [
            "Epoch 7, Loss: 2.3296\n"
          ]
        },
        {
          "output_type": "stream",
          "name": "stderr",
          "text": [
            "Epoch 8/10:   1%|▏         | 10/782 [00:00<01:03, 12.18it/s]\n"
          ]
        },
        {
          "output_type": "stream",
          "name": "stdout",
          "text": [
            "Epoch 8, Loss: 2.3024\n"
          ]
        },
        {
          "output_type": "stream",
          "name": "stderr",
          "text": [
            "Epoch 9/10:   1%|▏         | 10/782 [00:00<01:07, 11.49it/s]\n"
          ]
        },
        {
          "output_type": "stream",
          "name": "stdout",
          "text": [
            "Epoch 9, Loss: 2.2909\n"
          ]
        },
        {
          "output_type": "stream",
          "name": "stderr",
          "text": [
            "Epoch 10/10:   1%|▏         | 10/782 [00:00<01:04, 11.89it/s]\n"
          ]
        },
        {
          "output_type": "stream",
          "name": "stdout",
          "text": [
            "Epoch 10, Loss: 2.3241\n"
          ]
        },
        {
          "output_type": "stream",
          "name": "stderr",
          "text": [
            "Evaluating:   6%|▋         | 10/157 [00:00<00:03, 47.43it/s]\n"
          ]
        },
        {
          "output_type": "stream",
          "name": "stdout",
          "text": [
            "Evaluation Metrics:\n",
            "  Linear Eval Accuracy: 0.3262\n",
            "  NMI: 0.1556\n",
            "  ARI: 0.0664\n",
            "  Neighborhood Accuracy: 0.2131\n",
            "Training complete!\n"
          ]
        },
        {
          "output_type": "stream",
          "name": "stderr",
          "text": [
            "Evaluating:   6%|▋         | 10/157 [00:00<00:02, 49.59it/s]\n"
          ]
        },
        {
          "output_type": "stream",
          "name": "stdout",
          "text": [
            "Evaluation Metrics:\n",
            "  Linear Eval Accuracy: 0.3262\n",
            "  NMI: 0.1556\n",
            "  ARI: 0.0664\n",
            "  Neighborhood Accuracy: 0.2131\n",
            "    Seed 123\n",
            "Training with ICon framework...\n"
          ]
        },
        {
          "output_type": "stream",
          "name": "stderr",
          "text": [
            "Epoch 1/10:   1%|▏         | 10/782 [00:00<01:10, 10.88it/s]\n"
          ]
        },
        {
          "output_type": "stream",
          "name": "stdout",
          "text": [
            "Epoch 1, Loss: 2.7047\n"
          ]
        },
        {
          "output_type": "stream",
          "name": "stderr",
          "text": [
            "Epoch 2/10:   1%|▏         | 10/782 [00:00<01:09, 11.10it/s]\n"
          ]
        },
        {
          "output_type": "stream",
          "name": "stdout",
          "text": [
            "Epoch 2, Loss: 2.5554\n"
          ]
        },
        {
          "output_type": "stream",
          "name": "stderr",
          "text": [
            "Epoch 3/10:   1%|▏         | 10/782 [00:00<01:04, 12.01it/s]\n"
          ]
        },
        {
          "output_type": "stream",
          "name": "stdout",
          "text": [
            "Epoch 3, Loss: 2.4576\n"
          ]
        },
        {
          "output_type": "stream",
          "name": "stderr",
          "text": [
            "Epoch 4/10:   1%|▏         | 10/782 [00:00<01:05, 11.85it/s]\n"
          ]
        },
        {
          "output_type": "stream",
          "name": "stdout",
          "text": [
            "Epoch 4, Loss: 2.4581\n"
          ]
        },
        {
          "output_type": "stream",
          "name": "stderr",
          "text": [
            "Epoch 5/10:   1%|▏         | 10/782 [00:00<01:08, 11.21it/s]\n"
          ]
        },
        {
          "output_type": "stream",
          "name": "stdout",
          "text": [
            "Epoch 5, Loss: 2.4577\n"
          ]
        },
        {
          "output_type": "stream",
          "name": "stderr",
          "text": [
            "Evaluating:   6%|▋         | 10/157 [00:00<00:03, 48.13it/s]\n"
          ]
        },
        {
          "output_type": "stream",
          "name": "stdout",
          "text": [
            "Evaluation Metrics:\n",
            "  Linear Eval Accuracy: 0.2766\n",
            "  NMI: 0.1487\n",
            "  ARI: 0.0677\n",
            "  Neighborhood Accuracy: 0.1770\n"
          ]
        },
        {
          "output_type": "stream",
          "name": "stderr",
          "text": [
            "Epoch 6/10:   1%|▏         | 10/782 [00:00<01:05, 11.74it/s]\n"
          ]
        },
        {
          "output_type": "stream",
          "name": "stdout",
          "text": [
            "Epoch 6, Loss: 2.3867\n"
          ]
        },
        {
          "output_type": "stream",
          "name": "stderr",
          "text": [
            "Epoch 7/10:   1%|▏         | 10/782 [00:00<01:09, 11.16it/s]\n"
          ]
        },
        {
          "output_type": "stream",
          "name": "stdout",
          "text": [
            "Epoch 7, Loss: 2.3315\n"
          ]
        },
        {
          "output_type": "stream",
          "name": "stderr",
          "text": [
            "Epoch 8/10:   1%|▏         | 10/782 [00:00<01:13, 10.47it/s]\n"
          ]
        },
        {
          "output_type": "stream",
          "name": "stdout",
          "text": [
            "Epoch 8, Loss: 2.3801\n"
          ]
        },
        {
          "output_type": "stream",
          "name": "stderr",
          "text": [
            "Epoch 9/10:   1%|▏         | 10/782 [00:00<01:08, 11.29it/s]\n"
          ]
        },
        {
          "output_type": "stream",
          "name": "stdout",
          "text": [
            "Epoch 9, Loss: 2.2856\n"
          ]
        },
        {
          "output_type": "stream",
          "name": "stderr",
          "text": [
            "Epoch 10/10:   1%|▏         | 10/782 [00:00<01:10, 11.02it/s]\n"
          ]
        },
        {
          "output_type": "stream",
          "name": "stdout",
          "text": [
            "Epoch 10, Loss: 2.3059\n"
          ]
        },
        {
          "output_type": "stream",
          "name": "stderr",
          "text": [
            "Evaluating:   6%|▋         | 10/157 [00:00<00:03, 44.71it/s]\n"
          ]
        },
        {
          "output_type": "stream",
          "name": "stdout",
          "text": [
            "Evaluation Metrics:\n",
            "  Linear Eval Accuracy: 0.3546\n",
            "  NMI: 0.1864\n",
            "  ARI: 0.1032\n",
            "  Neighborhood Accuracy: 0.2139\n",
            "Training complete!\n"
          ]
        },
        {
          "output_type": "stream",
          "name": "stderr",
          "text": [
            "Evaluating:   6%|▋         | 10/157 [00:00<00:03, 41.56it/s]\n"
          ]
        },
        {
          "output_type": "stream",
          "name": "stdout",
          "text": [
            "Evaluation Metrics:\n",
            "  Linear Eval Accuracy: 0.3546\n",
            "  NMI: 0.1864\n",
            "  ARI: 0.1032\n",
            "  Neighborhood Accuracy: 0.2139\n",
            "    Seed 456\n",
            "Training with ICon framework...\n"
          ]
        },
        {
          "output_type": "stream",
          "name": "stderr",
          "text": [
            "Epoch 1/10:   1%|▏         | 10/782 [00:00<01:06, 11.52it/s]\n"
          ]
        },
        {
          "output_type": "stream",
          "name": "stdout",
          "text": [
            "Epoch 1, Loss: 2.5978\n"
          ]
        },
        {
          "output_type": "stream",
          "name": "stderr",
          "text": [
            "Epoch 2/10:   1%|▏         | 10/782 [00:00<01:15, 10.17it/s]\n"
          ]
        },
        {
          "output_type": "stream",
          "name": "stdout",
          "text": [
            "Epoch 2, Loss: 2.4663\n"
          ]
        },
        {
          "output_type": "stream",
          "name": "stderr",
          "text": [
            "Epoch 3/10:   1%|▏         | 10/782 [00:00<01:07, 11.37it/s]\n"
          ]
        },
        {
          "output_type": "stream",
          "name": "stdout",
          "text": [
            "Epoch 3, Loss: 2.4517\n"
          ]
        },
        {
          "output_type": "stream",
          "name": "stderr",
          "text": [
            "Epoch 4/10:   1%|▏         | 10/782 [00:00<01:07, 11.48it/s]\n"
          ]
        },
        {
          "output_type": "stream",
          "name": "stdout",
          "text": [
            "Epoch 4, Loss: 2.4595\n"
          ]
        },
        {
          "output_type": "stream",
          "name": "stderr",
          "text": [
            "Epoch 5/10:   1%|▏         | 10/782 [00:00<01:07, 11.44it/s]\n"
          ]
        },
        {
          "output_type": "stream",
          "name": "stdout",
          "text": [
            "Epoch 5, Loss: 2.3558\n"
          ]
        },
        {
          "output_type": "stream",
          "name": "stderr",
          "text": [
            "Evaluating:   6%|▋         | 10/157 [00:00<00:02, 49.18it/s]\n"
          ]
        },
        {
          "output_type": "stream",
          "name": "stdout",
          "text": [
            "Evaluation Metrics:\n",
            "  Linear Eval Accuracy: 0.2908\n",
            "  NMI: 0.1622\n",
            "  ARI: 0.0882\n",
            "  Neighborhood Accuracy: 0.1940\n"
          ]
        },
        {
          "output_type": "stream",
          "name": "stderr",
          "text": [
            "Epoch 6/10:   1%|▏         | 10/782 [00:00<01:13, 10.51it/s]\n"
          ]
        },
        {
          "output_type": "stream",
          "name": "stdout",
          "text": [
            "Epoch 6, Loss: 2.4068\n"
          ]
        },
        {
          "output_type": "stream",
          "name": "stderr",
          "text": [
            "Epoch 7/10:   1%|▏         | 10/782 [00:00<01:11, 10.78it/s]\n"
          ]
        },
        {
          "output_type": "stream",
          "name": "stdout",
          "text": [
            "Epoch 7, Loss: 2.3536\n"
          ]
        },
        {
          "output_type": "stream",
          "name": "stderr",
          "text": [
            "Epoch 8/10:   1%|▏         | 10/782 [00:00<01:02, 12.39it/s]\n"
          ]
        },
        {
          "output_type": "stream",
          "name": "stdout",
          "text": [
            "Epoch 8, Loss: 2.3352\n"
          ]
        },
        {
          "output_type": "stream",
          "name": "stderr",
          "text": [
            "Epoch 9/10:   1%|▏         | 10/782 [00:00<01:14, 10.42it/s]\n"
          ]
        },
        {
          "output_type": "stream",
          "name": "stdout",
          "text": [
            "Epoch 9, Loss: 2.3614\n"
          ]
        },
        {
          "output_type": "stream",
          "name": "stderr",
          "text": [
            "Epoch 10/10:   1%|▏         | 10/782 [00:00<01:12, 10.70it/s]\n"
          ]
        },
        {
          "output_type": "stream",
          "name": "stdout",
          "text": [
            "Epoch 10, Loss: 2.3375\n"
          ]
        },
        {
          "output_type": "stream",
          "name": "stderr",
          "text": [
            "Evaluating:   6%|▋         | 10/157 [00:00<00:03, 43.13it/s]\n"
          ]
        },
        {
          "output_type": "stream",
          "name": "stdout",
          "text": [
            "Evaluation Metrics:\n",
            "  Linear Eval Accuracy: 0.3121\n",
            "  NMI: 0.1840\n",
            "  ARI: 0.0884\n",
            "  Neighborhood Accuracy: 0.2011\n",
            "Training complete!\n"
          ]
        },
        {
          "output_type": "stream",
          "name": "stderr",
          "text": [
            "Evaluating:   6%|▋         | 10/157 [00:00<00:03, 42.84it/s]\n"
          ]
        },
        {
          "output_type": "stream",
          "name": "stdout",
          "text": [
            "Evaluation Metrics:\n",
            "  Linear Eval Accuracy: 0.3121\n",
            "  NMI: 0.1840\n",
            "  ARI: 0.0884\n",
            "  Neighborhood Accuracy: 0.2011\n",
            "    Seed 789\n",
            "Training with ICon framework...\n"
          ]
        },
        {
          "output_type": "stream",
          "name": "stderr",
          "text": [
            "Epoch 1/10:   1%|▏         | 10/782 [00:00<01:14, 10.30it/s]\n"
          ]
        },
        {
          "output_type": "stream",
          "name": "stdout",
          "text": [
            "Epoch 1, Loss: 2.6907\n"
          ]
        },
        {
          "output_type": "stream",
          "name": "stderr",
          "text": [
            "Epoch 2/10:   1%|▏         | 10/782 [00:00<01:02, 12.32it/s]\n"
          ]
        },
        {
          "output_type": "stream",
          "name": "stdout",
          "text": [
            "Epoch 2, Loss: 2.5573\n"
          ]
        },
        {
          "output_type": "stream",
          "name": "stderr",
          "text": [
            "Epoch 3/10:   1%|▏         | 10/782 [00:00<01:09, 11.08it/s]\n"
          ]
        },
        {
          "output_type": "stream",
          "name": "stdout",
          "text": [
            "Epoch 3, Loss: 2.4718\n"
          ]
        },
        {
          "output_type": "stream",
          "name": "stderr",
          "text": [
            "Epoch 4/10:   1%|▏         | 10/782 [00:00<01:08, 11.29it/s]\n"
          ]
        },
        {
          "output_type": "stream",
          "name": "stdout",
          "text": [
            "Epoch 4, Loss: 2.4330\n"
          ]
        },
        {
          "output_type": "stream",
          "name": "stderr",
          "text": [
            "Epoch 5/10:   1%|▏         | 10/782 [00:00<01:04, 11.92it/s]\n"
          ]
        },
        {
          "output_type": "stream",
          "name": "stdout",
          "text": [
            "Epoch 5, Loss: 2.4186\n"
          ]
        },
        {
          "output_type": "stream",
          "name": "stderr",
          "text": [
            "Evaluating:   6%|▋         | 10/157 [00:00<00:03, 47.06it/s]\n"
          ]
        },
        {
          "output_type": "stream",
          "name": "stdout",
          "text": [
            "Evaluation Metrics:\n",
            "  Linear Eval Accuracy: 0.2766\n",
            "  NMI: 0.1492\n",
            "  ARI: 0.0729\n",
            "  Neighborhood Accuracy: 0.2153\n"
          ]
        },
        {
          "output_type": "stream",
          "name": "stderr",
          "text": [
            "Epoch 6/10:   1%|▏         | 10/782 [00:00<01:10, 10.95it/s]\n"
          ]
        },
        {
          "output_type": "stream",
          "name": "stdout",
          "text": [
            "Epoch 6, Loss: 2.3663\n"
          ]
        },
        {
          "output_type": "stream",
          "name": "stderr",
          "text": [
            "Epoch 7/10:   1%|▏         | 10/782 [00:00<01:10, 10.97it/s]\n"
          ]
        },
        {
          "output_type": "stream",
          "name": "stdout",
          "text": [
            "Epoch 7, Loss: 2.3835\n"
          ]
        },
        {
          "output_type": "stream",
          "name": "stderr",
          "text": [
            "Epoch 8/10:   1%|▏         | 10/782 [00:00<01:05, 11.73it/s]\n"
          ]
        },
        {
          "output_type": "stream",
          "name": "stdout",
          "text": [
            "Epoch 8, Loss: 2.3761\n"
          ]
        },
        {
          "output_type": "stream",
          "name": "stderr",
          "text": [
            "Epoch 9/10:   1%|▏         | 10/782 [00:00<01:02, 12.38it/s]\n"
          ]
        },
        {
          "output_type": "stream",
          "name": "stdout",
          "text": [
            "Epoch 9, Loss: 2.3353\n"
          ]
        },
        {
          "output_type": "stream",
          "name": "stderr",
          "text": [
            "Epoch 10/10:   1%|▏         | 10/782 [00:00<01:11, 10.84it/s]\n"
          ]
        },
        {
          "output_type": "stream",
          "name": "stdout",
          "text": [
            "Epoch 10, Loss: 2.3134\n"
          ]
        },
        {
          "output_type": "stream",
          "name": "stderr",
          "text": [
            "Evaluating:   6%|▋         | 10/157 [00:00<00:03, 45.72it/s]\n"
          ]
        },
        {
          "output_type": "stream",
          "name": "stdout",
          "text": [
            "Evaluation Metrics:\n",
            "  Linear Eval Accuracy: 0.2979\n",
            "  NMI: 0.1661\n",
            "  ARI: 0.0825\n",
            "  Neighborhood Accuracy: 0.2168\n",
            "Training complete!\n"
          ]
        },
        {
          "output_type": "stream",
          "name": "stderr",
          "text": [
            "Evaluating:   6%|▋         | 10/157 [00:00<00:03, 47.10it/s]\n"
          ]
        },
        {
          "output_type": "stream",
          "name": "stdout",
          "text": [
            "Evaluation Metrics:\n",
            "  Linear Eval Accuracy: 0.2979\n",
            "  NMI: 0.1661\n",
            "  ARI: 0.0825\n",
            "  Neighborhood Accuracy: 0.2168\n",
            "    Seed 101\n",
            "Training with ICon framework...\n"
          ]
        },
        {
          "output_type": "stream",
          "name": "stderr",
          "text": [
            "Epoch 1/10:   1%|▏         | 10/782 [00:00<01:16, 10.15it/s]\n"
          ]
        },
        {
          "output_type": "stream",
          "name": "stdout",
          "text": [
            "Epoch 1, Loss: 2.6793\n"
          ]
        },
        {
          "output_type": "stream",
          "name": "stderr",
          "text": [
            "Epoch 2/10:   1%|▏         | 10/782 [00:00<01:13, 10.45it/s]\n"
          ]
        },
        {
          "output_type": "stream",
          "name": "stdout",
          "text": [
            "Epoch 2, Loss: 2.5226\n"
          ]
        },
        {
          "output_type": "stream",
          "name": "stderr",
          "text": [
            "Epoch 3/10:   1%|▏         | 10/782 [00:00<01:07, 11.45it/s]\n"
          ]
        },
        {
          "output_type": "stream",
          "name": "stdout",
          "text": [
            "Epoch 3, Loss: 2.4940\n"
          ]
        },
        {
          "output_type": "stream",
          "name": "stderr",
          "text": [
            "Epoch 4/10:   1%|▏         | 10/782 [00:00<01:03, 12.21it/s]\n"
          ]
        },
        {
          "output_type": "stream",
          "name": "stdout",
          "text": [
            "Epoch 4, Loss: 2.4182\n"
          ]
        },
        {
          "output_type": "stream",
          "name": "stderr",
          "text": [
            "Epoch 5/10:   1%|▏         | 10/782 [00:00<01:11, 10.82it/s]\n"
          ]
        },
        {
          "output_type": "stream",
          "name": "stdout",
          "text": [
            "Epoch 5, Loss: 2.3801\n"
          ]
        },
        {
          "output_type": "stream",
          "name": "stderr",
          "text": [
            "Evaluating:   6%|▋         | 10/157 [00:00<00:02, 50.79it/s]\n"
          ]
        },
        {
          "output_type": "stream",
          "name": "stdout",
          "text": [
            "Evaluation Metrics:\n",
            "  Linear Eval Accuracy: 0.2979\n",
            "  NMI: 0.1638\n",
            "  ARI: 0.0736\n",
            "  Neighborhood Accuracy: 0.2062\n"
          ]
        },
        {
          "output_type": "stream",
          "name": "stderr",
          "text": [
            "Epoch 6/10:   1%|▏         | 10/782 [00:00<01:06, 11.61it/s]\n"
          ]
        },
        {
          "output_type": "stream",
          "name": "stdout",
          "text": [
            "Epoch 6, Loss: 2.3710\n"
          ]
        },
        {
          "output_type": "stream",
          "name": "stderr",
          "text": [
            "Epoch 7/10:   1%|▏         | 10/782 [00:00<01:05, 11.80it/s]\n"
          ]
        },
        {
          "output_type": "stream",
          "name": "stdout",
          "text": [
            "Epoch 7, Loss: 2.3136\n"
          ]
        },
        {
          "output_type": "stream",
          "name": "stderr",
          "text": [
            "Epoch 8/10:   1%|▏         | 10/782 [00:00<01:02, 12.35it/s]\n"
          ]
        },
        {
          "output_type": "stream",
          "name": "stdout",
          "text": [
            "Epoch 8, Loss: 2.3558\n"
          ]
        },
        {
          "output_type": "stream",
          "name": "stderr",
          "text": [
            "Epoch 9/10:   1%|▏         | 10/782 [00:00<01:11, 10.86it/s]\n"
          ]
        },
        {
          "output_type": "stream",
          "name": "stdout",
          "text": [
            "Epoch 9, Loss: 2.3264\n"
          ]
        },
        {
          "output_type": "stream",
          "name": "stderr",
          "text": [
            "Epoch 10/10:   1%|▏         | 10/782 [00:00<01:04, 11.90it/s]\n"
          ]
        },
        {
          "output_type": "stream",
          "name": "stdout",
          "text": [
            "Epoch 10, Loss: 2.2826\n"
          ]
        },
        {
          "output_type": "stream",
          "name": "stderr",
          "text": [
            "Evaluating:   6%|▋         | 10/157 [00:00<00:03, 48.70it/s]\n"
          ]
        },
        {
          "output_type": "stream",
          "name": "stdout",
          "text": [
            "Evaluation Metrics:\n",
            "  Linear Eval Accuracy: 0.3121\n",
            "  NMI: 0.1643\n",
            "  ARI: 0.0853\n",
            "  Neighborhood Accuracy: 0.2213\n",
            "Training complete!\n"
          ]
        },
        {
          "output_type": "stream",
          "name": "stderr",
          "text": [
            "Evaluating:   6%|▋         | 10/157 [00:00<00:03, 46.92it/s]\n"
          ]
        },
        {
          "output_type": "stream",
          "name": "stdout",
          "text": [
            "Evaluation Metrics:\n",
            "  Linear Eval Accuracy: 0.3121\n",
            "  NMI: 0.1643\n",
            "  ARI: 0.0853\n",
            "  Neighborhood Accuracy: 0.2213\n",
            "Running experiments on cifar100\n",
            "  Testing rdf framework\n",
            "    Seed 42\n"
          ]
        },
        {
          "output_type": "stream",
          "name": "stderr",
          "text": [
            "100%|██████████| 169M/169M [00:13<00:00, 12.6MB/s]\n"
          ]
        },
        {
          "output_type": "stream",
          "name": "stdout",
          "text": [
            "Training with RDF framework...\n"
          ]
        },
        {
          "output_type": "stream",
          "name": "stderr",
          "text": [
            "Epoch 1/10:   1%|▏         | 10/782 [00:01<01:45,  7.29it/s]\n"
          ]
        },
        {
          "output_type": "stream",
          "name": "stdout",
          "text": [
            "Epoch 1, Loss: 1.9051\n"
          ]
        },
        {
          "output_type": "stream",
          "name": "stderr",
          "text": [
            "Epoch 2/10:   1%|▏         | 10/782 [00:01<01:49,  7.07it/s]\n"
          ]
        },
        {
          "output_type": "stream",
          "name": "stdout",
          "text": [
            "Epoch 2, Loss: 1.8432\n"
          ]
        },
        {
          "output_type": "stream",
          "name": "stderr",
          "text": [
            "Epoch 3/10:   1%|▏         | 10/782 [00:01<01:46,  7.23it/s]\n"
          ]
        },
        {
          "output_type": "stream",
          "name": "stdout",
          "text": [
            "Epoch 3, Loss: 1.7364\n"
          ]
        },
        {
          "output_type": "stream",
          "name": "stderr",
          "text": [
            "Epoch 4/10:   1%|▏         | 10/782 [00:01<01:44,  7.36it/s]\n"
          ]
        },
        {
          "output_type": "stream",
          "name": "stdout",
          "text": [
            "Epoch 4, Loss: 1.6951\n"
          ]
        },
        {
          "output_type": "stream",
          "name": "stderr",
          "text": [
            "Epoch 5/10:   1%|▏         | 10/782 [00:01<01:52,  6.86it/s]\n"
          ]
        },
        {
          "output_type": "stream",
          "name": "stdout",
          "text": [
            "Epoch 5, Loss: 1.6971\n"
          ]
        },
        {
          "output_type": "stream",
          "name": "stderr",
          "text": [
            "Evaluating:   6%|▋         | 10/157 [00:00<00:03, 48.60it/s]\n"
          ]
        },
        {
          "output_type": "stream",
          "name": "stdout",
          "text": [
            "Evaluation Metrics:\n",
            "  Linear Eval Accuracy: 0.0213\n",
            "  NMI: 0.5678\n",
            "  ARI: 0.0212\n",
            "  Neighborhood Accuracy: 0.0287\n"
          ]
        },
        {
          "output_type": "stream",
          "name": "stderr",
          "text": [
            "Epoch 6/10:   1%|▏         | 10/782 [00:01<01:46,  7.26it/s]\n"
          ]
        },
        {
          "output_type": "stream",
          "name": "stdout",
          "text": [
            "Epoch 6, Loss: 1.6451\n"
          ]
        },
        {
          "output_type": "stream",
          "name": "stderr",
          "text": [
            "Epoch 7/10:   1%|▏         | 10/782 [00:01<01:44,  7.38it/s]\n"
          ]
        },
        {
          "output_type": "stream",
          "name": "stdout",
          "text": [
            "Epoch 7, Loss: 1.6106\n"
          ]
        },
        {
          "output_type": "stream",
          "name": "stderr",
          "text": [
            "Epoch 8/10:   1%|▏         | 10/782 [00:01<01:47,  7.17it/s]\n"
          ]
        },
        {
          "output_type": "stream",
          "name": "stdout",
          "text": [
            "Epoch 8, Loss: 1.6005\n"
          ]
        },
        {
          "output_type": "stream",
          "name": "stderr",
          "text": [
            "Epoch 9/10:   1%|▏         | 10/782 [00:01<01:48,  7.13it/s]\n"
          ]
        },
        {
          "output_type": "stream",
          "name": "stdout",
          "text": [
            "Epoch 9, Loss: 1.5961\n"
          ]
        },
        {
          "output_type": "stream",
          "name": "stderr",
          "text": [
            "Epoch 10/10:   1%|▏         | 10/782 [00:01<01:49,  7.05it/s]\n"
          ]
        },
        {
          "output_type": "stream",
          "name": "stdout",
          "text": [
            "Epoch 10, Loss: 1.5757\n"
          ]
        },
        {
          "output_type": "stream",
          "name": "stderr",
          "text": [
            "Evaluating:   6%|▋         | 10/157 [00:00<00:03, 45.14it/s]\n"
          ]
        },
        {
          "output_type": "stream",
          "name": "stdout",
          "text": [
            "Evaluation Metrics:\n",
            "  Linear Eval Accuracy: 0.0142\n",
            "  NMI: 0.5818\n",
            "  ARI: 0.0216\n",
            "  Neighborhood Accuracy: 0.0290\n",
            "Training complete!\n"
          ]
        },
        {
          "output_type": "stream",
          "name": "stderr",
          "text": [
            "Evaluating:   6%|▋         | 10/157 [00:00<00:03, 42.92it/s]\n"
          ]
        },
        {
          "output_type": "stream",
          "name": "stdout",
          "text": [
            "Evaluation Metrics:\n",
            "  Linear Eval Accuracy: 0.0142\n",
            "  NMI: 0.5818\n",
            "  ARI: 0.0216\n",
            "  Neighborhood Accuracy: 0.0290\n",
            "    Seed 123\n",
            "Training with RDF framework...\n"
          ]
        },
        {
          "output_type": "stream",
          "name": "stderr",
          "text": [
            "Epoch 1/10:   1%|▏         | 10/782 [00:01<01:45,  7.29it/s]\n"
          ]
        },
        {
          "output_type": "stream",
          "name": "stdout",
          "text": [
            "Epoch 1, Loss: 1.8992\n"
          ]
        },
        {
          "output_type": "stream",
          "name": "stderr",
          "text": [
            "Epoch 2/10:   1%|▏         | 10/782 [00:01<01:47,  7.19it/s]\n"
          ]
        },
        {
          "output_type": "stream",
          "name": "stdout",
          "text": [
            "Epoch 2, Loss: 1.7574\n"
          ]
        },
        {
          "output_type": "stream",
          "name": "stderr",
          "text": [
            "Epoch 3/10:   1%|▏         | 10/782 [00:01<01:44,  7.37it/s]\n"
          ]
        },
        {
          "output_type": "stream",
          "name": "stdout",
          "text": [
            "Epoch 3, Loss: 1.7106\n"
          ]
        },
        {
          "output_type": "stream",
          "name": "stderr",
          "text": [
            "Epoch 4/10:   1%|▏         | 10/782 [00:01<01:44,  7.37it/s]\n"
          ]
        },
        {
          "output_type": "stream",
          "name": "stdout",
          "text": [
            "Epoch 4, Loss: 1.6674\n"
          ]
        },
        {
          "output_type": "stream",
          "name": "stderr",
          "text": [
            "Epoch 5/10:   1%|▏         | 10/782 [00:01<01:43,  7.44it/s]\n"
          ]
        },
        {
          "output_type": "stream",
          "name": "stdout",
          "text": [
            "Epoch 5, Loss: 1.6725\n"
          ]
        },
        {
          "output_type": "stream",
          "name": "stderr",
          "text": [
            "Evaluating:   6%|▋         | 10/157 [00:00<00:03, 44.63it/s]\n"
          ]
        },
        {
          "output_type": "stream",
          "name": "stdout",
          "text": [
            "Evaluation Metrics:\n",
            "  Linear Eval Accuracy: 0.0213\n",
            "  NMI: 0.5782\n",
            "  ARI: 0.0221\n",
            "  Neighborhood Accuracy: 0.0273\n"
          ]
        },
        {
          "output_type": "stream",
          "name": "stderr",
          "text": [
            "Epoch 6/10:   1%|▏         | 10/782 [00:01<01:46,  7.24it/s]\n"
          ]
        },
        {
          "output_type": "stream",
          "name": "stdout",
          "text": [
            "Epoch 6, Loss: 1.6259\n"
          ]
        },
        {
          "output_type": "stream",
          "name": "stderr",
          "text": [
            "Epoch 7/10:   1%|▏         | 10/782 [00:01<01:46,  7.28it/s]\n"
          ]
        },
        {
          "output_type": "stream",
          "name": "stdout",
          "text": [
            "Epoch 7, Loss: 1.5935\n"
          ]
        },
        {
          "output_type": "stream",
          "name": "stderr",
          "text": [
            "Epoch 8/10:   1%|▏         | 10/782 [00:01<01:47,  7.17it/s]\n"
          ]
        },
        {
          "output_type": "stream",
          "name": "stdout",
          "text": [
            "Epoch 8, Loss: 1.5913\n"
          ]
        },
        {
          "output_type": "stream",
          "name": "stderr",
          "text": [
            "Epoch 9/10:   1%|▏         | 10/782 [00:01<01:45,  7.30it/s]\n"
          ]
        },
        {
          "output_type": "stream",
          "name": "stdout",
          "text": [
            "Epoch 9, Loss: 1.6080\n"
          ]
        },
        {
          "output_type": "stream",
          "name": "stderr",
          "text": [
            "Epoch 10/10:   1%|▏         | 10/782 [00:01<01:43,  7.49it/s]\n"
          ]
        },
        {
          "output_type": "stream",
          "name": "stdout",
          "text": [
            "Epoch 10, Loss: 1.5641\n"
          ]
        },
        {
          "output_type": "stream",
          "name": "stderr",
          "text": [
            "Evaluating:   6%|▋         | 10/157 [00:00<00:03, 47.20it/s]\n"
          ]
        },
        {
          "output_type": "stream",
          "name": "stdout",
          "text": [
            "Evaluation Metrics:\n",
            "  Linear Eval Accuracy: 0.0284\n",
            "  NMI: 0.5774\n",
            "  ARI: 0.0146\n",
            "  Neighborhood Accuracy: 0.0295\n",
            "Training complete!\n"
          ]
        },
        {
          "output_type": "stream",
          "name": "stderr",
          "text": [
            "Evaluating:   6%|▋         | 10/157 [00:00<00:03, 44.52it/s]\n"
          ]
        },
        {
          "output_type": "stream",
          "name": "stdout",
          "text": [
            "Evaluation Metrics:\n",
            "  Linear Eval Accuracy: 0.0284\n",
            "  NMI: 0.5774\n",
            "  ARI: 0.0146\n",
            "  Neighborhood Accuracy: 0.0295\n",
            "    Seed 456\n",
            "Training with RDF framework...\n"
          ]
        },
        {
          "output_type": "stream",
          "name": "stderr",
          "text": [
            "Epoch 1/10:   1%|▏         | 10/782 [00:01<01:44,  7.36it/s]\n"
          ]
        },
        {
          "output_type": "stream",
          "name": "stdout",
          "text": [
            "Epoch 1, Loss: 1.9131\n"
          ]
        },
        {
          "output_type": "stream",
          "name": "stderr",
          "text": [
            "Epoch 2/10:   1%|▏         | 10/782 [00:01<01:48,  7.14it/s]\n"
          ]
        },
        {
          "output_type": "stream",
          "name": "stdout",
          "text": [
            "Epoch 2, Loss: 1.7273\n"
          ]
        },
        {
          "output_type": "stream",
          "name": "stderr",
          "text": [
            "Epoch 3/10:   1%|▏         | 10/782 [00:01<01:44,  7.39it/s]\n"
          ]
        },
        {
          "output_type": "stream",
          "name": "stdout",
          "text": [
            "Epoch 3, Loss: 1.7276\n"
          ]
        },
        {
          "output_type": "stream",
          "name": "stderr",
          "text": [
            "Epoch 4/10:   1%|▏         | 10/782 [00:01<01:43,  7.47it/s]\n"
          ]
        },
        {
          "output_type": "stream",
          "name": "stdout",
          "text": [
            "Epoch 4, Loss: 1.6681\n"
          ]
        },
        {
          "output_type": "stream",
          "name": "stderr",
          "text": [
            "Epoch 5/10:   1%|▏         | 10/782 [00:01<01:40,  7.66it/s]\n"
          ]
        },
        {
          "output_type": "stream",
          "name": "stdout",
          "text": [
            "Epoch 5, Loss: 1.6132\n"
          ]
        },
        {
          "output_type": "stream",
          "name": "stderr",
          "text": [
            "Evaluating:   6%|▋         | 10/157 [00:00<00:03, 44.30it/s]\n"
          ]
        },
        {
          "output_type": "stream",
          "name": "stdout",
          "text": [
            "Evaluation Metrics:\n",
            "  Linear Eval Accuracy: 0.0213\n",
            "  NMI: 0.5695\n",
            "  ARI: 0.0103\n",
            "  Neighborhood Accuracy: 0.0264\n"
          ]
        },
        {
          "output_type": "stream",
          "name": "stderr",
          "text": [
            "Epoch 6/10:   1%|▏         | 10/782 [00:01<01:43,  7.43it/s]\n"
          ]
        },
        {
          "output_type": "stream",
          "name": "stdout",
          "text": [
            "Epoch 6, Loss: 1.6337\n"
          ]
        },
        {
          "output_type": "stream",
          "name": "stderr",
          "text": [
            "Epoch 7/10:   1%|▏         | 10/782 [00:01<01:43,  7.47it/s]\n"
          ]
        },
        {
          "output_type": "stream",
          "name": "stdout",
          "text": [
            "Epoch 7, Loss: 1.6309\n"
          ]
        },
        {
          "output_type": "stream",
          "name": "stderr",
          "text": [
            "Epoch 8/10:   1%|▏         | 10/782 [00:01<01:46,  7.28it/s]\n"
          ]
        },
        {
          "output_type": "stream",
          "name": "stdout",
          "text": [
            "Epoch 8, Loss: 1.6158\n"
          ]
        },
        {
          "output_type": "stream",
          "name": "stderr",
          "text": [
            "Epoch 9/10:   1%|▏         | 10/782 [00:01<01:50,  6.96it/s]\n"
          ]
        },
        {
          "output_type": "stream",
          "name": "stdout",
          "text": [
            "Epoch 9, Loss: 1.5580\n"
          ]
        },
        {
          "output_type": "stream",
          "name": "stderr",
          "text": [
            "Epoch 10/10:   1%|▏         | 10/782 [00:01<01:46,  7.25it/s]\n"
          ]
        },
        {
          "output_type": "stream",
          "name": "stdout",
          "text": [
            "Epoch 10, Loss: 1.5839\n"
          ]
        },
        {
          "output_type": "stream",
          "name": "stderr",
          "text": [
            "Evaluating:   6%|▋         | 10/157 [00:00<00:03, 44.10it/s]\n"
          ]
        },
        {
          "output_type": "stream",
          "name": "stdout",
          "text": [
            "Evaluation Metrics:\n",
            "  Linear Eval Accuracy: 0.0142\n",
            "  NMI: 0.5842\n",
            "  ARI: 0.0219\n",
            "  Neighborhood Accuracy: 0.0236\n",
            "Training complete!\n"
          ]
        },
        {
          "output_type": "stream",
          "name": "stderr",
          "text": [
            "Evaluating:   6%|▋         | 10/157 [00:00<00:03, 47.01it/s]\n"
          ]
        },
        {
          "output_type": "stream",
          "name": "stdout",
          "text": [
            "Evaluation Metrics:\n",
            "  Linear Eval Accuracy: 0.0142\n",
            "  NMI: 0.5842\n",
            "  ARI: 0.0219\n",
            "  Neighborhood Accuracy: 0.0236\n",
            "    Seed 789\n",
            "Training with RDF framework...\n"
          ]
        },
        {
          "output_type": "stream",
          "name": "stderr",
          "text": [
            "Epoch 1/10:   1%|▏         | 10/782 [00:01<01:42,  7.52it/s]\n"
          ]
        },
        {
          "output_type": "stream",
          "name": "stdout",
          "text": [
            "Epoch 1, Loss: 1.9206\n"
          ]
        },
        {
          "output_type": "stream",
          "name": "stderr",
          "text": [
            "Epoch 2/10:   1%|▏         | 10/782 [00:01<01:42,  7.55it/s]\n"
          ]
        },
        {
          "output_type": "stream",
          "name": "stdout",
          "text": [
            "Epoch 2, Loss: 1.7944\n"
          ]
        },
        {
          "output_type": "stream",
          "name": "stderr",
          "text": [
            "Epoch 3/10:   1%|▏         | 10/782 [00:01<01:47,  7.20it/s]\n"
          ]
        },
        {
          "output_type": "stream",
          "name": "stdout",
          "text": [
            "Epoch 3, Loss: 1.7768\n"
          ]
        },
        {
          "output_type": "stream",
          "name": "stderr",
          "text": [
            "Epoch 4/10:   1%|▏         | 10/782 [00:01<01:46,  7.25it/s]\n"
          ]
        },
        {
          "output_type": "stream",
          "name": "stdout",
          "text": [
            "Epoch 4, Loss: 1.7055\n"
          ]
        },
        {
          "output_type": "stream",
          "name": "stderr",
          "text": [
            "Epoch 5/10:   1%|▏         | 10/782 [00:01<01:50,  6.97it/s]\n"
          ]
        },
        {
          "output_type": "stream",
          "name": "stdout",
          "text": [
            "Epoch 5, Loss: 1.6723\n"
          ]
        },
        {
          "output_type": "stream",
          "name": "stderr",
          "text": [
            "Evaluating:   6%|▋         | 10/157 [00:00<00:03, 45.72it/s]\n"
          ]
        },
        {
          "output_type": "stream",
          "name": "stdout",
          "text": [
            "Evaluation Metrics:\n",
            "  Linear Eval Accuracy: 0.0213\n",
            "  NMI: 0.5844\n",
            "  ARI: 0.0258\n",
            "  Neighborhood Accuracy: 0.0304\n"
          ]
        },
        {
          "output_type": "stream",
          "name": "stderr",
          "text": [
            "Epoch 6/10:   1%|▏         | 10/782 [00:01<01:49,  7.03it/s]\n"
          ]
        },
        {
          "output_type": "stream",
          "name": "stdout",
          "text": [
            "Epoch 6, Loss: 1.6436\n"
          ]
        },
        {
          "output_type": "stream",
          "name": "stderr",
          "text": [
            "Epoch 7/10:   1%|▏         | 10/782 [00:01<01:43,  7.43it/s]\n"
          ]
        },
        {
          "output_type": "stream",
          "name": "stdout",
          "text": [
            "Epoch 7, Loss: 1.6281\n"
          ]
        },
        {
          "output_type": "stream",
          "name": "stderr",
          "text": [
            "Epoch 8/10:   1%|▏         | 10/782 [00:01<01:41,  7.57it/s]\n"
          ]
        },
        {
          "output_type": "stream",
          "name": "stdout",
          "text": [
            "Epoch 8, Loss: 1.6226\n"
          ]
        },
        {
          "output_type": "stream",
          "name": "stderr",
          "text": [
            "Epoch 9/10:   1%|▏         | 10/782 [00:01<01:46,  7.25it/s]\n"
          ]
        },
        {
          "output_type": "stream",
          "name": "stdout",
          "text": [
            "Epoch 9, Loss: 1.5665\n"
          ]
        },
        {
          "output_type": "stream",
          "name": "stderr",
          "text": [
            "Epoch 10/10:   1%|▏         | 10/782 [00:01<01:46,  7.23it/s]\n"
          ]
        },
        {
          "output_type": "stream",
          "name": "stdout",
          "text": [
            "Epoch 10, Loss: 1.5859\n"
          ]
        },
        {
          "output_type": "stream",
          "name": "stderr",
          "text": [
            "Evaluating:   6%|▋         | 10/157 [00:00<00:02, 49.64it/s]\n"
          ]
        },
        {
          "output_type": "stream",
          "name": "stdout",
          "text": [
            "Evaluation Metrics:\n",
            "  Linear Eval Accuracy: 0.0142\n",
            "  NMI: 0.5789\n",
            "  ARI: 0.0143\n",
            "  Neighborhood Accuracy: 0.0301\n",
            "Training complete!\n"
          ]
        },
        {
          "output_type": "stream",
          "name": "stderr",
          "text": [
            "Evaluating:   6%|▋         | 10/157 [00:00<00:03, 45.83it/s]\n"
          ]
        },
        {
          "output_type": "stream",
          "name": "stdout",
          "text": [
            "Evaluation Metrics:\n",
            "  Linear Eval Accuracy: 0.0142\n",
            "  NMI: 0.5789\n",
            "  ARI: 0.0143\n",
            "  Neighborhood Accuracy: 0.0301\n",
            "    Seed 101\n",
            "Training with RDF framework...\n"
          ]
        },
        {
          "output_type": "stream",
          "name": "stderr",
          "text": [
            "Epoch 1/10:   1%|▏         | 10/782 [00:01<01:49,  7.07it/s]\n"
          ]
        },
        {
          "output_type": "stream",
          "name": "stdout",
          "text": [
            "Epoch 1, Loss: 1.9563\n"
          ]
        },
        {
          "output_type": "stream",
          "name": "stderr",
          "text": [
            "Epoch 2/10:   1%|▏         | 10/782 [00:01<01:41,  7.57it/s]\n"
          ]
        },
        {
          "output_type": "stream",
          "name": "stdout",
          "text": [
            "Epoch 2, Loss: 1.8113\n"
          ]
        },
        {
          "output_type": "stream",
          "name": "stderr",
          "text": [
            "Epoch 3/10:   1%|▏         | 10/782 [00:01<01:49,  7.07it/s]\n"
          ]
        },
        {
          "output_type": "stream",
          "name": "stdout",
          "text": [
            "Epoch 3, Loss: 1.7072\n"
          ]
        },
        {
          "output_type": "stream",
          "name": "stderr",
          "text": [
            "Epoch 4/10:   1%|▏         | 10/782 [00:01<01:43,  7.45it/s]\n"
          ]
        },
        {
          "output_type": "stream",
          "name": "stdout",
          "text": [
            "Epoch 4, Loss: 1.6688\n"
          ]
        },
        {
          "output_type": "stream",
          "name": "stderr",
          "text": [
            "Epoch 5/10:   1%|▏         | 10/782 [00:01<01:46,  7.24it/s]\n"
          ]
        },
        {
          "output_type": "stream",
          "name": "stdout",
          "text": [
            "Epoch 5, Loss: 1.6397\n"
          ]
        },
        {
          "output_type": "stream",
          "name": "stderr",
          "text": [
            "Evaluating:   6%|▋         | 10/157 [00:00<00:03, 47.67it/s]\n"
          ]
        },
        {
          "output_type": "stream",
          "name": "stdout",
          "text": [
            "Evaluation Metrics:\n",
            "  Linear Eval Accuracy: 0.0355\n",
            "  NMI: 0.5816\n",
            "  ARI: 0.0233\n",
            "  Neighborhood Accuracy: 0.0352\n"
          ]
        },
        {
          "output_type": "stream",
          "name": "stderr",
          "text": [
            "Epoch 6/10:   1%|▏         | 10/782 [00:01<01:47,  7.15it/s]\n"
          ]
        },
        {
          "output_type": "stream",
          "name": "stdout",
          "text": [
            "Epoch 6, Loss: 1.6620\n"
          ]
        },
        {
          "output_type": "stream",
          "name": "stderr",
          "text": [
            "Epoch 7/10:   1%|▏         | 10/782 [00:01<01:47,  7.15it/s]\n"
          ]
        },
        {
          "output_type": "stream",
          "name": "stdout",
          "text": [
            "Epoch 7, Loss: 1.5443\n"
          ]
        },
        {
          "output_type": "stream",
          "name": "stderr",
          "text": [
            "Epoch 8/10:   1%|▏         | 10/782 [00:01<01:43,  7.44it/s]\n"
          ]
        },
        {
          "output_type": "stream",
          "name": "stdout",
          "text": [
            "Epoch 8, Loss: 1.5839\n"
          ]
        },
        {
          "output_type": "stream",
          "name": "stderr",
          "text": [
            "Epoch 9/10:   1%|▏         | 10/782 [00:01<01:42,  7.50it/s]\n"
          ]
        },
        {
          "output_type": "stream",
          "name": "stdout",
          "text": [
            "Epoch 9, Loss: 1.5550\n"
          ]
        },
        {
          "output_type": "stream",
          "name": "stderr",
          "text": [
            "Epoch 10/10:   1%|▏         | 10/782 [00:01<01:40,  7.65it/s]\n"
          ]
        },
        {
          "output_type": "stream",
          "name": "stdout",
          "text": [
            "Epoch 10, Loss: 1.5503\n"
          ]
        },
        {
          "output_type": "stream",
          "name": "stderr",
          "text": [
            "Evaluating:   6%|▋         | 10/157 [00:00<00:03, 48.24it/s]\n"
          ]
        },
        {
          "output_type": "stream",
          "name": "stdout",
          "text": [
            "Evaluation Metrics:\n",
            "  Linear Eval Accuracy: 0.0426\n",
            "  NMI: 0.5786\n",
            "  ARI: 0.0173\n",
            "  Neighborhood Accuracy: 0.0276\n",
            "Training complete!\n"
          ]
        },
        {
          "output_type": "stream",
          "name": "stderr",
          "text": [
            "Evaluating:   6%|▋         | 10/157 [00:00<00:03, 48.45it/s]\n"
          ]
        },
        {
          "output_type": "stream",
          "name": "stdout",
          "text": [
            "Evaluation Metrics:\n",
            "  Linear Eval Accuracy: 0.0426\n",
            "  NMI: 0.5786\n",
            "  ARI: 0.0173\n",
            "  Neighborhood Accuracy: 0.0276\n",
            "  Testing icon framework\n",
            "    Seed 42\n",
            "Training with ICon framework...\n"
          ]
        },
        {
          "output_type": "stream",
          "name": "stderr",
          "text": [
            "Epoch 1/10:   1%|▏         | 10/782 [00:00<01:04, 11.92it/s]\n"
          ]
        },
        {
          "output_type": "stream",
          "name": "stdout",
          "text": [
            "Epoch 1, Loss: 2.6334\n"
          ]
        },
        {
          "output_type": "stream",
          "name": "stderr",
          "text": [
            "Epoch 2/10:   1%|▏         | 10/782 [00:00<01:07, 11.40it/s]\n"
          ]
        },
        {
          "output_type": "stream",
          "name": "stdout",
          "text": [
            "Epoch 2, Loss: 2.5018\n"
          ]
        },
        {
          "output_type": "stream",
          "name": "stderr",
          "text": [
            "Epoch 3/10:   1%|▏         | 10/782 [00:00<01:07, 11.38it/s]\n"
          ]
        },
        {
          "output_type": "stream",
          "name": "stdout",
          "text": [
            "Epoch 3, Loss: 2.4358\n"
          ]
        },
        {
          "output_type": "stream",
          "name": "stderr",
          "text": [
            "Epoch 4/10:   1%|▏         | 10/782 [00:00<01:09, 11.16it/s]\n"
          ]
        },
        {
          "output_type": "stream",
          "name": "stdout",
          "text": [
            "Epoch 4, Loss: 2.3469\n"
          ]
        },
        {
          "output_type": "stream",
          "name": "stderr",
          "text": [
            "Epoch 5/10:   1%|▏         | 10/782 [00:00<01:04, 12.03it/s]\n"
          ]
        },
        {
          "output_type": "stream",
          "name": "stdout",
          "text": [
            "Epoch 5, Loss: 2.3552\n"
          ]
        },
        {
          "output_type": "stream",
          "name": "stderr",
          "text": [
            "Evaluating:   6%|▋         | 10/157 [00:00<00:03, 47.89it/s]\n"
          ]
        },
        {
          "output_type": "stream",
          "name": "stdout",
          "text": [
            "Evaluation Metrics:\n",
            "  Linear Eval Accuracy: 0.0213\n",
            "  NMI: 0.5695\n",
            "  ARI: 0.0183\n",
            "  Neighborhood Accuracy: 0.0284\n"
          ]
        },
        {
          "output_type": "stream",
          "name": "stderr",
          "text": [
            "Epoch 6/10:   1%|▏         | 10/782 [00:00<01:04, 11.89it/s]\n"
          ]
        },
        {
          "output_type": "stream",
          "name": "stdout",
          "text": [
            "Epoch 6, Loss: 2.3630\n"
          ]
        },
        {
          "output_type": "stream",
          "name": "stderr",
          "text": [
            "Epoch 7/10:   1%|▏         | 10/782 [00:00<01:10, 10.89it/s]\n"
          ]
        },
        {
          "output_type": "stream",
          "name": "stdout",
          "text": [
            "Epoch 7, Loss: 2.3115\n"
          ]
        },
        {
          "output_type": "stream",
          "name": "stderr",
          "text": [
            "Epoch 8/10:   1%|▏         | 10/782 [00:00<01:14, 10.36it/s]\n"
          ]
        },
        {
          "output_type": "stream",
          "name": "stdout",
          "text": [
            "Epoch 8, Loss: 2.3100\n"
          ]
        },
        {
          "output_type": "stream",
          "name": "stderr",
          "text": [
            "Epoch 9/10:   1%|▏         | 10/782 [00:00<01:05, 11.79it/s]\n"
          ]
        },
        {
          "output_type": "stream",
          "name": "stdout",
          "text": [
            "Epoch 9, Loss: 2.2587\n"
          ]
        },
        {
          "output_type": "stream",
          "name": "stderr",
          "text": [
            "Epoch 10/10:   1%|▏         | 10/782 [00:00<01:07, 11.47it/s]\n"
          ]
        },
        {
          "output_type": "stream",
          "name": "stdout",
          "text": [
            "Epoch 10, Loss: 2.2694\n"
          ]
        },
        {
          "output_type": "stream",
          "name": "stderr",
          "text": [
            "Evaluating:   6%|▋         | 10/157 [00:00<00:03, 42.69it/s]\n"
          ]
        },
        {
          "output_type": "stream",
          "name": "stdout",
          "text": [
            "Evaluation Metrics:\n",
            "  Linear Eval Accuracy: 0.0142\n",
            "  NMI: 0.5837\n",
            "  ARI: 0.0185\n",
            "  Neighborhood Accuracy: 0.0310\n",
            "Training complete!\n"
          ]
        },
        {
          "output_type": "stream",
          "name": "stderr",
          "text": [
            "Evaluating:   6%|▋         | 10/157 [00:00<00:03, 45.61it/s]\n"
          ]
        },
        {
          "output_type": "stream",
          "name": "stdout",
          "text": [
            "Evaluation Metrics:\n",
            "  Linear Eval Accuracy: 0.0142\n",
            "  NMI: 0.5837\n",
            "  ARI: 0.0185\n",
            "  Neighborhood Accuracy: 0.0310\n",
            "    Seed 123\n",
            "Training with ICon framework...\n"
          ]
        },
        {
          "output_type": "stream",
          "name": "stderr",
          "text": [
            "Epoch 1/10:   1%|▏         | 10/782 [00:00<01:07, 11.38it/s]\n"
          ]
        },
        {
          "output_type": "stream",
          "name": "stdout",
          "text": [
            "Epoch 1, Loss: 2.6116\n"
          ]
        },
        {
          "output_type": "stream",
          "name": "stderr",
          "text": [
            "Epoch 2/10:   1%|▏         | 10/782 [00:00<01:11, 10.75it/s]\n"
          ]
        },
        {
          "output_type": "stream",
          "name": "stdout",
          "text": [
            "Epoch 2, Loss: 2.5072\n"
          ]
        },
        {
          "output_type": "stream",
          "name": "stderr",
          "text": [
            "Epoch 3/10:   1%|▏         | 10/782 [00:00<01:07, 11.47it/s]\n"
          ]
        },
        {
          "output_type": "stream",
          "name": "stdout",
          "text": [
            "Epoch 3, Loss: 2.4389\n"
          ]
        },
        {
          "output_type": "stream",
          "name": "stderr",
          "text": [
            "Epoch 4/10:   1%|▏         | 10/782 [00:00<01:07, 11.45it/s]\n"
          ]
        },
        {
          "output_type": "stream",
          "name": "stdout",
          "text": [
            "Epoch 4, Loss: 2.3949\n"
          ]
        },
        {
          "output_type": "stream",
          "name": "stderr",
          "text": [
            "Epoch 5/10:   1%|▏         | 10/782 [00:00<01:14, 10.36it/s]\n"
          ]
        },
        {
          "output_type": "stream",
          "name": "stdout",
          "text": [
            "Epoch 5, Loss: 2.3689\n"
          ]
        },
        {
          "output_type": "stream",
          "name": "stderr",
          "text": [
            "Evaluating:   6%|▋         | 10/157 [00:00<00:03, 42.96it/s]\n"
          ]
        },
        {
          "output_type": "stream",
          "name": "stdout",
          "text": [
            "Evaluation Metrics:\n",
            "  Linear Eval Accuracy: 0.0142\n",
            "  NMI: 0.5791\n",
            "  ARI: 0.0202\n",
            "  Neighborhood Accuracy: 0.0293\n"
          ]
        },
        {
          "output_type": "stream",
          "name": "stderr",
          "text": [
            "Epoch 6/10:   1%|▏         | 10/782 [00:00<01:04, 11.95it/s]\n"
          ]
        },
        {
          "output_type": "stream",
          "name": "stdout",
          "text": [
            "Epoch 6, Loss: 2.3409\n"
          ]
        },
        {
          "output_type": "stream",
          "name": "stderr",
          "text": [
            "Epoch 7/10:   1%|▏         | 10/782 [00:00<01:10, 10.92it/s]\n"
          ]
        },
        {
          "output_type": "stream",
          "name": "stdout",
          "text": [
            "Epoch 7, Loss: 2.3651\n"
          ]
        },
        {
          "output_type": "stream",
          "name": "stderr",
          "text": [
            "Epoch 8/10:   1%|▏         | 10/782 [00:00<01:07, 11.47it/s]\n"
          ]
        },
        {
          "output_type": "stream",
          "name": "stdout",
          "text": [
            "Epoch 8, Loss: 2.3172\n"
          ]
        },
        {
          "output_type": "stream",
          "name": "stderr",
          "text": [
            "Epoch 9/10:   1%|▏         | 10/782 [00:00<01:10, 10.88it/s]\n"
          ]
        },
        {
          "output_type": "stream",
          "name": "stdout",
          "text": [
            "Epoch 9, Loss: 2.3194\n"
          ]
        },
        {
          "output_type": "stream",
          "name": "stderr",
          "text": [
            "Epoch 10/10:   1%|▏         | 10/782 [00:00<01:04, 11.89it/s]\n"
          ]
        },
        {
          "output_type": "stream",
          "name": "stdout",
          "text": [
            "Epoch 10, Loss: 2.2963\n"
          ]
        },
        {
          "output_type": "stream",
          "name": "stderr",
          "text": [
            "Evaluating:   6%|▋         | 10/157 [00:00<00:03, 46.90it/s]\n"
          ]
        },
        {
          "output_type": "stream",
          "name": "stdout",
          "text": [
            "Evaluation Metrics:\n",
            "  Linear Eval Accuracy: 0.0142\n",
            "  NMI: 0.5781\n",
            "  ARI: 0.0150\n",
            "  Neighborhood Accuracy: 0.0321\n",
            "Training complete!\n"
          ]
        },
        {
          "output_type": "stream",
          "name": "stderr",
          "text": [
            "Evaluating:   6%|▋         | 10/157 [00:00<00:03, 42.72it/s]\n"
          ]
        },
        {
          "output_type": "stream",
          "name": "stdout",
          "text": [
            "Evaluation Metrics:\n",
            "  Linear Eval Accuracy: 0.0142\n",
            "  NMI: 0.5781\n",
            "  ARI: 0.0150\n",
            "  Neighborhood Accuracy: 0.0321\n",
            "    Seed 456\n",
            "Training with ICon framework...\n"
          ]
        },
        {
          "output_type": "stream",
          "name": "stderr",
          "text": [
            "Epoch 1/10:   1%|▏         | 10/782 [00:00<01:07, 11.41it/s]\n"
          ]
        },
        {
          "output_type": "stream",
          "name": "stdout",
          "text": [
            "Epoch 1, Loss: 2.6430\n"
          ]
        },
        {
          "output_type": "stream",
          "name": "stderr",
          "text": [
            "Epoch 2/10:   1%|▏         | 10/782 [00:00<01:04, 12.04it/s]\n"
          ]
        },
        {
          "output_type": "stream",
          "name": "stdout",
          "text": [
            "Epoch 2, Loss: 2.4921\n"
          ]
        },
        {
          "output_type": "stream",
          "name": "stderr",
          "text": [
            "Epoch 3/10:   1%|▏         | 10/782 [00:00<01:09, 11.04it/s]\n"
          ]
        },
        {
          "output_type": "stream",
          "name": "stdout",
          "text": [
            "Epoch 3, Loss: 2.4478\n"
          ]
        },
        {
          "output_type": "stream",
          "name": "stderr",
          "text": [
            "Epoch 4/10:   1%|▏         | 10/782 [00:00<01:04, 11.99it/s]\n"
          ]
        },
        {
          "output_type": "stream",
          "name": "stdout",
          "text": [
            "Epoch 4, Loss: 2.4076\n"
          ]
        },
        {
          "output_type": "stream",
          "name": "stderr",
          "text": [
            "Epoch 5/10:   1%|▏         | 10/782 [00:00<01:04, 11.89it/s]\n"
          ]
        },
        {
          "output_type": "stream",
          "name": "stdout",
          "text": [
            "Epoch 5, Loss: 2.3337\n"
          ]
        },
        {
          "output_type": "stream",
          "name": "stderr",
          "text": [
            "Evaluating:   6%|▋         | 10/157 [00:00<00:02, 50.52it/s]\n"
          ]
        },
        {
          "output_type": "stream",
          "name": "stdout",
          "text": [
            "Evaluation Metrics:\n",
            "  Linear Eval Accuracy: 0.0213\n",
            "  NMI: 0.5700\n",
            "  ARI: 0.0115\n",
            "  Neighborhood Accuracy: 0.0250\n"
          ]
        },
        {
          "output_type": "stream",
          "name": "stderr",
          "text": [
            "Epoch 6/10:   1%|▏         | 10/782 [00:00<01:12, 10.68it/s]\n"
          ]
        },
        {
          "output_type": "stream",
          "name": "stdout",
          "text": [
            "Epoch 6, Loss: 2.3543\n"
          ]
        },
        {
          "output_type": "stream",
          "name": "stderr",
          "text": [
            "Epoch 7/10:   1%|▏         | 10/782 [00:00<01:08, 11.24it/s]\n"
          ]
        },
        {
          "output_type": "stream",
          "name": "stdout",
          "text": [
            "Epoch 7, Loss: 2.3223\n"
          ]
        },
        {
          "output_type": "stream",
          "name": "stderr",
          "text": [
            "Epoch 8/10:   1%|▏         | 10/782 [00:00<01:12, 10.69it/s]\n"
          ]
        },
        {
          "output_type": "stream",
          "name": "stdout",
          "text": [
            "Epoch 8, Loss: 2.3368\n"
          ]
        },
        {
          "output_type": "stream",
          "name": "stderr",
          "text": [
            "Epoch 9/10:   1%|▏         | 10/782 [00:00<01:08, 11.22it/s]\n"
          ]
        },
        {
          "output_type": "stream",
          "name": "stdout",
          "text": [
            "Epoch 9, Loss: 2.2717\n"
          ]
        },
        {
          "output_type": "stream",
          "name": "stderr",
          "text": [
            "Epoch 10/10:   1%|▏         | 10/782 [00:00<01:11, 10.80it/s]\n"
          ]
        },
        {
          "output_type": "stream",
          "name": "stdout",
          "text": [
            "Epoch 10, Loss: 2.3170\n"
          ]
        },
        {
          "output_type": "stream",
          "name": "stderr",
          "text": [
            "Evaluating:   6%|▋         | 10/157 [00:00<00:02, 50.05it/s]\n"
          ]
        },
        {
          "output_type": "stream",
          "name": "stdout",
          "text": [
            "Evaluation Metrics:\n",
            "  Linear Eval Accuracy: 0.0213\n",
            "  NMI: 0.5846\n",
            "  ARI: 0.0216\n",
            "  Neighborhood Accuracy: 0.0304\n",
            "Training complete!\n"
          ]
        },
        {
          "output_type": "stream",
          "name": "stderr",
          "text": [
            "Evaluating:   6%|▋         | 10/157 [00:00<00:03, 44.71it/s]\n"
          ]
        },
        {
          "output_type": "stream",
          "name": "stdout",
          "text": [
            "Evaluation Metrics:\n",
            "  Linear Eval Accuracy: 0.0213\n",
            "  NMI: 0.5846\n",
            "  ARI: 0.0216\n",
            "  Neighborhood Accuracy: 0.0304\n",
            "    Seed 789\n",
            "Training with ICon framework...\n"
          ]
        },
        {
          "output_type": "stream",
          "name": "stderr",
          "text": [
            "Epoch 1/10:   1%|▏         | 10/782 [00:00<01:03, 12.25it/s]\n"
          ]
        },
        {
          "output_type": "stream",
          "name": "stdout",
          "text": [
            "Epoch 1, Loss: 2.6328\n"
          ]
        },
        {
          "output_type": "stream",
          "name": "stderr",
          "text": [
            "Epoch 2/10:   1%|▏         | 10/782 [00:00<01:13, 10.50it/s]\n"
          ]
        },
        {
          "output_type": "stream",
          "name": "stdout",
          "text": [
            "Epoch 2, Loss: 2.4928\n"
          ]
        },
        {
          "output_type": "stream",
          "name": "stderr",
          "text": [
            "Epoch 3/10:   1%|▏         | 10/782 [00:00<01:05, 11.86it/s]\n"
          ]
        },
        {
          "output_type": "stream",
          "name": "stdout",
          "text": [
            "Epoch 3, Loss: 2.4752\n"
          ]
        },
        {
          "output_type": "stream",
          "name": "stderr",
          "text": [
            "Epoch 4/10:   1%|▏         | 10/782 [00:00<01:05, 11.76it/s]\n"
          ]
        },
        {
          "output_type": "stream",
          "name": "stdout",
          "text": [
            "Epoch 4, Loss: 2.3915\n"
          ]
        },
        {
          "output_type": "stream",
          "name": "stderr",
          "text": [
            "Epoch 5/10:   1%|▏         | 10/782 [00:00<01:04, 12.02it/s]\n"
          ]
        },
        {
          "output_type": "stream",
          "name": "stdout",
          "text": [
            "Epoch 5, Loss: 2.3732\n"
          ]
        },
        {
          "output_type": "stream",
          "name": "stderr",
          "text": [
            "Evaluating:   6%|▋         | 10/157 [00:00<00:02, 50.44it/s]\n"
          ]
        },
        {
          "output_type": "stream",
          "name": "stdout",
          "text": [
            "Evaluation Metrics:\n",
            "  Linear Eval Accuracy: 0.0213\n",
            "  NMI: 0.5759\n",
            "  ARI: 0.0159\n",
            "  Neighborhood Accuracy: 0.0256\n"
          ]
        },
        {
          "output_type": "stream",
          "name": "stderr",
          "text": [
            "Epoch 6/10:   1%|▏         | 10/782 [00:00<01:13, 10.47it/s]\n"
          ]
        },
        {
          "output_type": "stream",
          "name": "stdout",
          "text": [
            "Epoch 6, Loss: 2.3191\n"
          ]
        },
        {
          "output_type": "stream",
          "name": "stderr",
          "text": [
            "Epoch 7/10:   1%|▏         | 10/782 [00:01<01:36,  7.98it/s]\n"
          ]
        },
        {
          "output_type": "stream",
          "name": "stdout",
          "text": [
            "Epoch 7, Loss: 2.2952\n"
          ]
        },
        {
          "output_type": "stream",
          "name": "stderr",
          "text": [
            "Epoch 8/10:   1%|▏         | 10/782 [00:00<01:04, 11.91it/s]\n"
          ]
        },
        {
          "output_type": "stream",
          "name": "stdout",
          "text": [
            "Epoch 8, Loss: 2.3164\n"
          ]
        },
        {
          "output_type": "stream",
          "name": "stderr",
          "text": [
            "Epoch 9/10:   1%|▏         | 10/782 [00:00<01:02, 12.30it/s]\n"
          ]
        },
        {
          "output_type": "stream",
          "name": "stdout",
          "text": [
            "Epoch 9, Loss: 2.2907\n"
          ]
        },
        {
          "output_type": "stream",
          "name": "stderr",
          "text": [
            "Epoch 10/10:   1%|▏         | 10/782 [00:00<01:01, 12.57it/s]\n"
          ]
        },
        {
          "output_type": "stream",
          "name": "stdout",
          "text": [
            "Epoch 10, Loss: 2.2724\n"
          ]
        },
        {
          "output_type": "stream",
          "name": "stderr",
          "text": [
            "Evaluating:   6%|▋         | 10/157 [00:00<00:03, 48.88it/s]\n"
          ]
        },
        {
          "output_type": "stream",
          "name": "stdout",
          "text": [
            "Evaluation Metrics:\n",
            "  Linear Eval Accuracy: 0.0213\n",
            "  NMI: 0.5803\n",
            "  ARI: 0.0213\n",
            "  Neighborhood Accuracy: 0.0276\n",
            "Training complete!\n"
          ]
        },
        {
          "output_type": "stream",
          "name": "stderr",
          "text": [
            "Evaluating:   6%|▋         | 10/157 [00:00<00:03, 47.21it/s]\n"
          ]
        },
        {
          "output_type": "stream",
          "name": "stdout",
          "text": [
            "Evaluation Metrics:\n",
            "  Linear Eval Accuracy: 0.0213\n",
            "  NMI: 0.5803\n",
            "  ARI: 0.0213\n",
            "  Neighborhood Accuracy: 0.0276\n",
            "    Seed 101\n",
            "Training with ICon framework...\n"
          ]
        },
        {
          "output_type": "stream",
          "name": "stderr",
          "text": [
            "Epoch 1/10:   1%|▏         | 10/782 [00:00<01:03, 12.16it/s]\n"
          ]
        },
        {
          "output_type": "stream",
          "name": "stdout",
          "text": [
            "Epoch 1, Loss: 2.6827\n"
          ]
        },
        {
          "output_type": "stream",
          "name": "stderr",
          "text": [
            "Epoch 2/10:   1%|▏         | 10/782 [00:00<01:13, 10.44it/s]\n"
          ]
        },
        {
          "output_type": "stream",
          "name": "stdout",
          "text": [
            "Epoch 2, Loss: 2.5745\n"
          ]
        },
        {
          "output_type": "stream",
          "name": "stderr",
          "text": [
            "Epoch 3/10:   1%|▏         | 10/782 [00:00<01:05, 11.73it/s]\n"
          ]
        },
        {
          "output_type": "stream",
          "name": "stdout",
          "text": [
            "Epoch 3, Loss: 2.4191\n"
          ]
        },
        {
          "output_type": "stream",
          "name": "stderr",
          "text": [
            "Epoch 4/10:   1%|▏         | 10/782 [00:00<01:09, 11.06it/s]\n"
          ]
        },
        {
          "output_type": "stream",
          "name": "stdout",
          "text": [
            "Epoch 4, Loss: 2.4198\n"
          ]
        },
        {
          "output_type": "stream",
          "name": "stderr",
          "text": [
            "Epoch 5/10:   1%|▏         | 10/782 [00:00<01:07, 11.49it/s]\n"
          ]
        },
        {
          "output_type": "stream",
          "name": "stdout",
          "text": [
            "Epoch 5, Loss: 2.3954\n"
          ]
        },
        {
          "output_type": "stream",
          "name": "stderr",
          "text": [
            "Evaluating:   6%|▋         | 10/157 [00:00<00:03, 42.48it/s]\n"
          ]
        },
        {
          "output_type": "stream",
          "name": "stdout",
          "text": [
            "Evaluation Metrics:\n",
            "  Linear Eval Accuracy: 0.0284\n",
            "  NMI: 0.5792\n",
            "  ARI: 0.0187\n",
            "  Neighborhood Accuracy: 0.0290\n"
          ]
        },
        {
          "output_type": "stream",
          "name": "stderr",
          "text": [
            "Epoch 6/10:   1%|▏         | 10/782 [00:00<01:05, 11.84it/s]\n"
          ]
        },
        {
          "output_type": "stream",
          "name": "stdout",
          "text": [
            "Epoch 6, Loss: 2.4166\n"
          ]
        },
        {
          "output_type": "stream",
          "name": "stderr",
          "text": [
            "Epoch 7/10:   1%|▏         | 10/782 [00:00<01:03, 12.07it/s]\n"
          ]
        },
        {
          "output_type": "stream",
          "name": "stdout",
          "text": [
            "Epoch 7, Loss: 2.3205\n"
          ]
        },
        {
          "output_type": "stream",
          "name": "stderr",
          "text": [
            "Epoch 8/10:   1%|▏         | 10/782 [00:00<01:09, 11.11it/s]\n"
          ]
        },
        {
          "output_type": "stream",
          "name": "stdout",
          "text": [
            "Epoch 8, Loss: 2.2994\n"
          ]
        },
        {
          "output_type": "stream",
          "name": "stderr",
          "text": [
            "Epoch 9/10:   1%|▏         | 10/782 [00:00<01:04, 12.04it/s]\n"
          ]
        },
        {
          "output_type": "stream",
          "name": "stdout",
          "text": [
            "Epoch 9, Loss: 2.2773\n"
          ]
        },
        {
          "output_type": "stream",
          "name": "stderr",
          "text": [
            "Epoch 10/10:   1%|▏         | 10/782 [00:00<01:04, 12.05it/s]\n"
          ]
        },
        {
          "output_type": "stream",
          "name": "stdout",
          "text": [
            "Epoch 10, Loss: 2.2735\n"
          ]
        },
        {
          "output_type": "stream",
          "name": "stderr",
          "text": [
            "Evaluating:   6%|▋         | 10/157 [00:00<00:02, 49.82it/s]\n"
          ]
        },
        {
          "output_type": "stream",
          "name": "stdout",
          "text": [
            "Evaluation Metrics:\n",
            "  Linear Eval Accuracy: 0.0284\n",
            "  NMI: 0.5834\n",
            "  ARI: 0.0191\n",
            "  Neighborhood Accuracy: 0.0278\n",
            "Training complete!\n"
          ]
        },
        {
          "output_type": "stream",
          "name": "stderr",
          "text": [
            "Evaluating:   6%|▋         | 10/157 [00:00<00:03, 48.55it/s]\n"
          ]
        },
        {
          "output_type": "stream",
          "name": "stdout",
          "text": [
            "Evaluation Metrics:\n",
            "  Linear Eval Accuracy: 0.0284\n",
            "  NMI: 0.5834\n",
            "  ARI: 0.0191\n",
            "  Neighborhood Accuracy: 0.0278\n",
            "Running experiments on stl10\n",
            "  Testing rdf framework\n",
            "    Seed 42\n"
          ]
        },
        {
          "output_type": "stream",
          "name": "stderr",
          "text": [
            "100%|██████████| 2.64G/2.64G [02:53<00:00, 15.2MB/s]\n"
          ]
        },
        {
          "output_type": "stream",
          "name": "stdout",
          "text": [
            "Training with RDF framework...\n"
          ]
        },
        {
          "output_type": "stream",
          "name": "stderr",
          "text": [
            "Epoch 1/10:   6%|▋         | 10/157 [00:01<00:15,  9.28it/s]\n"
          ]
        },
        {
          "output_type": "stream",
          "name": "stdout",
          "text": [
            "Epoch 1, Loss: 1.5960\n"
          ]
        },
        {
          "output_type": "stream",
          "name": "stderr",
          "text": [
            "Epoch 2/10:   6%|▋         | 10/157 [00:00<00:14, 10.30it/s]\n"
          ]
        },
        {
          "output_type": "stream",
          "name": "stdout",
          "text": [
            "Epoch 2, Loss: 1.5019\n"
          ]
        },
        {
          "output_type": "stream",
          "name": "stderr",
          "text": [
            "Epoch 3/10:   6%|▋         | 10/157 [00:00<00:14, 10.42it/s]\n"
          ]
        },
        {
          "output_type": "stream",
          "name": "stdout",
          "text": [
            "Epoch 3, Loss: 1.4901\n"
          ]
        },
        {
          "output_type": "stream",
          "name": "stderr",
          "text": [
            "Epoch 4/10:   6%|▋         | 10/157 [00:00<00:14, 10.28it/s]\n"
          ]
        },
        {
          "output_type": "stream",
          "name": "stdout",
          "text": [
            "Epoch 4, Loss: 1.4929\n"
          ]
        },
        {
          "output_type": "stream",
          "name": "stderr",
          "text": [
            "Epoch 5/10:   6%|▋         | 10/157 [00:00<00:13, 10.72it/s]\n"
          ]
        },
        {
          "output_type": "stream",
          "name": "stdout",
          "text": [
            "Epoch 5, Loss: 1.4441\n"
          ]
        },
        {
          "output_type": "stream",
          "name": "stderr",
          "text": [
            "Evaluating:   4%|▍         | 10/250 [00:00<00:05, 40.63it/s]\n"
          ]
        },
        {
          "output_type": "stream",
          "name": "stdout",
          "text": [
            "Evaluation Metrics:\n",
            "  Linear Eval Accuracy: 0.0845\n",
            "  NMI: 0.1103\n",
            "  ARI: 0.0277\n",
            "  Neighborhood Accuracy: 0.1455\n"
          ]
        },
        {
          "output_type": "stream",
          "name": "stderr",
          "text": [
            "Epoch 6/10:   6%|▋         | 10/157 [00:00<00:14, 10.30it/s]\n"
          ]
        },
        {
          "output_type": "stream",
          "name": "stdout",
          "text": [
            "Epoch 6, Loss: 1.4719\n"
          ]
        },
        {
          "output_type": "stream",
          "name": "stderr",
          "text": [
            "Epoch 7/10:   6%|▋         | 10/157 [00:01<00:15,  9.70it/s]\n"
          ]
        },
        {
          "output_type": "stream",
          "name": "stdout",
          "text": [
            "Epoch 7, Loss: 1.4560\n"
          ]
        },
        {
          "output_type": "stream",
          "name": "stderr",
          "text": [
            "Epoch 8/10:   6%|▋         | 10/157 [00:00<00:14, 10.29it/s]\n"
          ]
        },
        {
          "output_type": "stream",
          "name": "stdout",
          "text": [
            "Epoch 8, Loss: 1.4127\n"
          ]
        },
        {
          "output_type": "stream",
          "name": "stderr",
          "text": [
            "Epoch 9/10:   6%|▋         | 10/157 [00:00<00:13, 10.65it/s]\n"
          ]
        },
        {
          "output_type": "stream",
          "name": "stdout",
          "text": [
            "Epoch 9, Loss: 1.3543\n"
          ]
        },
        {
          "output_type": "stream",
          "name": "stderr",
          "text": [
            "Epoch 10/10:   6%|▋         | 10/157 [00:00<00:14, 10.08it/s]\n"
          ]
        },
        {
          "output_type": "stream",
          "name": "stdout",
          "text": [
            "Epoch 10, Loss: 1.3308\n"
          ]
        },
        {
          "output_type": "stream",
          "name": "stderr",
          "text": [
            "Evaluating:   4%|▍         | 10/250 [00:00<00:05, 41.79it/s]\n"
          ]
        },
        {
          "output_type": "stream",
          "name": "stdout",
          "text": [
            "Evaluation Metrics:\n",
            "  Linear Eval Accuracy: 0.1549\n",
            "  NMI: 0.1969\n",
            "  ARI: 0.0803\n",
            "  Neighborhood Accuracy: 0.1807\n",
            "Training complete!\n"
          ]
        },
        {
          "output_type": "stream",
          "name": "stderr",
          "text": [
            "Evaluating:   4%|▍         | 10/250 [00:00<00:05, 43.10it/s]\n"
          ]
        },
        {
          "output_type": "stream",
          "name": "stdout",
          "text": [
            "Evaluation Metrics:\n",
            "  Linear Eval Accuracy: 0.1549\n",
            "  NMI: 0.1969\n",
            "  ARI: 0.0803\n",
            "  Neighborhood Accuracy: 0.1807\n",
            "    Seed 123\n",
            "Training with RDF framework...\n"
          ]
        },
        {
          "output_type": "stream",
          "name": "stderr",
          "text": [
            "Epoch 1/10:   6%|▋         | 10/157 [00:00<00:14, 10.09it/s]\n"
          ]
        },
        {
          "output_type": "stream",
          "name": "stdout",
          "text": [
            "Epoch 1, Loss: 1.5454\n"
          ]
        },
        {
          "output_type": "stream",
          "name": "stderr",
          "text": [
            "Epoch 2/10:   6%|▋         | 10/157 [00:00<00:14, 10.17it/s]\n"
          ]
        },
        {
          "output_type": "stream",
          "name": "stdout",
          "text": [
            "Epoch 2, Loss: 1.4034\n"
          ]
        },
        {
          "output_type": "stream",
          "name": "stderr",
          "text": [
            "Epoch 3/10:   6%|▋         | 10/157 [00:00<00:14, 10.48it/s]\n"
          ]
        },
        {
          "output_type": "stream",
          "name": "stdout",
          "text": [
            "Epoch 3, Loss: 1.4060\n"
          ]
        },
        {
          "output_type": "stream",
          "name": "stderr",
          "text": [
            "Epoch 4/10:   6%|▋         | 10/157 [00:00<00:14, 10.17it/s]\n"
          ]
        },
        {
          "output_type": "stream",
          "name": "stdout",
          "text": [
            "Epoch 4, Loss: 1.3513\n"
          ]
        },
        {
          "output_type": "stream",
          "name": "stderr",
          "text": [
            "Epoch 5/10:   6%|▋         | 10/157 [00:00<00:14, 10.44it/s]\n"
          ]
        },
        {
          "output_type": "stream",
          "name": "stdout",
          "text": [
            "Epoch 5, Loss: 1.3674\n"
          ]
        },
        {
          "output_type": "stream",
          "name": "stderr",
          "text": [
            "Evaluating:   4%|▍         | 10/250 [00:00<00:05, 44.51it/s]\n"
          ]
        },
        {
          "output_type": "stream",
          "name": "stdout",
          "text": [
            "Evaluation Metrics:\n",
            "  Linear Eval Accuracy: 0.2394\n",
            "  NMI: 0.2118\n",
            "  ARI: 0.0624\n",
            "  Neighborhood Accuracy: 0.2085\n"
          ]
        },
        {
          "output_type": "stream",
          "name": "stderr",
          "text": [
            "Epoch 6/10:   6%|▋         | 10/157 [00:01<00:15,  9.70it/s]\n"
          ]
        },
        {
          "output_type": "stream",
          "name": "stdout",
          "text": [
            "Epoch 6, Loss: 1.3667\n"
          ]
        },
        {
          "output_type": "stream",
          "name": "stderr",
          "text": [
            "Epoch 7/10:   6%|▋         | 10/157 [00:00<00:13, 10.79it/s]\n"
          ]
        },
        {
          "output_type": "stream",
          "name": "stdout",
          "text": [
            "Epoch 7, Loss: 1.2969\n"
          ]
        },
        {
          "output_type": "stream",
          "name": "stderr",
          "text": [
            "Epoch 8/10:   6%|▋         | 10/157 [00:01<00:14,  9.99it/s]\n"
          ]
        },
        {
          "output_type": "stream",
          "name": "stdout",
          "text": [
            "Epoch 8, Loss: 1.2805\n"
          ]
        },
        {
          "output_type": "stream",
          "name": "stderr",
          "text": [
            "Epoch 9/10:   6%|▋         | 10/157 [00:00<00:14, 10.40it/s]\n"
          ]
        },
        {
          "output_type": "stream",
          "name": "stdout",
          "text": [
            "Epoch 9, Loss: 1.2192\n"
          ]
        },
        {
          "output_type": "stream",
          "name": "stderr",
          "text": [
            "Epoch 10/10:   6%|▋         | 10/157 [00:00<00:14, 10.44it/s]\n"
          ]
        },
        {
          "output_type": "stream",
          "name": "stdout",
          "text": [
            "Epoch 10, Loss: 1.2347\n"
          ]
        },
        {
          "output_type": "stream",
          "name": "stderr",
          "text": [
            "Evaluating:   4%|▍         | 10/250 [00:00<00:05, 46.21it/s]\n"
          ]
        },
        {
          "output_type": "stream",
          "name": "stdout",
          "text": [
            "Evaluation Metrics:\n",
            "  Linear Eval Accuracy: 0.2676\n",
            "  NMI: 0.2276\n",
            "  ARI: 0.0897\n",
            "  Neighborhood Accuracy: 0.2136\n",
            "Training complete!\n"
          ]
        },
        {
          "output_type": "stream",
          "name": "stderr",
          "text": [
            "Evaluating:   4%|▍         | 10/250 [00:00<00:05, 44.32it/s]\n"
          ]
        },
        {
          "output_type": "stream",
          "name": "stdout",
          "text": [
            "Evaluation Metrics:\n",
            "  Linear Eval Accuracy: 0.2676\n",
            "  NMI: 0.2276\n",
            "  ARI: 0.0897\n",
            "  Neighborhood Accuracy: 0.2136\n",
            "    Seed 456\n",
            "Training with RDF framework...\n"
          ]
        },
        {
          "output_type": "stream",
          "name": "stderr",
          "text": [
            "Epoch 1/10:   6%|▋         | 10/157 [00:01<00:15,  9.46it/s]\n"
          ]
        },
        {
          "output_type": "stream",
          "name": "stdout",
          "text": [
            "Epoch 1, Loss: 1.5360\n"
          ]
        },
        {
          "output_type": "stream",
          "name": "stderr",
          "text": [
            "Epoch 2/10:   6%|▋         | 10/157 [00:01<00:15,  9.61it/s]\n"
          ]
        },
        {
          "output_type": "stream",
          "name": "stdout",
          "text": [
            "Epoch 2, Loss: 1.5165\n"
          ]
        },
        {
          "output_type": "stream",
          "name": "stderr",
          "text": [
            "Epoch 3/10:   6%|▋         | 10/157 [00:00<00:13, 10.51it/s]\n"
          ]
        },
        {
          "output_type": "stream",
          "name": "stdout",
          "text": [
            "Epoch 3, Loss: 1.3501\n"
          ]
        },
        {
          "output_type": "stream",
          "name": "stderr",
          "text": [
            "Epoch 4/10:   6%|▋         | 10/157 [00:00<00:14, 10.20it/s]\n"
          ]
        },
        {
          "output_type": "stream",
          "name": "stdout",
          "text": [
            "Epoch 4, Loss: 1.4005\n"
          ]
        },
        {
          "output_type": "stream",
          "name": "stderr",
          "text": [
            "Epoch 5/10:   6%|▋         | 10/157 [00:00<00:14, 10.17it/s]\n"
          ]
        },
        {
          "output_type": "stream",
          "name": "stdout",
          "text": [
            "Epoch 5, Loss: 1.4296\n"
          ]
        },
        {
          "output_type": "stream",
          "name": "stderr",
          "text": [
            "Evaluating:   4%|▍         | 10/250 [00:00<00:05, 45.55it/s]\n"
          ]
        },
        {
          "output_type": "stream",
          "name": "stdout",
          "text": [
            "Evaluation Metrics:\n",
            "  Linear Eval Accuracy: 0.1972\n",
            "  NMI: 0.1069\n",
            "  ARI: 0.0253\n",
            "  Neighborhood Accuracy: 0.1278\n"
          ]
        },
        {
          "output_type": "stream",
          "name": "stderr",
          "text": [
            "Epoch 6/10:   6%|▋         | 10/157 [00:00<00:14, 10.07it/s]\n"
          ]
        },
        {
          "output_type": "stream",
          "name": "stdout",
          "text": [
            "Epoch 6, Loss: 1.4632\n"
          ]
        },
        {
          "output_type": "stream",
          "name": "stderr",
          "text": [
            "Epoch 7/10:   6%|▋         | 10/157 [00:00<00:14, 10.43it/s]\n"
          ]
        },
        {
          "output_type": "stream",
          "name": "stdout",
          "text": [
            "Epoch 7, Loss: 1.4619\n"
          ]
        },
        {
          "output_type": "stream",
          "name": "stderr",
          "text": [
            "Epoch 8/10:   6%|▋         | 10/157 [00:00<00:13, 10.51it/s]\n"
          ]
        },
        {
          "output_type": "stream",
          "name": "stdout",
          "text": [
            "Epoch 8, Loss: 1.4889\n"
          ]
        },
        {
          "output_type": "stream",
          "name": "stderr",
          "text": [
            "Epoch 9/10:   6%|▋         | 10/157 [00:00<00:14, 10.43it/s]\n"
          ]
        },
        {
          "output_type": "stream",
          "name": "stdout",
          "text": [
            "Epoch 9, Loss: 1.4481\n"
          ]
        },
        {
          "output_type": "stream",
          "name": "stderr",
          "text": [
            "Epoch 10/10:   6%|▋         | 10/157 [00:00<00:14, 10.44it/s]\n"
          ]
        },
        {
          "output_type": "stream",
          "name": "stdout",
          "text": [
            "Epoch 10, Loss: 1.3567\n"
          ]
        },
        {
          "output_type": "stream",
          "name": "stderr",
          "text": [
            "Evaluating:   4%|▍         | 10/250 [00:00<00:05, 45.88it/s]\n"
          ]
        },
        {
          "output_type": "stream",
          "name": "stdout",
          "text": [
            "Evaluation Metrics:\n",
            "  Linear Eval Accuracy: 0.2113\n",
            "  NMI: 0.1977\n",
            "  ARI: 0.0866\n",
            "  Neighborhood Accuracy: 0.1585\n",
            "Training complete!\n"
          ]
        },
        {
          "output_type": "stream",
          "name": "stderr",
          "text": [
            "Evaluating:   4%|▍         | 10/250 [00:00<00:05, 44.02it/s]\n"
          ]
        },
        {
          "output_type": "stream",
          "name": "stdout",
          "text": [
            "Evaluation Metrics:\n",
            "  Linear Eval Accuracy: 0.2113\n",
            "  NMI: 0.1977\n",
            "  ARI: 0.0866\n",
            "  Neighborhood Accuracy: 0.1585\n",
            "    Seed 789\n",
            "Training with RDF framework...\n"
          ]
        },
        {
          "output_type": "stream",
          "name": "stderr",
          "text": [
            "Epoch 1/10:   6%|▋         | 10/157 [00:01<00:15,  9.60it/s]\n"
          ]
        },
        {
          "output_type": "stream",
          "name": "stdout",
          "text": [
            "Epoch 1, Loss: 1.5417\n"
          ]
        },
        {
          "output_type": "stream",
          "name": "stderr",
          "text": [
            "Epoch 2/10:   6%|▋         | 10/157 [00:00<00:14, 10.35it/s]\n"
          ]
        },
        {
          "output_type": "stream",
          "name": "stdout",
          "text": [
            "Epoch 2, Loss: 1.4412\n"
          ]
        },
        {
          "output_type": "stream",
          "name": "stderr",
          "text": [
            "Epoch 3/10:   6%|▋         | 10/157 [00:01<00:15,  9.78it/s]\n"
          ]
        },
        {
          "output_type": "stream",
          "name": "stdout",
          "text": [
            "Epoch 3, Loss: 1.4645\n"
          ]
        },
        {
          "output_type": "stream",
          "name": "stderr",
          "text": [
            "Epoch 4/10:   6%|▋         | 10/157 [00:00<00:14, 10.14it/s]\n"
          ]
        },
        {
          "output_type": "stream",
          "name": "stdout",
          "text": [
            "Epoch 4, Loss: 1.4052\n"
          ]
        },
        {
          "output_type": "stream",
          "name": "stderr",
          "text": [
            "Epoch 5/10:   6%|▋         | 10/157 [00:00<00:14, 10.35it/s]\n"
          ]
        },
        {
          "output_type": "stream",
          "name": "stdout",
          "text": [
            "Epoch 5, Loss: 1.4293\n"
          ]
        },
        {
          "output_type": "stream",
          "name": "stderr",
          "text": [
            "Evaluating:   4%|▍         | 10/250 [00:00<00:05, 43.36it/s]\n"
          ]
        },
        {
          "output_type": "stream",
          "name": "stdout",
          "text": [
            "Evaluation Metrics:\n",
            "  Linear Eval Accuracy: 0.1408\n",
            "  NMI: 0.1653\n",
            "  ARI: 0.0579\n",
            "  Neighborhood Accuracy: 0.1614\n"
          ]
        },
        {
          "output_type": "stream",
          "name": "stderr",
          "text": [
            "Epoch 6/10:   6%|▋         | 10/157 [00:01<00:14,  9.89it/s]\n"
          ]
        },
        {
          "output_type": "stream",
          "name": "stdout",
          "text": [
            "Epoch 6, Loss: 1.3828\n"
          ]
        },
        {
          "output_type": "stream",
          "name": "stderr",
          "text": [
            "Epoch 7/10:   6%|▋         | 10/157 [00:00<00:14, 10.20it/s]\n"
          ]
        },
        {
          "output_type": "stream",
          "name": "stdout",
          "text": [
            "Epoch 7, Loss: 1.3899\n"
          ]
        },
        {
          "output_type": "stream",
          "name": "stderr",
          "text": [
            "Epoch 8/10:   6%|▋         | 10/157 [00:00<00:14, 10.16it/s]\n"
          ]
        },
        {
          "output_type": "stream",
          "name": "stdout",
          "text": [
            "Epoch 8, Loss: 1.3681\n"
          ]
        },
        {
          "output_type": "stream",
          "name": "stderr",
          "text": [
            "Epoch 9/10:   6%|▋         | 10/157 [00:01<00:15,  9.76it/s]\n"
          ]
        },
        {
          "output_type": "stream",
          "name": "stdout",
          "text": [
            "Epoch 9, Loss: 1.3569\n"
          ]
        },
        {
          "output_type": "stream",
          "name": "stderr",
          "text": [
            "Epoch 10/10:   6%|▋         | 10/157 [00:00<00:14, 10.47it/s]\n"
          ]
        },
        {
          "output_type": "stream",
          "name": "stdout",
          "text": [
            "Epoch 10, Loss: 1.3559\n"
          ]
        },
        {
          "output_type": "stream",
          "name": "stderr",
          "text": [
            "Evaluating:   4%|▍         | 10/250 [00:00<00:05, 44.59it/s]\n"
          ]
        },
        {
          "output_type": "stream",
          "name": "stdout",
          "text": [
            "Evaluation Metrics:\n",
            "  Linear Eval Accuracy: 0.1972\n",
            "  NMI: 0.2039\n",
            "  ARI: 0.0763\n",
            "  Neighborhood Accuracy: 0.1682\n",
            "Training complete!\n"
          ]
        },
        {
          "output_type": "stream",
          "name": "stderr",
          "text": [
            "Evaluating:   4%|▍         | 10/250 [00:00<00:05, 41.43it/s]\n"
          ]
        },
        {
          "output_type": "stream",
          "name": "stdout",
          "text": [
            "Evaluation Metrics:\n",
            "  Linear Eval Accuracy: 0.1972\n",
            "  NMI: 0.2039\n",
            "  ARI: 0.0763\n",
            "  Neighborhood Accuracy: 0.1682\n",
            "    Seed 101\n",
            "Training with RDF framework...\n"
          ]
        },
        {
          "output_type": "stream",
          "name": "stderr",
          "text": [
            "Epoch 1/10:   6%|▋         | 10/157 [00:01<00:15,  9.71it/s]\n"
          ]
        },
        {
          "output_type": "stream",
          "name": "stdout",
          "text": [
            "Epoch 1, Loss: 1.4961\n"
          ]
        },
        {
          "output_type": "stream",
          "name": "stderr",
          "text": [
            "Epoch 2/10:   6%|▋         | 10/157 [00:00<00:13, 10.54it/s]\n"
          ]
        },
        {
          "output_type": "stream",
          "name": "stdout",
          "text": [
            "Epoch 2, Loss: 1.4006\n"
          ]
        },
        {
          "output_type": "stream",
          "name": "stderr",
          "text": [
            "Epoch 3/10:   6%|▋         | 10/157 [00:00<00:14, 10.16it/s]\n"
          ]
        },
        {
          "output_type": "stream",
          "name": "stdout",
          "text": [
            "Epoch 3, Loss: 1.3807\n"
          ]
        },
        {
          "output_type": "stream",
          "name": "stderr",
          "text": [
            "Epoch 4/10:   6%|▋         | 10/157 [00:00<00:14, 10.14it/s]\n"
          ]
        },
        {
          "output_type": "stream",
          "name": "stdout",
          "text": [
            "Epoch 4, Loss: 1.3421\n"
          ]
        },
        {
          "output_type": "stream",
          "name": "stderr",
          "text": [
            "Epoch 5/10:   6%|▋         | 10/157 [00:00<00:14, 10.40it/s]\n"
          ]
        },
        {
          "output_type": "stream",
          "name": "stdout",
          "text": [
            "Epoch 5, Loss: 1.3501\n"
          ]
        },
        {
          "output_type": "stream",
          "name": "stderr",
          "text": [
            "Evaluating:   4%|▍         | 10/250 [00:00<00:05, 45.70it/s]\n"
          ]
        },
        {
          "output_type": "stream",
          "name": "stdout",
          "text": [
            "Evaluation Metrics:\n",
            "  Linear Eval Accuracy: 0.1972\n",
            "  NMI: 0.1680\n",
            "  ARI: 0.0487\n",
            "  Neighborhood Accuracy: 0.1818\n"
          ]
        },
        {
          "output_type": "stream",
          "name": "stderr",
          "text": [
            "Epoch 6/10:   6%|▋         | 10/157 [00:00<00:14, 10.02it/s]\n"
          ]
        },
        {
          "output_type": "stream",
          "name": "stdout",
          "text": [
            "Epoch 6, Loss: 1.3708\n"
          ]
        },
        {
          "output_type": "stream",
          "name": "stderr",
          "text": [
            "Epoch 7/10:   6%|▋         | 10/157 [00:01<00:14,  9.98it/s]\n"
          ]
        },
        {
          "output_type": "stream",
          "name": "stdout",
          "text": [
            "Epoch 7, Loss: 1.3291\n"
          ]
        },
        {
          "output_type": "stream",
          "name": "stderr",
          "text": [
            "Epoch 8/10:   6%|▋         | 10/157 [00:01<00:15,  9.79it/s]\n"
          ]
        },
        {
          "output_type": "stream",
          "name": "stdout",
          "text": [
            "Epoch 8, Loss: 1.2089\n"
          ]
        },
        {
          "output_type": "stream",
          "name": "stderr",
          "text": [
            "Epoch 9/10:   6%|▋         | 10/157 [00:00<00:14, 10.47it/s]\n"
          ]
        },
        {
          "output_type": "stream",
          "name": "stdout",
          "text": [
            "Epoch 9, Loss: 1.2905\n"
          ]
        },
        {
          "output_type": "stream",
          "name": "stderr",
          "text": [
            "Epoch 10/10:   6%|▋         | 10/157 [00:00<00:13, 10.65it/s]\n"
          ]
        },
        {
          "output_type": "stream",
          "name": "stdout",
          "text": [
            "Epoch 10, Loss: 1.3465\n"
          ]
        },
        {
          "output_type": "stream",
          "name": "stderr",
          "text": [
            "Evaluating:   4%|▍         | 10/250 [00:00<00:05, 44.68it/s]\n"
          ]
        },
        {
          "output_type": "stream",
          "name": "stdout",
          "text": [
            "Evaluation Metrics:\n",
            "  Linear Eval Accuracy: 0.2254\n",
            "  NMI: 0.2190\n",
            "  ARI: 0.0891\n",
            "  Neighborhood Accuracy: 0.1949\n",
            "Training complete!\n"
          ]
        },
        {
          "output_type": "stream",
          "name": "stderr",
          "text": [
            "Evaluating:   4%|▍         | 10/250 [00:00<00:06, 38.69it/s]\n"
          ]
        },
        {
          "output_type": "stream",
          "name": "stdout",
          "text": [
            "Evaluation Metrics:\n",
            "  Linear Eval Accuracy: 0.2254\n",
            "  NMI: 0.2190\n",
            "  ARI: 0.0891\n",
            "  Neighborhood Accuracy: 0.1949\n",
            "  Testing icon framework\n",
            "    Seed 42\n",
            "Training with ICon framework...\n"
          ]
        },
        {
          "output_type": "stream",
          "name": "stderr",
          "text": [
            "Epoch 1/10:   6%|▋         | 10/157 [00:00<00:11, 13.32it/s]\n"
          ]
        },
        {
          "output_type": "stream",
          "name": "stdout",
          "text": [
            "Epoch 1, Loss: 2.2824\n"
          ]
        },
        {
          "output_type": "stream",
          "name": "stderr",
          "text": [
            "Epoch 2/10:   6%|▋         | 10/157 [00:00<00:11, 13.21it/s]\n"
          ]
        },
        {
          "output_type": "stream",
          "name": "stdout",
          "text": [
            "Epoch 2, Loss: 2.1680\n"
          ]
        },
        {
          "output_type": "stream",
          "name": "stderr",
          "text": [
            "Epoch 3/10:   6%|▋         | 10/157 [00:00<00:10, 13.52it/s]\n"
          ]
        },
        {
          "output_type": "stream",
          "name": "stdout",
          "text": [
            "Epoch 3, Loss: 2.1444\n"
          ]
        },
        {
          "output_type": "stream",
          "name": "stderr",
          "text": [
            "Epoch 4/10:   6%|▋         | 10/157 [00:00<00:09, 14.80it/s]\n"
          ]
        },
        {
          "output_type": "stream",
          "name": "stdout",
          "text": [
            "Epoch 4, Loss: 2.1180\n"
          ]
        },
        {
          "output_type": "stream",
          "name": "stderr",
          "text": [
            "Epoch 5/10:   6%|▋         | 10/157 [00:00<00:11, 12.94it/s]\n"
          ]
        },
        {
          "output_type": "stream",
          "name": "stdout",
          "text": [
            "Epoch 5, Loss: 2.0415\n"
          ]
        },
        {
          "output_type": "stream",
          "name": "stderr",
          "text": [
            "Evaluating:   4%|▍         | 10/250 [00:00<00:05, 43.72it/s]\n"
          ]
        },
        {
          "output_type": "stream",
          "name": "stdout",
          "text": [
            "Evaluation Metrics:\n",
            "  Linear Eval Accuracy: 0.2535\n",
            "  NMI: 0.1810\n",
            "  ARI: 0.0607\n",
            "  Neighborhood Accuracy: 0.1824\n"
          ]
        },
        {
          "output_type": "stream",
          "name": "stderr",
          "text": [
            "Epoch 6/10:   6%|▋         | 10/157 [00:00<00:11, 12.83it/s]\n"
          ]
        },
        {
          "output_type": "stream",
          "name": "stdout",
          "text": [
            "Epoch 6, Loss: 2.0603\n"
          ]
        },
        {
          "output_type": "stream",
          "name": "stderr",
          "text": [
            "Epoch 7/10:   6%|▋         | 10/157 [00:00<00:11, 13.30it/s]\n"
          ]
        },
        {
          "output_type": "stream",
          "name": "stdout",
          "text": [
            "Epoch 7, Loss: 2.0124\n"
          ]
        },
        {
          "output_type": "stream",
          "name": "stderr",
          "text": [
            "Epoch 8/10:   6%|▋         | 10/157 [00:00<00:10, 14.11it/s]\n"
          ]
        },
        {
          "output_type": "stream",
          "name": "stdout",
          "text": [
            "Epoch 8, Loss: 2.0363\n"
          ]
        },
        {
          "output_type": "stream",
          "name": "stderr",
          "text": [
            "Epoch 9/10:   6%|▋         | 10/157 [00:00<00:11, 13.16it/s]\n"
          ]
        },
        {
          "output_type": "stream",
          "name": "stdout",
          "text": [
            "Epoch 9, Loss: 2.0257\n"
          ]
        },
        {
          "output_type": "stream",
          "name": "stderr",
          "text": [
            "Epoch 10/10:   6%|▋         | 10/157 [00:00<00:09, 14.74it/s]\n"
          ]
        },
        {
          "output_type": "stream",
          "name": "stdout",
          "text": [
            "Epoch 10, Loss: 2.0108\n"
          ]
        },
        {
          "output_type": "stream",
          "name": "stderr",
          "text": [
            "Evaluating:   4%|▍         | 10/250 [00:00<00:05, 45.63it/s]\n"
          ]
        },
        {
          "output_type": "stream",
          "name": "stdout",
          "text": [
            "Evaluation Metrics:\n",
            "  Linear Eval Accuracy: 0.2254\n",
            "  NMI: 0.2168\n",
            "  ARI: 0.0767\n",
            "  Neighborhood Accuracy: 0.1642\n",
            "Training complete!\n"
          ]
        },
        {
          "output_type": "stream",
          "name": "stderr",
          "text": [
            "Evaluating:   4%|▍         | 10/250 [00:00<00:05, 46.07it/s]\n"
          ]
        },
        {
          "output_type": "stream",
          "name": "stdout",
          "text": [
            "Evaluation Metrics:\n",
            "  Linear Eval Accuracy: 0.2254\n",
            "  NMI: 0.2168\n",
            "  ARI: 0.0767\n",
            "  Neighborhood Accuracy: 0.1642\n",
            "    Seed 123\n",
            "Training with ICon framework...\n"
          ]
        },
        {
          "output_type": "stream",
          "name": "stderr",
          "text": [
            "Epoch 1/10:   6%|▋         | 10/157 [00:00<00:11, 13.00it/s]\n"
          ]
        },
        {
          "output_type": "stream",
          "name": "stdout",
          "text": [
            "Epoch 1, Loss: 2.2355\n"
          ]
        },
        {
          "output_type": "stream",
          "name": "stderr",
          "text": [
            "Epoch 2/10:   6%|▋         | 10/157 [00:00<00:10, 14.04it/s]\n"
          ]
        },
        {
          "output_type": "stream",
          "name": "stdout",
          "text": [
            "Epoch 2, Loss: 2.1095\n"
          ]
        },
        {
          "output_type": "stream",
          "name": "stderr",
          "text": [
            "Epoch 3/10:   6%|▋         | 10/157 [00:00<00:10, 13.45it/s]\n"
          ]
        },
        {
          "output_type": "stream",
          "name": "stdout",
          "text": [
            "Epoch 3, Loss: 2.0871\n"
          ]
        },
        {
          "output_type": "stream",
          "name": "stderr",
          "text": [
            "Epoch 4/10:   6%|▋         | 10/157 [00:00<00:11, 12.86it/s]\n"
          ]
        },
        {
          "output_type": "stream",
          "name": "stdout",
          "text": [
            "Epoch 4, Loss: 2.0822\n"
          ]
        },
        {
          "output_type": "stream",
          "name": "stderr",
          "text": [
            "Epoch 5/10:   6%|▋         | 10/157 [00:00<00:10, 13.51it/s]\n"
          ]
        },
        {
          "output_type": "stream",
          "name": "stdout",
          "text": [
            "Epoch 5, Loss: 2.0247\n"
          ]
        },
        {
          "output_type": "stream",
          "name": "stderr",
          "text": [
            "Evaluating:   4%|▍         | 10/250 [00:00<00:05, 45.97it/s]\n"
          ]
        },
        {
          "output_type": "stream",
          "name": "stdout",
          "text": [
            "Evaluation Metrics:\n",
            "  Linear Eval Accuracy: 0.2394\n",
            "  NMI: 0.1984\n",
            "  ARI: 0.0616\n",
            "  Neighborhood Accuracy: 0.1688\n"
          ]
        },
        {
          "output_type": "stream",
          "name": "stderr",
          "text": [
            "Epoch 6/10:   6%|▋         | 10/157 [00:00<00:11, 13.34it/s]\n"
          ]
        },
        {
          "output_type": "stream",
          "name": "stdout",
          "text": [
            "Epoch 6, Loss: 2.1253\n"
          ]
        },
        {
          "output_type": "stream",
          "name": "stderr",
          "text": [
            "Epoch 7/10:   6%|▋         | 10/157 [00:00<00:10, 13.91it/s]\n"
          ]
        },
        {
          "output_type": "stream",
          "name": "stdout",
          "text": [
            "Epoch 7, Loss: 2.0532\n"
          ]
        },
        {
          "output_type": "stream",
          "name": "stderr",
          "text": [
            "Epoch 8/10:   6%|▋         | 10/157 [00:00<00:10, 14.16it/s]\n"
          ]
        },
        {
          "output_type": "stream",
          "name": "stdout",
          "text": [
            "Epoch 8, Loss: 1.9805\n"
          ]
        },
        {
          "output_type": "stream",
          "name": "stderr",
          "text": [
            "Epoch 9/10:   6%|▋         | 10/157 [00:00<00:11, 12.74it/s]\n"
          ]
        },
        {
          "output_type": "stream",
          "name": "stdout",
          "text": [
            "Epoch 9, Loss: 1.9702\n"
          ]
        },
        {
          "output_type": "stream",
          "name": "stderr",
          "text": [
            "Epoch 10/10:   6%|▋         | 10/157 [00:00<00:10, 13.50it/s]\n"
          ]
        },
        {
          "output_type": "stream",
          "name": "stdout",
          "text": [
            "Epoch 10, Loss: 2.0004\n"
          ]
        },
        {
          "output_type": "stream",
          "name": "stderr",
          "text": [
            "Evaluating:   4%|▍         | 10/250 [00:00<00:05, 46.26it/s]\n"
          ]
        },
        {
          "output_type": "stream",
          "name": "stdout",
          "text": [
            "Evaluation Metrics:\n",
            "  Linear Eval Accuracy: 0.2817\n",
            "  NMI: 0.2405\n",
            "  ARI: 0.0896\n",
            "  Neighborhood Accuracy: 0.2295\n",
            "Training complete!\n"
          ]
        },
        {
          "output_type": "stream",
          "name": "stderr",
          "text": [
            "Evaluating:   4%|▍         | 10/250 [00:00<00:05, 42.74it/s]\n"
          ]
        },
        {
          "output_type": "stream",
          "name": "stdout",
          "text": [
            "Evaluation Metrics:\n",
            "  Linear Eval Accuracy: 0.2817\n",
            "  NMI: 0.2405\n",
            "  ARI: 0.0896\n",
            "  Neighborhood Accuracy: 0.2295\n",
            "    Seed 456\n",
            "Training with ICon framework...\n"
          ]
        },
        {
          "output_type": "stream",
          "name": "stderr",
          "text": [
            "Epoch 1/10:   6%|▋         | 10/157 [00:00<00:11, 13.35it/s]\n"
          ]
        },
        {
          "output_type": "stream",
          "name": "stdout",
          "text": [
            "Epoch 1, Loss: 2.2367\n"
          ]
        },
        {
          "output_type": "stream",
          "name": "stderr",
          "text": [
            "Epoch 2/10:   6%|▋         | 10/157 [00:00<00:10, 14.40it/s]\n"
          ]
        },
        {
          "output_type": "stream",
          "name": "stdout",
          "text": [
            "Epoch 2, Loss: 2.1936\n"
          ]
        },
        {
          "output_type": "stream",
          "name": "stderr",
          "text": [
            "Epoch 3/10:   6%|▋         | 10/157 [00:00<00:11, 13.12it/s]\n"
          ]
        },
        {
          "output_type": "stream",
          "name": "stdout",
          "text": [
            "Epoch 3, Loss: 2.0529\n"
          ]
        },
        {
          "output_type": "stream",
          "name": "stderr",
          "text": [
            "Epoch 4/10:   6%|▋         | 10/157 [00:00<00:10, 14.21it/s]\n"
          ]
        },
        {
          "output_type": "stream",
          "name": "stdout",
          "text": [
            "Epoch 4, Loss: 2.0487\n"
          ]
        },
        {
          "output_type": "stream",
          "name": "stderr",
          "text": [
            "Epoch 5/10:   6%|▋         | 10/157 [00:00<00:11, 12.95it/s]\n"
          ]
        },
        {
          "output_type": "stream",
          "name": "stdout",
          "text": [
            "Epoch 5, Loss: 2.0353\n"
          ]
        },
        {
          "output_type": "stream",
          "name": "stderr",
          "text": [
            "Evaluating:   4%|▍         | 10/250 [00:00<00:05, 43.81it/s]\n"
          ]
        },
        {
          "output_type": "stream",
          "name": "stdout",
          "text": [
            "Evaluation Metrics:\n",
            "  Linear Eval Accuracy: 0.1972\n",
            "  NMI: 0.1979\n",
            "  ARI: 0.0801\n",
            "  Neighborhood Accuracy: 0.1750\n"
          ]
        },
        {
          "output_type": "stream",
          "name": "stderr",
          "text": [
            "Epoch 6/10:   6%|▋         | 10/157 [00:00<00:12, 12.06it/s]\n"
          ]
        },
        {
          "output_type": "stream",
          "name": "stdout",
          "text": [
            "Epoch 6, Loss: 2.0282\n"
          ]
        },
        {
          "output_type": "stream",
          "name": "stderr",
          "text": [
            "Epoch 7/10:   6%|▋         | 10/157 [00:00<00:10, 13.72it/s]\n"
          ]
        },
        {
          "output_type": "stream",
          "name": "stdout",
          "text": [
            "Epoch 7, Loss: 2.0528\n"
          ]
        },
        {
          "output_type": "stream",
          "name": "stderr",
          "text": [
            "Epoch 8/10:   6%|▋         | 10/157 [00:00<00:11, 12.95it/s]\n"
          ]
        },
        {
          "output_type": "stream",
          "name": "stdout",
          "text": [
            "Epoch 8, Loss: 2.0194\n"
          ]
        },
        {
          "output_type": "stream",
          "name": "stderr",
          "text": [
            "Epoch 9/10:   6%|▋         | 10/157 [00:00<00:10, 13.94it/s]\n"
          ]
        },
        {
          "output_type": "stream",
          "name": "stdout",
          "text": [
            "Epoch 9, Loss: 1.9602\n"
          ]
        },
        {
          "output_type": "stream",
          "name": "stderr",
          "text": [
            "Epoch 10/10:   6%|▋         | 10/157 [00:00<00:10, 13.84it/s]\n"
          ]
        },
        {
          "output_type": "stream",
          "name": "stdout",
          "text": [
            "Epoch 10, Loss: 1.9142\n"
          ]
        },
        {
          "output_type": "stream",
          "name": "stderr",
          "text": [
            "Evaluating:   4%|▍         | 10/250 [00:00<00:05, 40.88it/s]\n"
          ]
        },
        {
          "output_type": "stream",
          "name": "stdout",
          "text": [
            "Evaluation Metrics:\n",
            "  Linear Eval Accuracy: 0.2394\n",
            "  NMI: 0.2236\n",
            "  ARI: 0.0724\n",
            "  Neighborhood Accuracy: 0.2244\n",
            "Training complete!\n"
          ]
        },
        {
          "output_type": "stream",
          "name": "stderr",
          "text": [
            "Evaluating:   4%|▍         | 10/250 [00:00<00:05, 42.59it/s]\n"
          ]
        },
        {
          "output_type": "stream",
          "name": "stdout",
          "text": [
            "Evaluation Metrics:\n",
            "  Linear Eval Accuracy: 0.2394\n",
            "  NMI: 0.2236\n",
            "  ARI: 0.0724\n",
            "  Neighborhood Accuracy: 0.2244\n",
            "    Seed 789\n",
            "Training with ICon framework...\n"
          ]
        },
        {
          "output_type": "stream",
          "name": "stderr",
          "text": [
            "Epoch 1/10:   6%|▋         | 10/157 [00:00<00:10, 13.90it/s]\n"
          ]
        },
        {
          "output_type": "stream",
          "name": "stdout",
          "text": [
            "Epoch 1, Loss: 2.2498\n"
          ]
        },
        {
          "output_type": "stream",
          "name": "stderr",
          "text": [
            "Epoch 2/10:   6%|▋         | 10/157 [00:00<00:09, 14.76it/s]\n"
          ]
        },
        {
          "output_type": "stream",
          "name": "stdout",
          "text": [
            "Epoch 2, Loss: 2.0693\n"
          ]
        },
        {
          "output_type": "stream",
          "name": "stderr",
          "text": [
            "Epoch 3/10:   6%|▋         | 10/157 [00:00<00:11, 12.61it/s]\n"
          ]
        },
        {
          "output_type": "stream",
          "name": "stdout",
          "text": [
            "Epoch 3, Loss: 2.0854\n"
          ]
        },
        {
          "output_type": "stream",
          "name": "stderr",
          "text": [
            "Epoch 4/10:   6%|▋         | 10/157 [00:00<00:10, 14.16it/s]\n"
          ]
        },
        {
          "output_type": "stream",
          "name": "stdout",
          "text": [
            "Epoch 4, Loss: 2.0265\n"
          ]
        },
        {
          "output_type": "stream",
          "name": "stderr",
          "text": [
            "Epoch 5/10:   6%|▋         | 10/157 [00:00<00:10, 13.80it/s]\n"
          ]
        },
        {
          "output_type": "stream",
          "name": "stdout",
          "text": [
            "Epoch 5, Loss: 2.0196\n"
          ]
        },
        {
          "output_type": "stream",
          "name": "stderr",
          "text": [
            "Evaluating:   4%|▍         | 10/250 [00:00<00:05, 45.73it/s]\n"
          ]
        },
        {
          "output_type": "stream",
          "name": "stdout",
          "text": [
            "Evaluation Metrics:\n",
            "  Linear Eval Accuracy: 0.2394\n",
            "  NMI: 0.2023\n",
            "  ARI: 0.0692\n",
            "  Neighborhood Accuracy: 0.1699\n"
          ]
        },
        {
          "output_type": "stream",
          "name": "stderr",
          "text": [
            "Epoch 6/10:   6%|▋         | 10/157 [00:00<00:10, 13.86it/s]\n"
          ]
        },
        {
          "output_type": "stream",
          "name": "stdout",
          "text": [
            "Epoch 6, Loss: 2.0256\n"
          ]
        },
        {
          "output_type": "stream",
          "name": "stderr",
          "text": [
            "Epoch 7/10:   6%|▋         | 10/157 [00:00<00:11, 12.89it/s]\n"
          ]
        },
        {
          "output_type": "stream",
          "name": "stdout",
          "text": [
            "Epoch 7, Loss: 1.9855\n"
          ]
        },
        {
          "output_type": "stream",
          "name": "stderr",
          "text": [
            "Epoch 8/10:   6%|▋         | 10/157 [00:00<00:10, 13.68it/s]\n"
          ]
        },
        {
          "output_type": "stream",
          "name": "stdout",
          "text": [
            "Epoch 8, Loss: 1.9607\n"
          ]
        },
        {
          "output_type": "stream",
          "name": "stderr",
          "text": [
            "Epoch 9/10:   6%|▋         | 10/157 [00:00<00:10, 13.71it/s]\n"
          ]
        },
        {
          "output_type": "stream",
          "name": "stdout",
          "text": [
            "Epoch 9, Loss: 1.9138\n"
          ]
        },
        {
          "output_type": "stream",
          "name": "stderr",
          "text": [
            "Epoch 10/10:   6%|▋         | 10/157 [00:00<00:11, 12.39it/s]\n"
          ]
        },
        {
          "output_type": "stream",
          "name": "stdout",
          "text": [
            "Epoch 10, Loss: 1.9705\n"
          ]
        },
        {
          "output_type": "stream",
          "name": "stderr",
          "text": [
            "Evaluating:   4%|▍         | 10/250 [00:00<00:05, 42.33it/s]\n"
          ]
        },
        {
          "output_type": "stream",
          "name": "stdout",
          "text": [
            "Evaluation Metrics:\n",
            "  Linear Eval Accuracy: 0.1972\n",
            "  NMI: 0.2310\n",
            "  ARI: 0.1022\n",
            "  Neighborhood Accuracy: 0.2062\n",
            "Training complete!\n"
          ]
        },
        {
          "output_type": "stream",
          "name": "stderr",
          "text": [
            "Evaluating:   4%|▍         | 10/250 [00:00<00:05, 45.30it/s]\n"
          ]
        },
        {
          "output_type": "stream",
          "name": "stdout",
          "text": [
            "Evaluation Metrics:\n",
            "  Linear Eval Accuracy: 0.1972\n",
            "  NMI: 0.2310\n",
            "  ARI: 0.1022\n",
            "  Neighborhood Accuracy: 0.2062\n",
            "    Seed 101\n",
            "Training with ICon framework...\n"
          ]
        },
        {
          "output_type": "stream",
          "name": "stderr",
          "text": [
            "Epoch 1/10:   6%|▋         | 10/157 [00:00<00:10, 13.56it/s]\n"
          ]
        },
        {
          "output_type": "stream",
          "name": "stdout",
          "text": [
            "Epoch 1, Loss: 2.2005\n"
          ]
        },
        {
          "output_type": "stream",
          "name": "stderr",
          "text": [
            "Epoch 2/10:   6%|▋         | 10/157 [00:00<00:11, 12.63it/s]\n"
          ]
        },
        {
          "output_type": "stream",
          "name": "stdout",
          "text": [
            "Epoch 2, Loss: 2.0886\n"
          ]
        },
        {
          "output_type": "stream",
          "name": "stderr",
          "text": [
            "Epoch 3/10:   6%|▋         | 10/157 [00:00<00:10, 14.24it/s]\n"
          ]
        },
        {
          "output_type": "stream",
          "name": "stdout",
          "text": [
            "Epoch 3, Loss: 2.0725\n"
          ]
        },
        {
          "output_type": "stream",
          "name": "stderr",
          "text": [
            "Epoch 4/10:   6%|▋         | 10/157 [00:00<00:11, 13.30it/s]\n"
          ]
        },
        {
          "output_type": "stream",
          "name": "stdout",
          "text": [
            "Epoch 4, Loss: 2.0345\n"
          ]
        },
        {
          "output_type": "stream",
          "name": "stderr",
          "text": [
            "Epoch 5/10:   6%|▋         | 10/157 [00:00<00:11, 13.28it/s]\n"
          ]
        },
        {
          "output_type": "stream",
          "name": "stdout",
          "text": [
            "Epoch 5, Loss: 1.9937\n"
          ]
        },
        {
          "output_type": "stream",
          "name": "stderr",
          "text": [
            "Evaluating:   4%|▍         | 10/250 [00:00<00:05, 43.45it/s]\n"
          ]
        },
        {
          "output_type": "stream",
          "name": "stdout",
          "text": [
            "Evaluation Metrics:\n",
            "  Linear Eval Accuracy: 0.2254\n",
            "  NMI: 0.2085\n",
            "  ARI: 0.0831\n",
            "  Neighborhood Accuracy: 0.1955\n"
          ]
        },
        {
          "output_type": "stream",
          "name": "stderr",
          "text": [
            "Epoch 6/10:   6%|▋         | 10/157 [00:00<00:10, 13.96it/s]\n"
          ]
        },
        {
          "output_type": "stream",
          "name": "stdout",
          "text": [
            "Epoch 6, Loss: 2.0088\n"
          ]
        },
        {
          "output_type": "stream",
          "name": "stderr",
          "text": [
            "Epoch 7/10:   6%|▋         | 10/157 [00:00<00:10, 13.93it/s]\n"
          ]
        },
        {
          "output_type": "stream",
          "name": "stdout",
          "text": [
            "Epoch 7, Loss: 1.9723\n"
          ]
        },
        {
          "output_type": "stream",
          "name": "stderr",
          "text": [
            "Epoch 8/10:   6%|▋         | 10/157 [00:00<00:10, 13.83it/s]\n"
          ]
        },
        {
          "output_type": "stream",
          "name": "stdout",
          "text": [
            "Epoch 8, Loss: 1.9066\n"
          ]
        },
        {
          "output_type": "stream",
          "name": "stderr",
          "text": [
            "Epoch 9/10:   6%|▋         | 10/157 [00:00<00:11, 12.99it/s]\n"
          ]
        },
        {
          "output_type": "stream",
          "name": "stdout",
          "text": [
            "Epoch 9, Loss: 1.8686\n"
          ]
        },
        {
          "output_type": "stream",
          "name": "stderr",
          "text": [
            "Epoch 10/10:   6%|▋         | 10/157 [00:00<00:11, 13.16it/s]\n"
          ]
        },
        {
          "output_type": "stream",
          "name": "stdout",
          "text": [
            "Epoch 10, Loss: 1.9928\n"
          ]
        },
        {
          "output_type": "stream",
          "name": "stderr",
          "text": [
            "Evaluating:   4%|▍         | 10/250 [00:00<00:05, 44.00it/s]\n"
          ]
        },
        {
          "output_type": "stream",
          "name": "stdout",
          "text": [
            "Evaluation Metrics:\n",
            "  Linear Eval Accuracy: 0.2958\n",
            "  NMI: 0.2595\n",
            "  ARI: 0.0978\n",
            "  Neighborhood Accuracy: 0.2449\n",
            "Training complete!\n"
          ]
        },
        {
          "output_type": "stream",
          "name": "stderr",
          "text": [
            "Evaluating:   4%|▍         | 10/250 [00:00<00:05, 41.20it/s]\n"
          ]
        },
        {
          "output_type": "stream",
          "name": "stdout",
          "text": [
            "Evaluation Metrics:\n",
            "  Linear Eval Accuracy: 0.2958\n",
            "  NMI: 0.2595\n",
            "  ARI: 0.0978\n",
            "  Neighborhood Accuracy: 0.2449\n",
            "\n",
            "Results for cifar10:\n",
            "  final_loss: \n",
            "    RDF: 1.6200 ± 0.0233\n",
            "    I-Con: 2.3127 ± 0.0184\n",
            "    p-value: 0.0000 ***\n",
            "    Improvement: 29.95%\n",
            "  linear_eval_accuracy: \n",
            "    RDF: 0.2894 ± 0.0299\n",
            "    I-Con: 0.3206 ± 0.0192\n",
            "    p-value: 0.2434 \n",
            "    Improvement: -9.73%\n",
            "  nmi: \n",
            "    RDF: 0.1618 ± 0.0129\n",
            "    I-Con: 0.1713 ± 0.0119\n",
            "    p-value: 0.2049 \n",
            "    Improvement: -5.53%\n",
            "  ari: \n",
            "    RDF: 0.0744 ± 0.0090\n",
            "    I-Con: 0.0852 ± 0.0118\n",
            "    p-value: 0.0958 \n",
            "    Improvement: -12.66%\n",
            "  neighborhood_accuracy: \n",
            "    RDF: 0.2057 ± 0.0107\n",
            "    I-Con: 0.2132 ± 0.0067\n",
            "    p-value: 0.2133 \n",
            "    Improvement: -3.54%\n",
            "\n",
            "Results for cifar100:\n",
            "  final_loss: \n",
            "    RDF: 1.5720 ± 0.0133\n",
            "    I-Con: 2.2857 ± 0.0184\n",
            "    p-value: 0.0000 ***\n",
            "    Improvement: 31.23%\n",
            "  linear_eval_accuracy: \n",
            "    RDF: 0.0227 ± 0.0113\n",
            "    I-Con: 0.0199 ± 0.0053\n",
            "    p-value: 0.5870 \n",
            "    Improvement: 14.29%\n",
            "  nmi: \n",
            "    RDF: 0.5802 ± 0.0025\n",
            "    I-Con: 0.5820 ± 0.0024\n",
            "    p-value: 0.0769 \n",
            "    Improvement: -0.32%\n",
            "  ari: \n",
            "    RDF: 0.0180 ± 0.0033\n",
            "    I-Con: 0.0191 ± 0.0024\n",
            "    p-value: 0.5213 \n",
            "    Improvement: -6.04%\n",
            "  neighborhood_accuracy: \n",
            "    RDF: 0.0280 ± 0.0023\n",
            "    I-Con: 0.0298 ± 0.0018\n",
            "    p-value: 0.3015 \n",
            "    Improvement: -6.11%\n",
            "\n",
            "Results for stl10:\n",
            "  final_loss: \n",
            "    RDF: 1.3249 ± 0.0460\n",
            "    I-Con: 1.9777 ± 0.0344\n",
            "    p-value: 0.0000 ***\n",
            "    Improvement: 33.01%\n",
            "  linear_eval_accuracy: \n",
            "    RDF: 0.2113 ± 0.0367\n",
            "    I-Con: 0.2479 ± 0.0363\n",
            "    p-value: 0.0650 \n",
            "    Improvement: -14.77%\n",
            "  nmi: \n",
            "    RDF: 0.2090 ± 0.0122\n",
            "    I-Con: 0.2343 ± 0.0148\n",
            "    p-value: 0.0052 **\n",
            "    Improvement: -10.80%\n",
            "  ari: \n",
            "    RDF: 0.0844 ± 0.0052\n",
            "    I-Con: 0.0877 ± 0.0116\n",
            "    p-value: 0.6462 \n",
            "    Improvement: -3.80%\n",
            "  neighborhood_accuracy: \n",
            "    RDF: 0.1832 ± 0.0195\n",
            "    I-Con: 0.2139 ± 0.0277\n",
            "    p-value: 0.0991 \n",
            "    Improvement: -14.35%\n"
          ]
        }
      ],
      "source": [
        "import torch\n",
        "import numpy as np\n",
        "import pandas as pd\n",
        "from tqdm import tqdm\n",
        "import matplotlib.pyplot as plt\n",
        "import seaborn as sns\n",
        "from scipy import stats\n",
        "from torch.utils.data import DataLoader\n",
        "from torchvision import datasets, transforms, models\n",
        "\n",
        "# Configuration\n",
        "datasets_to_test = ['cifar10', 'cifar100', 'stl10']\n",
        "frameworks = ['rdf', 'icon']\n",
        "num_seeds = 5\n",
        "seeds = [42, 123, 456, 789, 101]\n",
        "\n",
        "# Results storage\n",
        "results = {dataset: {framework: [] for framework in frameworks}\n",
        "           for dataset in datasets_to_test}\n",
        "\n",
        "# Run experiments\n",
        "for dataset_name in datasets_to_test:\n",
        "    print(f\"Running experiments on {dataset_name}\")\n",
        "    for framework in frameworks:\n",
        "        print(f\"  Testing {framework} framework\")\n",
        "        for seed in seeds:\n",
        "            print(f\"    Seed {seed}\")\n",
        "            torch.manual_seed(seed)\n",
        "            np.random.seed(seed)\n",
        "\n",
        "            # Create dataset\n",
        "            train_dataset, test_dataset, augment_transform = get_datasets(dataset_name)\n",
        "            contrastive_train_dataset = ContrastiveDataset(train_dataset, augment_transform)\n",
        "\n",
        "            # Create data loaders\n",
        "            config = Config(dataset_name)\n",
        "            train_loader = DataLoader(\n",
        "                contrastive_train_dataset, batch_size=config.batch_size,\n",
        "                shuffle=True, num_workers=4\n",
        "            )\n",
        "\n",
        "            test_loader = DataLoader(\n",
        "                test_dataset, batch_size=config.batch_size,\n",
        "                shuffle=False, num_workers=4\n",
        "            )\n",
        "\n",
        "            # Create framework\n",
        "            if framework == \"rdf\":\n",
        "                framework_obj = RDF(config)\n",
        "            else:\n",
        "                framework_obj = ICon(config)\n",
        "\n",
        "            # Train and evaluate\n",
        "            learner = RepresentationLearner(framework_obj, config)\n",
        "            learner.train(train_loader, test_loader)\n",
        "            metrics = learner.evaluate(test_loader)\n",
        "\n",
        "            # Record results\n",
        "            results[dataset_name][framework].append({\n",
        "                'seed': seed,\n",
        "                'final_loss': learner.train_losses[-1],\n",
        "                'linear_eval_accuracy': metrics['linear_eval_accuracy'],\n",
        "                'nmi': metrics['nmi'],\n",
        "                'ari': metrics['ari'],\n",
        "                'neighborhood_accuracy': metrics['neighborhood_accuracy']\n",
        "            })\n",
        "\n",
        "# Statistical analysis\n",
        "statistical_results = {}\n",
        "\n",
        "for dataset_name in datasets_to_test:\n",
        "    statistical_results[dataset_name] = {}\n",
        "\n",
        "    # Extract metrics\n",
        "    metrics = ['final_loss', 'linear_eval_accuracy', 'nmi', 'ari', 'neighborhood_accuracy']\n",
        "\n",
        "    for metric in metrics:\n",
        "        rdf_values = [run[metric] for run in results[dataset_name]['rdf']]\n",
        "        icon_values = [run[metric] for run in results[dataset_name]['icon']]\n",
        "\n",
        "        # Calculate mean and std\n",
        "        rdf_mean = np.mean(rdf_values)\n",
        "        rdf_std = np.std(rdf_values)\n",
        "        icon_mean = np.mean(icon_values)\n",
        "        icon_std = np.std(icon_values)\n",
        "\n",
        "        # Perform t-test\n",
        "        t_stat, p_value = stats.ttest_rel(rdf_values, icon_values)\n",
        "\n",
        "        # Calculate improvement percentage for loss\n",
        "        if metric == 'final_loss':\n",
        "            improvement = (icon_mean - rdf_mean) / icon_mean * 100\n",
        "        else:\n",
        "            improvement = (rdf_mean - icon_mean) / icon_mean * 100\n",
        "\n",
        "        statistical_results[dataset_name][metric] = {\n",
        "            'rdf_mean': rdf_mean,\n",
        "            'rdf_std': rdf_std,\n",
        "            'icon_mean': icon_mean,\n",
        "            'icon_std': icon_std,\n",
        "            'p_value': p_value,\n",
        "            'improvement': improvement\n",
        "        }\n",
        "\n",
        "# Print results\n",
        "for dataset_name in datasets_to_test:\n",
        "    print(f\"\\nResults for {dataset_name}:\")\n",
        "    for metric, stats in statistical_results[dataset_name].items():\n",
        "        significance = \"\"\n",
        "        if stats['p_value'] < 0.001:\n",
        "            significance = \"***\"\n",
        "        elif stats['p_value'] < 0.01:\n",
        "            significance = \"**\"\n",
        "        elif stats['p_value'] < 0.05:\n",
        "            significance = \"*\"\n",
        "\n",
        "        print(f\"  {metric}: \")\n",
        "        print(f\"    RDF: {stats['rdf_mean']:.4f} ± {stats['rdf_std']:.4f}\")\n",
        "        print(f\"    I-Con: {stats['icon_mean']:.4f} ± {stats['icon_std']:.4f}\")\n",
        "        print(f\"    p-value: {stats['p_value']:.4f} {significance}\")\n",
        "        print(f\"    Improvement: {stats['improvement']:.2f}%\")"
      ]
    },
    {
      "cell_type": "code",
      "source": [],
      "metadata": {
        "id": "cunbTl7NKjgF"
      },
      "execution_count": null,
      "outputs": []
    },
    {
      "cell_type": "markdown",
      "source": [
        "# Changing epoch to 5 from 10.\n"
      ],
      "metadata": {
        "id": "-uVNREmhWdI6"
      }
    },
    {
      "cell_type": "code",
      "source": [
        "# Configuration\n",
        "class Config:\n",
        "    def __init__(self, dataset_name=\"cifar10\"):\n",
        "        # General settings\n",
        "        self.device = torch.device(\"cuda\" if torch.cuda.is_available() else \"cpu\")\n",
        "\n",
        "        # Adjust batch size based on dataset (STL-10 has larger images)\n",
        "        if dataset_name == \"stl10\":\n",
        "            self.batch_size = 32  # Smaller batch for larger images\n",
        "        else:\n",
        "            self.batch_size = 64\n",
        "\n",
        "        self.num_epochs = 5\n",
        "        self.lr = 0.001\n",
        "        self.weight_decay = 1e-5\n",
        "        self.embedding_dim = 64\n",
        "        self.temperature = 0.5\n",
        "\n",
        "        # Framework-specific settings\n",
        "        # RDF settings\n",
        "        self.rdf_recursion_depth = 3\n",
        "        self.rdf_coupling_strength = 0.5\n",
        "\n",
        "        # I-Con settings\n",
        "        self.icon_p_distribution = \"gaussian\"\n",
        "        self.icon_q_distribution = \"gaussian\"\n",
        "        self.icon_debias_alpha = 0.2\n"
      ],
      "metadata": {
        "id": "i1oemmoxWgUR"
      },
      "execution_count": 3,
      "outputs": []
    },
    {
      "cell_type": "code",
      "source": [
        "import torch\n",
        "import numpy as np\n",
        "import pandas as pd\n",
        "from tqdm import tqdm\n",
        "import matplotlib.pyplot as plt\n",
        "import seaborn as sns\n",
        "from scipy import stats\n",
        "from torch.utils.data import DataLoader\n",
        "from torchvision import datasets, transforms, models\n",
        "\n",
        "# Configuration\n",
        "datasets_to_test = ['cifar10', 'cifar100', 'stl10']\n",
        "frameworks = ['rdf', 'icon']\n",
        "num_seeds = 5\n",
        "seeds = [42, 123, 456, 789, 101]\n",
        "\n",
        "# Results storage\n",
        "results = {dataset: {framework: [] for framework in frameworks}\n",
        "           for dataset in datasets_to_test}\n",
        "\n",
        "# Run experiments\n",
        "for dataset_name in datasets_to_test:\n",
        "    print(f\"Running experiments on {dataset_name}\")\n",
        "    for framework in frameworks:\n",
        "        print(f\"  Testing {framework} framework\")\n",
        "        for seed in seeds:\n",
        "            print(f\"    Seed {seed}\")\n",
        "            torch.manual_seed(seed)\n",
        "            np.random.seed(seed)\n",
        "\n",
        "            # Create dataset\n",
        "            train_dataset, test_dataset, augment_transform = get_datasets(dataset_name)\n",
        "            contrastive_train_dataset = ContrastiveDataset(train_dataset, augment_transform)\n",
        "\n",
        "            # Create data loaders\n",
        "            config = Config(dataset_name)\n",
        "            train_loader = DataLoader(\n",
        "                contrastive_train_dataset, batch_size=config.batch_size,\n",
        "                shuffle=True, num_workers=4\n",
        "            )\n",
        "\n",
        "            test_loader = DataLoader(\n",
        "                test_dataset, batch_size=config.batch_size,\n",
        "                shuffle=False, num_workers=4\n",
        "            )\n",
        "\n",
        "            # Create framework\n",
        "            if framework == \"rdf\":\n",
        "                framework_obj = RDF(config)\n",
        "            else:\n",
        "                framework_obj = ICon(config)\n",
        "\n",
        "            # Train and evaluate\n",
        "            learner = RepresentationLearner(framework_obj, config)\n",
        "            learner.train(train_loader, test_loader)\n",
        "            metrics = learner.evaluate(test_loader)\n",
        "\n",
        "            # Record results\n",
        "            results[dataset_name][framework].append({\n",
        "                'seed': seed,\n",
        "                'final_loss': learner.train_losses[-1],\n",
        "                'linear_eval_accuracy': metrics['linear_eval_accuracy'],\n",
        "                'nmi': metrics['nmi'],\n",
        "                'ari': metrics['ari'],\n",
        "                'neighborhood_accuracy': metrics['neighborhood_accuracy']\n",
        "            })\n",
        "\n",
        "# Statistical analysis\n",
        "statistical_results = {}\n",
        "\n",
        "for dataset_name in datasets_to_test:\n",
        "    statistical_results[dataset_name] = {}\n",
        "\n",
        "    # Extract metrics\n",
        "    metrics = ['final_loss', 'linear_eval_accuracy', 'nmi', 'ari', 'neighborhood_accuracy']\n",
        "\n",
        "    for metric in metrics:\n",
        "        rdf_values = [run[metric] for run in results[dataset_name]['rdf']]\n",
        "        icon_values = [run[metric] for run in results[dataset_name]['icon']]\n",
        "\n",
        "        # Calculate mean and std\n",
        "        rdf_mean = np.mean(rdf_values)\n",
        "        rdf_std = np.std(rdf_values)\n",
        "        icon_mean = np.mean(icon_values)\n",
        "        icon_std = np.std(icon_values)\n",
        "\n",
        "        # Perform t-test\n",
        "        t_stat, p_value = stats.ttest_rel(rdf_values, icon_values)\n",
        "\n",
        "        # Calculate improvement percentage for loss\n",
        "        if metric == 'final_loss':\n",
        "            improvement = (icon_mean - rdf_mean) / icon_mean * 100\n",
        "        else:\n",
        "            improvement = (rdf_mean - icon_mean) / icon_mean * 100\n",
        "\n",
        "        statistical_results[dataset_name][metric] = {\n",
        "            'rdf_mean': rdf_mean,\n",
        "            'rdf_std': rdf_std,\n",
        "            'icon_mean': icon_mean,\n",
        "            'icon_std': icon_std,\n",
        "            'p_value': p_value,\n",
        "            'improvement': improvement\n",
        "        }\n",
        "\n",
        "# Print results\n",
        "for dataset_name in datasets_to_test:\n",
        "    print(f\"\\nResults for {dataset_name}:\")\n",
        "    for metric, stats in statistical_results[dataset_name].items():\n",
        "        significance = \"\"\n",
        "        if stats['p_value'] < 0.001:\n",
        "            significance = \"***\"\n",
        "        elif stats['p_value'] < 0.01:\n",
        "            significance = \"**\"\n",
        "        elif stats['p_value'] < 0.05:\n",
        "            significance = \"*\"\n",
        "\n",
        "        print(f\"  {metric}: \")\n",
        "        print(f\"    RDF: {stats['rdf_mean']:.4f} ± {stats['rdf_std']:.4f}\")\n",
        "        print(f\"    I-Con: {stats['icon_mean']:.4f} ± {stats['icon_std']:.4f}\")\n",
        "        print(f\"    p-value: {stats['p_value']:.4f} {significance}\")\n",
        "        print(f\"    Improvement: {stats['improvement']:.2f}%\")"
      ],
      "metadata": {
        "colab": {
          "base_uri": "https://localhost:8080/"
        },
        "id": "D9NrnnoKWoW6",
        "outputId": "f96398d6-f63f-4d5c-c448-fdbec7cbc411"
      },
      "execution_count": 4,
      "outputs": [
        {
          "output_type": "stream",
          "name": "stdout",
          "text": [
            "Running experiments on cifar10\n",
            "  Testing rdf framework\n",
            "    Seed 42\n",
            "Training with RDF framework...\n"
          ]
        },
        {
          "output_type": "stream",
          "name": "stderr",
          "text": [
            "Epoch 1/5:   1%|▏         | 10/782 [00:01<01:50,  7.01it/s]\n"
          ]
        },
        {
          "output_type": "stream",
          "name": "stdout",
          "text": [
            "Epoch 1, Loss: 1.9539\n"
          ]
        },
        {
          "output_type": "stream",
          "name": "stderr",
          "text": [
            "Epoch 2/5:   1%|▏         | 10/782 [00:01<01:45,  7.30it/s]\n"
          ]
        },
        {
          "output_type": "stream",
          "name": "stdout",
          "text": [
            "Epoch 2, Loss: 1.8239\n"
          ]
        },
        {
          "output_type": "stream",
          "name": "stderr",
          "text": [
            "Epoch 3/5:   1%|▏         | 10/782 [00:01<01:45,  7.29it/s]\n"
          ]
        },
        {
          "output_type": "stream",
          "name": "stdout",
          "text": [
            "Epoch 3, Loss: 1.7147\n"
          ]
        },
        {
          "output_type": "stream",
          "name": "stderr",
          "text": [
            "Epoch 4/5:   1%|▏         | 10/782 [00:01<01:42,  7.53it/s]\n"
          ]
        },
        {
          "output_type": "stream",
          "name": "stdout",
          "text": [
            "Epoch 4, Loss: 1.6974\n"
          ]
        },
        {
          "output_type": "stream",
          "name": "stderr",
          "text": [
            "Epoch 5/5:   1%|▏         | 10/782 [00:01<01:44,  7.39it/s]\n"
          ]
        },
        {
          "output_type": "stream",
          "name": "stdout",
          "text": [
            "Epoch 5, Loss: 1.6448\n"
          ]
        },
        {
          "output_type": "stream",
          "name": "stderr",
          "text": [
            "Evaluating:   6%|▋         | 10/157 [00:00<00:03, 44.46it/s]\n"
          ]
        },
        {
          "output_type": "stream",
          "name": "stdout",
          "text": [
            "Evaluation Metrics:\n",
            "  Linear Eval Accuracy: 0.3262\n",
            "  NMI: 0.1512\n",
            "  ARI: 0.0742\n",
            "  Neighborhood Accuracy: 0.2026\n",
            "Training complete!\n"
          ]
        },
        {
          "output_type": "stream",
          "name": "stderr",
          "text": [
            "Evaluating:   6%|▋         | 10/157 [00:00<00:03, 43.68it/s]\n"
          ]
        },
        {
          "output_type": "stream",
          "name": "stdout",
          "text": [
            "Evaluation Metrics:\n",
            "  Linear Eval Accuracy: 0.3262\n",
            "  NMI: 0.1512\n",
            "  ARI: 0.0742\n",
            "  Neighborhood Accuracy: 0.2026\n",
            "    Seed 123\n",
            "Training with RDF framework...\n"
          ]
        },
        {
          "output_type": "stream",
          "name": "stderr",
          "text": [
            "Epoch 1/5:   1%|▏         | 10/782 [00:01<01:42,  7.57it/s]\n"
          ]
        },
        {
          "output_type": "stream",
          "name": "stdout",
          "text": [
            "Epoch 1, Loss: 1.9648\n"
          ]
        },
        {
          "output_type": "stream",
          "name": "stderr",
          "text": [
            "Epoch 2/5:   1%|▏         | 10/782 [00:01<01:41,  7.58it/s]\n"
          ]
        },
        {
          "output_type": "stream",
          "name": "stdout",
          "text": [
            "Epoch 2, Loss: 1.8173\n"
          ]
        },
        {
          "output_type": "stream",
          "name": "stderr",
          "text": [
            "Epoch 3/5:   1%|▏         | 10/782 [00:01<01:49,  7.07it/s]\n"
          ]
        },
        {
          "output_type": "stream",
          "name": "stdout",
          "text": [
            "Epoch 3, Loss: 1.7388\n"
          ]
        },
        {
          "output_type": "stream",
          "name": "stderr",
          "text": [
            "Epoch 4/5:   1%|▏         | 10/782 [00:01<01:53,  6.83it/s]\n"
          ]
        },
        {
          "output_type": "stream",
          "name": "stdout",
          "text": [
            "Epoch 4, Loss: 1.6945\n"
          ]
        },
        {
          "output_type": "stream",
          "name": "stderr",
          "text": [
            "Epoch 5/5:   1%|▏         | 10/782 [00:01<01:43,  7.45it/s]\n"
          ]
        },
        {
          "output_type": "stream",
          "name": "stdout",
          "text": [
            "Epoch 5, Loss: 1.7242\n"
          ]
        },
        {
          "output_type": "stream",
          "name": "stderr",
          "text": [
            "Evaluating:   6%|▋         | 10/157 [00:00<00:03, 42.97it/s]\n"
          ]
        },
        {
          "output_type": "stream",
          "name": "stdout",
          "text": [
            "Evaluation Metrics:\n",
            "  Linear Eval Accuracy: 0.3050\n",
            "  NMI: 0.1522\n",
            "  ARI: 0.0770\n",
            "  Neighborhood Accuracy: 0.1949\n",
            "Training complete!\n"
          ]
        },
        {
          "output_type": "stream",
          "name": "stderr",
          "text": [
            "Evaluating:   6%|▋         | 10/157 [00:00<00:03, 45.41it/s]\n"
          ]
        },
        {
          "output_type": "stream",
          "name": "stdout",
          "text": [
            "Evaluation Metrics:\n",
            "  Linear Eval Accuracy: 0.3050\n",
            "  NMI: 0.1522\n",
            "  ARI: 0.0770\n",
            "  Neighborhood Accuracy: 0.1949\n",
            "    Seed 456\n",
            "Training with RDF framework...\n"
          ]
        },
        {
          "output_type": "stream",
          "name": "stderr",
          "text": [
            "Epoch 1/5:   1%|▏         | 10/782 [00:01<01:47,  7.19it/s]\n"
          ]
        },
        {
          "output_type": "stream",
          "name": "stdout",
          "text": [
            "Epoch 1, Loss: 1.8843\n"
          ]
        },
        {
          "output_type": "stream",
          "name": "stderr",
          "text": [
            "Epoch 2/5:   1%|▏         | 10/782 [00:01<01:45,  7.30it/s]\n"
          ]
        },
        {
          "output_type": "stream",
          "name": "stdout",
          "text": [
            "Epoch 2, Loss: 1.7605\n"
          ]
        },
        {
          "output_type": "stream",
          "name": "stderr",
          "text": [
            "Epoch 3/5:   1%|▏         | 10/782 [00:01<01:50,  7.00it/s]\n"
          ]
        },
        {
          "output_type": "stream",
          "name": "stdout",
          "text": [
            "Epoch 3, Loss: 1.7085\n"
          ]
        },
        {
          "output_type": "stream",
          "name": "stderr",
          "text": [
            "Epoch 4/5:   1%|▏         | 10/782 [00:01<01:47,  7.20it/s]\n"
          ]
        },
        {
          "output_type": "stream",
          "name": "stdout",
          "text": [
            "Epoch 4, Loss: 1.7046\n"
          ]
        },
        {
          "output_type": "stream",
          "name": "stderr",
          "text": [
            "Epoch 5/5:   1%|▏         | 10/782 [00:01<01:50,  6.98it/s]\n"
          ]
        },
        {
          "output_type": "stream",
          "name": "stdout",
          "text": [
            "Epoch 5, Loss: 1.6315\n"
          ]
        },
        {
          "output_type": "stream",
          "name": "stderr",
          "text": [
            "Evaluating:   6%|▋         | 10/157 [00:00<00:03, 41.22it/s]\n"
          ]
        },
        {
          "output_type": "stream",
          "name": "stdout",
          "text": [
            "Evaluation Metrics:\n",
            "  Linear Eval Accuracy: 0.2411\n",
            "  NMI: 0.1600\n",
            "  ARI: 0.0837\n",
            "  Neighborhood Accuracy: 0.2142\n",
            "Training complete!\n"
          ]
        },
        {
          "output_type": "stream",
          "name": "stderr",
          "text": [
            "Evaluating:   6%|▋         | 10/157 [00:00<00:03, 43.59it/s]\n"
          ]
        },
        {
          "output_type": "stream",
          "name": "stdout",
          "text": [
            "Evaluation Metrics:\n",
            "  Linear Eval Accuracy: 0.2411\n",
            "  NMI: 0.1600\n",
            "  ARI: 0.0837\n",
            "  Neighborhood Accuracy: 0.2142\n",
            "    Seed 789\n",
            "Training with RDF framework...\n"
          ]
        },
        {
          "output_type": "stream",
          "name": "stderr",
          "text": [
            "Epoch 1/5:   1%|▏         | 10/782 [00:01<01:44,  7.41it/s]\n"
          ]
        },
        {
          "output_type": "stream",
          "name": "stdout",
          "text": [
            "Epoch 1, Loss: 1.9809\n"
          ]
        },
        {
          "output_type": "stream",
          "name": "stderr",
          "text": [
            "Epoch 2/5:   1%|▏         | 10/782 [00:01<01:42,  7.56it/s]\n"
          ]
        },
        {
          "output_type": "stream",
          "name": "stdout",
          "text": [
            "Epoch 2, Loss: 1.8221\n"
          ]
        },
        {
          "output_type": "stream",
          "name": "stderr",
          "text": [
            "Epoch 3/5:   1%|▏         | 10/782 [00:01<01:46,  7.27it/s]\n"
          ]
        },
        {
          "output_type": "stream",
          "name": "stdout",
          "text": [
            "Epoch 3, Loss: 1.7327\n"
          ]
        },
        {
          "output_type": "stream",
          "name": "stderr",
          "text": [
            "Epoch 4/5:   1%|▏         | 10/782 [00:01<01:45,  7.35it/s]\n"
          ]
        },
        {
          "output_type": "stream",
          "name": "stdout",
          "text": [
            "Epoch 4, Loss: 1.6638\n"
          ]
        },
        {
          "output_type": "stream",
          "name": "stderr",
          "text": [
            "Epoch 5/5:   1%|▏         | 10/782 [00:01<01:41,  7.58it/s]\n"
          ]
        },
        {
          "output_type": "stream",
          "name": "stdout",
          "text": [
            "Epoch 5, Loss: 1.6406\n"
          ]
        },
        {
          "output_type": "stream",
          "name": "stderr",
          "text": [
            "Evaluating:   6%|▋         | 10/157 [00:00<00:03, 48.15it/s]\n"
          ]
        },
        {
          "output_type": "stream",
          "name": "stdout",
          "text": [
            "Evaluation Metrics:\n",
            "  Linear Eval Accuracy: 0.3546\n",
            "  NMI: 0.1567\n",
            "  ARI: 0.0633\n",
            "  Neighborhood Accuracy: 0.1952\n",
            "Training complete!\n"
          ]
        },
        {
          "output_type": "stream",
          "name": "stderr",
          "text": [
            "Evaluating:   6%|▋         | 10/157 [00:00<00:03, 47.26it/s]\n"
          ]
        },
        {
          "output_type": "stream",
          "name": "stdout",
          "text": [
            "Evaluation Metrics:\n",
            "  Linear Eval Accuracy: 0.3546\n",
            "  NMI: 0.1567\n",
            "  ARI: 0.0633\n",
            "  Neighborhood Accuracy: 0.1952\n",
            "    Seed 101\n",
            "Training with RDF framework...\n"
          ]
        },
        {
          "output_type": "stream",
          "name": "stderr",
          "text": [
            "Epoch 1/5:   1%|▏         | 10/782 [00:01<01:46,  7.22it/s]\n"
          ]
        },
        {
          "output_type": "stream",
          "name": "stdout",
          "text": [
            "Epoch 1, Loss: 1.9480\n"
          ]
        },
        {
          "output_type": "stream",
          "name": "stderr",
          "text": [
            "Epoch 2/5:   1%|▏         | 10/782 [00:01<01:41,  7.58it/s]\n"
          ]
        },
        {
          "output_type": "stream",
          "name": "stdout",
          "text": [
            "Epoch 2, Loss: 1.8407\n"
          ]
        },
        {
          "output_type": "stream",
          "name": "stderr",
          "text": [
            "Epoch 3/5:   1%|▏         | 10/782 [00:01<01:46,  7.28it/s]\n"
          ]
        },
        {
          "output_type": "stream",
          "name": "stdout",
          "text": [
            "Epoch 3, Loss: 1.7753\n"
          ]
        },
        {
          "output_type": "stream",
          "name": "stderr",
          "text": [
            "Epoch 4/5:   1%|▏         | 10/782 [00:01<01:44,  7.36it/s]\n"
          ]
        },
        {
          "output_type": "stream",
          "name": "stdout",
          "text": [
            "Epoch 4, Loss: 1.6845\n"
          ]
        },
        {
          "output_type": "stream",
          "name": "stderr",
          "text": [
            "Epoch 5/5:   1%|▏         | 10/782 [00:01<01:46,  7.22it/s]\n"
          ]
        },
        {
          "output_type": "stream",
          "name": "stdout",
          "text": [
            "Epoch 5, Loss: 1.6506\n"
          ]
        },
        {
          "output_type": "stream",
          "name": "stderr",
          "text": [
            "Evaluating:   6%|▋         | 10/157 [00:00<00:03, 44.85it/s]\n"
          ]
        },
        {
          "output_type": "stream",
          "name": "stdout",
          "text": [
            "Evaluation Metrics:\n",
            "  Linear Eval Accuracy: 0.3121\n",
            "  NMI: 0.1325\n",
            "  ARI: 0.0578\n",
            "  Neighborhood Accuracy: 0.1642\n",
            "Training complete!\n"
          ]
        },
        {
          "output_type": "stream",
          "name": "stderr",
          "text": [
            "Evaluating:   6%|▋         | 10/157 [00:00<00:03, 47.07it/s]\n"
          ]
        },
        {
          "output_type": "stream",
          "name": "stdout",
          "text": [
            "Evaluation Metrics:\n",
            "  Linear Eval Accuracy: 0.3121\n",
            "  NMI: 0.1325\n",
            "  ARI: 0.0578\n",
            "  Neighborhood Accuracy: 0.1642\n",
            "  Testing icon framework\n",
            "    Seed 42\n",
            "Training with ICon framework...\n"
          ]
        },
        {
          "output_type": "stream",
          "name": "stderr",
          "text": [
            "Epoch 1/5:   1%|▏         | 10/782 [00:00<01:11, 10.74it/s]\n"
          ]
        },
        {
          "output_type": "stream",
          "name": "stdout",
          "text": [
            "Epoch 1, Loss: 2.6674\n"
          ]
        },
        {
          "output_type": "stream",
          "name": "stderr",
          "text": [
            "Epoch 2/5:   1%|▏         | 10/782 [00:00<01:09, 11.18it/s]\n"
          ]
        },
        {
          "output_type": "stream",
          "name": "stdout",
          "text": [
            "Epoch 2, Loss: 2.5060\n"
          ]
        },
        {
          "output_type": "stream",
          "name": "stderr",
          "text": [
            "Epoch 3/5:   1%|▏         | 10/782 [00:00<01:03, 12.16it/s]\n"
          ]
        },
        {
          "output_type": "stream",
          "name": "stdout",
          "text": [
            "Epoch 3, Loss: 2.4453\n"
          ]
        },
        {
          "output_type": "stream",
          "name": "stderr",
          "text": [
            "Epoch 4/5:   1%|▏         | 10/782 [00:00<01:03, 12.18it/s]\n"
          ]
        },
        {
          "output_type": "stream",
          "name": "stdout",
          "text": [
            "Epoch 4, Loss: 2.4279\n"
          ]
        },
        {
          "output_type": "stream",
          "name": "stderr",
          "text": [
            "Epoch 5/5:   1%|▏         | 10/782 [00:00<01:05, 11.86it/s]\n"
          ]
        },
        {
          "output_type": "stream",
          "name": "stdout",
          "text": [
            "Epoch 5, Loss: 2.3663\n"
          ]
        },
        {
          "output_type": "stream",
          "name": "stderr",
          "text": [
            "Evaluating:   6%|▋         | 10/157 [00:00<00:03, 43.74it/s]\n"
          ]
        },
        {
          "output_type": "stream",
          "name": "stdout",
          "text": [
            "Evaluation Metrics:\n",
            "  Linear Eval Accuracy: 0.3121\n",
            "  NMI: 0.1735\n",
            "  ARI: 0.0889\n",
            "  Neighborhood Accuracy: 0.2020\n",
            "Training complete!\n"
          ]
        },
        {
          "output_type": "stream",
          "name": "stderr",
          "text": [
            "Evaluating:   6%|▋         | 10/157 [00:00<00:03, 45.66it/s]\n"
          ]
        },
        {
          "output_type": "stream",
          "name": "stdout",
          "text": [
            "Evaluation Metrics:\n",
            "  Linear Eval Accuracy: 0.3121\n",
            "  NMI: 0.1735\n",
            "  ARI: 0.0889\n",
            "  Neighborhood Accuracy: 0.2020\n",
            "    Seed 123\n",
            "Training with ICon framework...\n"
          ]
        },
        {
          "output_type": "stream",
          "name": "stderr",
          "text": [
            "Epoch 1/5:   1%|▏         | 10/782 [00:00<01:11, 10.87it/s]\n"
          ]
        },
        {
          "output_type": "stream",
          "name": "stdout",
          "text": [
            "Epoch 1, Loss: 2.7102\n"
          ]
        },
        {
          "output_type": "stream",
          "name": "stderr",
          "text": [
            "Epoch 2/5:   1%|▏         | 10/782 [00:00<01:12, 10.65it/s]\n"
          ]
        },
        {
          "output_type": "stream",
          "name": "stdout",
          "text": [
            "Epoch 2, Loss: 2.5638\n"
          ]
        },
        {
          "output_type": "stream",
          "name": "stderr",
          "text": [
            "Epoch 3/5:   1%|▏         | 10/782 [00:00<01:05, 11.71it/s]\n"
          ]
        },
        {
          "output_type": "stream",
          "name": "stdout",
          "text": [
            "Epoch 3, Loss: 2.4581\n"
          ]
        },
        {
          "output_type": "stream",
          "name": "stderr",
          "text": [
            "Epoch 4/5:   1%|▏         | 10/782 [00:00<01:11, 10.86it/s]\n"
          ]
        },
        {
          "output_type": "stream",
          "name": "stdout",
          "text": [
            "Epoch 4, Loss: 2.4501\n"
          ]
        },
        {
          "output_type": "stream",
          "name": "stderr",
          "text": [
            "Epoch 5/5:   1%|▏         | 10/782 [00:00<01:09, 11.08it/s]\n"
          ]
        },
        {
          "output_type": "stream",
          "name": "stdout",
          "text": [
            "Epoch 5, Loss: 2.4481\n"
          ]
        },
        {
          "output_type": "stream",
          "name": "stderr",
          "text": [
            "Evaluating:   6%|▋         | 10/157 [00:00<00:03, 45.61it/s]\n"
          ]
        },
        {
          "output_type": "stream",
          "name": "stdout",
          "text": [
            "Evaluation Metrics:\n",
            "  Linear Eval Accuracy: 0.3262\n",
            "  NMI: 0.1545\n",
            "  ARI: 0.0752\n",
            "  Neighborhood Accuracy: 0.2043\n",
            "Training complete!\n"
          ]
        },
        {
          "output_type": "stream",
          "name": "stderr",
          "text": [
            "Evaluating:   6%|▋         | 10/157 [00:00<00:03, 45.25it/s]\n"
          ]
        },
        {
          "output_type": "stream",
          "name": "stdout",
          "text": [
            "Evaluation Metrics:\n",
            "  Linear Eval Accuracy: 0.3262\n",
            "  NMI: 0.1545\n",
            "  ARI: 0.0752\n",
            "  Neighborhood Accuracy: 0.2043\n",
            "    Seed 456\n",
            "Training with ICon framework...\n"
          ]
        },
        {
          "output_type": "stream",
          "name": "stderr",
          "text": [
            "Epoch 1/5:   1%|▏         | 10/782 [00:00<01:04, 11.95it/s]\n"
          ]
        },
        {
          "output_type": "stream",
          "name": "stdout",
          "text": [
            "Epoch 1, Loss: 2.6049\n"
          ]
        },
        {
          "output_type": "stream",
          "name": "stderr",
          "text": [
            "Epoch 2/5:   1%|▏         | 10/782 [00:00<01:03, 12.21it/s]\n"
          ]
        },
        {
          "output_type": "stream",
          "name": "stdout",
          "text": [
            "Epoch 2, Loss: 2.4771\n"
          ]
        },
        {
          "output_type": "stream",
          "name": "stderr",
          "text": [
            "Epoch 3/5:   1%|▏         | 10/782 [00:00<01:07, 11.38it/s]\n"
          ]
        },
        {
          "output_type": "stream",
          "name": "stdout",
          "text": [
            "Epoch 3, Loss: 2.4329\n"
          ]
        },
        {
          "output_type": "stream",
          "name": "stderr",
          "text": [
            "Epoch 4/5:   1%|▏         | 10/782 [00:00<01:02, 12.36it/s]\n"
          ]
        },
        {
          "output_type": "stream",
          "name": "stdout",
          "text": [
            "Epoch 4, Loss: 2.4261\n"
          ]
        },
        {
          "output_type": "stream",
          "name": "stderr",
          "text": [
            "Epoch 5/5:   1%|▏         | 10/782 [00:00<01:14, 10.37it/s]\n"
          ]
        },
        {
          "output_type": "stream",
          "name": "stdout",
          "text": [
            "Epoch 5, Loss: 2.3622\n"
          ]
        },
        {
          "output_type": "stream",
          "name": "stderr",
          "text": [
            "Evaluating:   6%|▋         | 10/157 [00:00<00:03, 43.08it/s]\n"
          ]
        },
        {
          "output_type": "stream",
          "name": "stdout",
          "text": [
            "Evaluation Metrics:\n",
            "  Linear Eval Accuracy: 0.3262\n",
            "  NMI: 0.1667\n",
            "  ARI: 0.0896\n",
            "  Neighborhood Accuracy: 0.1872\n",
            "Training complete!\n"
          ]
        },
        {
          "output_type": "stream",
          "name": "stderr",
          "text": [
            "Evaluating:   6%|▋         | 10/157 [00:00<00:03, 43.91it/s]\n"
          ]
        },
        {
          "output_type": "stream",
          "name": "stdout",
          "text": [
            "Evaluation Metrics:\n",
            "  Linear Eval Accuracy: 0.3262\n",
            "  NMI: 0.1667\n",
            "  ARI: 0.0896\n",
            "  Neighborhood Accuracy: 0.1872\n",
            "    Seed 789\n",
            "Training with ICon framework...\n"
          ]
        },
        {
          "output_type": "stream",
          "name": "stderr",
          "text": [
            "Epoch 1/5:   1%|▏         | 10/782 [00:00<01:03, 12.15it/s]\n"
          ]
        },
        {
          "output_type": "stream",
          "name": "stdout",
          "text": [
            "Epoch 1, Loss: 2.6983\n"
          ]
        },
        {
          "output_type": "stream",
          "name": "stderr",
          "text": [
            "Epoch 2/5:   1%|▏         | 10/782 [00:00<01:12, 10.65it/s]\n"
          ]
        },
        {
          "output_type": "stream",
          "name": "stdout",
          "text": [
            "Epoch 2, Loss: 2.5388\n"
          ]
        },
        {
          "output_type": "stream",
          "name": "stderr",
          "text": [
            "Epoch 3/5:   1%|▏         | 10/782 [00:00<01:15, 10.22it/s]\n"
          ]
        },
        {
          "output_type": "stream",
          "name": "stdout",
          "text": [
            "Epoch 3, Loss: 2.4945\n"
          ]
        },
        {
          "output_type": "stream",
          "name": "stderr",
          "text": [
            "Epoch 4/5:   1%|▏         | 10/782 [00:00<01:06, 11.66it/s]\n"
          ]
        },
        {
          "output_type": "stream",
          "name": "stdout",
          "text": [
            "Epoch 4, Loss: 2.4238\n"
          ]
        },
        {
          "output_type": "stream",
          "name": "stderr",
          "text": [
            "Epoch 5/5:   1%|▏         | 10/782 [00:00<01:09, 11.14it/s]\n"
          ]
        },
        {
          "output_type": "stream",
          "name": "stdout",
          "text": [
            "Epoch 5, Loss: 2.4126\n"
          ]
        },
        {
          "output_type": "stream",
          "name": "stderr",
          "text": [
            "Evaluating:   6%|▋         | 10/157 [00:00<00:03, 47.55it/s]\n"
          ]
        },
        {
          "output_type": "stream",
          "name": "stdout",
          "text": [
            "Evaluation Metrics:\n",
            "  Linear Eval Accuracy: 0.3121\n",
            "  NMI: 0.1475\n",
            "  ARI: 0.0654\n",
            "  Neighborhood Accuracy: 0.1807\n",
            "Training complete!\n"
          ]
        },
        {
          "output_type": "stream",
          "name": "stderr",
          "text": [
            "Evaluating:   6%|▋         | 10/157 [00:00<00:03, 45.16it/s]\n"
          ]
        },
        {
          "output_type": "stream",
          "name": "stdout",
          "text": [
            "Evaluation Metrics:\n",
            "  Linear Eval Accuracy: 0.3121\n",
            "  NMI: 0.1475\n",
            "  ARI: 0.0654\n",
            "  Neighborhood Accuracy: 0.1807\n",
            "    Seed 101\n",
            "Training with ICon framework...\n"
          ]
        },
        {
          "output_type": "stream",
          "name": "stderr",
          "text": [
            "Epoch 1/5:   1%|▏         | 10/782 [00:00<01:10, 11.01it/s]\n"
          ]
        },
        {
          "output_type": "stream",
          "name": "stdout",
          "text": [
            "Epoch 1, Loss: 2.6835\n"
          ]
        },
        {
          "output_type": "stream",
          "name": "stderr",
          "text": [
            "Epoch 2/5:   1%|▏         | 10/782 [00:00<01:03, 12.13it/s]\n"
          ]
        },
        {
          "output_type": "stream",
          "name": "stdout",
          "text": [
            "Epoch 2, Loss: 2.5458\n"
          ]
        },
        {
          "output_type": "stream",
          "name": "stderr",
          "text": [
            "Epoch 3/5:   1%|▏         | 10/782 [00:00<01:06, 11.66it/s]\n"
          ]
        },
        {
          "output_type": "stream",
          "name": "stdout",
          "text": [
            "Epoch 3, Loss: 2.4894\n"
          ]
        },
        {
          "output_type": "stream",
          "name": "stderr",
          "text": [
            "Epoch 4/5:   1%|▏         | 10/782 [00:00<01:08, 11.28it/s]\n"
          ]
        },
        {
          "output_type": "stream",
          "name": "stdout",
          "text": [
            "Epoch 4, Loss: 2.4640\n"
          ]
        },
        {
          "output_type": "stream",
          "name": "stderr",
          "text": [
            "Epoch 5/5:   1%|▏         | 10/782 [00:00<01:11, 10.83it/s]\n"
          ]
        },
        {
          "output_type": "stream",
          "name": "stdout",
          "text": [
            "Epoch 5, Loss: 2.4111\n"
          ]
        },
        {
          "output_type": "stream",
          "name": "stderr",
          "text": [
            "Evaluating:   6%|▋         | 10/157 [00:00<00:03, 44.87it/s]\n"
          ]
        },
        {
          "output_type": "stream",
          "name": "stdout",
          "text": [
            "Evaluation Metrics:\n",
            "  Linear Eval Accuracy: 0.3688\n",
            "  NMI: 0.1623\n",
            "  ARI: 0.0729\n",
            "  Neighborhood Accuracy: 0.2026\n",
            "Training complete!\n"
          ]
        },
        {
          "output_type": "stream",
          "name": "stderr",
          "text": [
            "Evaluating:   6%|▋         | 10/157 [00:00<00:03, 42.92it/s]\n"
          ]
        },
        {
          "output_type": "stream",
          "name": "stdout",
          "text": [
            "Evaluation Metrics:\n",
            "  Linear Eval Accuracy: 0.3688\n",
            "  NMI: 0.1623\n",
            "  ARI: 0.0729\n",
            "  Neighborhood Accuracy: 0.2026\n",
            "Running experiments on cifar100\n",
            "  Testing rdf framework\n",
            "    Seed 42\n",
            "Training with RDF framework...\n"
          ]
        },
        {
          "output_type": "stream",
          "name": "stderr",
          "text": [
            "Epoch 1/5:   1%|▏         | 10/782 [00:01<01:51,  6.94it/s]\n"
          ]
        },
        {
          "output_type": "stream",
          "name": "stdout",
          "text": [
            "Epoch 1, Loss: 1.9156\n"
          ]
        },
        {
          "output_type": "stream",
          "name": "stderr",
          "text": [
            "Epoch 2/5:   1%|▏         | 10/782 [00:01<01:43,  7.48it/s]\n"
          ]
        },
        {
          "output_type": "stream",
          "name": "stdout",
          "text": [
            "Epoch 2, Loss: 1.8082\n"
          ]
        },
        {
          "output_type": "stream",
          "name": "stderr",
          "text": [
            "Epoch 3/5:   1%|▏         | 10/782 [00:01<01:45,  7.34it/s]\n"
          ]
        },
        {
          "output_type": "stream",
          "name": "stdout",
          "text": [
            "Epoch 3, Loss: 1.7164\n"
          ]
        },
        {
          "output_type": "stream",
          "name": "stderr",
          "text": [
            "Epoch 4/5:   1%|▏         | 10/782 [00:01<01:45,  7.29it/s]\n"
          ]
        },
        {
          "output_type": "stream",
          "name": "stdout",
          "text": [
            "Epoch 4, Loss: 1.6595\n"
          ]
        },
        {
          "output_type": "stream",
          "name": "stderr",
          "text": [
            "Epoch 5/5:   1%|▏         | 10/782 [00:01<01:45,  7.34it/s]\n"
          ]
        },
        {
          "output_type": "stream",
          "name": "stdout",
          "text": [
            "Epoch 5, Loss: 1.6685\n"
          ]
        },
        {
          "output_type": "stream",
          "name": "stderr",
          "text": [
            "Evaluating:   6%|▋         | 10/157 [00:00<00:03, 48.79it/s]\n"
          ]
        },
        {
          "output_type": "stream",
          "name": "stdout",
          "text": [
            "Evaluation Metrics:\n",
            "  Linear Eval Accuracy: 0.0213\n",
            "  NMI: 0.5758\n",
            "  ARI: 0.0182\n",
            "  Neighborhood Accuracy: 0.0276\n",
            "Training complete!\n"
          ]
        },
        {
          "output_type": "stream",
          "name": "stderr",
          "text": [
            "Evaluating:   6%|▋         | 10/157 [00:00<00:03, 45.12it/s]\n"
          ]
        },
        {
          "output_type": "stream",
          "name": "stdout",
          "text": [
            "Evaluation Metrics:\n",
            "  Linear Eval Accuracy: 0.0213\n",
            "  NMI: 0.5758\n",
            "  ARI: 0.0182\n",
            "  Neighborhood Accuracy: 0.0276\n",
            "    Seed 123\n",
            "Training with RDF framework...\n"
          ]
        },
        {
          "output_type": "stream",
          "name": "stderr",
          "text": [
            "Epoch 1/5:   1%|▏         | 10/782 [00:01<01:53,  6.77it/s]\n"
          ]
        },
        {
          "output_type": "stream",
          "name": "stdout",
          "text": [
            "Epoch 1, Loss: 1.8890\n"
          ]
        },
        {
          "output_type": "stream",
          "name": "stderr",
          "text": [
            "Epoch 2/5:   1%|▏         | 10/782 [00:01<01:45,  7.35it/s]\n"
          ]
        },
        {
          "output_type": "stream",
          "name": "stdout",
          "text": [
            "Epoch 2, Loss: 1.7916\n"
          ]
        },
        {
          "output_type": "stream",
          "name": "stderr",
          "text": [
            "Epoch 3/5:   1%|▏         | 10/782 [00:01<01:42,  7.51it/s]\n"
          ]
        },
        {
          "output_type": "stream",
          "name": "stdout",
          "text": [
            "Epoch 3, Loss: 1.7233\n"
          ]
        },
        {
          "output_type": "stream",
          "name": "stderr",
          "text": [
            "Epoch 4/5:   1%|▏         | 10/782 [00:01<01:44,  7.38it/s]\n"
          ]
        },
        {
          "output_type": "stream",
          "name": "stdout",
          "text": [
            "Epoch 4, Loss: 1.6577\n"
          ]
        },
        {
          "output_type": "stream",
          "name": "stderr",
          "text": [
            "Epoch 5/5:   1%|▏         | 10/782 [00:01<01:44,  7.37it/s]\n"
          ]
        },
        {
          "output_type": "stream",
          "name": "stdout",
          "text": [
            "Epoch 5, Loss: 1.6534\n"
          ]
        },
        {
          "output_type": "stream",
          "name": "stderr",
          "text": [
            "Evaluating:   6%|▋         | 10/157 [00:00<00:03, 42.09it/s]\n"
          ]
        },
        {
          "output_type": "stream",
          "name": "stdout",
          "text": [
            "Evaluation Metrics:\n",
            "  Linear Eval Accuracy: 0.0284\n",
            "  NMI: 0.5663\n",
            "  ARI: 0.0184\n",
            "  Neighborhood Accuracy: 0.0287\n",
            "Training complete!\n"
          ]
        },
        {
          "output_type": "stream",
          "name": "stderr",
          "text": [
            "Evaluating:   6%|▋         | 10/157 [00:00<00:03, 44.22it/s]\n"
          ]
        },
        {
          "output_type": "stream",
          "name": "stdout",
          "text": [
            "Evaluation Metrics:\n",
            "  Linear Eval Accuracy: 0.0284\n",
            "  NMI: 0.5663\n",
            "  ARI: 0.0184\n",
            "  Neighborhood Accuracy: 0.0287\n",
            "    Seed 456\n",
            "Training with RDF framework...\n"
          ]
        },
        {
          "output_type": "stream",
          "name": "stderr",
          "text": [
            "Epoch 1/5:   1%|▏         | 10/782 [00:01<01:47,  7.21it/s]\n"
          ]
        },
        {
          "output_type": "stream",
          "name": "stdout",
          "text": [
            "Epoch 1, Loss: 1.9180\n"
          ]
        },
        {
          "output_type": "stream",
          "name": "stderr",
          "text": [
            "Epoch 2/5:   1%|▏         | 10/782 [00:01<01:43,  7.48it/s]\n"
          ]
        },
        {
          "output_type": "stream",
          "name": "stdout",
          "text": [
            "Epoch 2, Loss: 1.7209\n"
          ]
        },
        {
          "output_type": "stream",
          "name": "stderr",
          "text": [
            "Epoch 3/5:   1%|▏         | 10/782 [00:01<01:43,  7.48it/s]\n"
          ]
        },
        {
          "output_type": "stream",
          "name": "stdout",
          "text": [
            "Epoch 3, Loss: 1.7034\n"
          ]
        },
        {
          "output_type": "stream",
          "name": "stderr",
          "text": [
            "Epoch 4/5:   1%|▏         | 10/782 [00:01<01:48,  7.13it/s]\n"
          ]
        },
        {
          "output_type": "stream",
          "name": "stdout",
          "text": [
            "Epoch 4, Loss: 1.6684\n"
          ]
        },
        {
          "output_type": "stream",
          "name": "stderr",
          "text": [
            "Epoch 5/5:   1%|▏         | 10/782 [00:01<01:45,  7.33it/s]\n"
          ]
        },
        {
          "output_type": "stream",
          "name": "stdout",
          "text": [
            "Epoch 5, Loss: 1.6066\n"
          ]
        },
        {
          "output_type": "stream",
          "name": "stderr",
          "text": [
            "Evaluating:   6%|▋         | 10/157 [00:00<00:03, 48.20it/s]\n"
          ]
        },
        {
          "output_type": "stream",
          "name": "stdout",
          "text": [
            "Evaluation Metrics:\n",
            "  Linear Eval Accuracy: 0.0355\n",
            "  NMI: 0.5678\n",
            "  ARI: 0.0179\n",
            "  Neighborhood Accuracy: 0.0224\n",
            "Training complete!\n"
          ]
        },
        {
          "output_type": "stream",
          "name": "stderr",
          "text": [
            "Evaluating:   6%|▋         | 10/157 [00:00<00:03, 46.21it/s]\n"
          ]
        },
        {
          "output_type": "stream",
          "name": "stdout",
          "text": [
            "Evaluation Metrics:\n",
            "  Linear Eval Accuracy: 0.0355\n",
            "  NMI: 0.5678\n",
            "  ARI: 0.0179\n",
            "  Neighborhood Accuracy: 0.0224\n",
            "    Seed 789\n",
            "Training with RDF framework...\n"
          ]
        },
        {
          "output_type": "stream",
          "name": "stderr",
          "text": [
            "Epoch 1/5:   1%|▏         | 10/782 [00:01<01:44,  7.39it/s]\n"
          ]
        },
        {
          "output_type": "stream",
          "name": "stdout",
          "text": [
            "Epoch 1, Loss: 1.9116\n"
          ]
        },
        {
          "output_type": "stream",
          "name": "stderr",
          "text": [
            "Epoch 2/5:   1%|▏         | 10/782 [00:01<01:49,  7.05it/s]\n"
          ]
        },
        {
          "output_type": "stream",
          "name": "stdout",
          "text": [
            "Epoch 2, Loss: 1.7662\n"
          ]
        },
        {
          "output_type": "stream",
          "name": "stderr",
          "text": [
            "Epoch 3/5:   1%|▏         | 10/782 [00:01<01:42,  7.54it/s]\n"
          ]
        },
        {
          "output_type": "stream",
          "name": "stdout",
          "text": [
            "Epoch 3, Loss: 1.7450\n"
          ]
        },
        {
          "output_type": "stream",
          "name": "stderr",
          "text": [
            "Epoch 4/5:   1%|▏         | 10/782 [00:01<01:45,  7.31it/s]\n"
          ]
        },
        {
          "output_type": "stream",
          "name": "stdout",
          "text": [
            "Epoch 4, Loss: 1.6910\n"
          ]
        },
        {
          "output_type": "stream",
          "name": "stderr",
          "text": [
            "Epoch 5/5:   1%|▏         | 10/782 [00:01<01:42,  7.55it/s]\n"
          ]
        },
        {
          "output_type": "stream",
          "name": "stdout",
          "text": [
            "Epoch 5, Loss: 1.6961\n"
          ]
        },
        {
          "output_type": "stream",
          "name": "stderr",
          "text": [
            "Evaluating:   6%|▋         | 10/157 [00:00<00:03, 44.03it/s]\n"
          ]
        },
        {
          "output_type": "stream",
          "name": "stdout",
          "text": [
            "Evaluation Metrics:\n",
            "  Linear Eval Accuracy: 0.0142\n",
            "  NMI: 0.5814\n",
            "  ARI: 0.0229\n",
            "  Neighborhood Accuracy: 0.0330\n",
            "Training complete!\n"
          ]
        },
        {
          "output_type": "stream",
          "name": "stderr",
          "text": [
            "Evaluating:   6%|▋         | 10/157 [00:00<00:03, 44.12it/s]\n"
          ]
        },
        {
          "output_type": "stream",
          "name": "stdout",
          "text": [
            "Evaluation Metrics:\n",
            "  Linear Eval Accuracy: 0.0142\n",
            "  NMI: 0.5814\n",
            "  ARI: 0.0229\n",
            "  Neighborhood Accuracy: 0.0330\n",
            "    Seed 101\n",
            "Training with RDF framework...\n"
          ]
        },
        {
          "output_type": "stream",
          "name": "stderr",
          "text": [
            "Epoch 1/5:   1%|▏         | 10/782 [00:01<01:45,  7.33it/s]\n"
          ]
        },
        {
          "output_type": "stream",
          "name": "stdout",
          "text": [
            "Epoch 1, Loss: 1.9518\n"
          ]
        },
        {
          "output_type": "stream",
          "name": "stderr",
          "text": [
            "Epoch 2/5:   1%|▏         | 10/782 [00:01<01:50,  6.99it/s]\n"
          ]
        },
        {
          "output_type": "stream",
          "name": "stdout",
          "text": [
            "Epoch 2, Loss: 1.8591\n"
          ]
        },
        {
          "output_type": "stream",
          "name": "stderr",
          "text": [
            "Epoch 3/5:   1%|▏         | 10/782 [00:01<01:48,  7.10it/s]\n"
          ]
        },
        {
          "output_type": "stream",
          "name": "stdout",
          "text": [
            "Epoch 3, Loss: 1.7178\n"
          ]
        },
        {
          "output_type": "stream",
          "name": "stderr",
          "text": [
            "Epoch 4/5:   1%|▏         | 10/782 [00:01<01:44,  7.39it/s]\n"
          ]
        },
        {
          "output_type": "stream",
          "name": "stdout",
          "text": [
            "Epoch 4, Loss: 1.6852\n"
          ]
        },
        {
          "output_type": "stream",
          "name": "stderr",
          "text": [
            "Epoch 5/5:   1%|▏         | 10/782 [00:01<01:44,  7.38it/s]\n"
          ]
        },
        {
          "output_type": "stream",
          "name": "stdout",
          "text": [
            "Epoch 5, Loss: 1.6591\n"
          ]
        },
        {
          "output_type": "stream",
          "name": "stderr",
          "text": [
            "Evaluating:   6%|▋         | 10/157 [00:00<00:03, 46.39it/s]\n"
          ]
        },
        {
          "output_type": "stream",
          "name": "stdout",
          "text": [
            "Evaluation Metrics:\n",
            "  Linear Eval Accuracy: 0.0284\n",
            "  NMI: 0.5718\n",
            "  ARI: 0.0188\n",
            "  Neighborhood Accuracy: 0.0259\n",
            "Training complete!\n"
          ]
        },
        {
          "output_type": "stream",
          "name": "stderr",
          "text": [
            "Evaluating:   6%|▋         | 10/157 [00:00<00:03, 47.78it/s]\n"
          ]
        },
        {
          "output_type": "stream",
          "name": "stdout",
          "text": [
            "Evaluation Metrics:\n",
            "  Linear Eval Accuracy: 0.0284\n",
            "  NMI: 0.5718\n",
            "  ARI: 0.0188\n",
            "  Neighborhood Accuracy: 0.0259\n",
            "  Testing icon framework\n",
            "    Seed 42\n",
            "Training with ICon framework...\n"
          ]
        },
        {
          "output_type": "stream",
          "name": "stderr",
          "text": [
            "Epoch 1/5:   1%|▏         | 10/782 [00:00<01:12, 10.68it/s]\n"
          ]
        },
        {
          "output_type": "stream",
          "name": "stdout",
          "text": [
            "Epoch 1, Loss: 2.6337\n"
          ]
        },
        {
          "output_type": "stream",
          "name": "stderr",
          "text": [
            "Epoch 2/5:   1%|▏         | 10/782 [00:00<01:07, 11.42it/s]\n"
          ]
        },
        {
          "output_type": "stream",
          "name": "stdout",
          "text": [
            "Epoch 2, Loss: 2.4935\n"
          ]
        },
        {
          "output_type": "stream",
          "name": "stderr",
          "text": [
            "Epoch 3/5:   1%|▏         | 10/782 [00:00<01:11, 10.80it/s]\n"
          ]
        },
        {
          "output_type": "stream",
          "name": "stdout",
          "text": [
            "Epoch 3, Loss: 2.4492\n"
          ]
        },
        {
          "output_type": "stream",
          "name": "stderr",
          "text": [
            "Epoch 4/5:   1%|▏         | 10/782 [00:00<01:07, 11.44it/s]\n"
          ]
        },
        {
          "output_type": "stream",
          "name": "stdout",
          "text": [
            "Epoch 4, Loss: 2.3729\n"
          ]
        },
        {
          "output_type": "stream",
          "name": "stderr",
          "text": [
            "Epoch 5/5:   1%|▏         | 10/782 [00:00<01:10, 10.99it/s]\n"
          ]
        },
        {
          "output_type": "stream",
          "name": "stdout",
          "text": [
            "Epoch 5, Loss: 2.3694\n"
          ]
        },
        {
          "output_type": "stream",
          "name": "stderr",
          "text": [
            "Evaluating:   6%|▋         | 10/157 [00:00<00:03, 47.47it/s]\n"
          ]
        },
        {
          "output_type": "stream",
          "name": "stdout",
          "text": [
            "Evaluation Metrics:\n",
            "  Linear Eval Accuracy: 0.0284\n",
            "  NMI: 0.5776\n",
            "  ARI: 0.0207\n",
            "  Neighborhood Accuracy: 0.0315\n",
            "Training complete!\n"
          ]
        },
        {
          "output_type": "stream",
          "name": "stderr",
          "text": [
            "Evaluating:   6%|▋         | 10/157 [00:00<00:03, 44.13it/s]\n"
          ]
        },
        {
          "output_type": "stream",
          "name": "stdout",
          "text": [
            "Evaluation Metrics:\n",
            "  Linear Eval Accuracy: 0.0284\n",
            "  NMI: 0.5776\n",
            "  ARI: 0.0207\n",
            "  Neighborhood Accuracy: 0.0315\n",
            "    Seed 123\n",
            "Training with ICon framework...\n"
          ]
        },
        {
          "output_type": "stream",
          "name": "stderr",
          "text": [
            "Epoch 1/5:   1%|▏         | 10/782 [00:01<01:39,  7.78it/s]\n"
          ]
        },
        {
          "output_type": "stream",
          "name": "stdout",
          "text": [
            "Epoch 1, Loss: 2.6010\n"
          ]
        },
        {
          "output_type": "stream",
          "name": "stderr",
          "text": [
            "Epoch 2/5:   1%|▏         | 10/782 [00:00<01:07, 11.50it/s]\n"
          ]
        },
        {
          "output_type": "stream",
          "name": "stdout",
          "text": [
            "Epoch 2, Loss: 2.5216\n"
          ]
        },
        {
          "output_type": "stream",
          "name": "stderr",
          "text": [
            "Epoch 3/5:   1%|▏         | 10/782 [00:00<01:07, 11.51it/s]\n"
          ]
        },
        {
          "output_type": "stream",
          "name": "stdout",
          "text": [
            "Epoch 3, Loss: 2.4472\n"
          ]
        },
        {
          "output_type": "stream",
          "name": "stderr",
          "text": [
            "Epoch 4/5:   1%|▏         | 10/782 [00:00<01:06, 11.58it/s]\n"
          ]
        },
        {
          "output_type": "stream",
          "name": "stdout",
          "text": [
            "Epoch 4, Loss: 2.3958\n"
          ]
        },
        {
          "output_type": "stream",
          "name": "stderr",
          "text": [
            "Epoch 5/5:   1%|▏         | 10/782 [00:00<01:11, 10.79it/s]\n"
          ]
        },
        {
          "output_type": "stream",
          "name": "stdout",
          "text": [
            "Epoch 5, Loss: 2.3740\n"
          ]
        },
        {
          "output_type": "stream",
          "name": "stderr",
          "text": [
            "Evaluating:   6%|▋         | 10/157 [00:00<00:03, 41.64it/s]\n"
          ]
        },
        {
          "output_type": "stream",
          "name": "stdout",
          "text": [
            "Evaluation Metrics:\n",
            "  Linear Eval Accuracy: 0.0284\n",
            "  NMI: 0.5730\n",
            "  ARI: 0.0216\n",
            "  Neighborhood Accuracy: 0.0295\n",
            "Training complete!\n"
          ]
        },
        {
          "output_type": "stream",
          "name": "stderr",
          "text": [
            "Evaluating:   6%|▋         | 10/157 [00:00<00:03, 42.18it/s]\n"
          ]
        },
        {
          "output_type": "stream",
          "name": "stdout",
          "text": [
            "Evaluation Metrics:\n",
            "  Linear Eval Accuracy: 0.0284\n",
            "  NMI: 0.5730\n",
            "  ARI: 0.0216\n",
            "  Neighborhood Accuracy: 0.0295\n",
            "    Seed 456\n",
            "Training with ICon framework...\n"
          ]
        },
        {
          "output_type": "stream",
          "name": "stderr",
          "text": [
            "Epoch 1/5:   1%|▏         | 10/782 [00:00<01:06, 11.63it/s]\n"
          ]
        },
        {
          "output_type": "stream",
          "name": "stdout",
          "text": [
            "Epoch 1, Loss: 2.6424\n"
          ]
        },
        {
          "output_type": "stream",
          "name": "stderr",
          "text": [
            "Epoch 2/5:   1%|▏         | 10/782 [00:00<01:09, 11.16it/s]\n"
          ]
        },
        {
          "output_type": "stream",
          "name": "stdout",
          "text": [
            "Epoch 2, Loss: 2.4593\n"
          ]
        },
        {
          "output_type": "stream",
          "name": "stderr",
          "text": [
            "Epoch 3/5:   1%|▏         | 10/782 [00:00<01:05, 11.85it/s]\n"
          ]
        },
        {
          "output_type": "stream",
          "name": "stdout",
          "text": [
            "Epoch 3, Loss: 2.4369\n"
          ]
        },
        {
          "output_type": "stream",
          "name": "stderr",
          "text": [
            "Epoch 4/5:   1%|▏         | 10/782 [00:00<01:02, 12.27it/s]\n"
          ]
        },
        {
          "output_type": "stream",
          "name": "stdout",
          "text": [
            "Epoch 4, Loss: 2.3877\n"
          ]
        },
        {
          "output_type": "stream",
          "name": "stderr",
          "text": [
            "Epoch 5/5:   1%|▏         | 10/782 [00:00<01:05, 11.80it/s]\n"
          ]
        },
        {
          "output_type": "stream",
          "name": "stdout",
          "text": [
            "Epoch 5, Loss: 2.3098\n"
          ]
        },
        {
          "output_type": "stream",
          "name": "stderr",
          "text": [
            "Evaluating:   6%|▋         | 10/157 [00:00<00:03, 46.94it/s]\n"
          ]
        },
        {
          "output_type": "stream",
          "name": "stdout",
          "text": [
            "Evaluation Metrics:\n",
            "  Linear Eval Accuracy: 0.0213\n",
            "  NMI: 0.5665\n",
            "  ARI: 0.0178\n",
            "  Neighborhood Accuracy: 0.0247\n",
            "Training complete!\n"
          ]
        },
        {
          "output_type": "stream",
          "name": "stderr",
          "text": [
            "Evaluating:   6%|▋         | 10/157 [00:00<00:03, 44.23it/s]\n"
          ]
        },
        {
          "output_type": "stream",
          "name": "stdout",
          "text": [
            "Evaluation Metrics:\n",
            "  Linear Eval Accuracy: 0.0213\n",
            "  NMI: 0.5665\n",
            "  ARI: 0.0178\n",
            "  Neighborhood Accuracy: 0.0247\n",
            "    Seed 789\n",
            "Training with ICon framework...\n"
          ]
        },
        {
          "output_type": "stream",
          "name": "stderr",
          "text": [
            "Epoch 1/5:   1%|▏         | 10/782 [00:00<01:05, 11.78it/s]\n"
          ]
        },
        {
          "output_type": "stream",
          "name": "stdout",
          "text": [
            "Epoch 1, Loss: 2.6225\n"
          ]
        },
        {
          "output_type": "stream",
          "name": "stderr",
          "text": [
            "Epoch 2/5:   1%|▏         | 10/782 [00:00<01:10, 10.95it/s]\n"
          ]
        },
        {
          "output_type": "stream",
          "name": "stdout",
          "text": [
            "Epoch 2, Loss: 2.5075\n"
          ]
        },
        {
          "output_type": "stream",
          "name": "stderr",
          "text": [
            "Epoch 3/5:   1%|▏         | 10/782 [00:00<01:09, 11.14it/s]\n"
          ]
        },
        {
          "output_type": "stream",
          "name": "stdout",
          "text": [
            "Epoch 3, Loss: 2.4819\n"
          ]
        },
        {
          "output_type": "stream",
          "name": "stderr",
          "text": [
            "Epoch 4/5:   1%|▏         | 10/782 [00:00<01:11, 10.72it/s]\n"
          ]
        },
        {
          "output_type": "stream",
          "name": "stdout",
          "text": [
            "Epoch 4, Loss: 2.4101\n"
          ]
        },
        {
          "output_type": "stream",
          "name": "stderr",
          "text": [
            "Epoch 5/5:   1%|▏         | 10/782 [00:00<01:09, 11.08it/s]\n"
          ]
        },
        {
          "output_type": "stream",
          "name": "stdout",
          "text": [
            "Epoch 5, Loss: 2.3690\n"
          ]
        },
        {
          "output_type": "stream",
          "name": "stderr",
          "text": [
            "Evaluating:   6%|▋         | 10/157 [00:00<00:03, 47.45it/s]\n"
          ]
        },
        {
          "output_type": "stream",
          "name": "stdout",
          "text": [
            "Evaluation Metrics:\n",
            "  Linear Eval Accuracy: 0.0142\n",
            "  NMI: 0.5776\n",
            "  ARI: 0.0165\n",
            "  Neighborhood Accuracy: 0.0304\n",
            "Training complete!\n"
          ]
        },
        {
          "output_type": "stream",
          "name": "stderr",
          "text": [
            "Evaluating:   6%|▋         | 10/157 [00:00<00:03, 47.06it/s]\n"
          ]
        },
        {
          "output_type": "stream",
          "name": "stdout",
          "text": [
            "Evaluation Metrics:\n",
            "  Linear Eval Accuracy: 0.0142\n",
            "  NMI: 0.5776\n",
            "  ARI: 0.0165\n",
            "  Neighborhood Accuracy: 0.0304\n",
            "    Seed 101\n",
            "Training with ICon framework...\n"
          ]
        },
        {
          "output_type": "stream",
          "name": "stderr",
          "text": [
            "Epoch 1/5:   1%|▏         | 10/782 [00:00<01:08, 11.31it/s]\n"
          ]
        },
        {
          "output_type": "stream",
          "name": "stdout",
          "text": [
            "Epoch 1, Loss: 2.6899\n"
          ]
        },
        {
          "output_type": "stream",
          "name": "stderr",
          "text": [
            "Epoch 2/5:   1%|▏         | 10/782 [00:00<01:11, 10.84it/s]\n"
          ]
        },
        {
          "output_type": "stream",
          "name": "stdout",
          "text": [
            "Epoch 2, Loss: 2.6051\n"
          ]
        },
        {
          "output_type": "stream",
          "name": "stderr",
          "text": [
            "Epoch 3/5:   1%|▏         | 10/782 [00:00<01:15, 10.23it/s]\n"
          ]
        },
        {
          "output_type": "stream",
          "name": "stdout",
          "text": [
            "Epoch 3, Loss: 2.4528\n"
          ]
        },
        {
          "output_type": "stream",
          "name": "stderr",
          "text": [
            "Epoch 4/5:   1%|▏         | 10/782 [00:00<01:03, 12.16it/s]\n"
          ]
        },
        {
          "output_type": "stream",
          "name": "stdout",
          "text": [
            "Epoch 4, Loss: 2.4342\n"
          ]
        },
        {
          "output_type": "stream",
          "name": "stderr",
          "text": [
            "Epoch 5/5:   1%|▏         | 10/782 [00:00<01:08, 11.24it/s]\n"
          ]
        },
        {
          "output_type": "stream",
          "name": "stdout",
          "text": [
            "Epoch 5, Loss: 2.4021\n"
          ]
        },
        {
          "output_type": "stream",
          "name": "stderr",
          "text": [
            "Evaluating:   6%|▋         | 10/157 [00:00<00:03, 45.10it/s]\n"
          ]
        },
        {
          "output_type": "stream",
          "name": "stdout",
          "text": [
            "Evaluation Metrics:\n",
            "  Linear Eval Accuracy: 0.0213\n",
            "  NMI: 0.5807\n",
            "  ARI: 0.0166\n",
            "  Neighborhood Accuracy: 0.0310\n",
            "Training complete!\n"
          ]
        },
        {
          "output_type": "stream",
          "name": "stderr",
          "text": [
            "Evaluating:   6%|▋         | 10/157 [00:00<00:03, 46.58it/s]\n"
          ]
        },
        {
          "output_type": "stream",
          "name": "stdout",
          "text": [
            "Evaluation Metrics:\n",
            "  Linear Eval Accuracy: 0.0213\n",
            "  NMI: 0.5807\n",
            "  ARI: 0.0166\n",
            "  Neighborhood Accuracy: 0.0310\n",
            "Running experiments on stl10\n",
            "  Testing rdf framework\n",
            "    Seed 42\n",
            "Training with RDF framework...\n"
          ]
        },
        {
          "output_type": "stream",
          "name": "stderr",
          "text": [
            "Epoch 1/5:   6%|▋         | 10/157 [00:00<00:14, 10.03it/s]\n"
          ]
        },
        {
          "output_type": "stream",
          "name": "stdout",
          "text": [
            "Epoch 1, Loss: 1.5958\n"
          ]
        },
        {
          "output_type": "stream",
          "name": "stderr",
          "text": [
            "Epoch 2/5:   6%|▋         | 10/157 [00:00<00:14, 10.12it/s]\n"
          ]
        },
        {
          "output_type": "stream",
          "name": "stdout",
          "text": [
            "Epoch 2, Loss: 1.5065\n"
          ]
        },
        {
          "output_type": "stream",
          "name": "stderr",
          "text": [
            "Epoch 3/5:   6%|▋         | 10/157 [00:00<00:14, 10.03it/s]\n"
          ]
        },
        {
          "output_type": "stream",
          "name": "stdout",
          "text": [
            "Epoch 3, Loss: 1.4965\n"
          ]
        },
        {
          "output_type": "stream",
          "name": "stderr",
          "text": [
            "Epoch 4/5:   6%|▋         | 10/157 [00:00<00:14, 10.00it/s]\n"
          ]
        },
        {
          "output_type": "stream",
          "name": "stdout",
          "text": [
            "Epoch 4, Loss: 1.5112\n"
          ]
        },
        {
          "output_type": "stream",
          "name": "stderr",
          "text": [
            "Epoch 5/5:   6%|▋         | 10/157 [00:01<00:14,  9.93it/s]\n"
          ]
        },
        {
          "output_type": "stream",
          "name": "stdout",
          "text": [
            "Epoch 5, Loss: 1.4596\n"
          ]
        },
        {
          "output_type": "stream",
          "name": "stderr",
          "text": [
            "Evaluating:   4%|▍         | 10/250 [00:00<00:05, 44.26it/s]\n"
          ]
        },
        {
          "output_type": "stream",
          "name": "stdout",
          "text": [
            "Evaluation Metrics:\n",
            "  Linear Eval Accuracy: 0.1831\n",
            "  NMI: 0.1383\n",
            "  ARI: 0.0689\n",
            "  Neighborhood Accuracy: 0.1381\n",
            "Training complete!\n"
          ]
        },
        {
          "output_type": "stream",
          "name": "stderr",
          "text": [
            "Evaluating:   4%|▍         | 10/250 [00:00<00:06, 37.41it/s]\n"
          ]
        },
        {
          "output_type": "stream",
          "name": "stdout",
          "text": [
            "Evaluation Metrics:\n",
            "  Linear Eval Accuracy: 0.1831\n",
            "  NMI: 0.1383\n",
            "  ARI: 0.0689\n",
            "  Neighborhood Accuracy: 0.1381\n",
            "    Seed 123\n",
            "Training with RDF framework...\n"
          ]
        },
        {
          "output_type": "stream",
          "name": "stderr",
          "text": [
            "Epoch 1/5:   6%|▋         | 10/157 [00:01<00:14,  9.85it/s]\n"
          ]
        },
        {
          "output_type": "stream",
          "name": "stdout",
          "text": [
            "Epoch 1, Loss: 1.5432\n"
          ]
        },
        {
          "output_type": "stream",
          "name": "stderr",
          "text": [
            "Epoch 2/5:   6%|▋         | 10/157 [00:00<00:14, 10.40it/s]\n"
          ]
        },
        {
          "output_type": "stream",
          "name": "stdout",
          "text": [
            "Epoch 2, Loss: 1.4150\n"
          ]
        },
        {
          "output_type": "stream",
          "name": "stderr",
          "text": [
            "Epoch 3/5:   6%|▋         | 10/157 [00:01<00:14,  9.88it/s]\n"
          ]
        },
        {
          "output_type": "stream",
          "name": "stdout",
          "text": [
            "Epoch 3, Loss: 1.3974\n"
          ]
        },
        {
          "output_type": "stream",
          "name": "stderr",
          "text": [
            "Epoch 4/5:   6%|▋         | 10/157 [00:00<00:14, 10.21it/s]\n"
          ]
        },
        {
          "output_type": "stream",
          "name": "stdout",
          "text": [
            "Epoch 4, Loss: 1.3748\n"
          ]
        },
        {
          "output_type": "stream",
          "name": "stderr",
          "text": [
            "Epoch 5/5:   6%|▋         | 10/157 [00:00<00:13, 10.72it/s]\n"
          ]
        },
        {
          "output_type": "stream",
          "name": "stdout",
          "text": [
            "Epoch 5, Loss: 1.3428\n"
          ]
        },
        {
          "output_type": "stream",
          "name": "stderr",
          "text": [
            "Evaluating:   4%|▍         | 10/250 [00:00<00:05, 43.21it/s]\n"
          ]
        },
        {
          "output_type": "stream",
          "name": "stdout",
          "text": [
            "Evaluation Metrics:\n",
            "  Linear Eval Accuracy: 0.2113\n",
            "  NMI: 0.2272\n",
            "  ARI: 0.0901\n",
            "  Neighborhood Accuracy: 0.2028\n",
            "Training complete!\n"
          ]
        },
        {
          "output_type": "stream",
          "name": "stderr",
          "text": [
            "Evaluating:   4%|▍         | 10/250 [00:00<00:05, 44.36it/s]\n"
          ]
        },
        {
          "output_type": "stream",
          "name": "stdout",
          "text": [
            "Evaluation Metrics:\n",
            "  Linear Eval Accuracy: 0.2113\n",
            "  NMI: 0.2272\n",
            "  ARI: 0.0901\n",
            "  Neighborhood Accuracy: 0.2028\n",
            "    Seed 456\n",
            "Training with RDF framework...\n"
          ]
        },
        {
          "output_type": "stream",
          "name": "stderr",
          "text": [
            "Epoch 1/5:   6%|▋         | 10/157 [00:01<00:14,  9.99it/s]\n"
          ]
        },
        {
          "output_type": "stream",
          "name": "stdout",
          "text": [
            "Epoch 1, Loss: 1.5339\n"
          ]
        },
        {
          "output_type": "stream",
          "name": "stderr",
          "text": [
            "Epoch 2/5:   6%|▋         | 10/157 [00:00<00:14, 10.28it/s]\n"
          ]
        },
        {
          "output_type": "stream",
          "name": "stdout",
          "text": [
            "Epoch 2, Loss: 1.4984\n"
          ]
        },
        {
          "output_type": "stream",
          "name": "stderr",
          "text": [
            "Epoch 3/5:   6%|▋         | 10/157 [00:00<00:14, 10.16it/s]\n"
          ]
        },
        {
          "output_type": "stream",
          "name": "stdout",
          "text": [
            "Epoch 3, Loss: 1.3876\n"
          ]
        },
        {
          "output_type": "stream",
          "name": "stderr",
          "text": [
            "Epoch 4/5:   6%|▋         | 10/157 [00:01<00:14,  9.80it/s]\n"
          ]
        },
        {
          "output_type": "stream",
          "name": "stdout",
          "text": [
            "Epoch 4, Loss: 1.2704\n"
          ]
        },
        {
          "output_type": "stream",
          "name": "stderr",
          "text": [
            "Epoch 5/5:   6%|▋         | 10/157 [00:01<00:16,  9.14it/s]\n"
          ]
        },
        {
          "output_type": "stream",
          "name": "stdout",
          "text": [
            "Epoch 5, Loss: 1.2336\n"
          ]
        },
        {
          "output_type": "stream",
          "name": "stderr",
          "text": [
            "Evaluating:   4%|▍         | 10/250 [00:00<00:05, 42.24it/s]\n"
          ]
        },
        {
          "output_type": "stream",
          "name": "stdout",
          "text": [
            "Evaluation Metrics:\n",
            "  Linear Eval Accuracy: 0.1408\n",
            "  NMI: 0.2162\n",
            "  ARI: 0.0958\n",
            "  Neighborhood Accuracy: 0.1841\n",
            "Training complete!\n"
          ]
        },
        {
          "output_type": "stream",
          "name": "stderr",
          "text": [
            "Evaluating:   4%|▍         | 10/250 [00:00<00:05, 41.70it/s]\n"
          ]
        },
        {
          "output_type": "stream",
          "name": "stdout",
          "text": [
            "Evaluation Metrics:\n",
            "  Linear Eval Accuracy: 0.1408\n",
            "  NMI: 0.2162\n",
            "  ARI: 0.0958\n",
            "  Neighborhood Accuracy: 0.1841\n",
            "    Seed 789\n",
            "Training with RDF framework...\n"
          ]
        },
        {
          "output_type": "stream",
          "name": "stderr",
          "text": [
            "Epoch 1/5:   6%|▋         | 10/157 [00:00<00:14, 10.02it/s]\n"
          ]
        },
        {
          "output_type": "stream",
          "name": "stdout",
          "text": [
            "Epoch 1, Loss: 1.5476\n"
          ]
        },
        {
          "output_type": "stream",
          "name": "stderr",
          "text": [
            "Epoch 2/5:   6%|▋         | 10/157 [00:00<00:14, 10.48it/s]\n"
          ]
        },
        {
          "output_type": "stream",
          "name": "stdout",
          "text": [
            "Epoch 2, Loss: 1.3943\n"
          ]
        },
        {
          "output_type": "stream",
          "name": "stderr",
          "text": [
            "Epoch 3/5:   6%|▋         | 10/157 [00:00<00:14, 10.42it/s]\n"
          ]
        },
        {
          "output_type": "stream",
          "name": "stdout",
          "text": [
            "Epoch 3, Loss: 1.4199\n"
          ]
        },
        {
          "output_type": "stream",
          "name": "stderr",
          "text": [
            "Epoch 4/5:   6%|▋         | 10/157 [00:00<00:14, 10.11it/s]\n"
          ]
        },
        {
          "output_type": "stream",
          "name": "stdout",
          "text": [
            "Epoch 4, Loss: 1.3643\n"
          ]
        },
        {
          "output_type": "stream",
          "name": "stderr",
          "text": [
            "Epoch 5/5:   6%|▋         | 10/157 [00:00<00:13, 10.64it/s]\n"
          ]
        },
        {
          "output_type": "stream",
          "name": "stdout",
          "text": [
            "Epoch 5, Loss: 1.2939\n"
          ]
        },
        {
          "output_type": "stream",
          "name": "stderr",
          "text": [
            "Evaluating:   4%|▍         | 10/250 [00:00<00:05, 40.75it/s]\n"
          ]
        },
        {
          "output_type": "stream",
          "name": "stdout",
          "text": [
            "Evaluation Metrics:\n",
            "  Linear Eval Accuracy: 0.3099\n",
            "  NMI: 0.2527\n",
            "  ARI: 0.0944\n",
            "  Neighborhood Accuracy: 0.2074\n",
            "Training complete!\n"
          ]
        },
        {
          "output_type": "stream",
          "name": "stderr",
          "text": [
            "Evaluating:   4%|▍         | 10/250 [00:00<00:05, 41.34it/s]\n"
          ]
        },
        {
          "output_type": "stream",
          "name": "stdout",
          "text": [
            "Evaluation Metrics:\n",
            "  Linear Eval Accuracy: 0.3099\n",
            "  NMI: 0.2527\n",
            "  ARI: 0.0944\n",
            "  Neighborhood Accuracy: 0.2074\n",
            "    Seed 101\n",
            "Training with RDF framework...\n"
          ]
        },
        {
          "output_type": "stream",
          "name": "stderr",
          "text": [
            "Epoch 1/5:   6%|▋         | 10/157 [00:01<00:14,  9.95it/s]\n"
          ]
        },
        {
          "output_type": "stream",
          "name": "stdout",
          "text": [
            "Epoch 1, Loss: 1.4979\n"
          ]
        },
        {
          "output_type": "stream",
          "name": "stderr",
          "text": [
            "Epoch 2/5:   6%|▋         | 10/157 [00:01<00:15,  9.69it/s]\n"
          ]
        },
        {
          "output_type": "stream",
          "name": "stdout",
          "text": [
            "Epoch 2, Loss: 1.4472\n"
          ]
        },
        {
          "output_type": "stream",
          "name": "stderr",
          "text": [
            "Epoch 3/5:   6%|▋         | 10/157 [00:00<00:14, 10.08it/s]\n"
          ]
        },
        {
          "output_type": "stream",
          "name": "stdout",
          "text": [
            "Epoch 3, Loss: 1.3911\n"
          ]
        },
        {
          "output_type": "stream",
          "name": "stderr",
          "text": [
            "Epoch 4/5:   6%|▋         | 10/157 [00:00<00:14, 10.05it/s]\n"
          ]
        },
        {
          "output_type": "stream",
          "name": "stdout",
          "text": [
            "Epoch 4, Loss: 1.3733\n"
          ]
        },
        {
          "output_type": "stream",
          "name": "stderr",
          "text": [
            "Epoch 5/5:   6%|▋         | 10/157 [00:01<00:15,  9.62it/s]\n"
          ]
        },
        {
          "output_type": "stream",
          "name": "stdout",
          "text": [
            "Epoch 5, Loss: 1.3358\n"
          ]
        },
        {
          "output_type": "stream",
          "name": "stderr",
          "text": [
            "Evaluating:   4%|▍         | 10/250 [00:00<00:05, 43.19it/s]\n"
          ]
        },
        {
          "output_type": "stream",
          "name": "stdout",
          "text": [
            "Evaluation Metrics:\n",
            "  Linear Eval Accuracy: 0.2254\n",
            "  NMI: 0.2040\n",
            "  ARI: 0.0881\n",
            "  Neighborhood Accuracy: 0.1892\n",
            "Training complete!\n"
          ]
        },
        {
          "output_type": "stream",
          "name": "stderr",
          "text": [
            "Evaluating:   4%|▍         | 10/250 [00:00<00:05, 44.56it/s]\n"
          ]
        },
        {
          "output_type": "stream",
          "name": "stdout",
          "text": [
            "Evaluation Metrics:\n",
            "  Linear Eval Accuracy: 0.2254\n",
            "  NMI: 0.2040\n",
            "  ARI: 0.0881\n",
            "  Neighborhood Accuracy: 0.1892\n",
            "  Testing icon framework\n",
            "    Seed 42\n",
            "Training with ICon framework...\n"
          ]
        },
        {
          "output_type": "stream",
          "name": "stderr",
          "text": [
            "Epoch 1/5:   6%|▋         | 10/157 [00:00<00:10, 13.57it/s]\n"
          ]
        },
        {
          "output_type": "stream",
          "name": "stdout",
          "text": [
            "Epoch 1, Loss: 2.2837\n"
          ]
        },
        {
          "output_type": "stream",
          "name": "stderr",
          "text": [
            "Epoch 2/5:   6%|▋         | 10/157 [00:00<00:10, 14.39it/s]\n"
          ]
        },
        {
          "output_type": "stream",
          "name": "stdout",
          "text": [
            "Epoch 2, Loss: 2.1732\n"
          ]
        },
        {
          "output_type": "stream",
          "name": "stderr",
          "text": [
            "Epoch 3/5:   6%|▋         | 10/157 [00:00<00:10, 14.16it/s]\n"
          ]
        },
        {
          "output_type": "stream",
          "name": "stdout",
          "text": [
            "Epoch 3, Loss: 2.1168\n"
          ]
        },
        {
          "output_type": "stream",
          "name": "stderr",
          "text": [
            "Epoch 4/5:   6%|▋         | 10/157 [00:00<00:10, 13.59it/s]\n"
          ]
        },
        {
          "output_type": "stream",
          "name": "stdout",
          "text": [
            "Epoch 4, Loss: 2.1138\n"
          ]
        },
        {
          "output_type": "stream",
          "name": "stderr",
          "text": [
            "Epoch 5/5:   6%|▋         | 10/157 [00:00<00:10, 13.48it/s]\n"
          ]
        },
        {
          "output_type": "stream",
          "name": "stdout",
          "text": [
            "Epoch 5, Loss: 2.1099\n"
          ]
        },
        {
          "output_type": "stream",
          "name": "stderr",
          "text": [
            "Evaluating:   4%|▍         | 10/250 [00:00<00:05, 42.88it/s]\n"
          ]
        },
        {
          "output_type": "stream",
          "name": "stdout",
          "text": [
            "Evaluation Metrics:\n",
            "  Linear Eval Accuracy: 0.2676\n",
            "  NMI: 0.2693\n",
            "  ARI: 0.1252\n",
            "  Neighborhood Accuracy: 0.2216\n",
            "Training complete!\n"
          ]
        },
        {
          "output_type": "stream",
          "name": "stderr",
          "text": [
            "Evaluating:   4%|▍         | 10/250 [00:00<00:05, 43.01it/s]\n"
          ]
        },
        {
          "output_type": "stream",
          "name": "stdout",
          "text": [
            "Evaluation Metrics:\n",
            "  Linear Eval Accuracy: 0.2676\n",
            "  NMI: 0.2693\n",
            "  ARI: 0.1252\n",
            "  Neighborhood Accuracy: 0.2216\n",
            "    Seed 123\n",
            "Training with ICon framework...\n"
          ]
        },
        {
          "output_type": "stream",
          "name": "stderr",
          "text": [
            "Epoch 1/5:   6%|▋         | 10/157 [00:00<00:10, 13.66it/s]\n"
          ]
        },
        {
          "output_type": "stream",
          "name": "stdout",
          "text": [
            "Epoch 1, Loss: 2.2384\n"
          ]
        },
        {
          "output_type": "stream",
          "name": "stderr",
          "text": [
            "Epoch 2/5:   6%|▋         | 10/157 [00:00<00:11, 13.15it/s]\n"
          ]
        },
        {
          "output_type": "stream",
          "name": "stdout",
          "text": [
            "Epoch 2, Loss: 2.1147\n"
          ]
        },
        {
          "output_type": "stream",
          "name": "stderr",
          "text": [
            "Epoch 3/5:   6%|▋         | 10/157 [00:00<00:11, 13.36it/s]\n"
          ]
        },
        {
          "output_type": "stream",
          "name": "stdout",
          "text": [
            "Epoch 3, Loss: 2.1063\n"
          ]
        },
        {
          "output_type": "stream",
          "name": "stderr",
          "text": [
            "Epoch 4/5:   6%|▋         | 10/157 [00:00<00:10, 14.02it/s]\n"
          ]
        },
        {
          "output_type": "stream",
          "name": "stdout",
          "text": [
            "Epoch 4, Loss: 2.0011\n"
          ]
        },
        {
          "output_type": "stream",
          "name": "stderr",
          "text": [
            "Epoch 5/5:   6%|▋         | 10/157 [00:00<00:11, 13.00it/s]\n"
          ]
        },
        {
          "output_type": "stream",
          "name": "stdout",
          "text": [
            "Epoch 5, Loss: 2.0559\n"
          ]
        },
        {
          "output_type": "stream",
          "name": "stderr",
          "text": [
            "Evaluating:   4%|▍         | 10/250 [00:00<00:05, 40.68it/s]\n"
          ]
        },
        {
          "output_type": "stream",
          "name": "stdout",
          "text": [
            "Evaluation Metrics:\n",
            "  Linear Eval Accuracy: 0.2113\n",
            "  NMI: 0.1968\n",
            "  ARI: 0.0754\n",
            "  Neighborhood Accuracy: 0.2097\n",
            "Training complete!\n"
          ]
        },
        {
          "output_type": "stream",
          "name": "stderr",
          "text": [
            "Evaluating:   4%|▍         | 10/250 [00:00<00:06, 39.90it/s]\n"
          ]
        },
        {
          "output_type": "stream",
          "name": "stdout",
          "text": [
            "Evaluation Metrics:\n",
            "  Linear Eval Accuracy: 0.2113\n",
            "  NMI: 0.1968\n",
            "  ARI: 0.0754\n",
            "  Neighborhood Accuracy: 0.2097\n",
            "    Seed 456\n",
            "Training with ICon framework...\n"
          ]
        },
        {
          "output_type": "stream",
          "name": "stderr",
          "text": [
            "Epoch 1/5:   6%|▋         | 10/157 [00:00<00:10, 13.69it/s]\n"
          ]
        },
        {
          "output_type": "stream",
          "name": "stdout",
          "text": [
            "Epoch 1, Loss: 2.2351\n"
          ]
        },
        {
          "output_type": "stream",
          "name": "stderr",
          "text": [
            "Epoch 2/5:   6%|▋         | 10/157 [00:00<00:11, 12.85it/s]\n"
          ]
        },
        {
          "output_type": "stream",
          "name": "stdout",
          "text": [
            "Epoch 2, Loss: 2.1911\n"
          ]
        },
        {
          "output_type": "stream",
          "name": "stderr",
          "text": [
            "Epoch 3/5:   6%|▋         | 10/157 [00:00<00:10, 13.48it/s]\n"
          ]
        },
        {
          "output_type": "stream",
          "name": "stdout",
          "text": [
            "Epoch 3, Loss: 2.0646\n"
          ]
        },
        {
          "output_type": "stream",
          "name": "stderr",
          "text": [
            "Epoch 4/5:   6%|▋         | 10/157 [00:00<00:09, 14.76it/s]\n"
          ]
        },
        {
          "output_type": "stream",
          "name": "stdout",
          "text": [
            "Epoch 4, Loss: 2.0802\n"
          ]
        },
        {
          "output_type": "stream",
          "name": "stderr",
          "text": [
            "Epoch 5/5:   6%|▋         | 10/157 [00:00<00:10, 13.82it/s]\n"
          ]
        },
        {
          "output_type": "stream",
          "name": "stdout",
          "text": [
            "Epoch 5, Loss: 1.9784\n"
          ]
        },
        {
          "output_type": "stream",
          "name": "stderr",
          "text": [
            "Evaluating:   4%|▍         | 10/250 [00:00<00:05, 45.08it/s]\n"
          ]
        },
        {
          "output_type": "stream",
          "name": "stdout",
          "text": [
            "Evaluation Metrics:\n",
            "  Linear Eval Accuracy: 0.1831\n",
            "  NMI: 0.2057\n",
            "  ARI: 0.0809\n",
            "  Neighborhood Accuracy: 0.1574\n",
            "Training complete!\n"
          ]
        },
        {
          "output_type": "stream",
          "name": "stderr",
          "text": [
            "Evaluating:   4%|▍         | 10/250 [00:00<00:05, 44.31it/s]\n"
          ]
        },
        {
          "output_type": "stream",
          "name": "stdout",
          "text": [
            "Evaluation Metrics:\n",
            "  Linear Eval Accuracy: 0.1831\n",
            "  NMI: 0.2057\n",
            "  ARI: 0.0809\n",
            "  Neighborhood Accuracy: 0.1574\n",
            "    Seed 789\n",
            "Training with ICon framework...\n"
          ]
        },
        {
          "output_type": "stream",
          "name": "stderr",
          "text": [
            "Epoch 1/5:   6%|▋         | 10/157 [00:00<00:11, 13.27it/s]\n"
          ]
        },
        {
          "output_type": "stream",
          "name": "stdout",
          "text": [
            "Epoch 1, Loss: 2.2393\n"
          ]
        },
        {
          "output_type": "stream",
          "name": "stderr",
          "text": [
            "Epoch 2/5:   6%|▋         | 10/157 [00:00<00:11, 13.29it/s]\n"
          ]
        },
        {
          "output_type": "stream",
          "name": "stdout",
          "text": [
            "Epoch 2, Loss: 2.0770\n"
          ]
        },
        {
          "output_type": "stream",
          "name": "stderr",
          "text": [
            "Epoch 3/5:   6%|▋         | 10/157 [00:00<00:10, 14.16it/s]\n"
          ]
        },
        {
          "output_type": "stream",
          "name": "stdout",
          "text": [
            "Epoch 3, Loss: 2.1216\n"
          ]
        },
        {
          "output_type": "stream",
          "name": "stderr",
          "text": [
            "Epoch 4/5:   6%|▋         | 10/157 [00:00<00:11, 13.15it/s]\n"
          ]
        },
        {
          "output_type": "stream",
          "name": "stdout",
          "text": [
            "Epoch 4, Loss: 2.0639\n"
          ]
        },
        {
          "output_type": "stream",
          "name": "stderr",
          "text": [
            "Epoch 5/5:   6%|▋         | 10/157 [00:00<00:10, 14.15it/s]\n"
          ]
        },
        {
          "output_type": "stream",
          "name": "stdout",
          "text": [
            "Epoch 5, Loss: 2.0186\n"
          ]
        },
        {
          "output_type": "stream",
          "name": "stderr",
          "text": [
            "Evaluating:   4%|▍         | 10/250 [00:00<00:05, 44.09it/s]\n"
          ]
        },
        {
          "output_type": "stream",
          "name": "stdout",
          "text": [
            "Evaluation Metrics:\n",
            "  Linear Eval Accuracy: 0.1690\n",
            "  NMI: 0.2132\n",
            "  ARI: 0.0776\n",
            "  Neighborhood Accuracy: 0.1858\n",
            "Training complete!\n"
          ]
        },
        {
          "output_type": "stream",
          "name": "stderr",
          "text": [
            "Evaluating:   4%|▍         | 10/250 [00:00<00:05, 43.40it/s]\n"
          ]
        },
        {
          "output_type": "stream",
          "name": "stdout",
          "text": [
            "Evaluation Metrics:\n",
            "  Linear Eval Accuracy: 0.1690\n",
            "  NMI: 0.2132\n",
            "  ARI: 0.0776\n",
            "  Neighborhood Accuracy: 0.1858\n",
            "    Seed 101\n",
            "Training with ICon framework...\n"
          ]
        },
        {
          "output_type": "stream",
          "name": "stderr",
          "text": [
            "Epoch 1/5:   6%|▋         | 10/157 [00:00<00:10, 13.40it/s]\n"
          ]
        },
        {
          "output_type": "stream",
          "name": "stdout",
          "text": [
            "Epoch 1, Loss: 2.1699\n"
          ]
        },
        {
          "output_type": "stream",
          "name": "stderr",
          "text": [
            "Epoch 2/5:   6%|▋         | 10/157 [00:00<00:11, 12.71it/s]\n"
          ]
        },
        {
          "output_type": "stream",
          "name": "stdout",
          "text": [
            "Epoch 2, Loss: 2.1335\n"
          ]
        },
        {
          "output_type": "stream",
          "name": "stderr",
          "text": [
            "Epoch 3/5:   6%|▋         | 10/157 [00:00<00:10, 13.99it/s]\n"
          ]
        },
        {
          "output_type": "stream",
          "name": "stdout",
          "text": [
            "Epoch 3, Loss: 2.0830\n"
          ]
        },
        {
          "output_type": "stream",
          "name": "stderr",
          "text": [
            "Epoch 4/5:   6%|▋         | 10/157 [00:00<00:11, 12.77it/s]\n"
          ]
        },
        {
          "output_type": "stream",
          "name": "stdout",
          "text": [
            "Epoch 4, Loss: 2.0533\n"
          ]
        },
        {
          "output_type": "stream",
          "name": "stderr",
          "text": [
            "Epoch 5/5:   6%|▋         | 10/157 [00:00<00:11, 13.32it/s]\n"
          ]
        },
        {
          "output_type": "stream",
          "name": "stdout",
          "text": [
            "Epoch 5, Loss: 1.9933\n"
          ]
        },
        {
          "output_type": "stream",
          "name": "stderr",
          "text": [
            "Evaluating:   4%|▍         | 10/250 [00:00<00:05, 44.15it/s]\n"
          ]
        },
        {
          "output_type": "stream",
          "name": "stdout",
          "text": [
            "Evaluation Metrics:\n",
            "  Linear Eval Accuracy: 0.2676\n",
            "  NMI: 0.2579\n",
            "  ARI: 0.1209\n",
            "  Neighborhood Accuracy: 0.2148\n",
            "Training complete!\n"
          ]
        },
        {
          "output_type": "stream",
          "name": "stderr",
          "text": [
            "Evaluating:   4%|▍         | 10/250 [00:00<00:05, 44.18it/s]\n"
          ]
        },
        {
          "output_type": "stream",
          "name": "stdout",
          "text": [
            "Evaluation Metrics:\n",
            "  Linear Eval Accuracy: 0.2676\n",
            "  NMI: 0.2579\n",
            "  ARI: 0.1209\n",
            "  Neighborhood Accuracy: 0.2148\n",
            "\n",
            "Results for cifar10:\n",
            "  final_loss: \n",
            "    RDF: 1.6584 ± 0.0335\n",
            "    I-Con: 2.4000 ± 0.0321\n",
            "    p-value: 0.0000 ***\n",
            "    Improvement: 30.90%\n",
            "  linear_eval_accuracy: \n",
            "    RDF: 0.3078 ± 0.0374\n",
            "    I-Con: 0.3291 ± 0.0208\n",
            "    p-value: 0.4090 \n",
            "    Improvement: -6.47%\n",
            "  nmi: \n",
            "    RDF: 0.1505 ± 0.0095\n",
            "    I-Con: 0.1609 ± 0.0091\n",
            "    p-value: 0.2127 \n",
            "    Improvement: -6.44%\n",
            "  ari: \n",
            "    RDF: 0.0712 ± 0.0094\n",
            "    I-Con: 0.0784 ± 0.0094\n",
            "    p-value: 0.1006 \n",
            "    Improvement: -9.15%\n",
            "  neighborhood_accuracy: \n",
            "    RDF: 0.1942 ± 0.0166\n",
            "    I-Con: 0.1953 ± 0.0096\n",
            "    p-value: 0.9238 \n",
            "    Improvement: -0.58%\n",
            "\n",
            "Results for cifar100:\n",
            "  final_loss: \n",
            "    RDF: 1.6567 ± 0.0290\n",
            "    I-Con: 2.3648 ± 0.0301\n",
            "    p-value: 0.0000 ***\n",
            "    Improvement: 29.94%\n",
            "  linear_eval_accuracy: \n",
            "    RDF: 0.0255 ± 0.0072\n",
            "    I-Con: 0.0227 ± 0.0053\n",
            "    p-value: 0.4766 \n",
            "    Improvement: 12.50%\n",
            "  nmi: \n",
            "    RDF: 0.5726 ± 0.0055\n",
            "    I-Con: 0.5751 ± 0.0049\n",
            "    p-value: 0.3595 \n",
            "    Improvement: -0.43%\n",
            "  ari: \n",
            "    RDF: 0.0192 ± 0.0019\n",
            "    I-Con: 0.0186 ± 0.0021\n",
            "    p-value: 0.7447 \n",
            "    Improvement: 3.25%\n",
            "  neighborhood_accuracy: \n",
            "    RDF: 0.0275 ± 0.0034\n",
            "    I-Con: 0.0294 ± 0.0024\n",
            "    p-value: 0.2219 \n",
            "    Improvement: -6.56%\n",
            "\n",
            "Results for stl10:\n",
            "  final_loss: \n",
            "    RDF: 1.3331 ± 0.0742\n",
            "    I-Con: 2.0312 ± 0.0473\n",
            "    p-value: 0.0000 ***\n",
            "    Improvement: 34.37%\n",
            "  linear_eval_accuracy: \n",
            "    RDF: 0.2141 ± 0.0559\n",
            "    I-Con: 0.2197 ± 0.0414\n",
            "    p-value: 0.8921 \n",
            "    Improvement: -2.56%\n",
            "  nmi: \n",
            "    RDF: 0.2077 ± 0.0382\n",
            "    I-Con: 0.2286 ± 0.0293\n",
            "    p-value: 0.5491 \n",
            "    Improvement: -9.14%\n",
            "  ari: \n",
            "    RDF: 0.0875 ± 0.0097\n",
            "    I-Con: 0.0960 ± 0.0222\n",
            "    p-value: 0.6038 \n",
            "    Improvement: -8.89%\n",
            "  neighborhood_accuracy: \n",
            "    RDF: 0.1843 ± 0.0247\n",
            "    I-Con: 0.1978 ± 0.0235\n",
            "    p-value: 0.5346 \n",
            "    Improvement: -6.84%\n"
          ]
        }
      ]
    },
    {
      "cell_type": "code",
      "source": [],
      "metadata": {
        "id": "15TLIVINWsge"
      },
      "execution_count": null,
      "outputs": []
    },
    {
      "cell_type": "markdown",
      "source": [
        "# Changing epoch to 2 from 5.\n"
      ],
      "metadata": {
        "id": "E5rQETcvY8LG"
      }
    },
    {
      "cell_type": "code",
      "source": [
        "# Configuration\n",
        "class Config:\n",
        "    def __init__(self, dataset_name=\"cifar10\"):\n",
        "        # General settings\n",
        "        self.device = torch.device(\"cuda\" if torch.cuda.is_available() else \"cpu\")\n",
        "\n",
        "        # Adjust batch size based on dataset (STL-10 has larger images)\n",
        "        if dataset_name == \"stl10\":\n",
        "            self.batch_size = 32  # Smaller batch for larger images\n",
        "        else:\n",
        "            self.batch_size = 64\n",
        "\n",
        "        self.num_epochs = 2\n",
        "        self.lr = 0.001\n",
        "        self.weight_decay = 1e-5\n",
        "        self.embedding_dim = 64\n",
        "        self.temperature = 0.5\n",
        "\n",
        "        # Framework-specific settings\n",
        "        # RDF settings\n",
        "        self.rdf_recursion_depth = 3\n",
        "        self.rdf_coupling_strength = 0.5\n",
        "\n",
        "        # I-Con settings\n",
        "        self.icon_p_distribution = \"gaussian\"\n",
        "        self.icon_q_distribution = \"gaussian\"\n",
        "        self.icon_debias_alpha = 0.2\n"
      ],
      "metadata": {
        "id": "9zadD9GIY8LH"
      },
      "execution_count": 5,
      "outputs": []
    },
    {
      "cell_type": "code",
      "source": [
        "import torch\n",
        "import numpy as np\n",
        "import pandas as pd\n",
        "from tqdm import tqdm\n",
        "import matplotlib.pyplot as plt\n",
        "import seaborn as sns\n",
        "from scipy import stats\n",
        "from torch.utils.data import DataLoader\n",
        "from torchvision import datasets, transforms, models\n",
        "\n",
        "# Configuration\n",
        "datasets_to_test = ['cifar10', 'cifar100', 'stl10']\n",
        "frameworks = ['rdf', 'icon']\n",
        "num_seeds = 5\n",
        "seeds = [42, 123, 456, 789, 101]\n",
        "\n",
        "# Results storage\n",
        "results = {dataset: {framework: [] for framework in frameworks}\n",
        "           for dataset in datasets_to_test}\n",
        "\n",
        "# Run experiments\n",
        "for dataset_name in datasets_to_test:\n",
        "    print(f\"Running experiments on {dataset_name}\")\n",
        "    for framework in frameworks:\n",
        "        print(f\"  Testing {framework} framework\")\n",
        "        for seed in seeds:\n",
        "            print(f\"    Seed {seed}\")\n",
        "            torch.manual_seed(seed)\n",
        "            np.random.seed(seed)\n",
        "\n",
        "            # Create dataset\n",
        "            train_dataset, test_dataset, augment_transform = get_datasets(dataset_name)\n",
        "            contrastive_train_dataset = ContrastiveDataset(train_dataset, augment_transform)\n",
        "\n",
        "            # Create data loaders\n",
        "            config = Config(dataset_name)\n",
        "            train_loader = DataLoader(\n",
        "                contrastive_train_dataset, batch_size=config.batch_size,\n",
        "                shuffle=True, num_workers=4\n",
        "            )\n",
        "\n",
        "            test_loader = DataLoader(\n",
        "                test_dataset, batch_size=config.batch_size,\n",
        "                shuffle=False, num_workers=4\n",
        "            )\n",
        "\n",
        "            # Create framework\n",
        "            if framework == \"rdf\":\n",
        "                framework_obj = RDF(config)\n",
        "            else:\n",
        "                framework_obj = ICon(config)\n",
        "\n",
        "            # Train and evaluate\n",
        "            learner = RepresentationLearner(framework_obj, config)\n",
        "            learner.train(train_loader, test_loader)\n",
        "            metrics = learner.evaluate(test_loader)\n",
        "\n",
        "            # Record results\n",
        "            results[dataset_name][framework].append({\n",
        "                'seed': seed,\n",
        "                'final_loss': learner.train_losses[-1],\n",
        "                'linear_eval_accuracy': metrics['linear_eval_accuracy'],\n",
        "                'nmi': metrics['nmi'],\n",
        "                'ari': metrics['ari'],\n",
        "                'neighborhood_accuracy': metrics['neighborhood_accuracy']\n",
        "            })\n",
        "\n",
        "# Statistical analysis\n",
        "statistical_results = {}\n",
        "\n",
        "for dataset_name in datasets_to_test:\n",
        "    statistical_results[dataset_name] = {}\n",
        "\n",
        "    # Extract metrics\n",
        "    metrics = ['final_loss', 'linear_eval_accuracy', 'nmi', 'ari', 'neighborhood_accuracy']\n",
        "\n",
        "    for metric in metrics:\n",
        "        rdf_values = [run[metric] for run in results[dataset_name]['rdf']]\n",
        "        icon_values = [run[metric] for run in results[dataset_name]['icon']]\n",
        "\n",
        "        # Calculate mean and std\n",
        "        rdf_mean = np.mean(rdf_values)\n",
        "        rdf_std = np.std(rdf_values)\n",
        "        icon_mean = np.mean(icon_values)\n",
        "        icon_std = np.std(icon_values)\n",
        "\n",
        "        # Perform t-test\n",
        "        t_stat, p_value = stats.ttest_rel(rdf_values, icon_values)\n",
        "\n",
        "        # Calculate improvement percentage for loss\n",
        "        if metric == 'final_loss':\n",
        "            improvement = (icon_mean - rdf_mean) / icon_mean * 100\n",
        "        else:\n",
        "            improvement = (rdf_mean - icon_mean) / icon_mean * 100\n",
        "\n",
        "        statistical_results[dataset_name][metric] = {\n",
        "            'rdf_mean': rdf_mean,\n",
        "            'rdf_std': rdf_std,\n",
        "            'icon_mean': icon_mean,\n",
        "            'icon_std': icon_std,\n",
        "            'p_value': p_value,\n",
        "            'improvement': improvement\n",
        "        }\n",
        "\n",
        "# Print results\n",
        "for dataset_name in datasets_to_test:\n",
        "    print(f\"\\nResults for {dataset_name}:\")\n",
        "    for metric, stats in statistical_results[dataset_name].items():\n",
        "        significance = \"\"\n",
        "        if stats['p_value'] < 0.001:\n",
        "            significance = \"***\"\n",
        "        elif stats['p_value'] < 0.01:\n",
        "            significance = \"**\"\n",
        "        elif stats['p_value'] < 0.05:\n",
        "            significance = \"*\"\n",
        "\n",
        "        print(f\"  {metric}: \")\n",
        "        print(f\"    RDF: {stats['rdf_mean']:.4f} ± {stats['rdf_std']:.4f}\")\n",
        "        print(f\"    I-Con: {stats['icon_mean']:.4f} ± {stats['icon_std']:.4f}\")\n",
        "        print(f\"    p-value: {stats['p_value']:.4f} {significance}\")\n",
        "        print(f\"    Improvement: {stats['improvement']:.2f}%\")"
      ],
      "metadata": {
        "colab": {
          "base_uri": "https://localhost:8080/"
        },
        "id": "lf6BG1xNY_2F",
        "outputId": "bc31ac78-d4c6-43c8-cc7e-59c85d142415"
      },
      "execution_count": 6,
      "outputs": [
        {
          "output_type": "stream",
          "name": "stdout",
          "text": [
            "Running experiments on cifar10\n",
            "  Testing rdf framework\n",
            "    Seed 42\n",
            "Training with RDF framework...\n"
          ]
        },
        {
          "output_type": "stream",
          "name": "stderr",
          "text": [
            "Epoch 1/2:   1%|▏         | 10/782 [00:01<01:46,  7.28it/s]\n"
          ]
        },
        {
          "output_type": "stream",
          "name": "stdout",
          "text": [
            "Epoch 1, Loss: 1.9533\n"
          ]
        },
        {
          "output_type": "stream",
          "name": "stderr",
          "text": [
            "Epoch 2/2:   1%|▏         | 10/782 [00:01<01:46,  7.27it/s]\n"
          ]
        },
        {
          "output_type": "stream",
          "name": "stdout",
          "text": [
            "Epoch 2, Loss: 1.8131\n"
          ]
        },
        {
          "output_type": "stream",
          "name": "stderr",
          "text": [
            "Evaluating:   6%|▋         | 10/157 [00:00<00:03, 46.17it/s]\n"
          ]
        },
        {
          "output_type": "stream",
          "name": "stdout",
          "text": [
            "Evaluation Metrics:\n",
            "  Linear Eval Accuracy: 0.2695\n",
            "  NMI: 0.1313\n",
            "  ARI: 0.0582\n",
            "  Neighborhood Accuracy: 0.1767\n",
            "Training complete!\n"
          ]
        },
        {
          "output_type": "stream",
          "name": "stderr",
          "text": [
            "Evaluating:   6%|▋         | 10/157 [00:00<00:03, 46.32it/s]\n"
          ]
        },
        {
          "output_type": "stream",
          "name": "stdout",
          "text": [
            "Evaluation Metrics:\n",
            "  Linear Eval Accuracy: 0.2695\n",
            "  NMI: 0.1313\n",
            "  ARI: 0.0582\n",
            "  Neighborhood Accuracy: 0.1767\n",
            "    Seed 123\n",
            "Training with RDF framework...\n"
          ]
        },
        {
          "output_type": "stream",
          "name": "stderr",
          "text": [
            "Epoch 1/2:   1%|▏         | 10/782 [00:01<01:42,  7.52it/s]\n"
          ]
        },
        {
          "output_type": "stream",
          "name": "stdout",
          "text": [
            "Epoch 1, Loss: 1.9576\n"
          ]
        },
        {
          "output_type": "stream",
          "name": "stderr",
          "text": [
            "Epoch 2/2:   1%|▏         | 10/782 [00:01<01:46,  7.27it/s]\n"
          ]
        },
        {
          "output_type": "stream",
          "name": "stdout",
          "text": [
            "Epoch 2, Loss: 1.7932\n"
          ]
        },
        {
          "output_type": "stream",
          "name": "stderr",
          "text": [
            "Evaluating:   6%|▋         | 10/157 [00:00<00:03, 47.61it/s]\n"
          ]
        },
        {
          "output_type": "stream",
          "name": "stdout",
          "text": [
            "Evaluation Metrics:\n",
            "  Linear Eval Accuracy: 0.2624\n",
            "  NMI: 0.1098\n",
            "  ARI: 0.0422\n",
            "  Neighborhood Accuracy: 0.1702\n",
            "Training complete!\n"
          ]
        },
        {
          "output_type": "stream",
          "name": "stderr",
          "text": [
            "Evaluating:   6%|▋         | 10/157 [00:00<00:03, 45.09it/s]\n"
          ]
        },
        {
          "output_type": "stream",
          "name": "stdout",
          "text": [
            "Evaluation Metrics:\n",
            "  Linear Eval Accuracy: 0.2624\n",
            "  NMI: 0.1098\n",
            "  ARI: 0.0422\n",
            "  Neighborhood Accuracy: 0.1702\n",
            "    Seed 456\n",
            "Training with RDF framework...\n"
          ]
        },
        {
          "output_type": "stream",
          "name": "stderr",
          "text": [
            "Epoch 1/2:   1%|▏         | 10/782 [00:01<01:47,  7.17it/s]\n"
          ]
        },
        {
          "output_type": "stream",
          "name": "stdout",
          "text": [
            "Epoch 1, Loss: 1.8757\n"
          ]
        },
        {
          "output_type": "stream",
          "name": "stderr",
          "text": [
            "Epoch 2/2:   1%|▏         | 10/782 [00:01<01:45,  7.33it/s]\n"
          ]
        },
        {
          "output_type": "stream",
          "name": "stdout",
          "text": [
            "Epoch 2, Loss: 1.7029\n"
          ]
        },
        {
          "output_type": "stream",
          "name": "stderr",
          "text": [
            "Evaluating:   6%|▋         | 10/157 [00:00<00:03, 48.24it/s]\n"
          ]
        },
        {
          "output_type": "stream",
          "name": "stdout",
          "text": [
            "Evaluation Metrics:\n",
            "  Linear Eval Accuracy: 0.2482\n",
            "  NMI: 0.1442\n",
            "  ARI: 0.0634\n",
            "  Neighborhood Accuracy: 0.1832\n",
            "Training complete!\n"
          ]
        },
        {
          "output_type": "stream",
          "name": "stderr",
          "text": [
            "Evaluating:   6%|▋         | 10/157 [00:00<00:03, 45.02it/s]\n"
          ]
        },
        {
          "output_type": "stream",
          "name": "stdout",
          "text": [
            "Evaluation Metrics:\n",
            "  Linear Eval Accuracy: 0.2482\n",
            "  NMI: 0.1442\n",
            "  ARI: 0.0634\n",
            "  Neighborhood Accuracy: 0.1832\n",
            "    Seed 789\n",
            "Training with RDF framework...\n"
          ]
        },
        {
          "output_type": "stream",
          "name": "stderr",
          "text": [
            "Epoch 1/2:   1%|▏         | 10/782 [00:01<01:47,  7.21it/s]\n"
          ]
        },
        {
          "output_type": "stream",
          "name": "stdout",
          "text": [
            "Epoch 1, Loss: 1.9727\n"
          ]
        },
        {
          "output_type": "stream",
          "name": "stderr",
          "text": [
            "Epoch 2/2:   1%|▏         | 10/782 [00:01<01:41,  7.58it/s]\n"
          ]
        },
        {
          "output_type": "stream",
          "name": "stdout",
          "text": [
            "Epoch 2, Loss: 1.8231\n"
          ]
        },
        {
          "output_type": "stream",
          "name": "stderr",
          "text": [
            "Evaluating:   6%|▋         | 10/157 [00:00<00:03, 44.17it/s]\n"
          ]
        },
        {
          "output_type": "stream",
          "name": "stdout",
          "text": [
            "Evaluation Metrics:\n",
            "  Linear Eval Accuracy: 0.3050\n",
            "  NMI: 0.1292\n",
            "  ARI: 0.0630\n",
            "  Neighborhood Accuracy: 0.1946\n",
            "Training complete!\n"
          ]
        },
        {
          "output_type": "stream",
          "name": "stderr",
          "text": [
            "Evaluating:   6%|▋         | 10/157 [00:00<00:03, 45.49it/s]\n"
          ]
        },
        {
          "output_type": "stream",
          "name": "stdout",
          "text": [
            "Evaluation Metrics:\n",
            "  Linear Eval Accuracy: 0.3050\n",
            "  NMI: 0.1292\n",
            "  ARI: 0.0630\n",
            "  Neighborhood Accuracy: 0.1946\n",
            "    Seed 101\n",
            "Training with RDF framework...\n"
          ]
        },
        {
          "output_type": "stream",
          "name": "stderr",
          "text": [
            "Epoch 1/2:   1%|▏         | 10/782 [00:01<01:50,  6.99it/s]\n"
          ]
        },
        {
          "output_type": "stream",
          "name": "stdout",
          "text": [
            "Epoch 1, Loss: 1.9563\n"
          ]
        },
        {
          "output_type": "stream",
          "name": "stderr",
          "text": [
            "Epoch 2/2:   1%|▏         | 10/782 [00:01<01:45,  7.30it/s]\n"
          ]
        },
        {
          "output_type": "stream",
          "name": "stdout",
          "text": [
            "Epoch 2, Loss: 1.8164\n"
          ]
        },
        {
          "output_type": "stream",
          "name": "stderr",
          "text": [
            "Evaluating:   6%|▋         | 10/157 [00:00<00:03, 47.87it/s]\n"
          ]
        },
        {
          "output_type": "stream",
          "name": "stdout",
          "text": [
            "Evaluation Metrics:\n",
            "  Linear Eval Accuracy: 0.2482\n",
            "  NMI: 0.0911\n",
            "  ARI: 0.0397\n",
            "  Neighborhood Accuracy: 0.1741\n",
            "Training complete!\n"
          ]
        },
        {
          "output_type": "stream",
          "name": "stderr",
          "text": [
            "Evaluating:   6%|▋         | 10/157 [00:00<00:03, 46.14it/s]\n"
          ]
        },
        {
          "output_type": "stream",
          "name": "stdout",
          "text": [
            "Evaluation Metrics:\n",
            "  Linear Eval Accuracy: 0.2482\n",
            "  NMI: 0.0911\n",
            "  ARI: 0.0397\n",
            "  Neighborhood Accuracy: 0.1741\n",
            "  Testing icon framework\n",
            "    Seed 42\n",
            "Training with ICon framework...\n"
          ]
        },
        {
          "output_type": "stream",
          "name": "stderr",
          "text": [
            "Epoch 1/2:   1%|▏         | 10/782 [00:00<01:07, 11.38it/s]\n"
          ]
        },
        {
          "output_type": "stream",
          "name": "stdout",
          "text": [
            "Epoch 1, Loss: 2.6805\n"
          ]
        },
        {
          "output_type": "stream",
          "name": "stderr",
          "text": [
            "Epoch 2/2:   1%|▏         | 10/782 [00:00<01:12, 10.68it/s]\n"
          ]
        },
        {
          "output_type": "stream",
          "name": "stdout",
          "text": [
            "Epoch 2, Loss: 2.5392\n"
          ]
        },
        {
          "output_type": "stream",
          "name": "stderr",
          "text": [
            "Evaluating:   6%|▋         | 10/157 [00:00<00:03, 45.55it/s]\n"
          ]
        },
        {
          "output_type": "stream",
          "name": "stdout",
          "text": [
            "Evaluation Metrics:\n",
            "  Linear Eval Accuracy: 0.2908\n",
            "  NMI: 0.1223\n",
            "  ARI: 0.0492\n",
            "  Neighborhood Accuracy: 0.1901\n",
            "Training complete!\n"
          ]
        },
        {
          "output_type": "stream",
          "name": "stderr",
          "text": [
            "Evaluating:   6%|▋         | 10/157 [00:00<00:03, 47.94it/s]\n"
          ]
        },
        {
          "output_type": "stream",
          "name": "stdout",
          "text": [
            "Evaluation Metrics:\n",
            "  Linear Eval Accuracy: 0.2908\n",
            "  NMI: 0.1223\n",
            "  ARI: 0.0492\n",
            "  Neighborhood Accuracy: 0.1901\n",
            "    Seed 123\n",
            "Training with ICon framework...\n"
          ]
        },
        {
          "output_type": "stream",
          "name": "stderr",
          "text": [
            "Epoch 1/2:   1%|▏         | 10/782 [00:00<01:08, 11.23it/s]\n"
          ]
        },
        {
          "output_type": "stream",
          "name": "stdout",
          "text": [
            "Epoch 1, Loss: 2.6958\n"
          ]
        },
        {
          "output_type": "stream",
          "name": "stderr",
          "text": [
            "Epoch 2/2:   1%|▏         | 10/782 [00:00<01:15, 10.20it/s]\n"
          ]
        },
        {
          "output_type": "stream",
          "name": "stdout",
          "text": [
            "Epoch 2, Loss: 2.5205\n"
          ]
        },
        {
          "output_type": "stream",
          "name": "stderr",
          "text": [
            "Evaluating:   6%|▋         | 10/157 [00:00<00:03, 44.96it/s]\n"
          ]
        },
        {
          "output_type": "stream",
          "name": "stdout",
          "text": [
            "Evaluation Metrics:\n",
            "  Linear Eval Accuracy: 0.2695\n",
            "  NMI: 0.1158\n",
            "  ARI: 0.0529\n",
            "  Neighborhood Accuracy: 0.1599\n",
            "Training complete!\n"
          ]
        },
        {
          "output_type": "stream",
          "name": "stderr",
          "text": [
            "Evaluating:   6%|▋         | 10/157 [00:00<00:03, 43.18it/s]\n"
          ]
        },
        {
          "output_type": "stream",
          "name": "stdout",
          "text": [
            "Evaluation Metrics:\n",
            "  Linear Eval Accuracy: 0.2695\n",
            "  NMI: 0.1158\n",
            "  ARI: 0.0529\n",
            "  Neighborhood Accuracy: 0.1599\n",
            "    Seed 456\n",
            "Training with ICon framework...\n"
          ]
        },
        {
          "output_type": "stream",
          "name": "stderr",
          "text": [
            "Epoch 1/2:   1%|▏         | 10/782 [00:00<01:06, 11.59it/s]\n"
          ]
        },
        {
          "output_type": "stream",
          "name": "stdout",
          "text": [
            "Epoch 1, Loss: 2.5987\n"
          ]
        },
        {
          "output_type": "stream",
          "name": "stderr",
          "text": [
            "Epoch 2/2:   1%|▏         | 10/782 [00:00<01:08, 11.23it/s]\n"
          ]
        },
        {
          "output_type": "stream",
          "name": "stdout",
          "text": [
            "Epoch 2, Loss: 2.4628\n"
          ]
        },
        {
          "output_type": "stream",
          "name": "stderr",
          "text": [
            "Evaluating:   6%|▋         | 10/157 [00:00<00:03, 46.39it/s]\n"
          ]
        },
        {
          "output_type": "stream",
          "name": "stdout",
          "text": [
            "Evaluation Metrics:\n",
            "  Linear Eval Accuracy: 0.2766\n",
            "  NMI: 0.1463\n",
            "  ARI: 0.0701\n",
            "  Neighborhood Accuracy: 0.1815\n",
            "Training complete!\n"
          ]
        },
        {
          "output_type": "stream",
          "name": "stderr",
          "text": [
            "Evaluating:   6%|▋         | 10/157 [00:00<00:03, 42.94it/s]\n"
          ]
        },
        {
          "output_type": "stream",
          "name": "stdout",
          "text": [
            "Evaluation Metrics:\n",
            "  Linear Eval Accuracy: 0.2766\n",
            "  NMI: 0.1463\n",
            "  ARI: 0.0701\n",
            "  Neighborhood Accuracy: 0.1815\n",
            "    Seed 789\n",
            "Training with ICon framework...\n"
          ]
        },
        {
          "output_type": "stream",
          "name": "stderr",
          "text": [
            "Epoch 1/2:   1%|▏         | 10/782 [00:00<01:03, 12.20it/s]\n"
          ]
        },
        {
          "output_type": "stream",
          "name": "stdout",
          "text": [
            "Epoch 1, Loss: 2.6923\n"
          ]
        },
        {
          "output_type": "stream",
          "name": "stderr",
          "text": [
            "Epoch 2/2:   1%|▏         | 10/782 [00:00<01:03, 12.22it/s]\n"
          ]
        },
        {
          "output_type": "stream",
          "name": "stdout",
          "text": [
            "Epoch 2, Loss: 2.5448\n"
          ]
        },
        {
          "output_type": "stream",
          "name": "stderr",
          "text": [
            "Evaluating:   6%|▋         | 10/157 [00:00<00:03, 44.67it/s]\n"
          ]
        },
        {
          "output_type": "stream",
          "name": "stdout",
          "text": [
            "Evaluation Metrics:\n",
            "  Linear Eval Accuracy: 0.2766\n",
            "  NMI: 0.1443\n",
            "  ARI: 0.0623\n",
            "  Neighborhood Accuracy: 0.1960\n",
            "Training complete!\n"
          ]
        },
        {
          "output_type": "stream",
          "name": "stderr",
          "text": [
            "Evaluating:   6%|▋         | 10/157 [00:00<00:03, 46.66it/s]\n"
          ]
        },
        {
          "output_type": "stream",
          "name": "stdout",
          "text": [
            "Evaluation Metrics:\n",
            "  Linear Eval Accuracy: 0.2766\n",
            "  NMI: 0.1443\n",
            "  ARI: 0.0623\n",
            "  Neighborhood Accuracy: 0.1960\n",
            "    Seed 101\n",
            "Training with ICon framework...\n"
          ]
        },
        {
          "output_type": "stream",
          "name": "stderr",
          "text": [
            "Epoch 1/2:   1%|▏         | 10/782 [00:00<01:11, 10.77it/s]\n"
          ]
        },
        {
          "output_type": "stream",
          "name": "stdout",
          "text": [
            "Epoch 1, Loss: 2.6809\n"
          ]
        },
        {
          "output_type": "stream",
          "name": "stderr",
          "text": [
            "Epoch 2/2:   1%|▏         | 10/782 [00:00<01:02, 12.31it/s]\n"
          ]
        },
        {
          "output_type": "stream",
          "name": "stdout",
          "text": [
            "Epoch 2, Loss: 2.5208\n"
          ]
        },
        {
          "output_type": "stream",
          "name": "stderr",
          "text": [
            "Evaluating:   6%|▋         | 10/157 [00:00<00:03, 46.99it/s]\n"
          ]
        },
        {
          "output_type": "stream",
          "name": "stdout",
          "text": [
            "Evaluation Metrics:\n",
            "  Linear Eval Accuracy: 0.2482\n",
            "  NMI: 0.0988\n",
            "  ARI: 0.0406\n",
            "  Neighborhood Accuracy: 0.1753\n",
            "Training complete!\n"
          ]
        },
        {
          "output_type": "stream",
          "name": "stderr",
          "text": [
            "Evaluating:   6%|▋         | 10/157 [00:00<00:03, 43.48it/s]\n"
          ]
        },
        {
          "output_type": "stream",
          "name": "stdout",
          "text": [
            "Evaluation Metrics:\n",
            "  Linear Eval Accuracy: 0.2482\n",
            "  NMI: 0.0988\n",
            "  ARI: 0.0406\n",
            "  Neighborhood Accuracy: 0.1753\n",
            "Running experiments on cifar100\n",
            "  Testing rdf framework\n",
            "    Seed 42\n",
            "Training with RDF framework...\n"
          ]
        },
        {
          "output_type": "stream",
          "name": "stderr",
          "text": [
            "Epoch 1/2:   1%|▏         | 10/782 [00:01<01:47,  7.16it/s]\n"
          ]
        },
        {
          "output_type": "stream",
          "name": "stdout",
          "text": [
            "Epoch 1, Loss: 1.9079\n"
          ]
        },
        {
          "output_type": "stream",
          "name": "stderr",
          "text": [
            "Epoch 2/2:   1%|▏         | 10/782 [00:01<01:43,  7.46it/s]\n"
          ]
        },
        {
          "output_type": "stream",
          "name": "stdout",
          "text": [
            "Epoch 2, Loss: 1.8055\n"
          ]
        },
        {
          "output_type": "stream",
          "name": "stderr",
          "text": [
            "Evaluating:   6%|▋         | 10/157 [00:00<00:03, 45.84it/s]\n"
          ]
        },
        {
          "output_type": "stream",
          "name": "stdout",
          "text": [
            "Evaluation Metrics:\n",
            "  Linear Eval Accuracy: 0.0142\n",
            "  NMI: 0.5717\n",
            "  ARI: 0.0147\n",
            "  Neighborhood Accuracy: 0.0253\n",
            "Training complete!\n"
          ]
        },
        {
          "output_type": "stream",
          "name": "stderr",
          "text": [
            "Evaluating:   6%|▋         | 10/157 [00:00<00:03, 44.66it/s]\n"
          ]
        },
        {
          "output_type": "stream",
          "name": "stdout",
          "text": [
            "Evaluation Metrics:\n",
            "  Linear Eval Accuracy: 0.0142\n",
            "  NMI: 0.5717\n",
            "  ARI: 0.0147\n",
            "  Neighborhood Accuracy: 0.0253\n",
            "    Seed 123\n",
            "Training with RDF framework...\n"
          ]
        },
        {
          "output_type": "stream",
          "name": "stderr",
          "text": [
            "Epoch 1/2:   1%|▏         | 10/782 [00:01<01:42,  7.54it/s]\n"
          ]
        },
        {
          "output_type": "stream",
          "name": "stdout",
          "text": [
            "Epoch 1, Loss: 1.8987\n"
          ]
        },
        {
          "output_type": "stream",
          "name": "stderr",
          "text": [
            "Epoch 2/2:   1%|▏         | 10/782 [00:01<01:46,  7.24it/s]\n"
          ]
        },
        {
          "output_type": "stream",
          "name": "stdout",
          "text": [
            "Epoch 2, Loss: 1.7776\n"
          ]
        },
        {
          "output_type": "stream",
          "name": "stderr",
          "text": [
            "Evaluating:   6%|▋         | 10/157 [00:00<00:03, 48.13it/s]\n"
          ]
        },
        {
          "output_type": "stream",
          "name": "stdout",
          "text": [
            "Evaluation Metrics:\n",
            "  Linear Eval Accuracy: 0.0355\n",
            "  NMI: 0.5753\n",
            "  ARI: 0.0213\n",
            "  Neighborhood Accuracy: 0.0261\n",
            "Training complete!\n"
          ]
        },
        {
          "output_type": "stream",
          "name": "stderr",
          "text": [
            "Evaluating:   6%|▋         | 10/157 [00:00<00:03, 47.28it/s]\n"
          ]
        },
        {
          "output_type": "stream",
          "name": "stdout",
          "text": [
            "Evaluation Metrics:\n",
            "  Linear Eval Accuracy: 0.0355\n",
            "  NMI: 0.5753\n",
            "  ARI: 0.0213\n",
            "  Neighborhood Accuracy: 0.0261\n",
            "    Seed 456\n",
            "Training with RDF framework...\n"
          ]
        },
        {
          "output_type": "stream",
          "name": "stderr",
          "text": [
            "Epoch 1/2:   1%|▏         | 10/782 [00:01<01:46,  7.27it/s]\n"
          ]
        },
        {
          "output_type": "stream",
          "name": "stdout",
          "text": [
            "Epoch 1, Loss: 1.8959\n"
          ]
        },
        {
          "output_type": "stream",
          "name": "stderr",
          "text": [
            "Epoch 2/2:   1%|▏         | 10/782 [00:01<01:44,  7.36it/s]\n"
          ]
        },
        {
          "output_type": "stream",
          "name": "stdout",
          "text": [
            "Epoch 2, Loss: 1.7371\n"
          ]
        },
        {
          "output_type": "stream",
          "name": "stderr",
          "text": [
            "Evaluating:   6%|▋         | 10/157 [00:00<00:03, 46.42it/s]\n"
          ]
        },
        {
          "output_type": "stream",
          "name": "stdout",
          "text": [
            "Evaluation Metrics:\n",
            "  Linear Eval Accuracy: 0.0426\n",
            "  NMI: 0.5681\n",
            "  ARI: 0.0103\n",
            "  Neighborhood Accuracy: 0.0273\n",
            "Training complete!\n"
          ]
        },
        {
          "output_type": "stream",
          "name": "stderr",
          "text": [
            "Evaluating:   6%|▋         | 10/157 [00:00<00:03, 44.87it/s]\n"
          ]
        },
        {
          "output_type": "stream",
          "name": "stdout",
          "text": [
            "Evaluation Metrics:\n",
            "  Linear Eval Accuracy: 0.0426\n",
            "  NMI: 0.5681\n",
            "  ARI: 0.0103\n",
            "  Neighborhood Accuracy: 0.0273\n",
            "    Seed 789\n",
            "Training with RDF framework...\n"
          ]
        },
        {
          "output_type": "stream",
          "name": "stderr",
          "text": [
            "Epoch 1/2:   1%|▏         | 10/782 [00:01<01:47,  7.16it/s]\n"
          ]
        },
        {
          "output_type": "stream",
          "name": "stdout",
          "text": [
            "Epoch 1, Loss: 1.9122\n"
          ]
        },
        {
          "output_type": "stream",
          "name": "stderr",
          "text": [
            "Epoch 2/2:   1%|▏         | 10/782 [00:01<01:46,  7.27it/s]\n"
          ]
        },
        {
          "output_type": "stream",
          "name": "stdout",
          "text": [
            "Epoch 2, Loss: 1.7801\n"
          ]
        },
        {
          "output_type": "stream",
          "name": "stderr",
          "text": [
            "Evaluating:   6%|▋         | 10/157 [00:00<00:03, 45.09it/s]\n"
          ]
        },
        {
          "output_type": "stream",
          "name": "stdout",
          "text": [
            "Evaluation Metrics:\n",
            "  Linear Eval Accuracy: 0.0142\n",
            "  NMI: 0.5722\n",
            "  ARI: 0.0158\n",
            "  Neighborhood Accuracy: 0.0261\n",
            "Training complete!\n"
          ]
        },
        {
          "output_type": "stream",
          "name": "stderr",
          "text": [
            "Evaluating:   6%|▋         | 10/157 [00:00<00:03, 39.07it/s]\n"
          ]
        },
        {
          "output_type": "stream",
          "name": "stdout",
          "text": [
            "Evaluation Metrics:\n",
            "  Linear Eval Accuracy: 0.0142\n",
            "  NMI: 0.5722\n",
            "  ARI: 0.0158\n",
            "  Neighborhood Accuracy: 0.0261\n",
            "    Seed 101\n",
            "Training with RDF framework...\n"
          ]
        },
        {
          "output_type": "stream",
          "name": "stderr",
          "text": [
            "Epoch 1/2:   1%|▏         | 10/782 [00:01<01:49,  7.06it/s]\n"
          ]
        },
        {
          "output_type": "stream",
          "name": "stdout",
          "text": [
            "Epoch 1, Loss: 1.9496\n"
          ]
        },
        {
          "output_type": "stream",
          "name": "stderr",
          "text": [
            "Epoch 2/2:   1%|▏         | 10/782 [00:01<01:43,  7.47it/s]\n"
          ]
        },
        {
          "output_type": "stream",
          "name": "stdout",
          "text": [
            "Epoch 2, Loss: 1.8141\n"
          ]
        },
        {
          "output_type": "stream",
          "name": "stderr",
          "text": [
            "Evaluating:   6%|▋         | 10/157 [00:00<00:03, 41.26it/s]\n"
          ]
        },
        {
          "output_type": "stream",
          "name": "stdout",
          "text": [
            "Evaluation Metrics:\n",
            "  Linear Eval Accuracy: 0.0213\n",
            "  NMI: 0.5641\n",
            "  ARI: 0.0140\n",
            "  Neighborhood Accuracy: 0.0267\n",
            "Training complete!\n"
          ]
        },
        {
          "output_type": "stream",
          "name": "stderr",
          "text": [
            "Evaluating:   6%|▋         | 10/157 [00:00<00:03, 47.11it/s]\n"
          ]
        },
        {
          "output_type": "stream",
          "name": "stdout",
          "text": [
            "Evaluation Metrics:\n",
            "  Linear Eval Accuracy: 0.0213\n",
            "  NMI: 0.5641\n",
            "  ARI: 0.0140\n",
            "  Neighborhood Accuracy: 0.0267\n",
            "  Testing icon framework\n",
            "    Seed 42\n",
            "Training with ICon framework...\n"
          ]
        },
        {
          "output_type": "stream",
          "name": "stderr",
          "text": [
            "Epoch 1/2:   1%|▏         | 10/782 [00:00<01:14, 10.32it/s]\n"
          ]
        },
        {
          "output_type": "stream",
          "name": "stdout",
          "text": [
            "Epoch 1, Loss: 2.6349\n"
          ]
        },
        {
          "output_type": "stream",
          "name": "stderr",
          "text": [
            "Epoch 2/2:   1%|▏         | 10/782 [00:00<01:09, 11.06it/s]\n"
          ]
        },
        {
          "output_type": "stream",
          "name": "stdout",
          "text": [
            "Epoch 2, Loss: 2.4895\n"
          ]
        },
        {
          "output_type": "stream",
          "name": "stderr",
          "text": [
            "Evaluating:   6%|▋         | 10/157 [00:00<00:03, 45.96it/s]\n"
          ]
        },
        {
          "output_type": "stream",
          "name": "stdout",
          "text": [
            "Evaluation Metrics:\n",
            "  Linear Eval Accuracy: 0.0213\n",
            "  NMI: 0.5720\n",
            "  ARI: 0.0143\n",
            "  Neighborhood Accuracy: 0.0253\n",
            "Training complete!\n"
          ]
        },
        {
          "output_type": "stream",
          "name": "stderr",
          "text": [
            "Evaluating:   6%|▋         | 10/157 [00:00<00:03, 43.22it/s]\n"
          ]
        },
        {
          "output_type": "stream",
          "name": "stdout",
          "text": [
            "Evaluation Metrics:\n",
            "  Linear Eval Accuracy: 0.0213\n",
            "  NMI: 0.5720\n",
            "  ARI: 0.0143\n",
            "  Neighborhood Accuracy: 0.0253\n",
            "    Seed 123\n",
            "Training with ICon framework...\n"
          ]
        },
        {
          "output_type": "stream",
          "name": "stderr",
          "text": [
            "Epoch 1/2:   1%|▏         | 10/782 [00:00<01:07, 11.47it/s]\n"
          ]
        },
        {
          "output_type": "stream",
          "name": "stdout",
          "text": [
            "Epoch 1, Loss: 2.6056\n"
          ]
        },
        {
          "output_type": "stream",
          "name": "stderr",
          "text": [
            "Epoch 2/2:   1%|▏         | 10/782 [00:00<01:13, 10.56it/s]\n"
          ]
        },
        {
          "output_type": "stream",
          "name": "stdout",
          "text": [
            "Epoch 2, Loss: 2.5133\n"
          ]
        },
        {
          "output_type": "stream",
          "name": "stderr",
          "text": [
            "Evaluating:   6%|▋         | 10/157 [00:00<00:03, 46.56it/s]\n"
          ]
        },
        {
          "output_type": "stream",
          "name": "stdout",
          "text": [
            "Evaluation Metrics:\n",
            "  Linear Eval Accuracy: 0.0142\n",
            "  NMI: 0.5718\n",
            "  ARI: 0.0170\n",
            "  Neighborhood Accuracy: 0.0315\n",
            "Training complete!\n"
          ]
        },
        {
          "output_type": "stream",
          "name": "stderr",
          "text": [
            "Evaluating:   6%|▋         | 10/157 [00:00<00:03, 43.59it/s]\n"
          ]
        },
        {
          "output_type": "stream",
          "name": "stdout",
          "text": [
            "Evaluation Metrics:\n",
            "  Linear Eval Accuracy: 0.0142\n",
            "  NMI: 0.5718\n",
            "  ARI: 0.0170\n",
            "  Neighborhood Accuracy: 0.0315\n",
            "    Seed 456\n",
            "Training with ICon framework...\n"
          ]
        },
        {
          "output_type": "stream",
          "name": "stderr",
          "text": [
            "Epoch 1/2:   1%|▏         | 10/782 [00:00<01:09, 11.12it/s]\n"
          ]
        },
        {
          "output_type": "stream",
          "name": "stdout",
          "text": [
            "Epoch 1, Loss: 2.6291\n"
          ]
        },
        {
          "output_type": "stream",
          "name": "stderr",
          "text": [
            "Epoch 2/2:   1%|▏         | 10/782 [00:00<01:03, 12.14it/s]\n"
          ]
        },
        {
          "output_type": "stream",
          "name": "stdout",
          "text": [
            "Epoch 2, Loss: 2.4665\n"
          ]
        },
        {
          "output_type": "stream",
          "name": "stderr",
          "text": [
            "Evaluating:   6%|▋         | 10/157 [00:00<00:03, 47.29it/s]\n"
          ]
        },
        {
          "output_type": "stream",
          "name": "stdout",
          "text": [
            "Evaluation Metrics:\n",
            "  Linear Eval Accuracy: 0.0142\n",
            "  NMI: 0.5612\n",
            "  ARI: 0.0175\n",
            "  Neighborhood Accuracy: 0.0276\n",
            "Training complete!\n"
          ]
        },
        {
          "output_type": "stream",
          "name": "stderr",
          "text": [
            "Evaluating:   6%|▋         | 10/157 [00:00<00:03, 45.26it/s]\n"
          ]
        },
        {
          "output_type": "stream",
          "name": "stdout",
          "text": [
            "Evaluation Metrics:\n",
            "  Linear Eval Accuracy: 0.0142\n",
            "  NMI: 0.5612\n",
            "  ARI: 0.0175\n",
            "  Neighborhood Accuracy: 0.0276\n",
            "    Seed 789\n",
            "Training with ICon framework...\n"
          ]
        },
        {
          "output_type": "stream",
          "name": "stderr",
          "text": [
            "Epoch 1/2:   1%|▏         | 10/782 [00:00<01:10, 11.00it/s]\n"
          ]
        },
        {
          "output_type": "stream",
          "name": "stdout",
          "text": [
            "Epoch 1, Loss: 2.6374\n"
          ]
        },
        {
          "output_type": "stream",
          "name": "stderr",
          "text": [
            "Epoch 2/2:   1%|▏         | 10/782 [00:00<01:04, 11.88it/s]\n"
          ]
        },
        {
          "output_type": "stream",
          "name": "stdout",
          "text": [
            "Epoch 2, Loss: 2.5074\n"
          ]
        },
        {
          "output_type": "stream",
          "name": "stderr",
          "text": [
            "Evaluating:   6%|▋         | 10/157 [00:00<00:03, 42.67it/s]\n"
          ]
        },
        {
          "output_type": "stream",
          "name": "stdout",
          "text": [
            "Evaluation Metrics:\n",
            "  Linear Eval Accuracy: 0.0213\n",
            "  NMI: 0.5772\n",
            "  ARI: 0.0197\n",
            "  Neighborhood Accuracy: 0.0290\n",
            "Training complete!\n"
          ]
        },
        {
          "output_type": "stream",
          "name": "stderr",
          "text": [
            "Evaluating:   6%|▋         | 10/157 [00:00<00:03, 46.80it/s]\n"
          ]
        },
        {
          "output_type": "stream",
          "name": "stdout",
          "text": [
            "Evaluation Metrics:\n",
            "  Linear Eval Accuracy: 0.0213\n",
            "  NMI: 0.5772\n",
            "  ARI: 0.0197\n",
            "  Neighborhood Accuracy: 0.0290\n",
            "    Seed 101\n",
            "Training with ICon framework...\n"
          ]
        },
        {
          "output_type": "stream",
          "name": "stderr",
          "text": [
            "Epoch 1/2:   1%|▏         | 10/782 [00:00<01:13, 10.46it/s]\n"
          ]
        },
        {
          "output_type": "stream",
          "name": "stdout",
          "text": [
            "Epoch 1, Loss: 2.6838\n"
          ]
        },
        {
          "output_type": "stream",
          "name": "stderr",
          "text": [
            "Epoch 2/2:   1%|▏         | 10/782 [00:00<01:07, 11.43it/s]\n"
          ]
        },
        {
          "output_type": "stream",
          "name": "stdout",
          "text": [
            "Epoch 2, Loss: 2.5678\n"
          ]
        },
        {
          "output_type": "stream",
          "name": "stderr",
          "text": [
            "Evaluating:   6%|▋         | 10/157 [00:00<00:03, 48.78it/s]\n"
          ]
        },
        {
          "output_type": "stream",
          "name": "stdout",
          "text": [
            "Evaluation Metrics:\n",
            "  Linear Eval Accuracy: 0.0142\n",
            "  NMI: 0.5570\n",
            "  ARI: 0.0118\n",
            "  Neighborhood Accuracy: 0.0259\n",
            "Training complete!\n"
          ]
        },
        {
          "output_type": "stream",
          "name": "stderr",
          "text": [
            "Evaluating:   6%|▋         | 10/157 [00:00<00:03, 43.88it/s]\n"
          ]
        },
        {
          "output_type": "stream",
          "name": "stdout",
          "text": [
            "Evaluation Metrics:\n",
            "  Linear Eval Accuracy: 0.0142\n",
            "  NMI: 0.5570\n",
            "  ARI: 0.0118\n",
            "  Neighborhood Accuracy: 0.0259\n",
            "Running experiments on stl10\n",
            "  Testing rdf framework\n",
            "    Seed 42\n",
            "Training with RDF framework...\n"
          ]
        },
        {
          "output_type": "stream",
          "name": "stderr",
          "text": [
            "Epoch 1/2:   6%|▋         | 10/157 [00:00<00:13, 10.61it/s]\n"
          ]
        },
        {
          "output_type": "stream",
          "name": "stdout",
          "text": [
            "Epoch 1, Loss: 1.5959\n"
          ]
        },
        {
          "output_type": "stream",
          "name": "stderr",
          "text": [
            "Epoch 2/2:   6%|▋         | 10/157 [00:00<00:14, 10.49it/s]\n"
          ]
        },
        {
          "output_type": "stream",
          "name": "stdout",
          "text": [
            "Epoch 2, Loss: 1.5046\n"
          ]
        },
        {
          "output_type": "stream",
          "name": "stderr",
          "text": [
            "Evaluating:   4%|▍         | 10/250 [00:00<00:05, 42.03it/s]\n"
          ]
        },
        {
          "output_type": "stream",
          "name": "stdout",
          "text": [
            "Evaluation Metrics:\n",
            "  Linear Eval Accuracy: 0.2113\n",
            "  NMI: 0.1367\n",
            "  ARI: 0.0648\n",
            "  Neighborhood Accuracy: 0.1545\n",
            "Training complete!\n"
          ]
        },
        {
          "output_type": "stream",
          "name": "stderr",
          "text": [
            "Evaluating:   4%|▍         | 10/250 [00:00<00:05, 43.56it/s]\n"
          ]
        },
        {
          "output_type": "stream",
          "name": "stdout",
          "text": [
            "Evaluation Metrics:\n",
            "  Linear Eval Accuracy: 0.2113\n",
            "  NMI: 0.1367\n",
            "  ARI: 0.0648\n",
            "  Neighborhood Accuracy: 0.1545\n",
            "    Seed 123\n",
            "Training with RDF framework...\n"
          ]
        },
        {
          "output_type": "stream",
          "name": "stderr",
          "text": [
            "Epoch 1/2:   6%|▋         | 10/157 [00:00<00:14, 10.28it/s]\n"
          ]
        },
        {
          "output_type": "stream",
          "name": "stdout",
          "text": [
            "Epoch 1, Loss: 1.5458\n"
          ]
        },
        {
          "output_type": "stream",
          "name": "stderr",
          "text": [
            "Epoch 2/2:   6%|▋         | 10/157 [00:00<00:14, 10.16it/s]\n"
          ]
        },
        {
          "output_type": "stream",
          "name": "stdout",
          "text": [
            "Epoch 2, Loss: 1.4284\n"
          ]
        },
        {
          "output_type": "stream",
          "name": "stderr",
          "text": [
            "Evaluating:   4%|▍         | 10/250 [00:00<00:05, 43.07it/s]\n"
          ]
        },
        {
          "output_type": "stream",
          "name": "stdout",
          "text": [
            "Evaluation Metrics:\n",
            "  Linear Eval Accuracy: 0.2535\n",
            "  NMI: 0.1788\n",
            "  ARI: 0.0765\n",
            "  Neighborhood Accuracy: 0.1767\n",
            "Training complete!\n"
          ]
        },
        {
          "output_type": "stream",
          "name": "stderr",
          "text": [
            "Evaluating:   4%|▍         | 10/250 [00:00<00:05, 40.48it/s]\n"
          ]
        },
        {
          "output_type": "stream",
          "name": "stdout",
          "text": [
            "Evaluation Metrics:\n",
            "  Linear Eval Accuracy: 0.2535\n",
            "  NMI: 0.1788\n",
            "  ARI: 0.0765\n",
            "  Neighborhood Accuracy: 0.1767\n",
            "    Seed 456\n",
            "Training with RDF framework...\n"
          ]
        },
        {
          "output_type": "stream",
          "name": "stderr",
          "text": [
            "Epoch 1/2:   6%|▋         | 10/157 [00:00<00:14, 10.37it/s]\n"
          ]
        },
        {
          "output_type": "stream",
          "name": "stdout",
          "text": [
            "Epoch 1, Loss: 1.5344\n"
          ]
        },
        {
          "output_type": "stream",
          "name": "stderr",
          "text": [
            "Epoch 2/2:   6%|▋         | 10/157 [00:00<00:14, 10.21it/s]\n"
          ]
        },
        {
          "output_type": "stream",
          "name": "stdout",
          "text": [
            "Epoch 2, Loss: 1.4807\n"
          ]
        },
        {
          "output_type": "stream",
          "name": "stderr",
          "text": [
            "Evaluating:   4%|▍         | 10/250 [00:00<00:05, 41.61it/s]\n"
          ]
        },
        {
          "output_type": "stream",
          "name": "stdout",
          "text": [
            "Evaluation Metrics:\n",
            "  Linear Eval Accuracy: 0.2113\n",
            "  NMI: 0.1840\n",
            "  ARI: 0.0687\n",
            "  Neighborhood Accuracy: 0.1761\n",
            "Training complete!\n"
          ]
        },
        {
          "output_type": "stream",
          "name": "stderr",
          "text": [
            "Evaluating:   4%|▍         | 10/250 [00:00<00:05, 41.31it/s]\n"
          ]
        },
        {
          "output_type": "stream",
          "name": "stdout",
          "text": [
            "Evaluation Metrics:\n",
            "  Linear Eval Accuracy: 0.2113\n",
            "  NMI: 0.1840\n",
            "  ARI: 0.0687\n",
            "  Neighborhood Accuracy: 0.1761\n",
            "    Seed 789\n",
            "Training with RDF framework...\n"
          ]
        },
        {
          "output_type": "stream",
          "name": "stderr",
          "text": [
            "Epoch 1/2:   6%|▋         | 10/157 [00:00<00:13, 10.57it/s]\n"
          ]
        },
        {
          "output_type": "stream",
          "name": "stdout",
          "text": [
            "Epoch 1, Loss: 1.5372\n"
          ]
        },
        {
          "output_type": "stream",
          "name": "stderr",
          "text": [
            "Epoch 2/2:   6%|▋         | 10/157 [00:00<00:13, 10.56it/s]\n"
          ]
        },
        {
          "output_type": "stream",
          "name": "stdout",
          "text": [
            "Epoch 2, Loss: 1.3702\n"
          ]
        },
        {
          "output_type": "stream",
          "name": "stderr",
          "text": [
            "Evaluating:   4%|▍         | 10/250 [00:00<00:05, 43.81it/s]\n"
          ]
        },
        {
          "output_type": "stream",
          "name": "stdout",
          "text": [
            "Evaluation Metrics:\n",
            "  Linear Eval Accuracy: 0.1690\n",
            "  NMI: 0.1571\n",
            "  ARI: 0.0493\n",
            "  Neighborhood Accuracy: 0.1523\n",
            "Training complete!\n"
          ]
        },
        {
          "output_type": "stream",
          "name": "stderr",
          "text": [
            "Evaluating:   4%|▍         | 10/250 [00:00<00:05, 43.12it/s]\n"
          ]
        },
        {
          "output_type": "stream",
          "name": "stdout",
          "text": [
            "Evaluation Metrics:\n",
            "  Linear Eval Accuracy: 0.1690\n",
            "  NMI: 0.1571\n",
            "  ARI: 0.0493\n",
            "  Neighborhood Accuracy: 0.1523\n",
            "    Seed 101\n",
            "Training with RDF framework...\n"
          ]
        },
        {
          "output_type": "stream",
          "name": "stderr",
          "text": [
            "Epoch 1/2:   6%|▋         | 10/157 [00:00<00:13, 10.56it/s]\n"
          ]
        },
        {
          "output_type": "stream",
          "name": "stdout",
          "text": [
            "Epoch 1, Loss: 1.4992\n"
          ]
        },
        {
          "output_type": "stream",
          "name": "stderr",
          "text": [
            "Epoch 2/2:   6%|▋         | 10/157 [00:00<00:14, 10.00it/s]\n"
          ]
        },
        {
          "output_type": "stream",
          "name": "stdout",
          "text": [
            "Epoch 2, Loss: 1.4109\n"
          ]
        },
        {
          "output_type": "stream",
          "name": "stderr",
          "text": [
            "Evaluating:   4%|▍         | 10/250 [00:00<00:05, 41.07it/s]\n"
          ]
        },
        {
          "output_type": "stream",
          "name": "stdout",
          "text": [
            "Evaluation Metrics:\n",
            "  Linear Eval Accuracy: 0.2676\n",
            "  NMI: 0.2008\n",
            "  ARI: 0.0917\n",
            "  Neighborhood Accuracy: 0.1852\n",
            "Training complete!\n"
          ]
        },
        {
          "output_type": "stream",
          "name": "stderr",
          "text": [
            "Evaluating:   4%|▍         | 10/250 [00:00<00:05, 44.60it/s]\n"
          ]
        },
        {
          "output_type": "stream",
          "name": "stdout",
          "text": [
            "Evaluation Metrics:\n",
            "  Linear Eval Accuracy: 0.2676\n",
            "  NMI: 0.2008\n",
            "  ARI: 0.0917\n",
            "  Neighborhood Accuracy: 0.1852\n",
            "  Testing icon framework\n",
            "    Seed 42\n",
            "Training with ICon framework...\n"
          ]
        },
        {
          "output_type": "stream",
          "name": "stderr",
          "text": [
            "Epoch 1/2:   6%|▋         | 10/157 [00:00<00:11, 12.90it/s]\n"
          ]
        },
        {
          "output_type": "stream",
          "name": "stdout",
          "text": [
            "Epoch 1, Loss: 2.2816\n"
          ]
        },
        {
          "output_type": "stream",
          "name": "stderr",
          "text": [
            "Epoch 2/2:   6%|▋         | 10/157 [00:00<00:11, 12.55it/s]\n"
          ]
        },
        {
          "output_type": "stream",
          "name": "stdout",
          "text": [
            "Epoch 2, Loss: 2.1974\n"
          ]
        },
        {
          "output_type": "stream",
          "name": "stderr",
          "text": [
            "Evaluating:   4%|▍         | 10/250 [00:00<00:05, 43.26it/s]\n"
          ]
        },
        {
          "output_type": "stream",
          "name": "stdout",
          "text": [
            "Evaluation Metrics:\n",
            "  Linear Eval Accuracy: 0.1127\n",
            "  NMI: 0.1554\n",
            "  ARI: 0.0736\n",
            "  Neighborhood Accuracy: 0.1631\n",
            "Training complete!\n"
          ]
        },
        {
          "output_type": "stream",
          "name": "stderr",
          "text": [
            "Evaluating:   4%|▍         | 10/250 [00:00<00:05, 41.35it/s]\n"
          ]
        },
        {
          "output_type": "stream",
          "name": "stdout",
          "text": [
            "Evaluation Metrics:\n",
            "  Linear Eval Accuracy: 0.1127\n",
            "  NMI: 0.1554\n",
            "  ARI: 0.0736\n",
            "  Neighborhood Accuracy: 0.1631\n",
            "    Seed 123\n",
            "Training with ICon framework...\n"
          ]
        },
        {
          "output_type": "stream",
          "name": "stderr",
          "text": [
            "Epoch 1/2:   6%|▋         | 10/157 [00:00<00:10, 13.80it/s]\n"
          ]
        },
        {
          "output_type": "stream",
          "name": "stdout",
          "text": [
            "Epoch 1, Loss: 2.2360\n"
          ]
        },
        {
          "output_type": "stream",
          "name": "stderr",
          "text": [
            "Epoch 2/2:   6%|▋         | 10/157 [00:00<00:10, 13.40it/s]\n"
          ]
        },
        {
          "output_type": "stream",
          "name": "stdout",
          "text": [
            "Epoch 2, Loss: 2.0924\n"
          ]
        },
        {
          "output_type": "stream",
          "name": "stderr",
          "text": [
            "Evaluating:   4%|▍         | 10/250 [00:00<00:05, 43.22it/s]\n"
          ]
        },
        {
          "output_type": "stream",
          "name": "stdout",
          "text": [
            "Evaluation Metrics:\n",
            "  Linear Eval Accuracy: 0.2113\n",
            "  NMI: 0.1877\n",
            "  ARI: 0.0660\n",
            "  Neighborhood Accuracy: 0.2074\n",
            "Training complete!\n"
          ]
        },
        {
          "output_type": "stream",
          "name": "stderr",
          "text": [
            "Evaluating:   4%|▍         | 10/250 [00:00<00:05, 43.57it/s]\n"
          ]
        },
        {
          "output_type": "stream",
          "name": "stdout",
          "text": [
            "Evaluation Metrics:\n",
            "  Linear Eval Accuracy: 0.2113\n",
            "  NMI: 0.1877\n",
            "  ARI: 0.0660\n",
            "  Neighborhood Accuracy: 0.2074\n",
            "    Seed 456\n",
            "Training with ICon framework...\n"
          ]
        },
        {
          "output_type": "stream",
          "name": "stderr",
          "text": [
            "Epoch 1/2:   6%|▋         | 10/157 [00:00<00:10, 13.86it/s]\n"
          ]
        },
        {
          "output_type": "stream",
          "name": "stdout",
          "text": [
            "Epoch 1, Loss: 2.2362\n"
          ]
        },
        {
          "output_type": "stream",
          "name": "stderr",
          "text": [
            "Epoch 2/2:   6%|▋         | 10/157 [00:00<00:10, 14.48it/s]\n"
          ]
        },
        {
          "output_type": "stream",
          "name": "stdout",
          "text": [
            "Epoch 2, Loss: 2.1697\n"
          ]
        },
        {
          "output_type": "stream",
          "name": "stderr",
          "text": [
            "Evaluating:   4%|▍         | 10/250 [00:00<00:05, 41.01it/s]\n"
          ]
        },
        {
          "output_type": "stream",
          "name": "stdout",
          "text": [
            "Evaluation Metrics:\n",
            "  Linear Eval Accuracy: 0.1690\n",
            "  NMI: 0.1543\n",
            "  ARI: 0.0475\n",
            "  Neighborhood Accuracy: 0.1437\n",
            "Training complete!\n"
          ]
        },
        {
          "output_type": "stream",
          "name": "stderr",
          "text": [
            "Evaluating:   4%|▍         | 10/250 [00:00<00:05, 42.46it/s]\n"
          ]
        },
        {
          "output_type": "stream",
          "name": "stdout",
          "text": [
            "Evaluation Metrics:\n",
            "  Linear Eval Accuracy: 0.1690\n",
            "  NMI: 0.1543\n",
            "  ARI: 0.0475\n",
            "  Neighborhood Accuracy: 0.1437\n",
            "    Seed 789\n",
            "Training with ICon framework...\n"
          ]
        },
        {
          "output_type": "stream",
          "name": "stderr",
          "text": [
            "Epoch 1/2:   6%|▋         | 10/157 [00:00<00:11, 12.99it/s]\n"
          ]
        },
        {
          "output_type": "stream",
          "name": "stdout",
          "text": [
            "Epoch 1, Loss: 2.2491\n"
          ]
        },
        {
          "output_type": "stream",
          "name": "stderr",
          "text": [
            "Epoch 2/2:   6%|▋         | 10/157 [00:00<00:11, 12.96it/s]\n"
          ]
        },
        {
          "output_type": "stream",
          "name": "stdout",
          "text": [
            "Epoch 2, Loss: 2.0867\n"
          ]
        },
        {
          "output_type": "stream",
          "name": "stderr",
          "text": [
            "Evaluating:   4%|▍         | 10/250 [00:00<00:05, 43.72it/s]\n"
          ]
        },
        {
          "output_type": "stream",
          "name": "stdout",
          "text": [
            "Evaluation Metrics:\n",
            "  Linear Eval Accuracy: 0.1972\n",
            "  NMI: 0.1879\n",
            "  ARI: 0.0759\n",
            "  Neighborhood Accuracy: 0.1795\n",
            "Training complete!\n"
          ]
        },
        {
          "output_type": "stream",
          "name": "stderr",
          "text": [
            "Evaluating:   4%|▍         | 10/250 [00:00<00:05, 43.23it/s]\n"
          ]
        },
        {
          "output_type": "stream",
          "name": "stdout",
          "text": [
            "Evaluation Metrics:\n",
            "  Linear Eval Accuracy: 0.1972\n",
            "  NMI: 0.1879\n",
            "  ARI: 0.0759\n",
            "  Neighborhood Accuracy: 0.1795\n",
            "    Seed 101\n",
            "Training with ICon framework...\n"
          ]
        },
        {
          "output_type": "stream",
          "name": "stderr",
          "text": [
            "Epoch 1/2:   6%|▋         | 10/157 [00:00<00:11, 13.17it/s]\n"
          ]
        },
        {
          "output_type": "stream",
          "name": "stdout",
          "text": [
            "Epoch 1, Loss: 2.1770\n"
          ]
        },
        {
          "output_type": "stream",
          "name": "stderr",
          "text": [
            "Epoch 2/2:   6%|▋         | 10/157 [00:00<00:11, 13.06it/s]\n"
          ]
        },
        {
          "output_type": "stream",
          "name": "stdout",
          "text": [
            "Epoch 2, Loss: 2.1023\n"
          ]
        },
        {
          "output_type": "stream",
          "name": "stderr",
          "text": [
            "Evaluating:   4%|▍         | 10/250 [00:00<00:05, 42.22it/s]\n"
          ]
        },
        {
          "output_type": "stream",
          "name": "stdout",
          "text": [
            "Evaluation Metrics:\n",
            "  Linear Eval Accuracy: 0.1972\n",
            "  NMI: 0.1892\n",
            "  ARI: 0.0719\n",
            "  Neighborhood Accuracy: 0.1784\n",
            "Training complete!\n"
          ]
        },
        {
          "output_type": "stream",
          "name": "stderr",
          "text": [
            "Evaluating:   4%|▍         | 10/250 [00:00<00:05, 43.42it/s]\n"
          ]
        },
        {
          "output_type": "stream",
          "name": "stdout",
          "text": [
            "Evaluation Metrics:\n",
            "  Linear Eval Accuracy: 0.1972\n",
            "  NMI: 0.1892\n",
            "  ARI: 0.0719\n",
            "  Neighborhood Accuracy: 0.1784\n",
            "\n",
            "Results for cifar10:\n",
            "  final_loss: \n",
            "    RDF: 1.7897 ± 0.0445\n",
            "    I-Con: 2.5176 ± 0.0291\n",
            "    p-value: 0.0000 ***\n",
            "    Improvement: 28.91%\n",
            "  linear_eval_accuracy: \n",
            "    RDF: 0.2667 ± 0.0208\n",
            "    I-Con: 0.2723 ± 0.0139\n",
            "    p-value: 0.5965 \n",
            "    Improvement: -2.08%\n",
            "  nmi: \n",
            "    RDF: 0.1211 ± 0.0186\n",
            "    I-Con: 0.1255 ± 0.0179\n",
            "    p-value: 0.3327 \n",
            "    Improvement: -3.48%\n",
            "  ari: \n",
            "    RDF: 0.0533 ± 0.0103\n",
            "    I-Con: 0.0550 ± 0.0102\n",
            "    p-value: 0.6388 \n",
            "    Improvement: -3.10%\n",
            "  neighborhood_accuracy: \n",
            "    RDF: 0.1798 ± 0.0085\n",
            "    I-Con: 0.1806 ± 0.0125\n",
            "    p-value: 0.8437 \n",
            "    Improvement: -0.44%\n",
            "\n",
            "Results for cifar100:\n",
            "  final_loss: \n",
            "    RDF: 1.7829 ± 0.0269\n",
            "    I-Con: 2.5089 ± 0.0337\n",
            "    p-value: 0.0000 ***\n",
            "    Improvement: 28.94%\n",
            "  linear_eval_accuracy: \n",
            "    RDF: 0.0255 ± 0.0115\n",
            "    I-Con: 0.0170 ± 0.0035\n",
            "    p-value: 0.3046 \n",
            "    Improvement: 50.00%\n",
            "  nmi: \n",
            "    RDF: 0.5703 ± 0.0038\n",
            "    I-Con: 0.5678 ± 0.0075\n",
            "    p-value: 0.3499 \n",
            "    Improvement: 0.43%\n",
            "  ari: \n",
            "    RDF: 0.0152 ± 0.0036\n",
            "    I-Con: 0.0161 ± 0.0027\n",
            "    p-value: 0.7125 \n",
            "    Improvement: -5.15%\n",
            "  neighborhood_accuracy: \n",
            "    RDF: 0.0263 ± 0.0007\n",
            "    I-Con: 0.0278 ± 0.0023\n",
            "    p-value: 0.2516 \n",
            "    Improvement: -5.51%\n",
            "\n",
            "Results for stl10:\n",
            "  final_loss: \n",
            "    RDF: 1.4390 ± 0.0483\n",
            "    I-Con: 2.1297 ± 0.0451\n",
            "    p-value: 0.0000 ***\n",
            "    Improvement: 32.43%\n",
            "  linear_eval_accuracy: \n",
            "    RDF: 0.2225 ± 0.0350\n",
            "    I-Con: 0.1775 ± 0.0352\n",
            "    p-value: 0.0993 \n",
            "    Improvement: 25.40%\n",
            "  nmi: \n",
            "    RDF: 0.1715 ± 0.0223\n",
            "    I-Con: 0.1749 ± 0.0164\n",
            "    p-value: 0.7659 \n",
            "    Improvement: -1.97%\n",
            "  ari: \n",
            "    RDF: 0.0702 ± 0.0140\n",
            "    I-Con: 0.0670 ± 0.0103\n",
            "    p-value: 0.7443 \n",
            "    Improvement: 4.80%\n",
            "  neighborhood_accuracy: \n",
            "    RDF: 0.1690 ± 0.0131\n",
            "    I-Con: 0.1744 ± 0.0210\n",
            "    p-value: 0.6634 \n",
            "    Improvement: -3.13%\n"
          ]
        }
      ]
    },
    {
      "cell_type": "code",
      "source": [],
      "metadata": {
        "id": "ujKGyFA2ZC6Z"
      },
      "execution_count": null,
      "outputs": []
    },
    {
      "cell_type": "markdown",
      "source": [
        "# Changing epoch to 1 from 2.\n"
      ],
      "metadata": {
        "id": "xrjIAYDbh0Qz"
      }
    },
    {
      "cell_type": "code",
      "source": [
        "# Configuration\n",
        "class Config:\n",
        "    def __init__(self, dataset_name=\"cifar10\"):\n",
        "        # General settings\n",
        "        self.device = torch.device(\"cuda\" if torch.cuda.is_available() else \"cpu\")\n",
        "\n",
        "        # Adjust batch size based on dataset (STL-10 has larger images)\n",
        "        if dataset_name == \"stl10\":\n",
        "            self.batch_size = 32  # Smaller batch for larger images\n",
        "        else:\n",
        "            self.batch_size = 64\n",
        "\n",
        "        self.num_epochs = 1\n",
        "        self.lr = 0.001\n",
        "        self.weight_decay = 1e-5\n",
        "        self.embedding_dim = 64\n",
        "        self.temperature = 0.5\n",
        "\n",
        "        # Framework-specific settings\n",
        "        # RDF settings\n",
        "        self.rdf_recursion_depth = 3\n",
        "        self.rdf_coupling_strength = 0.5\n",
        "\n",
        "        # I-Con settings\n",
        "        self.icon_p_distribution = \"gaussian\"\n",
        "        self.icon_q_distribution = \"gaussian\"\n",
        "        self.icon_debias_alpha = 0.2\n"
      ],
      "metadata": {
        "id": "iVLnTuQQh0Q0"
      },
      "execution_count": 7,
      "outputs": []
    },
    {
      "cell_type": "code",
      "source": [
        "import torch\n",
        "import numpy as np\n",
        "import pandas as pd\n",
        "from tqdm import tqdm\n",
        "import matplotlib.pyplot as plt\n",
        "import seaborn as sns\n",
        "from scipy import stats\n",
        "from torch.utils.data import DataLoader\n",
        "from torchvision import datasets, transforms, models\n",
        "\n",
        "# Configuration\n",
        "datasets_to_test = ['cifar10', 'cifar100', 'stl10']\n",
        "frameworks = ['rdf', 'icon']\n",
        "num_seeds = 5\n",
        "seeds = [42, 123, 456, 789, 101]\n",
        "\n",
        "# Results storage\n",
        "results = {dataset: {framework: [] for framework in frameworks}\n",
        "           for dataset in datasets_to_test}\n",
        "\n",
        "# Run experiments\n",
        "for dataset_name in datasets_to_test:\n",
        "    print(f\"Running experiments on {dataset_name}\")\n",
        "    for framework in frameworks:\n",
        "        print(f\"  Testing {framework} framework\")\n",
        "        for seed in seeds:\n",
        "            print(f\"    Seed {seed}\")\n",
        "            torch.manual_seed(seed)\n",
        "            np.random.seed(seed)\n",
        "\n",
        "            # Create dataset\n",
        "            train_dataset, test_dataset, augment_transform = get_datasets(dataset_name)\n",
        "            contrastive_train_dataset = ContrastiveDataset(train_dataset, augment_transform)\n",
        "\n",
        "            # Create data loaders\n",
        "            config = Config(dataset_name)\n",
        "            train_loader = DataLoader(\n",
        "                contrastive_train_dataset, batch_size=config.batch_size,\n",
        "                shuffle=True, num_workers=4\n",
        "            )\n",
        "\n",
        "            test_loader = DataLoader(\n",
        "                test_dataset, batch_size=config.batch_size,\n",
        "                shuffle=False, num_workers=4\n",
        "            )\n",
        "\n",
        "            # Create framework\n",
        "            if framework == \"rdf\":\n",
        "                framework_obj = RDF(config)\n",
        "            else:\n",
        "                framework_obj = ICon(config)\n",
        "\n",
        "            # Train and evaluate\n",
        "            learner = RepresentationLearner(framework_obj, config)\n",
        "            learner.train(train_loader, test_loader)\n",
        "            metrics = learner.evaluate(test_loader)\n",
        "\n",
        "            # Record results\n",
        "            results[dataset_name][framework].append({\n",
        "                'seed': seed,\n",
        "                'final_loss': learner.train_losses[-1],\n",
        "                'linear_eval_accuracy': metrics['linear_eval_accuracy'],\n",
        "                'nmi': metrics['nmi'],\n",
        "                'ari': metrics['ari'],\n",
        "                'neighborhood_accuracy': metrics['neighborhood_accuracy']\n",
        "            })\n",
        "\n",
        "# Statistical analysis\n",
        "statistical_results = {}\n",
        "\n",
        "for dataset_name in datasets_to_test:\n",
        "    statistical_results[dataset_name] = {}\n",
        "\n",
        "    # Extract metrics\n",
        "    metrics = ['final_loss', 'linear_eval_accuracy', 'nmi', 'ari', 'neighborhood_accuracy']\n",
        "\n",
        "    for metric in metrics:\n",
        "        rdf_values = [run[metric] for run in results[dataset_name]['rdf']]\n",
        "        icon_values = [run[metric] for run in results[dataset_name]['icon']]\n",
        "\n",
        "        # Calculate mean and std\n",
        "        rdf_mean = np.mean(rdf_values)\n",
        "        rdf_std = np.std(rdf_values)\n",
        "        icon_mean = np.mean(icon_values)\n",
        "        icon_std = np.std(icon_values)\n",
        "\n",
        "        # Perform t-test\n",
        "        t_stat, p_value = stats.ttest_rel(rdf_values, icon_values)\n",
        "\n",
        "        # Calculate improvement percentage for loss\n",
        "        if metric == 'final_loss':\n",
        "            improvement = (icon_mean - rdf_mean) / icon_mean * 100\n",
        "        else:\n",
        "            improvement = (rdf_mean - icon_mean) / icon_mean * 100\n",
        "\n",
        "        statistical_results[dataset_name][metric] = {\n",
        "            'rdf_mean': rdf_mean,\n",
        "            'rdf_std': rdf_std,\n",
        "            'icon_mean': icon_mean,\n",
        "            'icon_std': icon_std,\n",
        "            'p_value': p_value,\n",
        "            'improvement': improvement\n",
        "        }\n",
        "\n",
        "# Print results\n",
        "for dataset_name in datasets_to_test:\n",
        "    print(f\"\\nResults for {dataset_name}:\")\n",
        "    for metric, stats in statistical_results[dataset_name].items():\n",
        "        significance = \"\"\n",
        "        if stats['p_value'] < 0.001:\n",
        "            significance = \"***\"\n",
        "        elif stats['p_value'] < 0.01:\n",
        "            significance = \"**\"\n",
        "        elif stats['p_value'] < 0.05:\n",
        "            significance = \"*\"\n",
        "\n",
        "        print(f\"  {metric}: \")\n",
        "        print(f\"    RDF: {stats['rdf_mean']:.4f} ± {stats['rdf_std']:.4f}\")\n",
        "        print(f\"    I-Con: {stats['icon_mean']:.4f} ± {stats['icon_std']:.4f}\")\n",
        "        print(f\"    p-value: {stats['p_value']:.4f} {significance}\")\n",
        "        print(f\"    Improvement: {stats['improvement']:.2f}%\")"
      ],
      "metadata": {
        "colab": {
          "base_uri": "https://localhost:8080/"
        },
        "id": "CeoIpenJh5me",
        "outputId": "0395d256-9101-4891-f852-1d8e7fe0d9f9"
      },
      "execution_count": 8,
      "outputs": [
        {
          "output_type": "stream",
          "name": "stdout",
          "text": [
            "Running experiments on cifar10\n",
            "  Testing rdf framework\n",
            "    Seed 42\n",
            "Training with RDF framework...\n"
          ]
        },
        {
          "output_type": "stream",
          "name": "stderr",
          "text": [
            "Epoch 1/1:   1%|▏         | 10/782 [00:01<01:48,  7.14it/s]\n"
          ]
        },
        {
          "output_type": "stream",
          "name": "stdout",
          "text": [
            "Epoch 1, Loss: 1.9342\n"
          ]
        },
        {
          "output_type": "stream",
          "name": "stderr",
          "text": [
            "Evaluating:   6%|▋         | 10/157 [00:00<00:03, 44.57it/s]\n"
          ]
        },
        {
          "output_type": "stream",
          "name": "stdout",
          "text": [
            "Evaluation Metrics:\n",
            "  Linear Eval Accuracy: 0.2553\n",
            "  NMI: 0.1294\n",
            "  ARI: 0.0628\n",
            "  Neighborhood Accuracy: 0.1759\n",
            "Training complete!\n"
          ]
        },
        {
          "output_type": "stream",
          "name": "stderr",
          "text": [
            "Evaluating:   6%|▋         | 10/157 [00:00<00:03, 38.74it/s]\n"
          ]
        },
        {
          "output_type": "stream",
          "name": "stdout",
          "text": [
            "Evaluation Metrics:\n",
            "  Linear Eval Accuracy: 0.2553\n",
            "  NMI: 0.1294\n",
            "  ARI: 0.0628\n",
            "  Neighborhood Accuracy: 0.1759\n",
            "    Seed 123\n",
            "Training with RDF framework...\n"
          ]
        },
        {
          "output_type": "stream",
          "name": "stderr",
          "text": [
            "Epoch 1/1:   1%|▏         | 10/782 [00:01<01:49,  7.04it/s]\n"
          ]
        },
        {
          "output_type": "stream",
          "name": "stdout",
          "text": [
            "Epoch 1, Loss: 1.9605\n"
          ]
        },
        {
          "output_type": "stream",
          "name": "stderr",
          "text": [
            "Evaluating:   6%|▋         | 10/157 [00:00<00:03, 46.57it/s]\n"
          ]
        },
        {
          "output_type": "stream",
          "name": "stdout",
          "text": [
            "Evaluation Metrics:\n",
            "  Linear Eval Accuracy: 0.2553\n",
            "  NMI: 0.1108\n",
            "  ARI: 0.0433\n",
            "  Neighborhood Accuracy: 0.1733\n",
            "Training complete!\n"
          ]
        },
        {
          "output_type": "stream",
          "name": "stderr",
          "text": [
            "Evaluating:   6%|▋         | 10/157 [00:00<00:03, 45.38it/s]\n"
          ]
        },
        {
          "output_type": "stream",
          "name": "stdout",
          "text": [
            "Evaluation Metrics:\n",
            "  Linear Eval Accuracy: 0.2553\n",
            "  NMI: 0.1108\n",
            "  ARI: 0.0433\n",
            "  Neighborhood Accuracy: 0.1733\n",
            "    Seed 456\n",
            "Training with RDF framework...\n"
          ]
        },
        {
          "output_type": "stream",
          "name": "stderr",
          "text": [
            "Epoch 1/1:   1%|▏         | 10/782 [00:01<01:43,  7.44it/s]\n"
          ]
        },
        {
          "output_type": "stream",
          "name": "stdout",
          "text": [
            "Epoch 1, Loss: 1.8651\n"
          ]
        },
        {
          "output_type": "stream",
          "name": "stderr",
          "text": [
            "Evaluating:   6%|▋         | 10/157 [00:00<00:03, 45.14it/s]\n"
          ]
        },
        {
          "output_type": "stream",
          "name": "stdout",
          "text": [
            "Evaluation Metrics:\n",
            "  Linear Eval Accuracy: 0.2908\n",
            "  NMI: 0.1240\n",
            "  ARI: 0.0593\n",
            "  Neighborhood Accuracy: 0.1855\n",
            "Training complete!\n"
          ]
        },
        {
          "output_type": "stream",
          "name": "stderr",
          "text": [
            "Evaluating:   6%|▋         | 10/157 [00:00<00:03, 45.26it/s]\n"
          ]
        },
        {
          "output_type": "stream",
          "name": "stdout",
          "text": [
            "Evaluation Metrics:\n",
            "  Linear Eval Accuracy: 0.2908\n",
            "  NMI: 0.1240\n",
            "  ARI: 0.0593\n",
            "  Neighborhood Accuracy: 0.1855\n",
            "    Seed 789\n",
            "Training with RDF framework...\n"
          ]
        },
        {
          "output_type": "stream",
          "name": "stderr",
          "text": [
            "Epoch 1/1:   1%|▏         | 10/782 [00:01<01:52,  6.84it/s]\n"
          ]
        },
        {
          "output_type": "stream",
          "name": "stdout",
          "text": [
            "Epoch 1, Loss: 1.9851\n"
          ]
        },
        {
          "output_type": "stream",
          "name": "stderr",
          "text": [
            "Evaluating:   6%|▋         | 10/157 [00:00<00:03, 42.68it/s]\n"
          ]
        },
        {
          "output_type": "stream",
          "name": "stdout",
          "text": [
            "Evaluation Metrics:\n",
            "  Linear Eval Accuracy: 0.2695\n",
            "  NMI: 0.1111\n",
            "  ARI: 0.0534\n",
            "  Neighborhood Accuracy: 0.1798\n",
            "Training complete!\n"
          ]
        },
        {
          "output_type": "stream",
          "name": "stderr",
          "text": [
            "Evaluating:   6%|▋         | 10/157 [00:00<00:03, 44.31it/s]\n"
          ]
        },
        {
          "output_type": "stream",
          "name": "stdout",
          "text": [
            "Evaluation Metrics:\n",
            "  Linear Eval Accuracy: 0.2695\n",
            "  NMI: 0.1111\n",
            "  ARI: 0.0534\n",
            "  Neighborhood Accuracy: 0.1798\n",
            "    Seed 101\n",
            "Training with RDF framework...\n"
          ]
        },
        {
          "output_type": "stream",
          "name": "stderr",
          "text": [
            "Epoch 1/1:   1%|▏         | 10/782 [00:01<01:46,  7.22it/s]\n"
          ]
        },
        {
          "output_type": "stream",
          "name": "stdout",
          "text": [
            "Epoch 1, Loss: 1.9469\n"
          ]
        },
        {
          "output_type": "stream",
          "name": "stderr",
          "text": [
            "Evaluating:   6%|▋         | 10/157 [00:00<00:03, 42.42it/s]\n"
          ]
        },
        {
          "output_type": "stream",
          "name": "stdout",
          "text": [
            "Evaluation Metrics:\n",
            "  Linear Eval Accuracy: 0.1773\n",
            "  NMI: 0.0837\n",
            "  ARI: 0.0370\n",
            "  Neighborhood Accuracy: 0.1616\n",
            "Training complete!\n"
          ]
        },
        {
          "output_type": "stream",
          "name": "stderr",
          "text": [
            "Evaluating:   6%|▋         | 10/157 [00:00<00:03, 45.20it/s]\n"
          ]
        },
        {
          "output_type": "stream",
          "name": "stdout",
          "text": [
            "Evaluation Metrics:\n",
            "  Linear Eval Accuracy: 0.1773\n",
            "  NMI: 0.0837\n",
            "  ARI: 0.0370\n",
            "  Neighborhood Accuracy: 0.1616\n",
            "  Testing icon framework\n",
            "    Seed 42\n",
            "Training with ICon framework...\n"
          ]
        },
        {
          "output_type": "stream",
          "name": "stderr",
          "text": [
            "Epoch 1/1:   1%|▏         | 10/782 [00:00<01:04, 12.02it/s]\n"
          ]
        },
        {
          "output_type": "stream",
          "name": "stdout",
          "text": [
            "Epoch 1, Loss: 2.6835\n"
          ]
        },
        {
          "output_type": "stream",
          "name": "stderr",
          "text": [
            "Evaluating:   6%|▋         | 10/157 [00:00<00:03, 46.21it/s]\n"
          ]
        },
        {
          "output_type": "stream",
          "name": "stdout",
          "text": [
            "Evaluation Metrics:\n",
            "  Linear Eval Accuracy: 0.2766\n",
            "  NMI: 0.1276\n",
            "  ARI: 0.0533\n",
            "  Neighborhood Accuracy: 0.1759\n",
            "Training complete!\n"
          ]
        },
        {
          "output_type": "stream",
          "name": "stderr",
          "text": [
            "Evaluating:   6%|▋         | 10/157 [00:00<00:03, 46.27it/s]\n"
          ]
        },
        {
          "output_type": "stream",
          "name": "stdout",
          "text": [
            "Evaluation Metrics:\n",
            "  Linear Eval Accuracy: 0.2766\n",
            "  NMI: 0.1276\n",
            "  ARI: 0.0533\n",
            "  Neighborhood Accuracy: 0.1759\n",
            "    Seed 123\n",
            "Training with ICon framework...\n"
          ]
        },
        {
          "output_type": "stream",
          "name": "stderr",
          "text": [
            "Epoch 1/1:   1%|▏         | 10/782 [00:01<01:20,  9.55it/s]\n"
          ]
        },
        {
          "output_type": "stream",
          "name": "stdout",
          "text": [
            "Epoch 1, Loss: 2.6987\n"
          ]
        },
        {
          "output_type": "stream",
          "name": "stderr",
          "text": [
            "Evaluating:   6%|▋         | 10/157 [00:00<00:03, 46.82it/s]\n"
          ]
        },
        {
          "output_type": "stream",
          "name": "stdout",
          "text": [
            "Evaluation Metrics:\n",
            "  Linear Eval Accuracy: 0.2340\n",
            "  NMI: 0.1231\n",
            "  ARI: 0.0584\n",
            "  Neighborhood Accuracy: 0.1844\n",
            "Training complete!\n"
          ]
        },
        {
          "output_type": "stream",
          "name": "stderr",
          "text": [
            "Evaluating:   6%|▋         | 10/157 [00:00<00:03, 39.26it/s]\n"
          ]
        },
        {
          "output_type": "stream",
          "name": "stdout",
          "text": [
            "Evaluation Metrics:\n",
            "  Linear Eval Accuracy: 0.2340\n",
            "  NMI: 0.1231\n",
            "  ARI: 0.0584\n",
            "  Neighborhood Accuracy: 0.1844\n",
            "    Seed 456\n",
            "Training with ICon framework...\n"
          ]
        },
        {
          "output_type": "stream",
          "name": "stderr",
          "text": [
            "Epoch 1/1:   1%|▏         | 10/782 [00:00<01:08, 11.33it/s]\n"
          ]
        },
        {
          "output_type": "stream",
          "name": "stdout",
          "text": [
            "Epoch 1, Loss: 2.6059\n"
          ]
        },
        {
          "output_type": "stream",
          "name": "stderr",
          "text": [
            "Evaluating:   6%|▋         | 10/157 [00:00<00:03, 46.29it/s]\n"
          ]
        },
        {
          "output_type": "stream",
          "name": "stdout",
          "text": [
            "Evaluation Metrics:\n",
            "  Linear Eval Accuracy: 0.2837\n",
            "  NMI: 0.1198\n",
            "  ARI: 0.0574\n",
            "  Neighborhood Accuracy: 0.1801\n",
            "Training complete!\n"
          ]
        },
        {
          "output_type": "stream",
          "name": "stderr",
          "text": [
            "Evaluating:   6%|▋         | 10/157 [00:00<00:03, 40.59it/s]\n"
          ]
        },
        {
          "output_type": "stream",
          "name": "stdout",
          "text": [
            "Evaluation Metrics:\n",
            "  Linear Eval Accuracy: 0.2837\n",
            "  NMI: 0.1198\n",
            "  ARI: 0.0574\n",
            "  Neighborhood Accuracy: 0.1801\n",
            "    Seed 789\n",
            "Training with ICon framework...\n"
          ]
        },
        {
          "output_type": "stream",
          "name": "stderr",
          "text": [
            "Epoch 1/1:   1%|▏         | 10/782 [00:00<01:06, 11.59it/s]\n"
          ]
        },
        {
          "output_type": "stream",
          "name": "stdout",
          "text": [
            "Epoch 1, Loss: 2.7112\n"
          ]
        },
        {
          "output_type": "stream",
          "name": "stderr",
          "text": [
            "Evaluating:   6%|▋         | 10/157 [00:00<00:03, 46.98it/s]\n"
          ]
        },
        {
          "output_type": "stream",
          "name": "stdout",
          "text": [
            "Evaluation Metrics:\n",
            "  Linear Eval Accuracy: 0.2270\n",
            "  NMI: 0.1073\n",
            "  ARI: 0.0333\n",
            "  Neighborhood Accuracy: 0.1795\n",
            "Training complete!\n"
          ]
        },
        {
          "output_type": "stream",
          "name": "stderr",
          "text": [
            "Evaluating:   6%|▋         | 10/157 [00:00<00:03, 45.72it/s]\n"
          ]
        },
        {
          "output_type": "stream",
          "name": "stdout",
          "text": [
            "Evaluation Metrics:\n",
            "  Linear Eval Accuracy: 0.2270\n",
            "  NMI: 0.1073\n",
            "  ARI: 0.0333\n",
            "  Neighborhood Accuracy: 0.1795\n",
            "    Seed 101\n",
            "Training with ICon framework...\n"
          ]
        },
        {
          "output_type": "stream",
          "name": "stderr",
          "text": [
            "Epoch 1/1:   1%|▏         | 10/782 [00:00<01:07, 11.40it/s]\n"
          ]
        },
        {
          "output_type": "stream",
          "name": "stdout",
          "text": [
            "Epoch 1, Loss: 2.6847\n"
          ]
        },
        {
          "output_type": "stream",
          "name": "stderr",
          "text": [
            "Evaluating:   6%|▋         | 10/157 [00:00<00:03, 44.23it/s]\n"
          ]
        },
        {
          "output_type": "stream",
          "name": "stdout",
          "text": [
            "Evaluation Metrics:\n",
            "  Linear Eval Accuracy: 0.2057\n",
            "  NMI: 0.0898\n",
            "  ARI: 0.0321\n",
            "  Neighborhood Accuracy: 0.1494\n",
            "Training complete!\n"
          ]
        },
        {
          "output_type": "stream",
          "name": "stderr",
          "text": [
            "Evaluating:   6%|▋         | 10/157 [00:00<00:03, 38.83it/s]\n"
          ]
        },
        {
          "output_type": "stream",
          "name": "stdout",
          "text": [
            "Evaluation Metrics:\n",
            "  Linear Eval Accuracy: 0.2057\n",
            "  NMI: 0.0898\n",
            "  ARI: 0.0321\n",
            "  Neighborhood Accuracy: 0.1494\n",
            "Running experiments on cifar100\n",
            "  Testing rdf framework\n",
            "    Seed 42\n",
            "Training with RDF framework...\n"
          ]
        },
        {
          "output_type": "stream",
          "name": "stderr",
          "text": [
            "Epoch 1/1:   1%|▏         | 10/782 [00:01<01:48,  7.14it/s]\n"
          ]
        },
        {
          "output_type": "stream",
          "name": "stdout",
          "text": [
            "Epoch 1, Loss: 1.9098\n"
          ]
        },
        {
          "output_type": "stream",
          "name": "stderr",
          "text": [
            "Evaluating:   6%|▋         | 10/157 [00:00<00:03, 46.36it/s]\n"
          ]
        },
        {
          "output_type": "stream",
          "name": "stdout",
          "text": [
            "Evaluation Metrics:\n",
            "  Linear Eval Accuracy: 0.0213\n",
            "  NMI: 0.5617\n",
            "  ARI: 0.0117\n",
            "  Neighborhood Accuracy: 0.0273\n",
            "Training complete!\n"
          ]
        },
        {
          "output_type": "stream",
          "name": "stderr",
          "text": [
            "Evaluating:   6%|▋         | 10/157 [00:00<00:03, 42.23it/s]\n"
          ]
        },
        {
          "output_type": "stream",
          "name": "stdout",
          "text": [
            "Evaluation Metrics:\n",
            "  Linear Eval Accuracy: 0.0213\n",
            "  NMI: 0.5617\n",
            "  ARI: 0.0117\n",
            "  Neighborhood Accuracy: 0.0273\n",
            "    Seed 123\n",
            "Training with RDF framework...\n"
          ]
        },
        {
          "output_type": "stream",
          "name": "stderr",
          "text": [
            "Epoch 1/1:   1%|▏         | 10/782 [00:01<01:44,  7.38it/s]\n"
          ]
        },
        {
          "output_type": "stream",
          "name": "stdout",
          "text": [
            "Epoch 1, Loss: 1.9106\n"
          ]
        },
        {
          "output_type": "stream",
          "name": "stderr",
          "text": [
            "Evaluating:   6%|▋         | 10/157 [00:00<00:03, 47.67it/s]\n"
          ]
        },
        {
          "output_type": "stream",
          "name": "stdout",
          "text": [
            "Evaluation Metrics:\n",
            "  Linear Eval Accuracy: 0.0213\n",
            "  NMI: 0.5633\n",
            "  ARI: 0.0139\n",
            "  Neighborhood Accuracy: 0.0236\n",
            "Training complete!\n"
          ]
        },
        {
          "output_type": "stream",
          "name": "stderr",
          "text": [
            "Evaluating:   6%|▋         | 10/157 [00:00<00:03, 46.98it/s]\n"
          ]
        },
        {
          "output_type": "stream",
          "name": "stdout",
          "text": [
            "Evaluation Metrics:\n",
            "  Linear Eval Accuracy: 0.0213\n",
            "  NMI: 0.5633\n",
            "  ARI: 0.0139\n",
            "  Neighborhood Accuracy: 0.0236\n",
            "    Seed 456\n",
            "Training with RDF framework...\n"
          ]
        },
        {
          "output_type": "stream",
          "name": "stderr",
          "text": [
            "Epoch 1/1:   1%|▏         | 10/782 [00:01<01:46,  7.26it/s]\n"
          ]
        },
        {
          "output_type": "stream",
          "name": "stdout",
          "text": [
            "Epoch 1, Loss: 1.9217\n"
          ]
        },
        {
          "output_type": "stream",
          "name": "stderr",
          "text": [
            "Evaluating:   6%|▋         | 10/157 [00:00<00:03, 46.65it/s]\n"
          ]
        },
        {
          "output_type": "stream",
          "name": "stdout",
          "text": [
            "Evaluation Metrics:\n",
            "  Linear Eval Accuracy: 0.0071\n",
            "  NMI: 0.5642\n",
            "  ARI: 0.0112\n",
            "  Neighborhood Accuracy: 0.0244\n",
            "Training complete!\n"
          ]
        },
        {
          "output_type": "stream",
          "name": "stderr",
          "text": [
            "Evaluating:   6%|▋         | 10/157 [00:00<00:03, 41.85it/s]\n"
          ]
        },
        {
          "output_type": "stream",
          "name": "stdout",
          "text": [
            "Evaluation Metrics:\n",
            "  Linear Eval Accuracy: 0.0071\n",
            "  NMI: 0.5642\n",
            "  ARI: 0.0112\n",
            "  Neighborhood Accuracy: 0.0244\n",
            "    Seed 789\n",
            "Training with RDF framework...\n"
          ]
        },
        {
          "output_type": "stream",
          "name": "stderr",
          "text": [
            "Epoch 1/1:   1%|▏         | 10/782 [00:01<02:09,  5.96it/s]\n"
          ]
        },
        {
          "output_type": "stream",
          "name": "stdout",
          "text": [
            "Epoch 1, Loss: 1.9156\n"
          ]
        },
        {
          "output_type": "stream",
          "name": "stderr",
          "text": [
            "Evaluating:   6%|▋         | 10/157 [00:00<00:03, 46.10it/s]\n"
          ]
        },
        {
          "output_type": "stream",
          "name": "stdout",
          "text": [
            "Evaluation Metrics:\n",
            "  Linear Eval Accuracy: 0.0213\n",
            "  NMI: 0.5548\n",
            "  ARI: 0.0143\n",
            "  Neighborhood Accuracy: 0.0241\n",
            "Training complete!\n"
          ]
        },
        {
          "output_type": "stream",
          "name": "stderr",
          "text": [
            "Evaluating:   6%|▋         | 10/157 [00:00<00:03, 43.18it/s]\n"
          ]
        },
        {
          "output_type": "stream",
          "name": "stdout",
          "text": [
            "Evaluation Metrics:\n",
            "  Linear Eval Accuracy: 0.0213\n",
            "  NMI: 0.5548\n",
            "  ARI: 0.0143\n",
            "  Neighborhood Accuracy: 0.0241\n",
            "    Seed 101\n",
            "Training with RDF framework...\n"
          ]
        },
        {
          "output_type": "stream",
          "name": "stderr",
          "text": [
            "Epoch 1/1:   1%|▏         | 10/782 [00:01<01:46,  7.24it/s]\n"
          ]
        },
        {
          "output_type": "stream",
          "name": "stdout",
          "text": [
            "Epoch 1, Loss: 1.9646\n"
          ]
        },
        {
          "output_type": "stream",
          "name": "stderr",
          "text": [
            "Evaluating:   6%|▋         | 10/157 [00:00<00:03, 46.00it/s]\n"
          ]
        },
        {
          "output_type": "stream",
          "name": "stdout",
          "text": [
            "Evaluation Metrics:\n",
            "  Linear Eval Accuracy: 0.0142\n",
            "  NMI: 0.5558\n",
            "  ARI: 0.0098\n",
            "  Neighborhood Accuracy: 0.0219\n",
            "Training complete!\n"
          ]
        },
        {
          "output_type": "stream",
          "name": "stderr",
          "text": [
            "Evaluating:   6%|▋         | 10/157 [00:00<00:03, 43.58it/s]\n"
          ]
        },
        {
          "output_type": "stream",
          "name": "stdout",
          "text": [
            "Evaluation Metrics:\n",
            "  Linear Eval Accuracy: 0.0142\n",
            "  NMI: 0.5558\n",
            "  ARI: 0.0098\n",
            "  Neighborhood Accuracy: 0.0219\n",
            "  Testing icon framework\n",
            "    Seed 42\n",
            "Training with ICon framework...\n"
          ]
        },
        {
          "output_type": "stream",
          "name": "stderr",
          "text": [
            "Epoch 1/1:   1%|▏         | 10/782 [00:00<01:06, 11.58it/s]\n"
          ]
        },
        {
          "output_type": "stream",
          "name": "stdout",
          "text": [
            "Epoch 1, Loss: 2.6268\n"
          ]
        },
        {
          "output_type": "stream",
          "name": "stderr",
          "text": [
            "Evaluating:   6%|▋         | 10/157 [00:00<00:03, 43.59it/s]\n"
          ]
        },
        {
          "output_type": "stream",
          "name": "stdout",
          "text": [
            "Evaluation Metrics:\n",
            "  Linear Eval Accuracy: 0.0284\n",
            "  NMI: 0.5625\n",
            "  ARI: 0.0162\n",
            "  Neighborhood Accuracy: 0.0290\n",
            "Training complete!\n"
          ]
        },
        {
          "output_type": "stream",
          "name": "stderr",
          "text": [
            "Evaluating:   6%|▋         | 10/157 [00:00<00:03, 39.83it/s]\n"
          ]
        },
        {
          "output_type": "stream",
          "name": "stdout",
          "text": [
            "Evaluation Metrics:\n",
            "  Linear Eval Accuracy: 0.0284\n",
            "  NMI: 0.5625\n",
            "  ARI: 0.0162\n",
            "  Neighborhood Accuracy: 0.0290\n",
            "    Seed 123\n",
            "Training with ICon framework...\n"
          ]
        },
        {
          "output_type": "stream",
          "name": "stderr",
          "text": [
            "Epoch 1/1:   1%|▏         | 10/782 [00:00<01:06, 11.59it/s]\n"
          ]
        },
        {
          "output_type": "stream",
          "name": "stdout",
          "text": [
            "Epoch 1, Loss: 2.6052\n"
          ]
        },
        {
          "output_type": "stream",
          "name": "stderr",
          "text": [
            "Evaluating:   6%|▋         | 10/157 [00:00<00:03, 43.08it/s]\n"
          ]
        },
        {
          "output_type": "stream",
          "name": "stdout",
          "text": [
            "Evaluation Metrics:\n",
            "  Linear Eval Accuracy: 0.0213\n",
            "  NMI: 0.5560\n",
            "  ARI: 0.0153\n",
            "  Neighborhood Accuracy: 0.0287\n",
            "Training complete!\n"
          ]
        },
        {
          "output_type": "stream",
          "name": "stderr",
          "text": [
            "Evaluating:   6%|▋         | 10/157 [00:00<00:03, 42.84it/s]\n"
          ]
        },
        {
          "output_type": "stream",
          "name": "stdout",
          "text": [
            "Evaluation Metrics:\n",
            "  Linear Eval Accuracy: 0.0213\n",
            "  NMI: 0.5560\n",
            "  ARI: 0.0153\n",
            "  Neighborhood Accuracy: 0.0287\n",
            "    Seed 456\n",
            "Training with ICon framework...\n"
          ]
        },
        {
          "output_type": "stream",
          "name": "stderr",
          "text": [
            "Epoch 1/1:   1%|▏         | 10/782 [00:00<01:08, 11.25it/s]\n"
          ]
        },
        {
          "output_type": "stream",
          "name": "stdout",
          "text": [
            "Epoch 1, Loss: 2.6243\n"
          ]
        },
        {
          "output_type": "stream",
          "name": "stderr",
          "text": [
            "Evaluating:   6%|▋         | 10/157 [00:00<00:03, 44.74it/s]\n"
          ]
        },
        {
          "output_type": "stream",
          "name": "stdout",
          "text": [
            "Evaluation Metrics:\n",
            "  Linear Eval Accuracy: 0.0213\n",
            "  NMI: 0.5702\n",
            "  ARI: 0.0166\n",
            "  Neighborhood Accuracy: 0.0250\n",
            "Training complete!\n"
          ]
        },
        {
          "output_type": "stream",
          "name": "stderr",
          "text": [
            "Evaluating:   6%|▋         | 10/157 [00:00<00:03, 43.83it/s]\n"
          ]
        },
        {
          "output_type": "stream",
          "name": "stdout",
          "text": [
            "Evaluation Metrics:\n",
            "  Linear Eval Accuracy: 0.0213\n",
            "  NMI: 0.5702\n",
            "  ARI: 0.0166\n",
            "  Neighborhood Accuracy: 0.0250\n",
            "    Seed 789\n",
            "Training with ICon framework...\n"
          ]
        },
        {
          "output_type": "stream",
          "name": "stderr",
          "text": [
            "Epoch 1/1:   1%|▏         | 10/782 [00:00<01:06, 11.69it/s]\n"
          ]
        },
        {
          "output_type": "stream",
          "name": "stdout",
          "text": [
            "Epoch 1, Loss: 2.6321\n"
          ]
        },
        {
          "output_type": "stream",
          "name": "stderr",
          "text": [
            "Evaluating:   6%|▋         | 10/157 [00:00<00:03, 45.77it/s]\n"
          ]
        },
        {
          "output_type": "stream",
          "name": "stdout",
          "text": [
            "Evaluation Metrics:\n",
            "  Linear Eval Accuracy: 0.0213\n",
            "  NMI: 0.5632\n",
            "  ARI: 0.0102\n",
            "  Neighborhood Accuracy: 0.0227\n",
            "Training complete!\n"
          ]
        },
        {
          "output_type": "stream",
          "name": "stderr",
          "text": [
            "Evaluating:   6%|▋         | 10/157 [00:00<00:03, 43.98it/s]\n"
          ]
        },
        {
          "output_type": "stream",
          "name": "stdout",
          "text": [
            "Evaluation Metrics:\n",
            "  Linear Eval Accuracy: 0.0213\n",
            "  NMI: 0.5632\n",
            "  ARI: 0.0102\n",
            "  Neighborhood Accuracy: 0.0227\n",
            "    Seed 101\n",
            "Training with ICon framework...\n"
          ]
        },
        {
          "output_type": "stream",
          "name": "stderr",
          "text": [
            "Epoch 1/1:   1%|▏         | 10/782 [00:00<01:04, 11.97it/s]\n"
          ]
        },
        {
          "output_type": "stream",
          "name": "stdout",
          "text": [
            "Epoch 1, Loss: 2.6805\n"
          ]
        },
        {
          "output_type": "stream",
          "name": "stderr",
          "text": [
            "Evaluating:   6%|▋         | 10/157 [00:00<00:03, 44.08it/s]\n"
          ]
        },
        {
          "output_type": "stream",
          "name": "stdout",
          "text": [
            "Evaluation Metrics:\n",
            "  Linear Eval Accuracy: 0.0142\n",
            "  NMI: 0.5517\n",
            "  ARI: 0.0118\n",
            "  Neighborhood Accuracy: 0.0196\n",
            "Training complete!\n"
          ]
        },
        {
          "output_type": "stream",
          "name": "stderr",
          "text": [
            "Evaluating:   6%|▋         | 10/157 [00:00<00:03, 44.22it/s]\n"
          ]
        },
        {
          "output_type": "stream",
          "name": "stdout",
          "text": [
            "Evaluation Metrics:\n",
            "  Linear Eval Accuracy: 0.0142\n",
            "  NMI: 0.5517\n",
            "  ARI: 0.0118\n",
            "  Neighborhood Accuracy: 0.0196\n",
            "Running experiments on stl10\n",
            "  Testing rdf framework\n",
            "    Seed 42\n",
            "Training with RDF framework...\n"
          ]
        },
        {
          "output_type": "stream",
          "name": "stderr",
          "text": [
            "Epoch 1/1:   6%|▋         | 10/157 [00:00<00:14, 10.08it/s]\n"
          ]
        },
        {
          "output_type": "stream",
          "name": "stdout",
          "text": [
            "Epoch 1, Loss: 1.5956\n"
          ]
        },
        {
          "output_type": "stream",
          "name": "stderr",
          "text": [
            "Evaluating:   4%|▍         | 10/250 [00:00<00:05, 40.97it/s]\n"
          ]
        },
        {
          "output_type": "stream",
          "name": "stdout",
          "text": [
            "Evaluation Metrics:\n",
            "  Linear Eval Accuracy: 0.1268\n",
            "  NMI: 0.1091\n",
            "  ARI: 0.0296\n",
            "  Neighborhood Accuracy: 0.1551\n",
            "Training complete!\n"
          ]
        },
        {
          "output_type": "stream",
          "name": "stderr",
          "text": [
            "Evaluating:   4%|▍         | 10/250 [00:00<00:05, 42.03it/s]\n"
          ]
        },
        {
          "output_type": "stream",
          "name": "stdout",
          "text": [
            "Evaluation Metrics:\n",
            "  Linear Eval Accuracy: 0.1268\n",
            "  NMI: 0.1091\n",
            "  ARI: 0.0296\n",
            "  Neighborhood Accuracy: 0.1551\n",
            "    Seed 123\n",
            "Training with RDF framework...\n"
          ]
        },
        {
          "output_type": "stream",
          "name": "stderr",
          "text": [
            "Epoch 1/1:   6%|▋         | 10/157 [00:01<00:15,  9.56it/s]\n"
          ]
        },
        {
          "output_type": "stream",
          "name": "stdout",
          "text": [
            "Epoch 1, Loss: 1.5467\n"
          ]
        },
        {
          "output_type": "stream",
          "name": "stderr",
          "text": [
            "Evaluating:   4%|▍         | 10/250 [00:00<00:05, 41.42it/s]\n"
          ]
        },
        {
          "output_type": "stream",
          "name": "stdout",
          "text": [
            "Evaluation Metrics:\n",
            "  Linear Eval Accuracy: 0.2394\n",
            "  NMI: 0.1349\n",
            "  ARI: 0.0280\n",
            "  Neighborhood Accuracy: 0.1710\n",
            "Training complete!\n"
          ]
        },
        {
          "output_type": "stream",
          "name": "stderr",
          "text": [
            "Evaluating:   4%|▍         | 10/250 [00:00<00:05, 42.18it/s]\n"
          ]
        },
        {
          "output_type": "stream",
          "name": "stdout",
          "text": [
            "Evaluation Metrics:\n",
            "  Linear Eval Accuracy: 0.2394\n",
            "  NMI: 0.1349\n",
            "  ARI: 0.0280\n",
            "  Neighborhood Accuracy: 0.1710\n",
            "    Seed 456\n",
            "Training with RDF framework...\n"
          ]
        },
        {
          "output_type": "stream",
          "name": "stderr",
          "text": [
            "Epoch 1/1:   6%|▋         | 10/157 [00:01<00:15,  9.79it/s]\n"
          ]
        },
        {
          "output_type": "stream",
          "name": "stdout",
          "text": [
            "Epoch 1, Loss: 1.5302\n"
          ]
        },
        {
          "output_type": "stream",
          "name": "stderr",
          "text": [
            "Evaluating:   4%|▍         | 10/250 [00:00<00:05, 43.70it/s]\n"
          ]
        },
        {
          "output_type": "stream",
          "name": "stdout",
          "text": [
            "Evaluation Metrics:\n",
            "  Linear Eval Accuracy: 0.1831\n",
            "  NMI: 0.1287\n",
            "  ARI: 0.0333\n",
            "  Neighborhood Accuracy: 0.1653\n",
            "Training complete!\n"
          ]
        },
        {
          "output_type": "stream",
          "name": "stderr",
          "text": [
            "Evaluating:   4%|▍         | 10/250 [00:00<00:06, 39.18it/s]\n"
          ]
        },
        {
          "output_type": "stream",
          "name": "stdout",
          "text": [
            "Evaluation Metrics:\n",
            "  Linear Eval Accuracy: 0.1831\n",
            "  NMI: 0.1287\n",
            "  ARI: 0.0333\n",
            "  Neighborhood Accuracy: 0.1653\n",
            "    Seed 789\n",
            "Training with RDF framework...\n"
          ]
        },
        {
          "output_type": "stream",
          "name": "stderr",
          "text": [
            "Epoch 1/1:   6%|▋         | 10/157 [00:01<00:15,  9.64it/s]\n"
          ]
        },
        {
          "output_type": "stream",
          "name": "stdout",
          "text": [
            "Epoch 1, Loss: 1.5379\n"
          ]
        },
        {
          "output_type": "stream",
          "name": "stderr",
          "text": [
            "Evaluating:   4%|▍         | 10/250 [00:00<00:06, 39.81it/s]\n"
          ]
        },
        {
          "output_type": "stream",
          "name": "stdout",
          "text": [
            "Evaluation Metrics:\n",
            "  Linear Eval Accuracy: 0.1408\n",
            "  NMI: 0.1536\n",
            "  ARI: 0.0478\n",
            "  Neighborhood Accuracy: 0.1733\n",
            "Training complete!\n"
          ]
        },
        {
          "output_type": "stream",
          "name": "stderr",
          "text": [
            "Evaluating:   4%|▍         | 10/250 [00:00<00:05, 40.28it/s]\n"
          ]
        },
        {
          "output_type": "stream",
          "name": "stdout",
          "text": [
            "Evaluation Metrics:\n",
            "  Linear Eval Accuracy: 0.1408\n",
            "  NMI: 0.1536\n",
            "  ARI: 0.0478\n",
            "  Neighborhood Accuracy: 0.1733\n",
            "    Seed 101\n",
            "Training with RDF framework...\n"
          ]
        },
        {
          "output_type": "stream",
          "name": "stderr",
          "text": [
            "Epoch 1/1:   6%|▋         | 10/157 [00:00<00:14, 10.45it/s]\n"
          ]
        },
        {
          "output_type": "stream",
          "name": "stdout",
          "text": [
            "Epoch 1, Loss: 1.5002\n"
          ]
        },
        {
          "output_type": "stream",
          "name": "stderr",
          "text": [
            "Evaluating:   4%|▍         | 10/250 [00:00<00:05, 40.94it/s]\n"
          ]
        },
        {
          "output_type": "stream",
          "name": "stdout",
          "text": [
            "Evaluation Metrics:\n",
            "  Linear Eval Accuracy: 0.2113\n",
            "  NMI: 0.1924\n",
            "  ARI: 0.0811\n",
            "  Neighborhood Accuracy: 0.1727\n",
            "Training complete!\n"
          ]
        },
        {
          "output_type": "stream",
          "name": "stderr",
          "text": [
            "Evaluating:   4%|▍         | 10/250 [00:00<00:05, 43.18it/s]\n"
          ]
        },
        {
          "output_type": "stream",
          "name": "stdout",
          "text": [
            "Evaluation Metrics:\n",
            "  Linear Eval Accuracy: 0.2113\n",
            "  NMI: 0.1924\n",
            "  ARI: 0.0811\n",
            "  Neighborhood Accuracy: 0.1727\n",
            "  Testing icon framework\n",
            "    Seed 42\n",
            "Training with ICon framework...\n"
          ]
        },
        {
          "output_type": "stream",
          "name": "stderr",
          "text": [
            "Epoch 1/1:   6%|▋         | 10/157 [00:00<00:11, 12.48it/s]\n"
          ]
        },
        {
          "output_type": "stream",
          "name": "stdout",
          "text": [
            "Epoch 1, Loss: 2.2836\n"
          ]
        },
        {
          "output_type": "stream",
          "name": "stderr",
          "text": [
            "Evaluating:   4%|▍         | 10/250 [00:00<00:06, 38.39it/s]\n"
          ]
        },
        {
          "output_type": "stream",
          "name": "stdout",
          "text": [
            "Evaluation Metrics:\n",
            "  Linear Eval Accuracy: 0.1408\n",
            "  NMI: 0.1101\n",
            "  ARI: 0.0251\n",
            "  Neighborhood Accuracy: 0.1494\n",
            "Training complete!\n"
          ]
        },
        {
          "output_type": "stream",
          "name": "stderr",
          "text": [
            "Evaluating:   4%|▍         | 10/250 [00:00<00:06, 38.58it/s]\n"
          ]
        },
        {
          "output_type": "stream",
          "name": "stdout",
          "text": [
            "Evaluation Metrics:\n",
            "  Linear Eval Accuracy: 0.1408\n",
            "  NMI: 0.1101\n",
            "  ARI: 0.0251\n",
            "  Neighborhood Accuracy: 0.1494\n",
            "    Seed 123\n",
            "Training with ICon framework...\n"
          ]
        },
        {
          "output_type": "stream",
          "name": "stderr",
          "text": [
            "Epoch 1/1:   6%|▋         | 10/157 [00:00<00:11, 13.13it/s]\n"
          ]
        },
        {
          "output_type": "stream",
          "name": "stdout",
          "text": [
            "Epoch 1, Loss: 2.2324\n"
          ]
        },
        {
          "output_type": "stream",
          "name": "stderr",
          "text": [
            "Evaluating:   4%|▍         | 10/250 [00:00<00:05, 41.99it/s]\n"
          ]
        },
        {
          "output_type": "stream",
          "name": "stdout",
          "text": [
            "Evaluation Metrics:\n",
            "  Linear Eval Accuracy: 0.2676\n",
            "  NMI: 0.1535\n",
            "  ARI: 0.0644\n",
            "  Neighborhood Accuracy: 0.1602\n",
            "Training complete!\n"
          ]
        },
        {
          "output_type": "stream",
          "name": "stderr",
          "text": [
            "Evaluating:   4%|▍         | 10/250 [00:00<00:06, 37.71it/s]\n"
          ]
        },
        {
          "output_type": "stream",
          "name": "stdout",
          "text": [
            "Evaluation Metrics:\n",
            "  Linear Eval Accuracy: 0.2676\n",
            "  NMI: 0.1535\n",
            "  ARI: 0.0644\n",
            "  Neighborhood Accuracy: 0.1602\n",
            "    Seed 456\n",
            "Training with ICon framework...\n"
          ]
        },
        {
          "output_type": "stream",
          "name": "stderr",
          "text": [
            "Epoch 1/1:   6%|▋         | 10/157 [00:00<00:10, 14.08it/s]\n"
          ]
        },
        {
          "output_type": "stream",
          "name": "stdout",
          "text": [
            "Epoch 1, Loss: 2.2355\n"
          ]
        },
        {
          "output_type": "stream",
          "name": "stderr",
          "text": [
            "Evaluating:   4%|▍         | 10/250 [00:00<00:05, 43.35it/s]\n"
          ]
        },
        {
          "output_type": "stream",
          "name": "stdout",
          "text": [
            "Evaluation Metrics:\n",
            "  Linear Eval Accuracy: 0.1690\n",
            "  NMI: 0.1382\n",
            "  ARI: 0.0396\n",
            "  Neighborhood Accuracy: 0.1545\n",
            "Training complete!\n"
          ]
        },
        {
          "output_type": "stream",
          "name": "stderr",
          "text": [
            "Evaluating:   4%|▍         | 10/250 [00:00<00:05, 44.44it/s]\n"
          ]
        },
        {
          "output_type": "stream",
          "name": "stdout",
          "text": [
            "Evaluation Metrics:\n",
            "  Linear Eval Accuracy: 0.1690\n",
            "  NMI: 0.1382\n",
            "  ARI: 0.0396\n",
            "  Neighborhood Accuracy: 0.1545\n",
            "    Seed 789\n",
            "Training with ICon framework...\n"
          ]
        },
        {
          "output_type": "stream",
          "name": "stderr",
          "text": [
            "Epoch 1/1:   6%|▋         | 10/157 [00:00<00:11, 12.64it/s]\n"
          ]
        },
        {
          "output_type": "stream",
          "name": "stdout",
          "text": [
            "Epoch 1, Loss: 2.2445\n"
          ]
        },
        {
          "output_type": "stream",
          "name": "stderr",
          "text": [
            "Evaluating:   4%|▍         | 10/250 [00:00<00:05, 40.49it/s]\n"
          ]
        },
        {
          "output_type": "stream",
          "name": "stdout",
          "text": [
            "Evaluation Metrics:\n",
            "  Linear Eval Accuracy: 0.1831\n",
            "  NMI: 0.1510\n",
            "  ARI: 0.0413\n",
            "  Neighborhood Accuracy: 0.1688\n",
            "Training complete!\n"
          ]
        },
        {
          "output_type": "stream",
          "name": "stderr",
          "text": [
            "Evaluating:   4%|▍         | 10/250 [00:00<00:05, 40.38it/s]\n"
          ]
        },
        {
          "output_type": "stream",
          "name": "stdout",
          "text": [
            "Evaluation Metrics:\n",
            "  Linear Eval Accuracy: 0.1831\n",
            "  NMI: 0.1510\n",
            "  ARI: 0.0413\n",
            "  Neighborhood Accuracy: 0.1688\n",
            "    Seed 101\n",
            "Training with ICon framework...\n"
          ]
        },
        {
          "output_type": "stream",
          "name": "stderr",
          "text": [
            "Epoch 1/1:   6%|▋         | 10/157 [00:00<00:10, 14.07it/s]\n"
          ]
        },
        {
          "output_type": "stream",
          "name": "stdout",
          "text": [
            "Epoch 1, Loss: 2.1807\n"
          ]
        },
        {
          "output_type": "stream",
          "name": "stderr",
          "text": [
            "Evaluating:   4%|▍         | 10/250 [00:00<00:06, 39.79it/s]\n"
          ]
        },
        {
          "output_type": "stream",
          "name": "stdout",
          "text": [
            "Evaluation Metrics:\n",
            "  Linear Eval Accuracy: 0.1549\n",
            "  NMI: 0.1573\n",
            "  ARI: 0.0378\n",
            "  Neighborhood Accuracy: 0.1591\n",
            "Training complete!\n"
          ]
        },
        {
          "output_type": "stream",
          "name": "stderr",
          "text": [
            "Evaluating:   4%|▍         | 10/250 [00:00<00:05, 42.48it/s]\n"
          ]
        },
        {
          "output_type": "stream",
          "name": "stdout",
          "text": [
            "Evaluation Metrics:\n",
            "  Linear Eval Accuracy: 0.1549\n",
            "  NMI: 0.1573\n",
            "  ARI: 0.0378\n",
            "  Neighborhood Accuracy: 0.1591\n",
            "\n",
            "Results for cifar10:\n",
            "  final_loss: \n",
            "    RDF: 1.9384 ± 0.0403\n",
            "    I-Con: 2.6768 ± 0.0369\n",
            "    p-value: 0.0000 ***\n",
            "    Improvement: 27.59%\n",
            "  linear_eval_accuracy: \n",
            "    RDF: 0.2496 ± 0.0384\n",
            "    I-Con: 0.2454 ± 0.0300\n",
            "    p-value: 0.7632 \n",
            "    Improvement: 1.73%\n",
            "  nmi: \n",
            "    RDF: 0.1118 ± 0.0158\n",
            "    I-Con: 0.1135 ± 0.0136\n",
            "    p-value: 0.6239 \n",
            "    Improvement: -1.50%\n",
            "  ari: \n",
            "    RDF: 0.0512 ± 0.0097\n",
            "    I-Con: 0.0469 ± 0.0117\n",
            "    p-value: 0.5009 \n",
            "    Improvement: 9.06%\n",
            "  neighborhood_accuracy: \n",
            "    RDF: 0.1752 ± 0.0079\n",
            "    I-Con: 0.1739 ± 0.0125\n",
            "    p-value: 0.7392 \n",
            "    Improvement: 0.78%\n",
            "\n",
            "Results for cifar100:\n",
            "  final_loss: \n",
            "    RDF: 1.9245 ± 0.0205\n",
            "    I-Con: 2.6338 ± 0.0251\n",
            "    p-value: 0.0000 ***\n",
            "    Improvement: 26.93%\n",
            "  linear_eval_accuracy: \n",
            "    RDF: 0.0170 ± 0.0057\n",
            "    I-Con: 0.0213 ± 0.0045\n",
            "    p-value: 0.2080 \n",
            "    Improvement: -20.00%\n",
            "  nmi: \n",
            "    RDF: 0.5600 ± 0.0039\n",
            "    I-Con: 0.5607 ± 0.0064\n",
            "    p-value: 0.8067 \n",
            "    Improvement: -0.14%\n",
            "  ari: \n",
            "    RDF: 0.0122 ± 0.0017\n",
            "    I-Con: 0.0140 ± 0.0026\n",
            "    p-value: 0.3347 \n",
            "    Improvement: -12.96%\n",
            "  neighborhood_accuracy: \n",
            "    RDF: 0.0243 ± 0.0017\n",
            "    I-Con: 0.0250 ± 0.0036\n",
            "    p-value: 0.6005 \n",
            "    Improvement: -2.95%\n",
            "\n",
            "Results for stl10:\n",
            "  final_loss: \n",
            "    RDF: 1.5422 ± 0.0310\n",
            "    I-Con: 2.2353 ± 0.0329\n",
            "    p-value: 0.0000 ***\n",
            "    Improvement: 31.01%\n",
            "  linear_eval_accuracy: \n",
            "    RDF: 0.1803 ± 0.0422\n",
            "    I-Con: 0.1831 ± 0.0445\n",
            "    p-value: 0.8798 \n",
            "    Improvement: -1.54%\n",
            "  nmi: \n",
            "    RDF: 0.1438 ± 0.0282\n",
            "    I-Con: 0.1420 ± 0.0172\n",
            "    p-value: 0.8574 \n",
            "    Improvement: 1.23%\n",
            "  ari: \n",
            "    RDF: 0.0440 ± 0.0198\n",
            "    I-Con: 0.0416 ± 0.0127\n",
            "    p-value: 0.8643 \n",
            "    Improvement: 5.59%\n",
            "  neighborhood_accuracy: \n",
            "    RDF: 0.1675 ± 0.0068\n",
            "    I-Con: 0.1584 ± 0.0064\n",
            "    p-value: 0.0061 **\n",
            "    Improvement: 5.74%\n"
          ]
        }
      ]
    },
    {
      "cell_type": "code",
      "source": [
        "import matplotlib.pyplot as plt\n",
        "import numpy as np\n",
        "import pandas as pd\n",
        "import seaborn as sns\n",
        "\n",
        "# Setting the style\n",
        "plt.style.use('seaborn-v0_8-whitegrid')\n",
        "sns.set_palette(\"colorblind\")\n",
        "\n",
        "# Define our exact data from experiments\n",
        "datasets = ['CIFAR-10', 'CIFAR-100', 'STL-10']\n",
        "\n",
        "# Loss values (mean ± std)\n",
        "loss_data = {\n",
        "    'Dataset': np.repeat(datasets, 4),\n",
        "    'Epochs': np.tile([1, 2, 5, 10], 3),\n",
        "    'RDO_Loss_Mean': [\n",
        "        # CIFAR-10\n",
        "        1.9384, 1.7897, 1.6584, 1.6200,\n",
        "        # CIFAR-100\n",
        "        1.9245, 1.7829, 1.6567, 1.5720,\n",
        "        # STL-10\n",
        "        1.5422, 1.4390, 1.3331, 1.3249\n",
        "    ],\n",
        "    'RDO_Loss_Std': [\n",
        "        # CIFAR-10\n",
        "        0.0403, 0.0445, 0.0335, 0.0233,\n",
        "        # CIFAR-100\n",
        "        0.0205, 0.0269, 0.0290, 0.0133,\n",
        "        # STL-10\n",
        "        0.0310, 0.0483, 0.0742, 0.0460\n",
        "    ],\n",
        "    'ICon_Loss_Mean': [\n",
        "        # CIFAR-10\n",
        "        2.6768, 2.5176, 2.4000, 2.3127,\n",
        "        # CIFAR-100\n",
        "        2.6338, 2.5089, 2.3648, 2.2857,\n",
        "        # STL-10\n",
        "        2.2353, 2.1297, 2.0312, 1.9777\n",
        "    ],\n",
        "    'ICon_Loss_Std': [\n",
        "        # CIFAR-10\n",
        "        0.0369, 0.0291, 0.0321, 0.0184,\n",
        "        # CIFAR-100\n",
        "        0.0251, 0.0337, 0.0301, 0.0184,\n",
        "        # STL-10\n",
        "        0.0329, 0.0451, 0.0473, 0.0344\n",
        "    ]\n",
        "}\n",
        "\n",
        "# Linear evaluation accuracy (mean ± std)\n",
        "acc_data = {\n",
        "    'Dataset': np.repeat(datasets, 4),\n",
        "    'Epochs': np.tile([1, 2, 5, 10], 3),\n",
        "    'RDO_Acc_Mean': [\n",
        "        # CIFAR-10\n",
        "        0.2496, 0.2667, 0.3078, 0.2894,\n",
        "        # CIFAR-100\n",
        "        0.0170, 0.0255, 0.0255, 0.0227,\n",
        "        # STL-10\n",
        "        0.1803, 0.2225, 0.2141, 0.2113\n",
        "    ],\n",
        "    'RDO_Acc_Std': [\n",
        "        # CIFAR-10\n",
        "        0.0384, 0.0208, 0.0374, 0.0299,\n",
        "        # CIFAR-100\n",
        "        0.0057, 0.0115, 0.0072, 0.0113,\n",
        "        # STL-10\n",
        "        0.0422, 0.0350, 0.0559, 0.0367\n",
        "    ],\n",
        "    'ICon_Acc_Mean': [\n",
        "        # CIFAR-10\n",
        "        0.2454, 0.2723, 0.3291, 0.3206,\n",
        "        # CIFAR-100\n",
        "        0.0213, 0.0170, 0.0227, 0.0199,\n",
        "        # STL-10\n",
        "        0.1831, 0.1775, 0.2197, 0.2479\n",
        "    ],\n",
        "    'ICon_Acc_Std': [\n",
        "        # CIFAR-10\n",
        "        0.0300, 0.0139, 0.0208, 0.0192,\n",
        "        # CIFAR-100\n",
        "        0.0045, 0.0035, 0.0053, 0.0053,\n",
        "        # STL-10\n",
        "        0.0445, 0.0352, 0.0414, 0.0363\n",
        "    ]\n",
        "}\n",
        "\n",
        "# Convert to pandas DataFrames\n",
        "loss_df = pd.DataFrame(loss_data)\n",
        "acc_df = pd.DataFrame(acc_data)\n",
        "\n",
        "# FIGURE 1: Loss comparison across epochs\n",
        "plt.figure(figsize=(12, 8))\n",
        "\n",
        "for dataset in datasets:\n",
        "    # Filter data for this dataset\n",
        "    dataset_loss = loss_df[loss_df['Dataset'] == dataset]\n",
        "\n",
        "    # Plot RDO\n",
        "    plt.errorbar(dataset_loss['Epochs'], dataset_loss['RDO_Loss_Mean'],\n",
        "                 yerr=dataset_loss['RDO_Loss_Std'],\n",
        "                 fmt='o-', label=f'RDO - {dataset}', capsize=4, alpha=0.8)\n",
        "\n",
        "    # Plot ICon\n",
        "    plt.errorbar(dataset_loss['Epochs'], dataset_loss['ICon_Loss_Mean'],\n",
        "                 yerr=dataset_loss['ICon_Loss_Std'],\n",
        "                 fmt='s--', label=f'ICon - {dataset}', capsize=4, alpha=0.8)\n",
        "\n",
        "plt.xlabel('Epochs', fontsize=14)\n",
        "plt.ylabel('Loss', fontsize=14)\n",
        "plt.title('RDO vs. ICon: Loss Across Training Durations', fontsize=16)\n",
        "plt.xticks([1, 2, 5, 10])\n",
        "plt.grid(True, alpha=0.3)\n",
        "plt.legend(bbox_to_anchor=(1.05, 1), loc='upper left')\n",
        "plt.tight_layout()\n",
        "plt.savefig('figure1_loss_comparison.png', dpi=300)\n",
        "plt.show()\n",
        "\n",
        "# FIGURE 2: 2 vs 5 epoch comparison (computational efficiency)\n",
        "plt.figure(figsize=(12, 6))\n",
        "\n",
        "x = np.arange(len(datasets))\n",
        "width = 0.35\n",
        "\n",
        "# Extract 2-epoch RDO and 5-epoch ICon data\n",
        "rdo_2epoch = acc_df[acc_df['Epochs'] == 2][['Dataset', 'RDO_Acc_Mean', 'RDO_Acc_Std']].sort_values('Dataset')\n",
        "icon_5epoch = acc_df[acc_df['Epochs'] == 5][['Dataset', 'ICon_Acc_Mean', 'ICon_Acc_Std']].sort_values('Dataset')\n",
        "\n",
        "rdo_means = rdo_2epoch['RDO_Acc_Mean'].values\n",
        "rdo_stds = rdo_2epoch['RDO_Acc_Std'].values\n",
        "icon_means = icon_5epoch['ICon_Acc_Mean'].values\n",
        "icon_stds = icon_5epoch['ICon_Acc_Std'].values\n",
        "\n",
        "plt.bar(x - width/2, rdo_means, width, yerr=rdo_stds,\n",
        "        label='RDO (2 Epochs)', capsize=5, alpha=0.8)\n",
        "plt.bar(x + width/2, icon_means, width, yerr=icon_stds,\n",
        "        label='ICon (5 Epochs)', capsize=5, alpha=0.8)\n",
        "\n",
        "plt.xlabel('Dataset', fontsize=14)\n",
        "plt.ylabel('Linear Evaluation Accuracy', fontsize=14)\n",
        "plt.title('Computational Efficiency: RDO at 2 Epochs vs. ICon at 5 Epochs', fontsize=16)\n",
        "plt.xticks(x, datasets)\n",
        "plt.grid(True, alpha=0.3, axis='y')\n",
        "plt.legend()\n",
        "plt.tight_layout()\n",
        "plt.savefig('figure2_computational_efficiency.png', dpi=300)\n",
        "plt.show()\n",
        "\n",
        "# FIGURE 3: 1 vs 2 epoch comparison (early learning)\n",
        "plt.figure(figsize=(14, 6))\n",
        "\n",
        "x = np.arange(len(datasets))\n",
        "width = 0.2\n",
        "\n",
        "# Extract data for epochs 1 and 2\n",
        "rdo_1epoch = acc_df[acc_df['Epochs'] == 1][['Dataset', 'RDO_Acc_Mean', 'RDO_Acc_Std']].sort_values('Dataset')\n",
        "icon_1epoch = acc_df[acc_df['Epochs'] == 1][['Dataset', 'ICon_Acc_Mean', 'ICon_Acc_Std']].sort_values('Dataset')\n",
        "rdo_2epoch = acc_df[acc_df['Epochs'] == 2][['Dataset', 'RDO_Acc_Mean', 'RDO_Acc_Std']].sort_values('Dataset')\n",
        "icon_2epoch = acc_df[acc_df['Epochs'] == 2][['Dataset', 'ICon_Acc_Mean', 'ICon_Acc_Std']].sort_values('Dataset')\n",
        "\n",
        "plt.bar(x - 3*width/2, rdo_1epoch['RDO_Acc_Mean'].values, width, yerr=rdo_1epoch['RDO_Acc_Std'].values,\n",
        "        label='RDO (1 Epoch)', capsize=5, alpha=0.8, color='royalblue')\n",
        "plt.bar(x - width/2, icon_1epoch['ICon_Acc_Mean'].values, width, yerr=icon_1epoch['ICon_Acc_Std'].values,\n",
        "        label='ICon (1 Epoch)', capsize=5, alpha=0.8, color='lightcoral')\n",
        "plt.bar(x + width/2, rdo_2epoch['RDO_Acc_Mean'].values, width, yerr=rdo_2epoch['RDO_Acc_Std'].values,\n",
        "        label='RDO (2 Epochs)', capsize=5, alpha=0.8, color='navy')\n",
        "plt.bar(x + 3*width/2, icon_2epoch['ICon_Acc_Mean'].values, width, yerr=icon_2epoch['ICon_Acc_Std'].values,\n",
        "        label='ICon (2 Epochs)', capsize=5, alpha=0.8, color='firebrick')\n",
        "\n",
        "plt.xlabel('Dataset', fontsize=14)\n",
        "plt.ylabel('Linear Evaluation Accuracy', fontsize=14)\n",
        "plt.title('Early Learning: RDO vs. ICon at 1 and 2 Epochs', fontsize=16)\n",
        "plt.xticks(x, datasets)\n",
        "plt.grid(True, alpha=0.3, axis='y')\n",
        "plt.legend()\n",
        "plt.tight_layout()\n",
        "plt.savefig('figure3_early_learning.png', dpi=300)\n",
        "plt.show()\n",
        "\n",
        "# Compute the improvement percentages for loss reduction\n",
        "loss_df['Improvement'] = (loss_df['ICon_Loss_Mean'] - loss_df['RDO_Loss_Mean']) / loss_df['ICon_Loss_Mean'] * 100\n",
        "\n",
        "# Create a bonus figure showing the loss improvement percentage by epochs\n",
        "plt.figure(figsize=(10, 6))\n",
        "for dataset in datasets:\n",
        "    dataset_loss = loss_df[loss_df['Dataset'] == dataset]\n",
        "    plt.plot(dataset_loss['Epochs'], dataset_loss['Improvement'], 'o-',\n",
        "             label=dataset, linewidth=2)\n",
        "\n",
        "plt.xlabel('Epochs', fontsize=14)\n",
        "plt.ylabel('Loss Improvement (%)', fontsize=14)\n",
        "plt.title('RDO Loss Improvement Over ICon (%)', fontsize=16)\n",
        "plt.xticks([1, 2, 5, 10])\n",
        "plt.grid(True, alpha=0.3)\n",
        "plt.legend()\n",
        "plt.axhline(y=30, color='red', linestyle='--', alpha=0.5, label='30% Threshold')\n",
        "plt.tight_layout()\n",
        "plt.savefig('bonus_improvement_percentage.png', dpi=300)\n",
        "plt.show()"
      ],
      "metadata": {
        "colab": {
          "base_uri": "https://localhost:8080/",
          "height": 1000
        },
        "id": "pmqLaLJCh6JQ",
        "outputId": "d284a814-692a-441f-fda5-c59a1554979d"
      },
      "execution_count": 9,
      "outputs": [
        {
          "output_type": "display_data",
          "data": {
            "text/plain": [
              "<Figure size 1200x800 with 1 Axes>"
            ],
            "image/png": "[encoded data removed]"
          },
          "metadata": {}
        },
        {
          "output_type": "display_data",
          "data": {
            "text/plain": [
              "<Figure size 1200x600 with 1 Axes>"
            ],
            "image/png": "[encoded data removed]"
          },
          "metadata": {}
        },
        {
          "output_type": "display_data",
          "data": {
            "text/plain": [
              "<Figure size 1400x600 with 1 Axes>"
            ],
            "image/png": "[encoded data removed]"
          },
          "metadata": {}
        },
        {
          "output_type": "display_data",
          "data": {
            "text/plain": [
              "<Figure size 1000x600 with 1 Axes>"
            ],
            "image/png": "[encoded data removed]"
          },
          "metadata": {}
        }
      ]
    },
    {
      "cell_type": "code",
      "source": [],
      "metadata": {
        "id": "uAA957aCqa2T"
      },
      "execution_count": null,
      "outputs": []
    }
  ]
}